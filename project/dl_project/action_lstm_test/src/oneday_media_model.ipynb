{
 "cells": [
  {
   "cell_type": "code",
   "execution_count": 52,
   "metadata": {},
   "outputs": [],
   "source": [
    "import os\n",
    "import numpy as np\n",
    "import pandas as pd\n",
    "import tensorflow as tf\n",
    "from tensorflow import keras\n",
    "from sklearn.model_selection import train_test_split"
   ]
  },
  {
   "cell_type": "markdown",
   "metadata": {},
   "source": [
    "pose  \n",
    "0 - no arm raise  \n",
    "1 - left arm raise  \n",
    "2 - right arm raise  \n",
    "3 - both arm raise"
   ]
  },
  {
   "cell_type": "code",
   "execution_count": 53,
   "metadata": {},
   "outputs": [
    {
     "data": {
      "text/plain": [
       "'/home/cho/dev_ws/DL/src'"
      ]
     },
     "execution_count": 53,
     "metadata": {},
     "output_type": "execute_result"
    }
   ],
   "source": [
    "file_path = os.path.dirname(os.path.abspath(\"__file__\"))\n",
    "file_path"
   ]
  },
  {
   "cell_type": "code",
   "execution_count": 54,
   "metadata": {},
   "outputs": [
    {
     "data": {
      "text/html": [
       "<div>\n",
       "<style scoped>\n",
       "    .dataframe tbody tr th:only-of-type {\n",
       "        vertical-align: middle;\n",
       "    }\n",
       "\n",
       "    .dataframe tbody tr th {\n",
       "        vertical-align: top;\n",
       "    }\n",
       "\n",
       "    .dataframe thead th {\n",
       "        text-align: right;\n",
       "    }\n",
       "</style>\n",
       "<table border=\"1\" class=\"dataframe\">\n",
       "  <thead>\n",
       "    <tr style=\"text-align: right;\">\n",
       "      <th></th>\n",
       "      <th>left_shoulder_x</th>\n",
       "      <th>left_shoulder_y</th>\n",
       "      <th>right_shoulder_x</th>\n",
       "      <th>right_shoulder_y</th>\n",
       "      <th>left_elbow_x</th>\n",
       "      <th>left_elbow_y</th>\n",
       "      <th>right_elbow_x</th>\n",
       "      <th>right_elbow_y</th>\n",
       "      <th>left_wrist_x</th>\n",
       "      <th>left_wrist_y</th>\n",
       "      <th>right_wrist_x</th>\n",
       "      <th>right_wrist_y</th>\n",
       "    </tr>\n",
       "  </thead>\n",
       "  <tbody>\n",
       "    <tr>\n",
       "      <th>0</th>\n",
       "      <td>0.683398</td>\n",
       "      <td>0.747708</td>\n",
       "      <td>0.408966</td>\n",
       "      <td>0.716902</td>\n",
       "      <td>0.827374</td>\n",
       "      <td>0.555535</td>\n",
       "      <td>0.303732</td>\n",
       "      <td>0.519711</td>\n",
       "      <td>0.794245</td>\n",
       "      <td>0.208751</td>\n",
       "      <td>0.339129</td>\n",
       "      <td>0.221152</td>\n",
       "    </tr>\n",
       "    <tr>\n",
       "      <th>1</th>\n",
       "      <td>0.683088</td>\n",
       "      <td>0.748783</td>\n",
       "      <td>0.406802</td>\n",
       "      <td>0.720690</td>\n",
       "      <td>0.827528</td>\n",
       "      <td>0.555084</td>\n",
       "      <td>0.297981</td>\n",
       "      <td>0.515725</td>\n",
       "      <td>0.788756</td>\n",
       "      <td>0.207973</td>\n",
       "      <td>0.339467</td>\n",
       "      <td>0.219338</td>\n",
       "    </tr>\n",
       "    <tr>\n",
       "      <th>2</th>\n",
       "      <td>0.683238</td>\n",
       "      <td>0.748576</td>\n",
       "      <td>0.406419</td>\n",
       "      <td>0.722726</td>\n",
       "      <td>0.828817</td>\n",
       "      <td>0.548951</td>\n",
       "      <td>0.293369</td>\n",
       "      <td>0.510980</td>\n",
       "      <td>0.785055</td>\n",
       "      <td>0.203060</td>\n",
       "      <td>0.339565</td>\n",
       "      <td>0.214264</td>\n",
       "    </tr>\n",
       "    <tr>\n",
       "      <th>3</th>\n",
       "      <td>0.683462</td>\n",
       "      <td>0.748734</td>\n",
       "      <td>0.406396</td>\n",
       "      <td>0.725758</td>\n",
       "      <td>0.827321</td>\n",
       "      <td>0.547796</td>\n",
       "      <td>0.291677</td>\n",
       "      <td>0.506617</td>\n",
       "      <td>0.785268</td>\n",
       "      <td>0.202955</td>\n",
       "      <td>0.339876</td>\n",
       "      <td>0.203043</td>\n",
       "    </tr>\n",
       "    <tr>\n",
       "      <th>4</th>\n",
       "      <td>0.682330</td>\n",
       "      <td>0.749346</td>\n",
       "      <td>0.404211</td>\n",
       "      <td>0.726260</td>\n",
       "      <td>0.826048</td>\n",
       "      <td>0.547732</td>\n",
       "      <td>0.288047</td>\n",
       "      <td>0.504067</td>\n",
       "      <td>0.785443</td>\n",
       "      <td>0.201180</td>\n",
       "      <td>0.340386</td>\n",
       "      <td>0.200173</td>\n",
       "    </tr>\n",
       "  </tbody>\n",
       "</table>\n",
       "</div>"
      ],
      "text/plain": [
       "   left_shoulder_x  left_shoulder_y  right_shoulder_x  right_shoulder_y  \\\n",
       "0         0.683398         0.747708          0.408966          0.716902   \n",
       "1         0.683088         0.748783          0.406802          0.720690   \n",
       "2         0.683238         0.748576          0.406419          0.722726   \n",
       "3         0.683462         0.748734          0.406396          0.725758   \n",
       "4         0.682330         0.749346          0.404211          0.726260   \n",
       "\n",
       "   left_elbow_x  left_elbow_y  right_elbow_x  right_elbow_y  left_wrist_x  \\\n",
       "0      0.827374      0.555535       0.303732       0.519711      0.794245   \n",
       "1      0.827528      0.555084       0.297981       0.515725      0.788756   \n",
       "2      0.828817      0.548951       0.293369       0.510980      0.785055   \n",
       "3      0.827321      0.547796       0.291677       0.506617      0.785268   \n",
       "4      0.826048      0.547732       0.288047       0.504067      0.785443   \n",
       "\n",
       "   left_wrist_y  right_wrist_x  right_wrist_y  \n",
       "0      0.208751       0.339129       0.221152  \n",
       "1      0.207973       0.339467       0.219338  \n",
       "2      0.203060       0.339565       0.214264  \n",
       "3      0.202955       0.339876       0.203043  \n",
       "4      0.201180       0.340386       0.200173  "
      ]
     },
     "execution_count": 54,
     "metadata": {},
     "output_type": "execute_result"
    }
   ],
   "source": [
    "both_arm_df = pd.read_csv(file_path + \"/both_arm_raise.csv\", sep=\",\", dtype=np.float32)\n",
    "both_arm_df.head()"
   ]
  },
  {
   "cell_type": "code",
   "execution_count": 55,
   "metadata": {},
   "outputs": [],
   "source": [
    "both_arm_df['pose'] = [3] * len(both_arm_df.index)"
   ]
  },
  {
   "cell_type": "code",
   "execution_count": 56,
   "metadata": {},
   "outputs": [
    {
     "data": {
      "text/html": [
       "<div>\n",
       "<style scoped>\n",
       "    .dataframe tbody tr th:only-of-type {\n",
       "        vertical-align: middle;\n",
       "    }\n",
       "\n",
       "    .dataframe tbody tr th {\n",
       "        vertical-align: top;\n",
       "    }\n",
       "\n",
       "    .dataframe thead th {\n",
       "        text-align: right;\n",
       "    }\n",
       "</style>\n",
       "<table border=\"1\" class=\"dataframe\">\n",
       "  <thead>\n",
       "    <tr style=\"text-align: right;\">\n",
       "      <th></th>\n",
       "      <th>left_shoulder_x</th>\n",
       "      <th>left_shoulder_y</th>\n",
       "      <th>right_shoulder_x</th>\n",
       "      <th>right_shoulder_y</th>\n",
       "      <th>left_elbow_x</th>\n",
       "      <th>left_elbow_y</th>\n",
       "      <th>right_elbow_x</th>\n",
       "      <th>right_elbow_y</th>\n",
       "      <th>left_wrist_x</th>\n",
       "      <th>left_wrist_y</th>\n",
       "      <th>right_wrist_x</th>\n",
       "      <th>right_wrist_y</th>\n",
       "    </tr>\n",
       "  </thead>\n",
       "  <tbody>\n",
       "    <tr>\n",
       "      <th>0</th>\n",
       "      <td>0.734924</td>\n",
       "      <td>0.700707</td>\n",
       "      <td>0.475147</td>\n",
       "      <td>0.652460</td>\n",
       "      <td>0.813908</td>\n",
       "      <td>0.965826</td>\n",
       "      <td>0.314627</td>\n",
       "      <td>0.530433</td>\n",
       "      <td>0.713771</td>\n",
       "      <td>1.079682</td>\n",
       "      <td>0.322866</td>\n",
       "      <td>0.245682</td>\n",
       "    </tr>\n",
       "    <tr>\n",
       "      <th>1</th>\n",
       "      <td>0.735223</td>\n",
       "      <td>0.700528</td>\n",
       "      <td>0.475020</td>\n",
       "      <td>0.654913</td>\n",
       "      <td>0.810679</td>\n",
       "      <td>0.967127</td>\n",
       "      <td>0.318697</td>\n",
       "      <td>0.529731</td>\n",
       "      <td>0.696921</td>\n",
       "      <td>1.106683</td>\n",
       "      <td>0.322451</td>\n",
       "      <td>0.240319</td>\n",
       "    </tr>\n",
       "    <tr>\n",
       "      <th>2</th>\n",
       "      <td>0.736063</td>\n",
       "      <td>0.700277</td>\n",
       "      <td>0.475373</td>\n",
       "      <td>0.656894</td>\n",
       "      <td>0.807613</td>\n",
       "      <td>0.968098</td>\n",
       "      <td>0.324039</td>\n",
       "      <td>0.526738</td>\n",
       "      <td>0.683332</td>\n",
       "      <td>1.112513</td>\n",
       "      <td>0.321774</td>\n",
       "      <td>0.236862</td>\n",
       "    </tr>\n",
       "    <tr>\n",
       "      <th>3</th>\n",
       "      <td>0.736192</td>\n",
       "      <td>0.700236</td>\n",
       "      <td>0.474995</td>\n",
       "      <td>0.657405</td>\n",
       "      <td>0.805549</td>\n",
       "      <td>0.968765</td>\n",
       "      <td>0.327413</td>\n",
       "      <td>0.514340</td>\n",
       "      <td>0.687464</td>\n",
       "      <td>1.138494</td>\n",
       "      <td>0.321573</td>\n",
       "      <td>0.227668</td>\n",
       "    </tr>\n",
       "    <tr>\n",
       "      <th>4</th>\n",
       "      <td>0.735995</td>\n",
       "      <td>0.699919</td>\n",
       "      <td>0.474736</td>\n",
       "      <td>0.655993</td>\n",
       "      <td>0.805081</td>\n",
       "      <td>0.968138</td>\n",
       "      <td>0.328899</td>\n",
       "      <td>0.507623</td>\n",
       "      <td>0.733760</td>\n",
       "      <td>1.164838</td>\n",
       "      <td>0.320943</td>\n",
       "      <td>0.221624</td>\n",
       "    </tr>\n",
       "  </tbody>\n",
       "</table>\n",
       "</div>"
      ],
      "text/plain": [
       "   left_shoulder_x  left_shoulder_y  right_shoulder_x  right_shoulder_y  \\\n",
       "0         0.734924         0.700707          0.475147          0.652460   \n",
       "1         0.735223         0.700528          0.475020          0.654913   \n",
       "2         0.736063         0.700277          0.475373          0.656894   \n",
       "3         0.736192         0.700236          0.474995          0.657405   \n",
       "4         0.735995         0.699919          0.474736          0.655993   \n",
       "\n",
       "   left_elbow_x  left_elbow_y  right_elbow_x  right_elbow_y  left_wrist_x  \\\n",
       "0      0.813908      0.965826       0.314627       0.530433      0.713771   \n",
       "1      0.810679      0.967127       0.318697       0.529731      0.696921   \n",
       "2      0.807613      0.968098       0.324039       0.526738      0.683332   \n",
       "3      0.805549      0.968765       0.327413       0.514340      0.687464   \n",
       "4      0.805081      0.968138       0.328899       0.507623      0.733760   \n",
       "\n",
       "   left_wrist_y  right_wrist_x  right_wrist_y  \n",
       "0      1.079682       0.322866       0.245682  \n",
       "1      1.106683       0.322451       0.240319  \n",
       "2      1.112513       0.321774       0.236862  \n",
       "3      1.138494       0.321573       0.227668  \n",
       "4      1.164838       0.320943       0.221624  "
      ]
     },
     "execution_count": 56,
     "metadata": {},
     "output_type": "execute_result"
    }
   ],
   "source": [
    "right_arm_df = pd.read_csv(file_path + \"/right_arm_raise.csv\", sep=\",\", dtype=np.float32)\n",
    "right_arm_df.head()"
   ]
  },
  {
   "cell_type": "code",
   "execution_count": 57,
   "metadata": {},
   "outputs": [],
   "source": [
    "right_arm_df['pose'] = [2] * len(right_arm_df.index)"
   ]
  },
  {
   "cell_type": "code",
   "execution_count": 58,
   "metadata": {},
   "outputs": [
    {
     "data": {
      "text/html": [
       "<div>\n",
       "<style scoped>\n",
       "    .dataframe tbody tr th:only-of-type {\n",
       "        vertical-align: middle;\n",
       "    }\n",
       "\n",
       "    .dataframe tbody tr th {\n",
       "        vertical-align: top;\n",
       "    }\n",
       "\n",
       "    .dataframe thead th {\n",
       "        text-align: right;\n",
       "    }\n",
       "</style>\n",
       "<table border=\"1\" class=\"dataframe\">\n",
       "  <thead>\n",
       "    <tr style=\"text-align: right;\">\n",
       "      <th></th>\n",
       "      <th>left_shoulder_x</th>\n",
       "      <th>left_shoulder_y</th>\n",
       "      <th>right_shoulder_x</th>\n",
       "      <th>right_shoulder_y</th>\n",
       "      <th>left_elbow_x</th>\n",
       "      <th>left_elbow_y</th>\n",
       "      <th>right_elbow_x</th>\n",
       "      <th>right_elbow_y</th>\n",
       "      <th>left_wrist_x</th>\n",
       "      <th>left_wrist_y</th>\n",
       "      <th>right_wrist_x</th>\n",
       "      <th>right_wrist_y</th>\n",
       "    </tr>\n",
       "  </thead>\n",
       "  <tbody>\n",
       "    <tr>\n",
       "      <th>0</th>\n",
       "      <td>0.581190</td>\n",
       "      <td>0.651169</td>\n",
       "      <td>0.329285</td>\n",
       "      <td>0.678639</td>\n",
       "      <td>0.727433</td>\n",
       "      <td>0.506192</td>\n",
       "      <td>0.252301</td>\n",
       "      <td>0.934835</td>\n",
       "      <td>0.785936</td>\n",
       "      <td>0.194550</td>\n",
       "      <td>0.277240</td>\n",
       "      <td>1.140141</td>\n",
       "    </tr>\n",
       "    <tr>\n",
       "      <th>1</th>\n",
       "      <td>0.581889</td>\n",
       "      <td>0.647356</td>\n",
       "      <td>0.328911</td>\n",
       "      <td>0.679858</td>\n",
       "      <td>0.730231</td>\n",
       "      <td>0.504228</td>\n",
       "      <td>0.252301</td>\n",
       "      <td>0.937551</td>\n",
       "      <td>0.788325</td>\n",
       "      <td>0.194322</td>\n",
       "      <td>0.271427</td>\n",
       "      <td>1.140018</td>\n",
       "    </tr>\n",
       "    <tr>\n",
       "      <th>2</th>\n",
       "      <td>0.581889</td>\n",
       "      <td>0.647279</td>\n",
       "      <td>0.327732</td>\n",
       "      <td>0.681904</td>\n",
       "      <td>0.730640</td>\n",
       "      <td>0.502220</td>\n",
       "      <td>0.252213</td>\n",
       "      <td>0.944286</td>\n",
       "      <td>0.793941</td>\n",
       "      <td>0.193598</td>\n",
       "      <td>0.277567</td>\n",
       "      <td>1.158449</td>\n",
       "    </tr>\n",
       "    <tr>\n",
       "      <th>3</th>\n",
       "      <td>0.581945</td>\n",
       "      <td>0.647205</td>\n",
       "      <td>0.327720</td>\n",
       "      <td>0.682838</td>\n",
       "      <td>0.730307</td>\n",
       "      <td>0.499979</td>\n",
       "      <td>0.252572</td>\n",
       "      <td>0.950621</td>\n",
       "      <td>0.796036</td>\n",
       "      <td>0.193443</td>\n",
       "      <td>0.357322</td>\n",
       "      <td>1.080279</td>\n",
       "    </tr>\n",
       "    <tr>\n",
       "      <th>4</th>\n",
       "      <td>0.582796</td>\n",
       "      <td>0.646530</td>\n",
       "      <td>0.325927</td>\n",
       "      <td>0.686652</td>\n",
       "      <td>0.730224</td>\n",
       "      <td>0.500015</td>\n",
       "      <td>0.252803</td>\n",
       "      <td>0.960239</td>\n",
       "      <td>0.796923</td>\n",
       "      <td>0.193070</td>\n",
       "      <td>0.377159</td>\n",
       "      <td>1.074092</td>\n",
       "    </tr>\n",
       "  </tbody>\n",
       "</table>\n",
       "</div>"
      ],
      "text/plain": [
       "   left_shoulder_x  left_shoulder_y  right_shoulder_x  right_shoulder_y  \\\n",
       "0         0.581190         0.651169          0.329285          0.678639   \n",
       "1         0.581889         0.647356          0.328911          0.679858   \n",
       "2         0.581889         0.647279          0.327732          0.681904   \n",
       "3         0.581945         0.647205          0.327720          0.682838   \n",
       "4         0.582796         0.646530          0.325927          0.686652   \n",
       "\n",
       "   left_elbow_x  left_elbow_y  right_elbow_x  right_elbow_y  left_wrist_x  \\\n",
       "0      0.727433      0.506192       0.252301       0.934835      0.785936   \n",
       "1      0.730231      0.504228       0.252301       0.937551      0.788325   \n",
       "2      0.730640      0.502220       0.252213       0.944286      0.793941   \n",
       "3      0.730307      0.499979       0.252572       0.950621      0.796036   \n",
       "4      0.730224      0.500015       0.252803       0.960239      0.796923   \n",
       "\n",
       "   left_wrist_y  right_wrist_x  right_wrist_y  \n",
       "0      0.194550       0.277240       1.140141  \n",
       "1      0.194322       0.271427       1.140018  \n",
       "2      0.193598       0.277567       1.158449  \n",
       "3      0.193443       0.357322       1.080279  \n",
       "4      0.193070       0.377159       1.074092  "
      ]
     },
     "execution_count": 58,
     "metadata": {},
     "output_type": "execute_result"
    }
   ],
   "source": [
    "left_arm_df = pd.read_csv(file_path + \"/left_arm_raise.csv\", sep=\",\", dtype=np.float32)\n",
    "left_arm_df.head()"
   ]
  },
  {
   "cell_type": "code",
   "execution_count": 59,
   "metadata": {},
   "outputs": [],
   "source": [
    "left_arm_df['pose'] = [1] * len(left_arm_df.index)"
   ]
  },
  {
   "cell_type": "code",
   "execution_count": 60,
   "metadata": {},
   "outputs": [
    {
     "data": {
      "text/html": [
       "<div>\n",
       "<style scoped>\n",
       "    .dataframe tbody tr th:only-of-type {\n",
       "        vertical-align: middle;\n",
       "    }\n",
       "\n",
       "    .dataframe tbody tr th {\n",
       "        vertical-align: top;\n",
       "    }\n",
       "\n",
       "    .dataframe thead th {\n",
       "        text-align: right;\n",
       "    }\n",
       "</style>\n",
       "<table border=\"1\" class=\"dataframe\">\n",
       "  <thead>\n",
       "    <tr style=\"text-align: right;\">\n",
       "      <th></th>\n",
       "      <th>left_shoulder_x</th>\n",
       "      <th>left_shoulder_y</th>\n",
       "      <th>right_shoulder_x</th>\n",
       "      <th>right_shoulder_y</th>\n",
       "      <th>left_elbow_x</th>\n",
       "      <th>left_elbow_y</th>\n",
       "      <th>right_elbow_x</th>\n",
       "      <th>right_elbow_y</th>\n",
       "      <th>left_wrist_x</th>\n",
       "      <th>left_wrist_y</th>\n",
       "      <th>right_wrist_x</th>\n",
       "      <th>right_wrist_y</th>\n",
       "    </tr>\n",
       "  </thead>\n",
       "  <tbody>\n",
       "    <tr>\n",
       "      <th>0</th>\n",
       "      <td>0.617873</td>\n",
       "      <td>0.624977</td>\n",
       "      <td>0.341562</td>\n",
       "      <td>0.626331</td>\n",
       "      <td>0.666373</td>\n",
       "      <td>0.878865</td>\n",
       "      <td>0.281522</td>\n",
       "      <td>0.886307</td>\n",
       "      <td>0.650729</td>\n",
       "      <td>1.092237</td>\n",
       "      <td>0.252426</td>\n",
       "      <td>1.078605</td>\n",
       "    </tr>\n",
       "    <tr>\n",
       "      <th>1</th>\n",
       "      <td>0.620195</td>\n",
       "      <td>0.629946</td>\n",
       "      <td>0.341123</td>\n",
       "      <td>0.630602</td>\n",
       "      <td>0.666217</td>\n",
       "      <td>0.902928</td>\n",
       "      <td>0.280570</td>\n",
       "      <td>0.902571</td>\n",
       "      <td>0.651482</td>\n",
       "      <td>1.124159</td>\n",
       "      <td>0.248442</td>\n",
       "      <td>1.128411</td>\n",
       "    </tr>\n",
       "    <tr>\n",
       "      <th>2</th>\n",
       "      <td>0.620667</td>\n",
       "      <td>0.630795</td>\n",
       "      <td>0.340460</td>\n",
       "      <td>0.634483</td>\n",
       "      <td>0.664888</td>\n",
       "      <td>0.902389</td>\n",
       "      <td>0.280506</td>\n",
       "      <td>0.906721</td>\n",
       "      <td>0.653561</td>\n",
       "      <td>1.132537</td>\n",
       "      <td>0.246329</td>\n",
       "      <td>1.139112</td>\n",
       "    </tr>\n",
       "    <tr>\n",
       "      <th>3</th>\n",
       "      <td>0.620871</td>\n",
       "      <td>0.630874</td>\n",
       "      <td>0.340300</td>\n",
       "      <td>0.634613</td>\n",
       "      <td>0.663306</td>\n",
       "      <td>0.901437</td>\n",
       "      <td>0.280964</td>\n",
       "      <td>0.905402</td>\n",
       "      <td>0.651237</td>\n",
       "      <td>1.127524</td>\n",
       "      <td>0.246324</td>\n",
       "      <td>1.134200</td>\n",
       "    </tr>\n",
       "    <tr>\n",
       "      <th>4</th>\n",
       "      <td>0.620968</td>\n",
       "      <td>0.631693</td>\n",
       "      <td>0.340222</td>\n",
       "      <td>0.635353</td>\n",
       "      <td>0.662940</td>\n",
       "      <td>0.904533</td>\n",
       "      <td>0.281172</td>\n",
       "      <td>0.906421</td>\n",
       "      <td>0.648121</td>\n",
       "      <td>1.126874</td>\n",
       "      <td>0.246415</td>\n",
       "      <td>1.138264</td>\n",
       "    </tr>\n",
       "  </tbody>\n",
       "</table>\n",
       "</div>"
      ],
      "text/plain": [
       "   left_shoulder_x  left_shoulder_y  right_shoulder_x  right_shoulder_y  \\\n",
       "0         0.617873         0.624977          0.341562          0.626331   \n",
       "1         0.620195         0.629946          0.341123          0.630602   \n",
       "2         0.620667         0.630795          0.340460          0.634483   \n",
       "3         0.620871         0.630874          0.340300          0.634613   \n",
       "4         0.620968         0.631693          0.340222          0.635353   \n",
       "\n",
       "   left_elbow_x  left_elbow_y  right_elbow_x  right_elbow_y  left_wrist_x  \\\n",
       "0      0.666373      0.878865       0.281522       0.886307      0.650729   \n",
       "1      0.666217      0.902928       0.280570       0.902571      0.651482   \n",
       "2      0.664888      0.902389       0.280506       0.906721      0.653561   \n",
       "3      0.663306      0.901437       0.280964       0.905402      0.651237   \n",
       "4      0.662940      0.904533       0.281172       0.906421      0.648121   \n",
       "\n",
       "   left_wrist_y  right_wrist_x  right_wrist_y  \n",
       "0      1.092237       0.252426       1.078605  \n",
       "1      1.124159       0.248442       1.128411  \n",
       "2      1.132537       0.246329       1.139112  \n",
       "3      1.127524       0.246324       1.134200  \n",
       "4      1.126874       0.246415       1.138264  "
      ]
     },
     "execution_count": 60,
     "metadata": {},
     "output_type": "execute_result"
    }
   ],
   "source": [
    "no_arm_df = pd.read_csv(file_path + \"/no_arm_raise.csv\", sep=\",\", dtype=np.float32)\n",
    "no_arm_df.head()"
   ]
  },
  {
   "cell_type": "code",
   "execution_count": 61,
   "metadata": {},
   "outputs": [],
   "source": [
    "no_arm_df['pose'] = [0] * len(no_arm_df.index)"
   ]
  },
  {
   "cell_type": "code",
   "execution_count": 62,
   "metadata": {},
   "outputs": [],
   "source": [
    "pose_df = pd.concat((no_arm_df, left_arm_df, right_arm_df, both_arm_df))"
   ]
  },
  {
   "cell_type": "code",
   "execution_count": 63,
   "metadata": {},
   "outputs": [
    {
     "data": {
      "text/html": [
       "<div>\n",
       "<style scoped>\n",
       "    .dataframe tbody tr th:only-of-type {\n",
       "        vertical-align: middle;\n",
       "    }\n",
       "\n",
       "    .dataframe tbody tr th {\n",
       "        vertical-align: top;\n",
       "    }\n",
       "\n",
       "    .dataframe thead th {\n",
       "        text-align: right;\n",
       "    }\n",
       "</style>\n",
       "<table border=\"1\" class=\"dataframe\">\n",
       "  <thead>\n",
       "    <tr style=\"text-align: right;\">\n",
       "      <th></th>\n",
       "      <th>left_shoulder_x</th>\n",
       "      <th>left_shoulder_y</th>\n",
       "      <th>right_shoulder_x</th>\n",
       "      <th>right_shoulder_y</th>\n",
       "      <th>left_elbow_x</th>\n",
       "      <th>left_elbow_y</th>\n",
       "      <th>right_elbow_x</th>\n",
       "      <th>right_elbow_y</th>\n",
       "      <th>left_wrist_x</th>\n",
       "      <th>left_wrist_y</th>\n",
       "      <th>right_wrist_x</th>\n",
       "      <th>right_wrist_y</th>\n",
       "      <th>pose</th>\n",
       "    </tr>\n",
       "  </thead>\n",
       "  <tbody>\n",
       "    <tr>\n",
       "      <th>0</th>\n",
       "      <td>0.617873</td>\n",
       "      <td>0.624977</td>\n",
       "      <td>0.341562</td>\n",
       "      <td>0.626331</td>\n",
       "      <td>0.666373</td>\n",
       "      <td>0.878865</td>\n",
       "      <td>0.281522</td>\n",
       "      <td>0.886307</td>\n",
       "      <td>0.650729</td>\n",
       "      <td>1.092237</td>\n",
       "      <td>0.252426</td>\n",
       "      <td>1.078605</td>\n",
       "      <td>0</td>\n",
       "    </tr>\n",
       "    <tr>\n",
       "      <th>1</th>\n",
       "      <td>0.620195</td>\n",
       "      <td>0.629946</td>\n",
       "      <td>0.341123</td>\n",
       "      <td>0.630602</td>\n",
       "      <td>0.666217</td>\n",
       "      <td>0.902928</td>\n",
       "      <td>0.280570</td>\n",
       "      <td>0.902571</td>\n",
       "      <td>0.651482</td>\n",
       "      <td>1.124159</td>\n",
       "      <td>0.248442</td>\n",
       "      <td>1.128411</td>\n",
       "      <td>0</td>\n",
       "    </tr>\n",
       "    <tr>\n",
       "      <th>2</th>\n",
       "      <td>0.620667</td>\n",
       "      <td>0.630795</td>\n",
       "      <td>0.340460</td>\n",
       "      <td>0.634483</td>\n",
       "      <td>0.664888</td>\n",
       "      <td>0.902389</td>\n",
       "      <td>0.280506</td>\n",
       "      <td>0.906721</td>\n",
       "      <td>0.653561</td>\n",
       "      <td>1.132537</td>\n",
       "      <td>0.246329</td>\n",
       "      <td>1.139112</td>\n",
       "      <td>0</td>\n",
       "    </tr>\n",
       "    <tr>\n",
       "      <th>3</th>\n",
       "      <td>0.620871</td>\n",
       "      <td>0.630874</td>\n",
       "      <td>0.340300</td>\n",
       "      <td>0.634613</td>\n",
       "      <td>0.663306</td>\n",
       "      <td>0.901437</td>\n",
       "      <td>0.280964</td>\n",
       "      <td>0.905402</td>\n",
       "      <td>0.651237</td>\n",
       "      <td>1.127524</td>\n",
       "      <td>0.246324</td>\n",
       "      <td>1.134200</td>\n",
       "      <td>0</td>\n",
       "    </tr>\n",
       "    <tr>\n",
       "      <th>4</th>\n",
       "      <td>0.620968</td>\n",
       "      <td>0.631693</td>\n",
       "      <td>0.340222</td>\n",
       "      <td>0.635353</td>\n",
       "      <td>0.662940</td>\n",
       "      <td>0.904533</td>\n",
       "      <td>0.281172</td>\n",
       "      <td>0.906421</td>\n",
       "      <td>0.648121</td>\n",
       "      <td>1.126874</td>\n",
       "      <td>0.246415</td>\n",
       "      <td>1.138264</td>\n",
       "      <td>0</td>\n",
       "    </tr>\n",
       "  </tbody>\n",
       "</table>\n",
       "</div>"
      ],
      "text/plain": [
       "   left_shoulder_x  left_shoulder_y  right_shoulder_x  right_shoulder_y  \\\n",
       "0         0.617873         0.624977          0.341562          0.626331   \n",
       "1         0.620195         0.629946          0.341123          0.630602   \n",
       "2         0.620667         0.630795          0.340460          0.634483   \n",
       "3         0.620871         0.630874          0.340300          0.634613   \n",
       "4         0.620968         0.631693          0.340222          0.635353   \n",
       "\n",
       "   left_elbow_x  left_elbow_y  right_elbow_x  right_elbow_y  left_wrist_x  \\\n",
       "0      0.666373      0.878865       0.281522       0.886307      0.650729   \n",
       "1      0.666217      0.902928       0.280570       0.902571      0.651482   \n",
       "2      0.664888      0.902389       0.280506       0.906721      0.653561   \n",
       "3      0.663306      0.901437       0.280964       0.905402      0.651237   \n",
       "4      0.662940      0.904533       0.281172       0.906421      0.648121   \n",
       "\n",
       "   left_wrist_y  right_wrist_x  right_wrist_y  pose  \n",
       "0      1.092237       0.252426       1.078605     0  \n",
       "1      1.124159       0.248442       1.128411     0  \n",
       "2      1.132537       0.246329       1.139112     0  \n",
       "3      1.127524       0.246324       1.134200     0  \n",
       "4      1.126874       0.246415       1.138264     0  "
      ]
     },
     "execution_count": 63,
     "metadata": {},
     "output_type": "execute_result"
    }
   ],
   "source": [
    "pose_df.head()"
   ]
  },
  {
   "cell_type": "code",
   "execution_count": 64,
   "metadata": {},
   "outputs": [
    {
     "name": "stdout",
     "output_type": "stream",
     "text": [
      "<class 'pandas.core.frame.DataFrame'>\n",
      "Index: 334 entries, 0 to 80\n",
      "Data columns (total 13 columns):\n",
      " #   Column            Non-Null Count  Dtype  \n",
      "---  ------            --------------  -----  \n",
      " 0   left_shoulder_x   334 non-null    float32\n",
      " 1   left_shoulder_y   334 non-null    float32\n",
      " 2   right_shoulder_x  334 non-null    float32\n",
      " 3   right_shoulder_y  334 non-null    float32\n",
      " 4   left_elbow_x      334 non-null    float32\n",
      " 5   left_elbow_y      334 non-null    float32\n",
      " 6   right_elbow_x     334 non-null    float32\n",
      " 7   right_elbow_y     334 non-null    float32\n",
      " 8   left_wrist_x      334 non-null    float32\n",
      " 9   left_wrist_y      334 non-null    float32\n",
      " 10  right_wrist_x     334 non-null    float32\n",
      " 11  right_wrist_y     334 non-null    float32\n",
      " 12  pose              334 non-null    int64  \n",
      "dtypes: float32(12), int64(1)\n",
      "memory usage: 20.9 KB\n"
     ]
    }
   ],
   "source": [
    "pose_df.info()"
   ]
  },
  {
   "cell_type": "code",
   "execution_count": 65,
   "metadata": {},
   "outputs": [
    {
     "data": {
      "text/plain": [
       "array([0, 1, 2, 3])"
      ]
     },
     "execution_count": 65,
     "metadata": {},
     "output_type": "execute_result"
    }
   ],
   "source": [
    "pose_df['pose'].unique()"
   ]
  },
  {
   "cell_type": "code",
   "execution_count": 66,
   "metadata": {},
   "outputs": [
    {
     "name": "stderr",
     "output_type": "stream",
     "text": [
      "/tmp/ipykernel_40864/2115427911.py:17: UserWarning: FigureCanvasAgg is non-interactive, and thus cannot be shown\n",
      "  fig.show()\n"
     ]
    },
    {
     "data": {
      "image/png": "[encoded data removed]",
      "text/plain": [
       "<Figure size 640x480 with 4 Axes>"
      ]
     },
     "metadata": {},
     "output_type": "display_data"
    }
   ],
   "source": [
    "from mpl_toolkits.mplot3d import axes3d\n",
    "import matplotlib.pyplot as plt\n",
    "\n",
    "fig = plt.figure()\n",
    "ax1 = fig.add_subplot(221)\n",
    "ax1.scatter(pose_df['left_shoulder_x'], pose_df['left_shoulder_x'],\n",
    "               c = pose_df['pose'])\n",
    "ax2 = fig.add_subplot(222)\n",
    "ax2.scatter(pose_df['right_shoulder_x'], pose_df['right_shoulder_y'],\n",
    "               c = pose_df['pose'])\n",
    "ax3 = fig.add_subplot(223)\n",
    "ax3.scatter(pose_df['left_elbow_x'], pose_df['left_elbow_y'],\n",
    "               c = pose_df['pose'])\n",
    "ax4 = fig.add_subplot(224)\n",
    "ax4.scatter(pose_df['right_elbow_x'], pose_df['right_elbow_y'],\n",
    "               c = pose_df['pose'])\n",
    "fig.show()\n"
   ]
  },
  {
   "cell_type": "code",
   "execution_count": 67,
   "metadata": {},
   "outputs": [],
   "source": [
    "X = pose_df.drop(['pose'], axis=1).values\n",
    "y = pose_df['pose'].values"
   ]
  },
  {
   "cell_type": "code",
   "execution_count": 68,
   "metadata": {},
   "outputs": [
    {
     "data": {
      "text/plain": [
       "((334, 12), (334,))"
      ]
     },
     "execution_count": 68,
     "metadata": {},
     "output_type": "execute_result"
    }
   ],
   "source": [
    "X.shape, y.shape"
   ]
  },
  {
   "cell_type": "code",
   "execution_count": 69,
   "metadata": {},
   "outputs": [],
   "source": [
    "from sklearn.model_selection import train_test_split\n",
    "\n",
    "X_train, X_test, y_train, y_test = train_test_split(X, y,\n",
    "                                                    test_size=0.2,\n",
    "                                                    random_state=33,\n",
    "                                                    shuffle=True,\n",
    "                                                    stratify=y)"
   ]
  },
  {
   "cell_type": "code",
   "execution_count": 70,
   "metadata": {},
   "outputs": [
    {
     "data": {
      "text/plain": [
       "(267, 67, 267, 67)"
      ]
     },
     "execution_count": 70,
     "metadata": {},
     "output_type": "execute_result"
    }
   ],
   "source": [
    "len(X_train), len(X_test), len(y_train), len(y_test)"
   ]
  },
  {
   "cell_type": "code",
   "execution_count": 71,
   "metadata": {},
   "outputs": [],
   "source": [
    "model = keras.Sequential([\n",
    "    keras.layers.Dense(100, input_shape=(X.shape[1],), activation='relu'),\n",
    "    keras.layers.Dense(50, activation='relu'),\n",
    "    keras.layers.Dense(4, activation='softmax')\n",
    "])"
   ]
  },
  {
   "cell_type": "code",
   "execution_count": 72,
   "metadata": {},
   "outputs": [],
   "source": [
    "model.compile(optimizer='adam',\n",
    "              loss='sparse_categorical_crossentropy',\n",
    "              metrics=['accuracy'])"
   ]
  },
  {
   "cell_type": "code",
   "execution_count": 73,
   "metadata": {},
   "outputs": [
    {
     "name": "stdout",
     "output_type": "stream",
     "text": [
      "Model: \"sequential_2\"\n",
      "_________________________________________________________________\n",
      " Layer (type)                Output Shape              Param #   \n",
      "=================================================================\n",
      " dense_6 (Dense)             (None, 100)               1300      \n",
      "                                                                 \n",
      " dense_7 (Dense)             (None, 50)                5050      \n",
      "                                                                 \n",
      " dense_8 (Dense)             (None, 4)                 204       \n",
      "                                                                 \n",
      "=================================================================\n",
      "Total params: 6554 (25.60 KB)\n",
      "Trainable params: 6554 (25.60 KB)\n",
      "Non-trainable params: 0 (0.00 Byte)\n",
      "_________________________________________________________________\n"
     ]
    }
   ],
   "source": [
    "model.summary()"
   ]
  },
  {
   "cell_type": "code",
   "execution_count": 74,
   "metadata": {},
   "outputs": [
    {
     "name": "stdout",
     "output_type": "stream",
     "text": [
      "Epoch 1/50\n"
     ]
    },
    {
     "name": "stdout",
     "output_type": "stream",
     "text": [
      "6/6 [==============================] - 1s 3ms/step - loss: 1.3311 - accuracy: 0.4382\n",
      "Epoch 2/50\n",
      "6/6 [==============================] - 0s 4ms/step - loss: 1.2264 - accuracy: 0.7828\n",
      "Epoch 3/50\n",
      "6/6 [==============================] - 0s 4ms/step - loss: 1.1362 - accuracy: 0.9139\n",
      "Epoch 4/50\n",
      "6/6 [==============================] - 0s 3ms/step - loss: 1.0511 - accuracy: 0.9476\n",
      "Epoch 5/50\n",
      "6/6 [==============================] - 0s 3ms/step - loss: 0.9670 - accuracy: 0.9700\n",
      "Epoch 6/50\n",
      "6/6 [==============================] - 0s 3ms/step - loss: 0.8780 - accuracy: 0.9888\n",
      "Epoch 7/50\n",
      "6/6 [==============================] - 0s 3ms/step - loss: 0.7926 - accuracy: 1.0000\n",
      "Epoch 8/50\n",
      "6/6 [==============================] - 0s 3ms/step - loss: 0.7039 - accuracy: 1.0000\n",
      "Epoch 9/50\n",
      "6/6 [==============================] - 0s 4ms/step - loss: 0.6122 - accuracy: 1.0000\n",
      "Epoch 10/50\n",
      "6/6 [==============================] - 0s 3ms/step - loss: 0.5227 - accuracy: 1.0000\n",
      "Epoch 11/50\n",
      "6/6 [==============================] - 0s 3ms/step - loss: 0.4419 - accuracy: 1.0000\n",
      "Epoch 12/50\n",
      "6/6 [==============================] - 0s 3ms/step - loss: 0.3700 - accuracy: 1.0000\n",
      "Epoch 13/50\n",
      "6/6 [==============================] - 0s 4ms/step - loss: 0.3073 - accuracy: 1.0000\n",
      "Epoch 14/50\n",
      "6/6 [==============================] - 0s 3ms/step - loss: 0.2553 - accuracy: 1.0000\n",
      "Epoch 15/50\n",
      "6/6 [==============================] - 0s 3ms/step - loss: 0.2118 - accuracy: 1.0000\n",
      "Epoch 16/50\n",
      "6/6 [==============================] - 0s 3ms/step - loss: 0.1773 - accuracy: 1.0000\n",
      "Epoch 17/50\n",
      "6/6 [==============================] - 0s 3ms/step - loss: 0.1483 - accuracy: 1.0000\n",
      "Epoch 18/50\n",
      "6/6 [==============================] - 0s 3ms/step - loss: 0.1255 - accuracy: 1.0000\n",
      "Epoch 19/50\n",
      "6/6 [==============================] - 0s 3ms/step - loss: 0.1079 - accuracy: 1.0000\n",
      "Epoch 20/50\n",
      "6/6 [==============================] - 0s 3ms/step - loss: 0.0927 - accuracy: 1.0000\n",
      "Epoch 21/50\n",
      "6/6 [==============================] - 0s 3ms/step - loss: 0.0809 - accuracy: 1.0000\n",
      "Epoch 22/50\n",
      "6/6 [==============================] - 0s 3ms/step - loss: 0.0709 - accuracy: 1.0000\n",
      "Epoch 23/50\n",
      "6/6 [==============================] - 0s 3ms/step - loss: 0.0631 - accuracy: 1.0000\n",
      "Epoch 24/50\n",
      "6/6 [==============================] - 0s 2ms/step - loss: 0.0562 - accuracy: 1.0000\n",
      "Epoch 25/50\n",
      "6/6 [==============================] - 0s 3ms/step - loss: 0.0506 - accuracy: 1.0000\n",
      "Epoch 26/50\n",
      "6/6 [==============================] - 0s 3ms/step - loss: 0.0459 - accuracy: 1.0000\n",
      "Epoch 27/50\n",
      "6/6 [==============================] - 0s 3ms/step - loss: 0.0415 - accuracy: 1.0000\n",
      "Epoch 28/50\n",
      "6/6 [==============================] - 0s 3ms/step - loss: 0.0380 - accuracy: 1.0000\n",
      "Epoch 29/50\n",
      "6/6 [==============================] - 0s 3ms/step - loss: 0.0348 - accuracy: 1.0000\n",
      "Epoch 30/50\n",
      "6/6 [==============================] - 0s 2ms/step - loss: 0.0321 - accuracy: 1.0000\n",
      "Epoch 31/50\n",
      "6/6 [==============================] - 0s 2ms/step - loss: 0.0297 - accuracy: 1.0000\n",
      "Epoch 32/50\n",
      "6/6 [==============================] - 0s 3ms/step - loss: 0.0276 - accuracy: 1.0000\n",
      "Epoch 33/50\n",
      "6/6 [==============================] - 0s 3ms/step - loss: 0.0256 - accuracy: 1.0000\n",
      "Epoch 34/50\n",
      "6/6 [==============================] - 0s 3ms/step - loss: 0.0238 - accuracy: 1.0000\n",
      "Epoch 35/50\n",
      "6/6 [==============================] - 0s 3ms/step - loss: 0.0224 - accuracy: 1.0000\n",
      "Epoch 36/50\n",
      "6/6 [==============================] - 0s 3ms/step - loss: 0.0209 - accuracy: 1.0000\n",
      "Epoch 37/50\n",
      "6/6 [==============================] - 0s 3ms/step - loss: 0.0197 - accuracy: 1.0000\n",
      "Epoch 38/50\n",
      "6/6 [==============================] - 0s 3ms/step - loss: 0.0185 - accuracy: 1.0000\n",
      "Epoch 39/50\n",
      "6/6 [==============================] - 0s 3ms/step - loss: 0.0174 - accuracy: 1.0000\n",
      "Epoch 40/50\n",
      "6/6 [==============================] - 0s 3ms/step - loss: 0.0165 - accuracy: 1.0000\n",
      "Epoch 41/50\n",
      "6/6 [==============================] - 0s 3ms/step - loss: 0.0156 - accuracy: 1.0000\n",
      "Epoch 42/50\n",
      "6/6 [==============================] - 0s 3ms/step - loss: 0.0148 - accuracy: 1.0000\n",
      "Epoch 43/50\n",
      "6/6 [==============================] - 0s 3ms/step - loss: 0.0141 - accuracy: 1.0000\n",
      "Epoch 44/50\n",
      "6/6 [==============================] - 0s 4ms/step - loss: 0.0134 - accuracy: 1.0000\n",
      "Epoch 45/50\n",
      "6/6 [==============================] - 0s 4ms/step - loss: 0.0128 - accuracy: 1.0000\n",
      "Epoch 46/50\n",
      "6/6 [==============================] - 0s 4ms/step - loss: 0.0121 - accuracy: 1.0000\n",
      "Epoch 47/50\n",
      "6/6 [==============================] - 0s 3ms/step - loss: 0.0116 - accuracy: 1.0000\n",
      "Epoch 48/50\n",
      "6/6 [==============================] - 0s 3ms/step - loss: 0.0111 - accuracy: 1.0000\n",
      "Epoch 49/50\n",
      "6/6 [==============================] - 0s 3ms/step - loss: 0.0106 - accuracy: 1.0000\n",
      "Epoch 50/50\n",
      "6/6 [==============================] - 0s 2ms/step - loss: 0.0102 - accuracy: 1.0000\n"
     ]
    },
    {
     "data": {
      "text/plain": [
       "<keras.src.callbacks.History at 0x7faa8ff5f700>"
      ]
     },
     "execution_count": 74,
     "metadata": {},
     "output_type": "execute_result"
    }
   ],
   "source": [
    "model.fit(X_train, y_train, batch_size = 50, epochs = 50, verbose = 1)"
   ]
  },
  {
   "cell_type": "code",
   "execution_count": 78,
   "metadata": {},
   "outputs": [
    {
     "name": "stdout",
     "output_type": "stream",
     "text": [
      "3/3 [==============================] - 0s 4ms/step - loss: 0.0102 - accuracy: 1.0000\n"
     ]
    },
    {
     "data": {
      "text/plain": [
       "1.0"
      ]
     },
     "execution_count": 78,
     "metadata": {},
     "output_type": "execute_result"
    }
   ],
   "source": [
    "results = model.evaluate(X_test, y_test)\n",
    "results[1]"
   ]
  },
  {
   "cell_type": "code",
   "execution_count": 81,
   "metadata": {},
   "outputs": [
    {
     "data": {
      "text/plain": [
       "(array([0.6376817 , 0.63746476, 0.32669815, 0.63667196, 0.66532016,\n",
       "        0.9405124 , 0.27135187, 0.9217041 , 0.44107547, 1.0076445 ,\n",
       "        0.4008689 , 1.0505649 ], dtype=float32),\n",
       " 0)"
      ]
     },
     "execution_count": 81,
     "metadata": {},
     "output_type": "execute_result"
    }
   ],
   "source": [
    "X_test[0], y_test[0]"
   ]
  },
  {
   "cell_type": "code",
   "execution_count": 87,
   "metadata": {},
   "outputs": [
    {
     "name": "stdout",
     "output_type": "stream",
     "text": [
      "1/1 [==============================] - 0s 15ms/step\n"
     ]
    },
    {
     "data": {
      "text/plain": [
       "array([[9.9129617e-01, 3.8831322e-03, 4.7869249e-03, 3.3804499e-05]],\n",
       "      dtype=float32)"
      ]
     },
     "execution_count": 87,
     "metadata": {},
     "output_type": "execute_result"
    }
   ],
   "source": [
    "model.predict(X_test[0].reshape(1,-1))"
   ]
  },
  {
   "cell_type": "code",
   "execution_count": 50,
   "metadata": {},
   "outputs": [
    {
     "name": "stdout",
     "output_type": "stream",
     "text": [
      "INFO:tensorflow:Assets written to: arm_pose_model/assets\n"
     ]
    },
    {
     "name": "stderr",
     "output_type": "stream",
     "text": [
      "INFO:tensorflow:Assets written to: arm_pose_model/assets\n"
     ]
    }
   ],
   "source": [
    "model.save(\"arm_pose_model\")"
   ]
  },
  {
   "cell_type": "code",
   "execution_count": null,
   "metadata": {},
   "outputs": [],
   "source": []
  }
 ],
 "metadata": {
  "kernelspec": {
   "display_name": "dl_venv",
   "language": "python",
   "name": "python3"
  },
  "language_info": {
   "codemirror_mode": {
    "name": "ipython",
    "version": 3
   },
   "file_extension": ".py",
   "mimetype": "text/x-python",
   "name": "python",
   "nbconvert_exporter": "python",
   "pygments_lexer": "ipython3",
   "version": "3.10.12"
  }
 },
 "nbformat": 4,
 "nbformat_minor": 2
}
