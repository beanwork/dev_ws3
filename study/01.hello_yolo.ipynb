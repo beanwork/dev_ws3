{
 "cells": [
  {
   "cell_type": "markdown",
   "metadata": {},
   "source": [
    "## yolov3 일단 해보장!!"
   ]
  },
  {
   "cell_type": "code",
   "execution_count": 4,
   "metadata": {},
   "outputs": [
    {
     "name": "stdout",
     "output_type": "stream",
     "text": [
      "Blob shape=(1, 3, 416, 416)\n",
      "forward propagation time=1.853623390197754\n"
     ]
    },
    {
     "name": "stderr",
     "output_type": "stream",
     "text": [
      "Only C and default locale supported with the posix collation implementation\n",
      "Only C and default locale supported with the posix collation implementation\n",
      "Case insensitive sorting unsupported in the posix collation implementation\n",
      "Numeric mode unsupported in the posix collation implementation\n"
     ]
    }
   ],
   "source": [
    "# YOLO object detection\n",
    "import cv2 as cv\n",
    "import numpy as np\n",
    "import time\n",
    "\n",
    "img = cv.imread('./data/original.png') #수정\n",
    "img = cv.resize(img, None, fx = 1.0, fy = 1.0 )\n",
    "\n",
    "classes = open('./data/coco.names').read().strip().split('\\n')\n",
    "np.random.seed(42)\n",
    "colors = np.random.randint(0, 255, size=(len(classes), 3), dtype='uint8')#\n",
    "\n",
    "net = cv.dnn.readNetFromDarknet('./data/yolov3.cfg', './data/yolov3.weights')\n",
    "net.setPreferableBackend(cv.dnn.DNN_BACKEND_OPENCV)\n",
    "# net.setPreferableTarget(cv.dnn.DNN_TARGET_CPU)\n",
    "\n",
    "ln = net.getLayerNames()\n",
    "ln = [ln[i - 1] for i in net.getUnconnectedOutLayers()]#\n",
    "\n",
    "# construct a blob from the image\n",
    "blob = cv.dnn.blobFromImage(img, 1/255.0, (416, 416), swapRB=True, crop=False)\n",
    "\n",
    "text = f'Blob shape={blob.shape}'\n",
    "print(text)\n",
    "\n",
    "net.setInput(blob)\n",
    "\n",
    "t0 = time.time()\n",
    "outputs = net.forward(ln)\n",
    "t = time.time()\n",
    "\n",
    "print(f'forward propagation time={t-t0}')\n",
    "\n",
    "boxes = []\n",
    "confidences = []\n",
    "classIDs = []\n",
    "h, w = img.shape[:2]\n",
    "\n",
    "for output in outputs:\n",
    "    for detection in output:\n",
    "        scores = detection[5:]\n",
    "        classID = np.argmax(scores)\n",
    "        confidence = scores[classID]\n",
    "        if confidence > 0.5:\n",
    "            box = detection[:4] * np.array([w, h, w, h])\n",
    "            (centerX, centerY, width, height) = box.astype(\"int\")\n",
    "            x = int(centerX - (width / 2))\n",
    "            y = int(centerY - (height / 2))\n",
    "            box = [x, y, int(width), int(height)]\n",
    "            boxes.append(box)\n",
    "            confidences.append(float(confidence))\n",
    "            classIDs.append(classID)\n",
    "\n",
    "indices = cv.dnn.NMSBoxes(boxes, confidences, 0.5, 0.4)\n",
    "if len(indices) > 0:\n",
    "\n",
    "    for i in indices.flatten():\n",
    "        (x, y) = (boxes[i][0], boxes[i][1])\n",
    "        (w, h) = (boxes[i][2], boxes[i][3])\n",
    "        color = [int(c) for c in colors[classIDs[i]]]\n",
    "        cv.rectangle(img, (x, y), (x + w, y + h), color, 2)\n",
    "        text = \"{}: {:.4f}\".format(classes[classIDs[i]], confidences[i])\n",
    "        cv.putText(img, text, (x, y - 5), cv.FONT_HERSHEY_SIMPLEX, 0.5, color, 1)\n",
    "\n",
    "cv.imshow('window', img)\n",
    "cv.waitKey(0)\n",
    "cv.destroyAllWindows()"
   ]
  },
  {
   "cell_type": "code",
   "execution_count": 1,
   "metadata": {},
   "outputs": [
    {
     "name": "stdout",
     "output_type": "stream",
     "text": [
      "83 83\n"
     ]
    }
   ],
   "source": [
    "from glob import glob\n",
    "\n",
    "img_list = glob('/home/soomin/dev_ws3/study/yolo/yolov3/mydata/images/*.jpg')\n",
    "label_list = glob('/home/soomin/dev_ws3/study/yolo/yolov3/mydata/labels/*.txt')\n",
    "print(len(img_list), len(label_list))"
   ]
  },
  {
   "cell_type": "markdown",
   "metadata": {},
   "source": []
  },
  {
   "cell_type": "code",
   "execution_count": 2,
   "metadata": {},
   "outputs": [
    {
     "name": "stdout",
     "output_type": "stream",
     "text": [
      "66 17\n"
     ]
    }
   ],
   "source": [
    "from sklearn.model_selection import train_test_split\n",
    "\n",
    "train_img_list, val_img_list = train_test_split(img_list, test_size=0.2, random_state= 200)\n",
    "\n",
    "print(len(train_img_list), len(val_img_list))"
   ]
  },
  {
   "cell_type": "code",
   "execution_count": 3,
   "metadata": {},
   "outputs": [],
   "source": [
    "with open(\"/home/soomin/dev_ws3/study/yolo/yolov3/mydata/train.txt\",'w') as f:\n",
    "    f.write('\\n'.join(train_img_list)+'\\n')\n",
    "\n",
    "with open(\"/home/soomin/dev_ws3/study/yolo/yolov3/mydata/val.txt\",'w') as f:\n",
    "    f.write('\\n'.join(val_img_list)+'\\n')"
   ]
  },
  {
   "cell_type": "code",
   "execution_count": null,
   "metadata": {},
   "outputs": [],
   "source": []
  }
 ],
 "metadata": {
  "kernelspec": {
   "display_name": "Python 3 (ipykernel)",
   "language": "python",
   "name": "python3"
  },
  "language_info": {
   "codemirror_mode": {
    "name": "ipython",
    "version": 3
   },
   "file_extension": ".py",
   "mimetype": "text/x-python",
   "name": "python",
   "nbconvert_exporter": "python",
   "pygments_lexer": "ipython3",
   "version": "3.10.12"
  }
 },
 "nbformat": 4,
 "nbformat_minor": 2
}
