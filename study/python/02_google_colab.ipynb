{
  "cells": [
    {
      "cell_type": "markdown",
      "metadata": {
        "id": "TQ7-8f7Gu-gD"
      },
      "source": [
        "# 01. google colab\n",
        "- 구글 코랩은 클라우드 기반의 무료 jupyter notebopok g환셩\n",
        "- 웹 브라우저에서 python 코드를 작성하고 실행할 수 있도록 제공하는 서비스\n",
        "- numpy pandas matplotlib tensorflow pytorch .. 주요 라이브러리 사전 설치\n",
        "- 구글 드라이브 연동\n",
        "- gpu 사용가능"
      ]
    },
    {
      "cell_type": "markdown",
      "metadata": {
        "id": "w4e5k-tXw213"
      },
      "source": []
    },
    {
      "cell_type": "code",
      "execution_count": 2,
      "metadata": {
        "colab": {
          "base_uri": "https://localhost:8080/"
        },
        "id": "8RkYdhxtwW2J",
        "outputId": "9a213a8d-504a-4836-d471-42652dc9100b"
      },
      "outputs": [
        {
          "name": "stdout",
          "output_type": "stream",
          "text": [
            "PRETTY_NAME=\"Ubuntu 22.04.2 LTS\"\n",
            "NAME=\"Ubuntu\"\n",
            "VERSION_ID=\"22.04\"\n",
            "VERSION=\"22.04.2 LTS (Jammy Jellyfish)\"\n",
            "VERSION_CODENAME=jammy\n",
            "ID=ubuntu\n",
            "ID_LIKE=debian\n",
            "HOME_URL=\"https://www.ubuntu.com/\"\n",
            "SUPPORT_URL=\"https://help.ubuntu.com/\"\n",
            "BUG_REPORT_URL=\"https://bugs.launchpad.net/ubuntu/\"\n",
            "PRIVACY_POLICY_URL=\"https://www.ubuntu.com/legal/terms-and-policies/privacy-policy\"\n",
            "UBUNTU_CODENAME=jammy\n"
          ]
        }
      ],
      "source": [
        "# os 확인\n",
        "!cat /etc/os-release\n"
      ]
    },
    {
      "cell_type": "code",
      "execution_count": 5,
      "metadata": {
        "colab": {
          "base_uri": "https://localhost:8080/"
        },
        "id": "J1c4B4l3wUTl",
        "outputId": "6a354e29-6614-481e-bfd8-c46e765aba36"
      },
      "outputs": [
        {
          "name": "stdout",
          "output_type": "stream",
          "text": [
            "processor\t: 0\n",
            "vendor_id\t: GenuineIntel\n",
            "cpu family\t: 6\n",
            "model\t\t: 79\n",
            "model name\t: Intel(R) Xeon(R) CPU @ 2.20GHz\n",
            "stepping\t: 0\n",
            "microcode\t: 0xffffffff\n",
            "cpu MHz\t\t: 2199.998\n",
            "cache size\t: 56320 KB\n",
            "physical id\t: 0\n",
            "siblings\t: 2\n",
            "core id\t\t: 0\n",
            "cpu cores\t: 1\n",
            "apicid\t\t: 0\n",
            "initial apicid\t: 0\n",
            "fpu\t\t: yes\n",
            "fpu_exception\t: yes\n",
            "cpuid level\t: 13\n",
            "wp\t\t: yes\n",
            "flags\t\t: fpu vme de pse tsc msr pae mce cx8 apic sep mtrr pge mca cmov pat pse36 clflush mmx fxsr sse sse2 ss ht syscall nx pdpe1gb rdtscp lm constant_tsc rep_good nopl xtopology nonstop_tsc cpuid tsc_known_freq pni pclmulqdq ssse3 fma cx16 pcid sse4_1 sse4_2 x2apic movbe popcnt aes xsave avx f16c rdrand hypervisor lahf_lm abm 3dnowprefetch invpcid_single ssbd ibrs ibpb stibp fsgsbase tsc_adjust bmi1 hle avx2 smep bmi2 erms invpcid rtm rdseed adx smap xsaveopt arat md_clear arch_capabilities\n",
            "bugs\t\t: cpu_meltdown spectre_v1 spectre_v2 spec_store_bypass l1tf mds swapgs taa mmio_stale_data retbleed\n",
            "bogomips\t: 4399.99\n",
            "clflush size\t: 64\n",
            "cache_alignment\t: 64\n",
            "address sizes\t: 46 bits physical, 48 bits virtual\n",
            "power management:\n",
            "\n",
            "processor\t: 1\n",
            "vendor_id\t: GenuineIntel\n",
            "cpu family\t: 6\n",
            "model\t\t: 79\n",
            "model name\t: Intel(R) Xeon(R) CPU @ 2.20GHz\n",
            "stepping\t: 0\n",
            "microcode\t: 0xffffffff\n",
            "cpu MHz\t\t: 2199.998\n",
            "cache size\t: 56320 KB\n",
            "physical id\t: 0\n",
            "siblings\t: 2\n",
            "core id\t\t: 0\n",
            "cpu cores\t: 1\n",
            "apicid\t\t: 1\n",
            "initial apicid\t: 1\n",
            "fpu\t\t: yes\n",
            "fpu_exception\t: yes\n",
            "cpuid level\t: 13\n",
            "wp\t\t: yes\n",
            "flags\t\t: fpu vme de pse tsc msr pae mce cx8 apic sep mtrr pge mca cmov pat pse36 clflush mmx fxsr sse sse2 ss ht syscall nx pdpe1gb rdtscp lm constant_tsc rep_good nopl xtopology nonstop_tsc cpuid tsc_known_freq pni pclmulqdq ssse3 fma cx16 pcid sse4_1 sse4_2 x2apic movbe popcnt aes xsave avx f16c rdrand hypervisor lahf_lm abm 3dnowprefetch invpcid_single ssbd ibrs ibpb stibp fsgsbase tsc_adjust bmi1 hle avx2 smep bmi2 erms invpcid rtm rdseed adx smap xsaveopt arat md_clear arch_capabilities\n",
            "bugs\t\t: cpu_meltdown spectre_v1 spectre_v2 spec_store_bypass l1tf mds swapgs taa mmio_stale_data retbleed\n",
            "bogomips\t: 4399.99\n",
            "clflush size\t: 64\n",
            "cache_alignment\t: 64\n",
            "address sizes\t: 46 bits physical, 48 bits virtual\n",
            "power management:\n",
            "\n"
          ]
        }
      ],
      "source": [
        "# 3. cpu 정보 확인\n",
        "!cat /proc/cpuinfo"
      ]
    },
    {
      "cell_type": "code",
      "execution_count": 6,
      "metadata": {
        "colab": {
          "base_uri": "https://localhost:8080/"
        },
        "id": "_mNpVQWtyJqL",
        "outputId": "c656e031-a0a1-436a-ac59-4a04765db325"
      },
      "outputs": [
        {
          "name": "stdout",
          "output_type": "stream",
          "text": [
            "MemTotal:       13294252 kB\n",
            "MemFree:         8950156 kB\n",
            "MemAvailable:   12281284 kB\n",
            "Buffers:          329316 kB\n",
            "Cached:          3190112 kB\n",
            "SwapCached:            0 kB\n",
            "Active:           603888 kB\n",
            "Inactive:        3484676 kB\n",
            "Active(anon):       3076 kB\n",
            "Inactive(anon):   572824 kB\n",
            "Active(file):     600812 kB\n",
            "Inactive(file):  2911852 kB\n",
            "Unevictable:           0 kB\n",
            "Mlocked:               0 kB\n",
            "SwapTotal:             0 kB\n",
            "SwapFree:              0 kB\n",
            "Dirty:               516 kB\n",
            "Writeback:             0 kB\n",
            "AnonPages:        562300 kB\n",
            "Mapped:           298516 kB\n",
            "Shmem:              6764 kB\n",
            "KReclaimable:     118840 kB\n",
            "Slab:             155004 kB\n",
            "SReclaimable:     118840 kB\n",
            "SUnreclaim:        36164 kB\n",
            "KernelStack:        4288 kB\n",
            "PageTables:         9924 kB\n",
            "NFS_Unstable:          0 kB\n",
            "Bounce:                0 kB\n",
            "WritebackTmp:          0 kB\n",
            "CommitLimit:     6647124 kB\n",
            "Committed_AS:    2051636 kB\n",
            "VmallocTotal:   34359738367 kB\n",
            "VmallocUsed:        9220 kB\n",
            "VmallocChunk:          0 kB\n",
            "Percpu:             1312 kB\n",
            "HardwareCorrupted:     0 kB\n",
            "AnonHugePages:     14336 kB\n",
            "ShmemHugePages:        0 kB\n",
            "ShmemPmdMapped:        0 kB\n",
            "FileHugePages:         0 kB\n",
            "FilePmdMapped:         0 kB\n",
            "CmaTotal:              0 kB\n",
            "CmaFree:               0 kB\n",
            "HugePages_Total:       0\n",
            "HugePages_Free:        0\n",
            "HugePages_Rsvd:        0\n",
            "HugePages_Surp:        0\n",
            "Hugepagesize:       2048 kB\n",
            "Hugetlb:               0 kB\n",
            "DirectMap4k:       86840 kB\n",
            "DirectMap2M:     4104192 kB\n",
            "DirectMap1G:    11534336 kB\n"
          ]
        }
      ],
      "source": [
        "# ram 확인\n",
        "!cat /proc/meminfo"
      ]
    },
    {
      "cell_type": "code",
      "execution_count": 7,
      "metadata": {
        "colab": {
          "base_uri": "https://localhost:8080/"
        },
        "id": "2tBJhqCayqbi",
        "outputId": "097ef9bc-7798-4fcd-ace8-3aa97c99174d"
      },
      "outputs": [
        {
          "name": "stdout",
          "output_type": "stream",
          "text": [
            "Filesystem      Size  Used Avail Use% Mounted on\n",
            "overlay         108G   25G   84G  23% /\n",
            "tmpfs            64M     0   64M   0% /dev\n",
            "shm             5.8G     0  5.8G   0% /dev/shm\n",
            "/dev/root       2.0G  1.1G  887M  55% /usr/sbin/docker-init\n",
            "tmpfs           6.4G  5.6M  6.4G   1% /var/colab\n",
            "/dev/sda1        70G   50G   21G  72% /etc/hosts\n",
            "tmpfs           6.4G     0  6.4G   0% /proc/acpi\n",
            "tmpfs           6.4G     0  6.4G   0% /proc/scsi\n",
            "tmpfs           6.4G     0  6.4G   0% /sys/firmware\n"
          ]
        }
      ],
      "source": [
        "# 가상 디스크 확인\n",
        "! df -h"
      ]
    },
    {
      "cell_type": "code",
      "execution_count": 8,
      "metadata": {
        "colab": {
          "base_uri": "https://localhost:8080/"
        },
        "id": "nocIOLaYyzf2",
        "outputId": "13a6ddfe-4986-42b1-8d02-d40ba7a26ef6"
      },
      "outputs": [
        {
          "name": "stdout",
          "output_type": "stream",
          "text": [
            "Python 3.10.6\n"
          ]
        }
      ],
      "source": [
        "# 파이썬 버전 확인\n",
        "!python -V"
      ]
    },
    {
      "cell_type": "code",
      "execution_count": null,
      "metadata": {
        "id": "dIMEHxpczxjb"
      },
      "outputs": [],
      "source": []
    },
    {
      "cell_type": "markdown",
      "metadata": {
        "id": "_A03g3Xyy-2y"
      },
      "source": [
        "# 02. 요금 정책\n",
        "## 무료 버전\n",
        "- 런타임(runtime)제한 시간 12시간\n",
        "- 12시간 이상 지속적으로 사용하기\n",
        "- 비활동 시간이 90분 이상 지속되면 세션 종료\n",
        "\n",
        "## 유료 버전\n",
        "- 런타임 제한 시간이 24시간으로 늘어남\n",
        "- 더 큰 메모리와 가상 디스크 공간 할당 해줌\n",
        "- 무료 버전 사용자보다 높은 우선순위로 더 좋은 리소스 할당\n",
        "- 월 구독 방식으로 요금은 $9.99 달러\n",
        "- https://colab.research.google.com/signup"
      ]
    },
    {
      "cell_type": "markdown",
      "metadata": {
        "id": "KHJebctQ0lLm"
      },
      "source": [
        "# 03 .cpu gpu\n",
        "- 일반 데이터 분석 작업 시에는 CPU 자원 할당\n",
        "- 머신러닝 , 딥러닝 모델 개발 작업시에는 GPU 자원 할당\n",
        " - 런타임 > 런타임 유형 변경 > gpu\n",
        "- 유료 버전 사용시, 더 좋은 자원 할당\n",
        " - 자원 속도"
      ]
    },
    {
      "cell_type": "markdown",
      "metadata": {
        "id": "Jwkxp1FQ5l66"
      },
      "source": [
        "\n",
        "# 04. w주요 단축기\n",
        "## 실행 관련 단축키\n",
        "- shift + enter = 현재 셀 실행하고 다음 셀로 이동\n",
        "- ctrl + enter: 현재 셀 실행하고 다음 셀로 이동 X\n",
        "- ctrl + MM: 셀을 markdown 모드로 변경\n",
        "- ctrl + M Y : 셀을 코드 모드로 변경\n",
        "\n",
        "## 셀 관리 단축키\n",
        "- a : 현재 셀 위에 새로운 셀 추가\n",
        "- b : 현재 셀 아래 새로운 셀 추가\n",
        "- ctrl + M, D: 현재 셀 삭제\n",
        "\n",
        "## 키보드 네비게이션 단축키\n",
        "- ctrl + M , P: 이전 셀로 이동\n",
        "- ctrl + M , N : 다음 셀로 이동\n",
        "\n",
        "## 기타 단축키\n",
        "- ctrl + M, H: 도움말 표시\n",
        "- ctrl + M ,L : 행 번호 표시\n",
        "- ctrl + M."
      ]
    },
    {
      "cell_type": "markdown",
      "metadata": {
        "id": "6iu2X-Pg67sC"
      },
      "source": [
        "# 구글 드라이브 마운트\n",
        "- 왼쪽 메뉴바에서 하단 폴더 선택\n",
        "- 상단에서 세번째 메뉴 드라이브 마운트 선택\n",
        "- 이후 절차 따라 진행\n",
        "- 왼쪽에 drive 라는 폴더 생성(안 보일시 새로 고침)\n",
        "- /content/drive/MyDrive/"
      ]
    },
    {
      "cell_type": "code",
      "execution_count": 11,
      "metadata": {
        "colab": {
          "base_uri": "https://localhost:8080/",
          "height": 35
        },
        "id": "9azejG2Y8IsQ",
        "outputId": "10802402-c73a-48f6-bd96-9b6d44d1d007"
      },
      "outputs": [
        {
          "data": {
            "application/vnd.google.colaboratory.intrinsic+json": {
              "type": "string"
            },
            "text/plain": [
              "'/content'"
            ]
          },
          "execution_count": 11,
          "metadata": {},
          "output_type": "execute_result"
        }
      ],
      "source": [
        "pwd"
      ]
    },
    {
      "cell_type": "markdown",
      "metadata": {
        "id": "HhlPhJrL8T2K"
      },
      "source": [
        "from IPython.lib.display import ScribdDocument\n",
        "# 06. 주의 !\n",
        "- 파일이나 폴더 이름에는 한글 특수문자 띄어쓰기 금지!!\n",
        "- 기본적으로 생기는 colab notebooks 폴더에서 작업 X\n",
        "- 직접 폴더 생성  후 작업을 **권유**\n",
        "- 예시\n",
        "\n",
        "```bash\n",
        "dev_ws\n",
        "ㄴEDA\n",
        "    ㄴ src\n",
        "```    \n",
        "- 자동완성 기능이 존재하나 조금 느린 편\n",
        "- 일부 수업 내용은 코랩에서 불가능\n",
        "  -selenium, opencv 등 카메라를 사용하는 부분 등\n",
        "- 로컬 pc 에서 작업환경에 익숙해진 뒤 코랩 사용 권유"
      ]
    },
    {
      "cell_type": "markdown",
      "metadata": {},
      "source": [
        "# 마크다운 문법(Syntax)"
      ]
    },
    {
      "cell_type": "markdown",
      "metadata": {},
      "source": [
        "## 제목(header)"
      ]
    },
    {
      "cell_type": "markdown",
      "metadata": {},
      "source": [
        "'<h1>' 부터 '<h6>' 까지 제목을 표현할 수 있습니다."
      ]
    },
    {
      "cell_type": "markdown",
      "metadata": {},
      "source": [
        "# 강조"
      ]
    },
    {
      "cell_type": "markdown",
      "metadata": {},
      "source": []
    },
    {
      "cell_type": "markdown",
      "metadata": {},
      "source": [
        "각각 <em>, <strong>, <del> 태그로 변환됩니다."
      ]
    },
    {
      "cell_type": "markdown",
      "metadata": {},
      "source": [
        "<em> asd asd <strong> asd  <del> asd"
      ]
    },
    {
      "cell_type": "markdown",
      "metadata": {},
      "source": []
    },
    {
      "cell_type": "markdown",
      "metadata": {},
      "source": [
        "<u> asdasd"
      ]
    },
    {
      "cell_type": "markdown",
      "metadata": {},
      "source": [
        "- 이탤릭체는 별표 혹은 언더바를 사용하세요.\n",
        "- 두껍게는 **별표** 혹은 *언더바*를 사용하세요"
      ]
    },
    {
      "cell_type": "markdown",
      "metadata": {},
      "source": [
        "\n",
        "*이탤릭체* 와 **두껍게**를 같이 사용할 수 있습니다\n"
      ]
    },
    {
      "cell_type": "markdown",
      "metadata": {},
      "source": [
        "1. 순서가 필요한 목록 \n",
        "2. 순서가 필요한 목록\n",
        "    - 순서가 필요하지 않은 목록\n",
        "    - 순서가 필요하지 않은 목록\n",
        "- 순서가 필요하지 않은 목록\n",
        "  - 순서가 필요하지 않은 목록"
      ]
    },
    {
      "cell_type": "code",
      "execution_count": null,
      "metadata": {},
      "outputs": [],
      "source": []
    }
  ],
  "metadata": {
    "colab": {
      "provenance": []
    },
    "kernelspec": {
      "display_name": "Python 3",
      "name": "python3"
    },
    "language_info": {
      "name": "python"
    }
  },
  "nbformat": 4,
  "nbformat_minor": 0
}
