{
 "cells": [
  {
   "cell_type": "code",
   "execution_count": 1,
   "id": "8cf6158a-a318-4874-b9cf-27d4074a44a7",
   "metadata": {},
   "outputs": [
    {
     "name": "stdout",
     "output_type": "stream",
     "text": [
      "hi python\n"
     ]
    }
   ],
   "source": [
    "print(\"hi python\")"
   ]
  },
  {
   "cell_type": "markdown",
   "id": "eb77dcec-5ffb-45d2-b57c-1b19b7d910bc",
   "metadata": {},
   "source": [
    "# markdown "
   ]
  },
  {
   "cell_type": "code",
   "execution_count": 2,
   "id": "6b347e21-6c19-40ab-b16b-91fe8fab9d82",
   "metadata": {},
   "outputs": [],
   "source": [
    "## markdown"
   ]
  },
  {
   "cell_type": "markdown",
   "id": "e0529373-af17-41db-9758-0d22a6866cae",
   "metadata": {},
   "source": [
    "## mark down"
   ]
  },
  {
   "cell_type": "markdown",
   "id": "41422447-b4c2-48b9-a9fe-d2a6bc0fb119",
   "metadata": {},
   "source": [
    "- 순서 없는 목록"
   ]
  },
  {
   "cell_type": "markdown",
   "id": "0a2d2ee3-1e8c-4367-bf94-9493da413164",
   "metadata": {},
   "source": [
    "- 순서없는 목록"
   ]
  },
  {
   "cell_type": "markdown",
   "id": "8004f409-f7d8-4f75-ac86-9bd9eb6a16ea",
   "metadata": {},
   "source": [
    "_순서 없는 목록_"
   ]
  },
  {
   "cell_type": "markdown",
   "id": "298bdf15-fb1d-4dc9-a772-61dcd16f8a08",
   "metadata": {},
   "source": [
    "**이수민**\n"
   ]
  },
  {
   "cell_type": "markdown",
   "id": "33fa8977-64ab-48a9-8831-7d6bb4c45ee5",
   "metadata": {},
   "source": [
    "[네이버]https://www.naver.com/"
   ]
  },
  {
   "cell_type": "markdown",
   "id": "215b0f01-9345-42f4-888d-b867441caf1c",
   "metadata": {},
   "source": [
    "![이미지](https://www.google.com/imgres?imgurl=https%3A%2F%2Fimg.freepik.com%2Ffree-photo%2Fworld-smile-day-emojis-arrangement_23-2149024491.jpg%3Fq%3D10%26h%3D200&tbnid=4ScUHXoX4LNunM&vet=12ahUKEwiXxIPvy7qAAxUKpVYBHXMdBRAQMygDegUIARDPAQ..i&imgrefurl=https%3A%2F%2Fkr.freepik.com%2Ffree-photos-vectors%2F%25ED%2596%2589%25EB%25B3%25B5&docid=prAgyth3Pk9hQM&w=337&h=200&q=%EC%9D%B4%EB%AF%B8%EC%A7%80&ved=2ahUKEwiXxIPvy7qAAxUKpVYBHXMdBRAQMygDegUIARDPAQ)"
   ]
  },
  {
   "cell_type": "markdown",
   "id": "1a511b91-4ad9-4fdd-9557-7ed9a5163f36",
   "metadata": {},
   "source": [
    "> 이수민"
   ]
  },
  {
   "cell_type": "markdown",
   "id": "32c3b1e0-7e68-48ac-8028-495546e5ae1f",
   "metadata": {},
   "source": [
    ">>이수민"
   ]
  },
  {
   "cell_type": "markdown",
   "id": "e28394da-7ac9-48f0-bc18-32ba5048f184",
   "metadata": {},
   "source": [
    ">>>이수민"
   ]
  },
  {
   "cell_type": "markdown",
   "id": "49b6d968-dde8-44b3-8500-928fe0569cd1",
   "metadata": {},
   "source": [
    "---"
   ]
  },
  {
   "cell_type": "markdown",
   "id": "85219b97-e5ad-40fc-8b2f-d70f06cca204",
   "metadata": {},
   "source": [
    "```python\n",
    "    print(\"hello\")\n",
    "```"
   ]
  },
  {
   "cell_type": "code",
   "execution_count": null,
   "id": "da5b389a-6fce-481a-851f-cd4f776852b7",
   "metadata": {},
   "outputs": [],
   "source": []
  }
 ],
 "metadata": {
  "kernelspec": {
   "display_name": "Python 3 (ipykernel)",
   "language": "python",
   "name": "python3"
  },
  "language_info": {
   "codemirror_mode": {
    "name": "ipython",
    "version": 3
   },
   "file_extension": ".py",
   "mimetype": "text/x-python",
   "name": "python",
   "nbconvert_exporter": "python",
   "pygments_lexer": "ipython3",
   "version": "3.10.12"
  }
 },
 "nbformat": 4,
 "nbformat_minor": 5
}
