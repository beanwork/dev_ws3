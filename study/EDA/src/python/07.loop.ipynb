{
 "cells": [
  {
   "cell_type": "markdown",
   "id": "8215aa62-3de1-46c3-af41-1d9da7bf4c65",
   "metadata": {},
   "source": [
    "# 반복문 (loop)\n",
    "- 반복되는 코드를 실행할 때 사용\n",
    "- while, for ,break, continue\n",
    "- list comprehension"
   ]
  },
  {
   "cell_type": "markdown",
   "id": "990ca4b0-aa2b-45bd-bd16-4c0feb019d21",
   "metadata": {},
   "source": [
    "# 1. while"
   ]
  },
  {
   "cell_type": "code",
   "execution_count": 2,
   "id": "afa28a28-4441-4f1c-a759-53591c6eb962",
   "metadata": {},
   "outputs": [
    {
     "name": "stdout",
     "output_type": "stream",
     "text": [
      "3\n",
      "2\n",
      "1\n",
      "반복문 종료\n"
     ]
    }
   ],
   "source": [
    "# 조건에 의한 반복문\n",
    "\n",
    "data = 3\n",
    "\n",
    "while data:\n",
    "    print(data)\n",
    "    data -= 1 \n",
    "    \n",
    "\n",
    "print('반복문 종료')"
   ]
  },
  {
   "cell_type": "code",
   "execution_count": 3,
   "id": "dc50a6c8-f658-42ef-a75c-d591969f78ae",
   "metadata": {},
   "outputs": [
    {
     "name": "stdout",
     "output_type": "stream",
     "text": [
      "1\n",
      "2\n",
      "3\n",
      "4\n",
      "5\n"
     ]
    }
   ],
   "source": [
    "# break : 반복을 중단할 때 사용\n",
    "\n",
    "count = 0 \n",
    "\n",
    "while True:\n",
    "    count += 1\n",
    "    print(count)\n",
    "\n",
    "    if count >= 5:\n",
    "        break"
   ]
  },
  {
   "cell_type": "code",
   "execution_count": 4,
   "id": "6aa4b5bb-e1af-4e5a-a9de-5102614efdc8",
   "metadata": {},
   "outputs": [],
   "source": [
    "# # 무한 루프\n",
    "\n",
    "# result = 1\n",
    "\n",
    "# while result:\n",
    "#     result += 1\n",
    "#     print(result)"
   ]
  },
  {
   "cell_type": "code",
   "execution_count": 5,
   "id": "2400cdb7-acca-42b5-ac9d-f7af8e0724b5",
   "metadata": {},
   "outputs": [],
   "source": [
    "# continue\n",
    "# continue 실행되면 , 현재 반복 루프 내에서 continue 아래 코드는 실행 X\n",
    "# 반복문의 다음 반복으로 이동"
   ]
  },
  {
   "cell_type": "code",
   "execution_count": 9,
   "id": "3150bd40-1aef-4b4b-992b-35256338f736",
   "metadata": {},
   "outputs": [
    {
     "name": "stdout",
     "output_type": "stream",
     "text": [
      "2\n",
      "4\n",
      "6\n",
      "8\n"
     ]
    }
   ],
   "source": [
    "count = 0\n",
    "\n",
    "while True:\n",
    "    count += 1\n",
    "\n",
    "    if count >= 10:\n",
    "        break\n",
    "    ## 짝수 \n",
    "    if count % 2 :\n",
    "        continue\n",
    "    print(count)"
   ]
  },
  {
   "cell_type": "code",
   "execution_count": 10,
   "id": "fe43b337-cd3b-4572-a964-12468adb2e64",
   "metadata": {},
   "outputs": [],
   "source": [
    "# mini quiz\n",
    "# whikle 이용\n",
    "# q 문자열이 입력될 때 까지\n",
    "# 내가 입력한 단어를 리스트 변수에 저장하는 코드를 작성\n",
    "# input()"
   ]
  },
  {
   "cell_type": "code",
   "execution_count": 8,
   "id": "8846868c-1a73-4d11-a747-9686996b7ec5",
   "metadata": {},
   "outputs": [
    {
     "name": "stdin",
     "output_type": "stream",
     "text": [
      "insert word(q:exit()) :  asd\n"
     ]
    },
    {
     "name": "stdout",
     "output_type": "stream",
     "text": [
      "['asd']\n"
     ]
    },
    {
     "name": "stdin",
     "output_type": "stream",
     "text": [
      "insert word(q:exit()) :  sd\n"
     ]
    },
    {
     "name": "stdout",
     "output_type": "stream",
     "text": [
      "['asd', 'sd']\n"
     ]
    },
    {
     "name": "stdin",
     "output_type": "stream",
     "text": [
      "insert word(q:exit()) :  dsdd\n"
     ]
    },
    {
     "name": "stdout",
     "output_type": "stream",
     "text": [
      "['asd', 'sd', 'dsdd']\n"
     ]
    },
    {
     "name": "stdin",
     "output_type": "stream",
     "text": [
      "insert word(q:exit()) :  qq\n"
     ]
    },
    {
     "name": "stdout",
     "output_type": "stream",
     "text": [
      " q is in str\n"
     ]
    }
   ],
   "source": [
    "\n",
    "\n",
    "words = []\n",
    "\n",
    "while True:\n",
    "    str = input('insert word(q:exit()) : ')\n",
    "    if 'q' in str:\n",
    "        print(\" q is in str\") \n",
    "        break\n",
    "        \n",
    "    else:\n",
    "        words.append(str)\n",
    "        print(words)"
   ]
  },
  {
   "cell_type": "code",
   "execution_count": 10,
   "id": "6fccdcd1-95af-4f27-b2d3-613e03388b5c",
   "metadata": {},
   "outputs": [
    {
     "data": {
      "text/plain": [
       "'words = []\\n\\nwhile True:\\n    word = input(\\'insert word(q:exit()) : \\')\\n    if \\'q\\' in str:\\n        print(\" q is in str\") \\n        break\\n        \\n   \\n    words.append(str)\\n    print(words)'"
      ]
     },
     "execution_count": 10,
     "metadata": {},
     "output_type": "execute_result"
    }
   ],
   "source": [
    "In[5]\n",
    "\n"
   ]
  },
  {
   "cell_type": "code",
   "execution_count": 11,
   "id": "e94c2105-eeb5-4aa5-a411-2dd7d5cf3f5e",
   "metadata": {},
   "outputs": [],
   "source": [
    "# mini Quiz\n",
    "# 1부터 100까지 정수를 출력해주세요\n",
    "# 3의 배수만 출력해주세요"
   ]
  },
  {
   "cell_type": "code",
   "execution_count": 14,
   "id": "346ecd91-ee43-4b8c-8f23-c18ce1121f2b",
   "metadata": {},
   "outputs": [
    {
     "name": "stdout",
     "output_type": "stream",
     "text": [
      "3\n",
      "6\n",
      "9\n",
      "12\n",
      "15\n",
      "18\n",
      "21\n",
      "24\n",
      "27\n",
      "30\n",
      "33\n",
      "36\n",
      "39\n",
      "42\n",
      "45\n",
      "48\n",
      "51\n",
      "54\n",
      "57\n",
      "60\n",
      "63\n",
      "66\n",
      "69\n",
      "72\n",
      "75\n",
      "78\n",
      "81\n",
      "84\n",
      "87\n",
      "90\n",
      "93\n",
      "96\n",
      "99\n"
     ]
    }
   ],
   "source": [
    "for i in range(1,101):\n",
    "    if not i % 3:\n",
    "        print (i)"
   ]
  },
  {
   "cell_type": "code",
   "execution_count": 17,
   "id": "4115fcdf-d56a-45fb-9a60-8074b9b6600d",
   "metadata": {},
   "outputs": [
    {
     "name": "stdout",
     "output_type": "stream",
     "text": [
      "3은 3의 배수입니다.\n",
      "6은 3의 배수입니다.\n",
      "9은 3의 배수입니다.\n",
      "12은 3의 배수입니다.\n",
      "15은 3의 배수입니다.\n",
      "18은 3의 배수입니다.\n",
      "21은 3의 배수입니다.\n",
      "24은 3의 배수입니다.\n",
      "27은 3의 배수입니다.\n",
      "30은 3의 배수입니다.\n",
      "33은 3의 배수입니다.\n",
      "36은 3의 배수입니다.\n",
      "39은 3의 배수입니다.\n",
      "42은 3의 배수입니다.\n",
      "45은 3의 배수입니다.\n",
      "48은 3의 배수입니다.\n",
      "51은 3의 배수입니다.\n",
      "54은 3의 배수입니다.\n",
      "57은 3의 배수입니다.\n",
      "60은 3의 배수입니다.\n",
      "63은 3의 배수입니다.\n",
      "66은 3의 배수입니다.\n",
      "69은 3의 배수입니다.\n",
      "72은 3의 배수입니다.\n",
      "75은 3의 배수입니다.\n",
      "78은 3의 배수입니다.\n",
      "81은 3의 배수입니다.\n",
      "84은 3의 배수입니다.\n",
      "87은 3의 배수입니다.\n",
      "90은 3의 배수입니다.\n",
      "93은 3의 배수입니다.\n",
      "96은 3의 배수입니다.\n",
      "99은 3의 배수입니다.\n"
     ]
    }
   ],
   "source": [
    "## 강사님\n",
    "\n",
    "num = 1\n",
    "\n",
    "while num <= 100:\n",
    "    \n",
    "    # if num%3 == 0:\n",
    "    #     print(f'{num}은 3의배수 입니다.')\n",
    "\n",
    "    if not (num % 3):\n",
    "        print(f'{num}은 3의 배수입니다.')\n",
    "    num += 1"
   ]
  },
  {
   "cell_type": "code",
   "execution_count": 18,
   "id": "537dbba2-2225-4325-a036-0dccb03d01c6",
   "metadata": {},
   "outputs": [],
   "source": [
    "# 1. quiz\n",
    "\n",
    "# (1) 랜덤한 숫자 6개 출력\n",
    "# (2) 중복되는 숫자 없이, 6개 랜덤한 숫자\n",
    "# (3) 오름차순 정렬\n",
    "# (4) 1~45 숫자\n",
    "# [1, 2, 3, 44, 45]"
   ]
  },
  {
   "cell_type": "code",
   "execution_count": 27,
   "id": "52d67fa8-9eb3-4d2a-9963-d944dd4c177b",
   "metadata": {},
   "outputs": [
    {
     "name": "stdout",
     "output_type": "stream",
     "text": [
      "[18, 23, 28, 39, 43, 45]\n"
     ]
    }
   ],
   "source": [
    "import random\n",
    "\n",
    "number_li = []\n",
    "\n",
    "for _ in range(6):    \n",
    "    number = random.randint(1,45)\n",
    "    number_li.append(number)\n",
    "    \n",
    "number_li.sort()\n",
    "\n",
    "print(number_li)\n",
    "\n"
   ]
  },
  {
   "cell_type": "code",
   "execution_count": 8,
   "id": "f48dd154-492e-448d-9627-58a8c02bbd06",
   "metadata": {},
   "outputs": [
    {
     "ename": "AttributeError",
     "evalue": "'list' object has no attribute 'apppend'",
     "output_type": "error",
     "traceback": [
      "\u001b[0;31m---------------------------------------------------------------------------\u001b[0m",
      "\u001b[0;31mAttributeError\u001b[0m                            Traceback (most recent call last)",
      "Cell \u001b[0;32mIn[8], line 10\u001b[0m\n\u001b[1;32m      7\u001b[0m random_number \u001b[38;5;241m=\u001b[39m random\u001b[38;5;241m.\u001b[39mrandint(\u001b[38;5;241m1\u001b[39m, \u001b[38;5;241m45\u001b[39m)\n\u001b[1;32m      9\u001b[0m \u001b[38;5;28;01mif\u001b[39;00m random_number \u001b[38;5;129;01mnot\u001b[39;00m \u001b[38;5;129;01min\u001b[39;00m lotto:\n\u001b[0;32m---> 10\u001b[0m     \u001b[43mlotto\u001b[49m\u001b[38;5;241;43m.\u001b[39;49m\u001b[43mapppend\u001b[49m(random_number)\n\u001b[1;32m     12\u001b[0m \u001b[38;5;28;01mif\u001b[39;00m \u001b[38;5;28mlen\u001b[39m(lotto) \u001b[38;5;241m==\u001b[39m \u001b[38;5;241m6\u001b[39m:\n\u001b[1;32m     13\u001b[0m     lotto\u001b[38;5;241m.\u001b[39msort()\n",
      "\u001b[0;31mAttributeError\u001b[0m: 'list' object has no attribute 'apppend'"
     ]
    }
   ],
   "source": [
    "import random\n",
    "\n",
    "lotto = []\n",
    "\n",
    "while True:\n",
    "\n",
    "    random_number = random.randint(1, 45)\n",
    "\n",
    "    if random_number not in lotto:\n",
    "        lotto.apppend(random_number)\n",
    "\n",
    "    if len(lotto) == 6:\n",
    "        lotto.sort()\n",
    "        break\n",
    "        \n",
    "                                   "
   ]
  },
  {
   "cell_type": "code",
   "execution_count": null,
   "id": "f727c41e-4954-43a4-ac55-54179bcd1a37",
   "metadata": {},
   "outputs": [],
   "source": [
    "# 2. import random\n",
    "# (1) 학생이 있습니다.\n",
    "# (2) 파이썬 : 80점, 머신러닝: 90점, ros: 20점\n",
    "# points_list = [80, 90, 20]\n",
    "# (3)총점과 평균점수, 최저점수\n",
    "# (4) while \n",
    "\n",
    "# 총 점수는 190점입니다. 평균 점수는 50.0점입니다. 최저 점수는 20점입니다."
   ]
  },
  {
   "cell_type": "code",
   "execution_count": null,
   "id": "bbaa40bd-551e-45b6-830d-52918d84eeba",
   "metadata": {},
   "outputs": [],
   "source": [
    "score_li= []\n",
    "\n",
    "while True:\n",
    "    \n",
    "    score_li.append(int(input('점수를 입력해주세요 : '))) \n",
    "    \n",
    "    if len(score_li) == 6:\n",
    "        \n",
    "        score_sum = sum(score_li)\n",
    "        score_mean = score_sum/len(score_li)\n",
    "        score_min = min(score_li)\n",
    "        \n",
    "        print(f'총 점수는 {score_sum}입니다. 평균 점수는 {score_mean}입니다. 최저 점수는 {score_min}입니다.')\n",
    "\n",
    "        break\n",
    "        "
   ]
  },
  {
   "cell_type": "code",
   "execution_count": 4,
   "id": "a6fb06fe-33be-4fc5-ab6b-5cb319f3c6a1",
   "metadata": {},
   "outputs": [],
   "source": [
    "## 강사님\n",
    "\n",
    "points_li = [80, 90, 20]\n"
   ]
  },
  {
   "cell_type": "code",
   "execution_count": 5,
   "id": "c0de3bea-67fd-4333-8904-93f8e2054014",
   "metadata": {},
   "outputs": [],
   "source": [
    "total, avg, min_score = 0, 0, 1000"
   ]
  },
  {
   "cell_type": "code",
   "execution_count": 6,
   "id": "fc6e04fb-6850-4598-8743-8e22e5cfe1f0",
   "metadata": {},
   "outputs": [],
   "source": [
    "copy_points_li = points_li.copy()"
   ]
  },
  {
   "cell_type": "code",
   "execution_count": 7,
   "id": "885f2114-f2d2-4623-9732-d9e4c045303b",
   "metadata": {},
   "outputs": [
    {
     "name": "stdout",
     "output_type": "stream",
     "text": [
      "총 점수는 190입니다, 평균 점수는 63.333333333333336입니다. 최저 점수는 20입니다.\n"
     ]
    }
   ],
   "source": [
    "while copy_points_li:\n",
    "    score = copy_points_li.pop()\n",
    "    total += score\n",
    "\n",
    "    if score < min_score:\n",
    "        min_score = score\n",
    "        \n",
    "avg = total / len(points_li)\n",
    "print(f'총 점수는 {total}입니다, 평균 점수는 {avg}입니다. 최저 점수는 {min_score}입니다.')"
   ]
  },
  {
   "cell_type": "markdown",
   "id": "efc1704f-7386-41c2-ad3e-cd32bbbb26b3",
   "metadata": {},
   "source": [
    "## 2. for\n",
    "- 횟수에 의한 반복문\n",
    "- iterable 한 값을 하나식 꺼내서 value에 대입\n",
    "- 코드를 ㅑㄳ한 갯수만큼 시랭\n",
    "- iterable 순서가 있는 데이터\n",
    "    - 리스트, 튜플, 딕셔너리"
   ]
  },
  {
   "cell_type": "code",
   "execution_count": 1,
   "id": "02a74bdf-2e20-4384-a35a-b6a31c36bede",
   "metadata": {},
   "outputs": [],
   "source": [
    "li = [0, 1, 2, 3, 4]\n"
   ]
  },
  {
   "cell_type": "code",
   "execution_count": 2,
   "id": "738814e6-2b29-4f95-9149-ddb2d50ac4ac",
   "metadata": {},
   "outputs": [
    {
     "name": "stdout",
     "output_type": "stream",
     "text": [
      "0\n",
      "2\n",
      "3\n"
     ]
    }
   ],
   "source": [
    "print(li[0])\n",
    "print(li[2])\n",
    "print(li[3])"
   ]
  },
  {
   "cell_type": "code",
   "execution_count": 3,
   "id": "d56db6fc-6ac0-4c62-8397-82c03a0a9546",
   "metadata": {},
   "outputs": [
    {
     "name": "stdout",
     "output_type": "stream",
     "text": [
      "0\n",
      "1\n",
      "2\n",
      "3\n",
      "4\n"
     ]
    }
   ],
   "source": [
    "for value in li:\n",
    "    print(value)"
   ]
  },
  {
   "cell_type": "code",
   "execution_count": 9,
   "id": "52f3b2b0-fc94-4d3c-bddd-7176e255975b",
   "metadata": {},
   "outputs": [
    {
     "data": {
      "text/plain": [
       "[0, 1, 2, 3, 4]"
      ]
     },
     "execution_count": 9,
     "metadata": {},
     "output_type": "execute_result"
    }
   ],
   "source": [
    "data = []\n",
    "\n",
    "for value in li:\n",
    "    data.append(value)\n",
    "\n",
    "data"
   ]
  },
  {
   "cell_type": "code",
   "execution_count": 11,
   "id": "0c332aca-a775-43dd-8cfe-08e57828b588",
   "metadata": {},
   "outputs": [
    {
     "name": "stdout",
     "output_type": "stream",
     "text": [
      "0 2 4 "
     ]
    }
   ],
   "source": [
    "# for\n",
    "# continue\n",
    "\n",
    "for data in li:\n",
    "    # data가 짝수인 경우만 출력\n",
    "    if data % 2:\n",
    "        continue\n",
    "    print(data, end = ' ')"
   ]
  },
  {
   "cell_type": "code",
   "execution_count": 13,
   "id": "0537736a-3fbe-4859-b465-1d32a424f769",
   "metadata": {},
   "outputs": [],
   "source": [
    "# for \n",
    "# range()\n",
    "# enumerate()\n",
    "# zip()"
   ]
  },
  {
   "cell_type": "code",
   "execution_count": 14,
   "id": "96dd9c48-88e9-4856-a660-cdb6f7b2749e",
   "metadata": {},
   "outputs": [
    {
     "data": {
      "text/plain": [
       "range(0, 100)"
      ]
     },
     "execution_count": 14,
     "metadata": {},
     "output_type": "execute_result"
    }
   ],
   "source": [
    "# range()\n",
    "\n",
    "range(100)"
   ]
  },
  {
   "cell_type": "code",
   "execution_count": 15,
   "id": "cd498080-407b-4a03-8526-3637e55d5dc8",
   "metadata": {},
   "outputs": [
    {
     "data": {
      "text/plain": [
       "[0,\n",
       " 1,\n",
       " 2,\n",
       " 3,\n",
       " 4,\n",
       " 5,\n",
       " 6,\n",
       " 7,\n",
       " 8,\n",
       " 9,\n",
       " 10,\n",
       " 11,\n",
       " 12,\n",
       " 13,\n",
       " 14,\n",
       " 15,\n",
       " 16,\n",
       " 17,\n",
       " 18,\n",
       " 19,\n",
       " 20,\n",
       " 21,\n",
       " 22,\n",
       " 23,\n",
       " 24,\n",
       " 25,\n",
       " 26,\n",
       " 27,\n",
       " 28,\n",
       " 29,\n",
       " 30,\n",
       " 31,\n",
       " 32,\n",
       " 33,\n",
       " 34,\n",
       " 35,\n",
       " 36,\n",
       " 37,\n",
       " 38,\n",
       " 39,\n",
       " 40,\n",
       " 41,\n",
       " 42,\n",
       " 43,\n",
       " 44,\n",
       " 45,\n",
       " 46,\n",
       " 47,\n",
       " 48,\n",
       " 49,\n",
       " 50,\n",
       " 51,\n",
       " 52,\n",
       " 53,\n",
       " 54,\n",
       " 55,\n",
       " 56,\n",
       " 57,\n",
       " 58,\n",
       " 59,\n",
       " 60,\n",
       " 61,\n",
       " 62,\n",
       " 63,\n",
       " 64,\n",
       " 65,\n",
       " 66,\n",
       " 67,\n",
       " 68,\n",
       " 69,\n",
       " 70,\n",
       " 71,\n",
       " 72,\n",
       " 73,\n",
       " 74,\n",
       " 75,\n",
       " 76,\n",
       " 77,\n",
       " 78,\n",
       " 79,\n",
       " 80,\n",
       " 81,\n",
       " 82,\n",
       " 83,\n",
       " 84,\n",
       " 85,\n",
       " 86,\n",
       " 87,\n",
       " 88,\n",
       " 89,\n",
       " 90,\n",
       " 91,\n",
       " 92,\n",
       " 93,\n",
       " 94,\n",
       " 95,\n",
       " 96,\n",
       " 97,\n",
       " 98,\n",
       " 99]"
      ]
     },
     "execution_count": 15,
     "metadata": {},
     "output_type": "execute_result"
    }
   ],
   "source": [
    "list(range(100))"
   ]
  },
  {
   "cell_type": "markdown",
   "id": "627cfc82-613e-4119-a16b-d8d0bf7b9b18",
   "metadata": {},
   "source": [
    "### range()\n",
    "- 정수의 리스트를 생성하는 함수"
   ]
  },
  {
   "cell_type": "code",
   "execution_count": 16,
   "id": "6bd0cf6c-00b0-4bbb-998f-ad28863c8033",
   "metadata": {},
   "outputs": [
    {
     "data": {
      "text/plain": [
       "[0, 1, 2, 3, 4, 5, 6, 7, 8, 9]"
      ]
     },
     "execution_count": 16,
     "metadata": {},
     "output_type": "execute_result"
    }
   ],
   "source": [
    " list(range(10))  # end"
   ]
  },
  {
   "cell_type": "code",
   "execution_count": 18,
   "id": "cd2df79a-f231-4bf2-a5b8-6d1445ff125e",
   "metadata": {},
   "outputs": [
    {
     "data": {
      "text/plain": [
       "[5, 6, 7, 8, 9]"
      ]
     },
     "execution_count": 18,
     "metadata": {},
     "output_type": "execute_result"
    }
   ],
   "source": [
    "list(range(5, 10))  # start, end"
   ]
  },
  {
   "cell_type": "code",
   "execution_count": 19,
   "id": "8f890c94-bec4-46c7-8b6c-ba80ea34851b",
   "metadata": {},
   "outputs": [
    {
     "data": {
      "text/plain": [
       "[1, 3, 5, 7, 9]"
      ]
     },
     "execution_count": 19,
     "metadata": {},
     "output_type": "execute_result"
    }
   ],
   "source": [
    "list(range(1, 10, 2))  # (start, end, stride)"
   ]
  },
  {
   "cell_type": "code",
   "execution_count": 20,
   "id": "68c98a31-bf3b-4e50-a111-93b003e87a3e",
   "metadata": {},
   "outputs": [
    {
     "data": {
      "text/plain": [
       "[1]"
      ]
     },
     "execution_count": 20,
     "metadata": {},
     "output_type": "execute_result"
    }
   ],
   "source": [
    "list(range(5))[1:2]"
   ]
  },
  {
   "cell_type": "code",
   "execution_count": 21,
   "id": "57b5f3c3-93eb-4e87-8e77-f3e407aab676",
   "metadata": {},
   "outputs": [
    {
     "name": "stdout",
     "output_type": "stream",
     "text": [
      "4950\n"
     ]
    }
   ],
   "source": [
    "result = 0\n",
    "\n",
    "for my_value in range(100):\n",
    "    result += my_value\n",
    "\n",
    "print(result)"
   ]
  },
  {
   "cell_type": "markdown",
   "id": "60216ee1-fbbd-4b53-9616-40d560683d73",
   "metadata": {},
   "source": [
    "## enumerate()\n",
    "- 순서가 있는 (iterable) 자료형(리스트, 튜플, 딕셔너리)를 입력으로 받음\n",
    "- 각 요소가 가지고 있는 인덱스 값을 함께 반환합니다."
   ]
  },
  {
   "cell_type": "code",
   "execution_count": 24,
   "id": "943034d1-1d09-49a2-9982-819b7763b7f6",
   "metadata": {},
   "outputs": [
    {
     "name": "stdout",
     "output_type": "stream",
     "text": [
      "0 first\n",
      "1 second\n",
      "2 third\n"
     ]
    }
   ],
   "source": [
    "ls = ['first', 'second', 'third']\n",
    "\n",
    "for index, data in enumerate(ls):\n",
    "    print(index, data)"
   ]
  },
  {
   "cell_type": "code",
   "execution_count": 25,
   "id": "e717fa18-1c06-4854-ad15-68dcffa36261",
   "metadata": {},
   "outputs": [],
   "source": [
    "# 딕셔너리 데이터 타입과 for 문 \n",
    "\n",
    "points_dict = {'python' : 80, 'ml' : 90, 'ros' : 20}\n"
   ]
  },
  {
   "cell_type": "code",
   "execution_count": 30,
   "id": "3045e022-7c13-48cc-96fa-43a150b51099",
   "metadata": {},
   "outputs": [
    {
     "name": "stdout",
     "output_type": "stream",
     "text": [
      "python\n",
      "ml\n",
      "ros\n"
     ]
    }
   ],
   "source": [
    "for point in points_dict:\n",
    "    print(point)"
   ]
  },
  {
   "cell_type": "code",
   "execution_count": 31,
   "id": "ac1d716f-ac01-499e-a56e-095743141e6f",
   "metadata": {},
   "outputs": [
    {
     "data": {
      "text/plain": [
       "dict_items([('python', 80), ('ml', 90), ('ros', 20)])"
      ]
     },
     "execution_count": 31,
     "metadata": {},
     "output_type": "execute_result"
    }
   ],
   "source": [
    "points_dict.items()\n"
   ]
  },
  {
   "cell_type": "code",
   "execution_count": 32,
   "id": "6db0e029-f143-4bed-9c85-102a012fa405",
   "metadata": {},
   "outputs": [
    {
     "name": "stdout",
     "output_type": "stream",
     "text": [
      "python 80\n",
      "ml 90\n",
      "ros 20\n"
     ]
    }
   ],
   "source": [
    "for i, v in points_dict.items():\n",
    "    print(i, v)"
   ]
  },
  {
   "cell_type": "code",
   "execution_count": 33,
   "id": "f0565e4e-beb9-4250-82cf-f35459a37a72",
   "metadata": {},
   "outputs": [],
   "source": [
    "# mini quiz\n",
    "# 숫자를 입력 받습니다\n",
    "# 3의 배수이면 fizz\n",
    "# 5의 배수이면 buzz\n",
    "# 15의 배수이면 fizzbuzz => 대문자로 출력"
   ]
  },
  {
   "cell_type": "code",
   "execution_count": 36,
   "id": "5cb2ead1-a122-4a37-970d-c0ec72dacdbf",
   "metadata": {},
   "outputs": [
    {
     "name": "stdin",
     "output_type": "stream",
     "text": [
      "숫자를 입력하세요:  45\n"
     ]
    },
    {
     "name": "stdout",
     "output_type": "stream",
     "text": [
      "fizz\n",
      "buzz\n",
      "FIZZBUZZ\n"
     ]
    }
   ],
   "source": [
    "number = int(input('숫자를 입력하세요: '))\n",
    "\n",
    "if not number % 3:\n",
    "    print('FIZZ'.lower())\n",
    "\n",
    "if not number % 5:\n",
    "    print('buzz')\n",
    "\n",
    "if not number % 15:\n",
    "    print('fizzbuzz'.upper())"
   ]
  },
  {
   "cell_type": "code",
   "execution_count": 38,
   "id": "bcbdd82e-ad46-48a7-b842-21898ecae7d0",
   "metadata": {},
   "outputs": [
    {
     "name": "stdout",
     "output_type": "stream",
     "text": [
      "2*1 = 2\n",
      "2*2 = 4\n",
      "2*3 = 6\n",
      "2*4 = 8\n",
      "2*5 = 10\n",
      "2*6 = 12\n",
      "2*7 = 14\n",
      "2*8 = 16\n",
      "2*9 = 18\n",
      "3*1 = 3\n",
      "3*2 = 6\n",
      "3*3 = 9\n",
      "3*4 = 12\n",
      "3*5 = 15\n",
      "3*6 = 18\n",
      "3*7 = 21\n",
      "3*8 = 24\n",
      "3*9 = 27\n",
      "4*1 = 4\n",
      "4*2 = 8\n",
      "4*3 = 12\n",
      "4*4 = 16\n",
      "4*5 = 20\n",
      "4*6 = 24\n",
      "4*7 = 28\n",
      "4*8 = 32\n",
      "4*9 = 36\n",
      "5*1 = 5\n",
      "5*2 = 10\n",
      "5*3 = 15\n",
      "5*4 = 20\n",
      "5*5 = 25\n",
      "5*6 = 30\n",
      "5*7 = 35\n",
      "5*8 = 40\n",
      "5*9 = 45\n",
      "6*1 = 6\n",
      "6*2 = 12\n",
      "6*3 = 18\n",
      "6*4 = 24\n",
      "6*5 = 30\n",
      "6*6 = 36\n",
      "6*7 = 42\n",
      "6*8 = 48\n",
      "6*9 = 54\n",
      "7*1 = 7\n",
      "7*2 = 14\n",
      "7*3 = 21\n",
      "7*4 = 28\n",
      "7*5 = 35\n",
      "7*6 = 42\n",
      "7*7 = 49\n",
      "7*8 = 56\n",
      "7*9 = 63\n",
      "8*1 = 8\n",
      "8*2 = 16\n",
      "8*3 = 24\n",
      "8*4 = 32\n",
      "8*5 = 40\n",
      "8*6 = 48\n",
      "8*7 = 56\n",
      "8*8 = 64\n",
      "8*9 = 72\n",
      "9*1 = 9\n",
      "9*2 = 18\n",
      "9*3 = 27\n",
      "9*4 = 36\n",
      "9*5 = 45\n",
      "9*6 = 54\n",
      "9*7 = 63\n",
      "9*8 = 72\n",
      "9*9 = 81\n"
     ]
    }
   ],
   "source": [
    "# 2중 for 문\n",
    "# 구구단\n",
    "\n",
    "# 2X1 ... 2X9\n",
    "\n",
    "for i in range(2, 10):\n",
    "    for j in range(1, 10):\n",
    "        print(f'{i}*{j} = {i*j}')"
   ]
  },
  {
   "cell_type": "code",
   "execution_count": 40,
   "id": "cd2c7224-fa55-4436-8e3f-9049e0bf3963",
   "metadata": {},
   "outputs": [
    {
     "data": {
      "text/plain": [
       "[[1, 2, 3], [4, 5, 6], [7, 8, 9]]"
      ]
     },
     "execution_count": 40,
     "metadata": {},
     "output_type": "execute_result"
    }
   ],
   "source": [
    "matrix = [[1, 2, 3], \n",
    "          [4, 5, 6], \n",
    "          [7, 8, 9]]\n",
    "matrix"
   ]
  },
  {
   "cell_type": "code",
   "execution_count": 41,
   "id": "4c033154-f56c-44da-af01-4595d76aefc9",
   "metadata": {},
   "outputs": [],
   "source": [
    "test_li = [1, 2, [3, 4]]\n"
   ]
  },
  {
   "cell_type": "code",
   "execution_count": 42,
   "id": "8236c116-9a53-4b24-adb6-0b84abb5ced5",
   "metadata": {},
   "outputs": [
    {
     "data": {
      "text/plain": [
       "3"
      ]
     },
     "execution_count": 42,
     "metadata": {},
     "output_type": "execute_result"
    }
   ],
   "source": [
    "test_li[2][0]"
   ]
  },
  {
   "cell_type": "code",
   "execution_count": 51,
   "id": "04d751de-79b0-430a-b564-18ab4fb24453",
   "metadata": {},
   "outputs": [
    {
     "name": "stdout",
     "output_type": "stream",
     "text": [
      "1 2 3\n",
      "4 5 6\n",
      "7 8 9\n"
     ]
    }
   ],
   "source": [
    "for i in matrix:\n",
    "    print(i[0], i[1], i[2])"
   ]
  },
  {
   "cell_type": "code",
   "execution_count": 57,
   "id": "61c51a27-6b38-4194-a734-c3db9c0d4f34",
   "metadata": {},
   "outputs": [
    {
     "name": "stdout",
     "output_type": "stream",
     "text": [
      "1 2 3 \n",
      "4 5 6 \n",
      "7 8 9 \n"
     ]
    }
   ],
   "source": [
    "## 강사님\n",
    "\n",
    "for row in matrix:\n",
    "    for element in row:\n",
    "        print(element, end = ' ')\n",
    "    print()   "
   ]
  },
  {
   "cell_type": "code",
   "execution_count": 59,
   "id": "d01ea65e-fc33-4e06-bff7-fa3a66e0d439",
   "metadata": {},
   "outputs": [
    {
     "name": "stdout",
     "output_type": "stream",
     "text": [
      "2*1 = 2\t3*1 = 3\t4*1 = 4\t5*1 = 5\t6*1 = 6\t7*1 = 7\t8*1 = 8\t9*1 = 9\t\n",
      "2*2 = 4\t3*2 = 6\t4*2 = 8\t5*2 = 10\t6*2 = 12\t7*2 = 14\t8*2 = 16\t9*2 = 18\t\n",
      "2*3 = 6\t3*3 = 9\t4*3 = 12\t5*3 = 15\t6*3 = 18\t7*3 = 21\t8*3 = 24\t9*3 = 27\t\n",
      "2*4 = 8\t3*4 = 12\t4*4 = 16\t5*4 = 20\t6*4 = 24\t7*4 = 28\t8*4 = 32\t9*4 = 36\t\n",
      "2*5 = 10\t3*5 = 15\t4*5 = 20\t5*5 = 25\t6*5 = 30\t7*5 = 35\t8*5 = 40\t9*5 = 45\t\n",
      "2*6 = 12\t3*6 = 18\t4*6 = 24\t5*6 = 30\t6*6 = 36\t7*6 = 42\t8*6 = 48\t9*6 = 54\t\n",
      "2*7 = 14\t3*7 = 21\t4*7 = 28\t5*7 = 35\t6*7 = 42\t7*7 = 49\t8*7 = 56\t9*7 = 63\t\n",
      "2*8 = 16\t3*8 = 24\t4*8 = 32\t5*8 = 40\t6*8 = 48\t7*8 = 56\t8*8 = 64\t9*8 = 72\t\n",
      "2*9 = 18\t3*9 = 27\t4*9 = 36\t5*9 = 45\t6*9 = 54\t7*9 = 63\t8*9 = 72\t9*9 = 81\t\n"
     ]
    }
   ],
   "source": [
    "for num2 in range(1, 10):\n",
    "    for num1 in range(2, 10):\n",
    "        print(f'{num1}*{num2} = {num1*num2}', end = '\\t')\n",
    "    print()    "
   ]
  },
  {
   "cell_type": "code",
   "execution_count": 61,
   "id": "cd7c90b8-71a7-46f8-9d9a-c50e8d934abe",
   "metadata": {},
   "outputs": [
    {
     "name": "stdout",
     "output_type": "stream",
     "text": [
      "python\n",
      "python\n",
      "python\n"
     ]
    }
   ],
   "source": [
    "# 사용되지 않지만, 선언이 되어야 하는 변수명은 _로 사용\n",
    "# 식별자가 중복되지 않도록 하기 위해서\n",
    "ls = [1, 2, 3]\n",
    "\n",
    "for _ in ls:\n",
    "    print('python')"
   ]
  },
  {
   "cell_type": "markdown",
   "id": "953bac1e-a812-45ae-9616-73dbbb28bc41",
   "metadata": {},
   "source": [
    "## 3. list comprehension\n",
    "- 리스트 데이터를 만드는 문법"
   ]
  },
  {
   "cell_type": "code",
   "execution_count": 62,
   "id": "8d3ba37a-d862-4a99-838d-2cedc5e7c90b",
   "metadata": {},
   "outputs": [],
   "source": [
    "ls = [1, 3, 6, 9, 12, 15, 18] "
   ]
  },
  {
   "cell_type": "code",
   "execution_count": 67,
   "id": "ceb7083d-c795-4f9c-9ec0-d26eca8879e7",
   "metadata": {},
   "outputs": [
    {
     "name": "stdout",
     "output_type": "stream",
     "text": [
      "CPU times: user 41 µs, sys: 5 µs, total: 46 µs\n",
      "Wall time: 51.5 µs\n"
     ]
    },
    {
     "data": {
      "text/plain": [
       "[1, 9, 36, 81, 144, 225, 324]"
      ]
     },
     "execution_count": 67,
     "metadata": {},
     "output_type": "execute_result"
    }
   ],
   "source": [
    "%%time\n",
    "result = []\n",
    "for value in ls:\n",
    "    result.append(value ** 2)\n",
    "result"
   ]
  },
  {
   "cell_type": "code",
   "execution_count": 68,
   "id": "bc689958-7f6f-42d1-a9d0-d4ea088748c3",
   "metadata": {},
   "outputs": [
    {
     "name": "stdout",
     "output_type": "stream",
     "text": [
      "CPU times: user 66 µs, sys: 9 µs, total: 75 µs\n",
      "Wall time: 83.9 µs\n"
     ]
    },
    {
     "data": {
      "text/plain": [
       "[1, 9, 36, 81, 144, 225, 324]"
      ]
     },
     "execution_count": 68,
     "metadata": {},
     "output_type": "execute_result"
    }
   ],
   "source": [
    "%%time\n",
    "result = [value ** 2 for value in ls]\n",
    "result"
   ]
  },
  {
   "cell_type": "code",
   "execution_count": 69,
   "id": "d7a508bd-ff3b-4640-b15c-255ef30da996",
   "metadata": {},
   "outputs": [],
   "source": [
    "words = ['apple', 'banna', 'orange', 'grape', 'kiwi']"
   ]
  },
  {
   "cell_type": "code",
   "execution_count": 71,
   "id": "a0838935-e092-4beb-956e-cf9196e3d731",
   "metadata": {},
   "outputs": [
    {
     "data": {
      "text/plain": [
       "['apple', 'banna', 'orange', 'grape']"
      ]
     },
     "execution_count": 71,
     "metadata": {},
     "output_type": "execute_result"
    }
   ],
   "source": [
    "# 문자열 길이가 5 이상인 값만 result = [] 저장\n",
    "\n",
    "result = []\n",
    "\n",
    "for word in words:\n",
    "    if len(word) >= 5:\n",
    "        result.append(word)\n",
    "\n",
    "result\n",
    "        "
   ]
  },
  {
   "cell_type": "code",
   "execution_count": 72,
   "id": "9705c637-99a1-4cb6-96d3-b7fefd57735c",
   "metadata": {},
   "outputs": [
    {
     "data": {
      "text/plain": [
       "['apple', 'banna', 'orange', 'grape']"
      ]
     },
     "execution_count": 72,
     "metadata": {},
     "output_type": "execute_result"
    }
   ],
   "source": [
    "new_word = [word for word in words if len(word) >= 5]\n",
    "new_word"
   ]
  },
  {
   "cell_type": "code",
   "execution_count": 74,
   "id": "f4a87379-6e1e-4f1e-9f0f-c1618d061538",
   "metadata": {},
   "outputs": [
    {
     "data": {
      "text/plain": [
       "(True, False)"
      ]
     },
     "execution_count": 74,
     "metadata": {},
     "output_type": "execute_result"
    }
   ],
   "source": [
    "isinstance(1, int), isinstance(1, str)"
   ]
  },
  {
   "cell_type": "code",
   "execution_count": 75,
   "id": "d646984c-2138-4c07-8c6b-f2c526168c2d",
   "metadata": {},
   "outputs": [],
   "source": [
    "datas = [1, 2, 'apple', 3.14, 'banna', 4, 6.7, [1,2,3], {'name':'car'}]"
   ]
  },
  {
   "cell_type": "code",
   "execution_count": 76,
   "id": "109f355d-d740-418e-8167-d2feb2cbf284",
   "metadata": {},
   "outputs": [
    {
     "data": {
      "text/plain": [
       "[1, 2, 4]"
      ]
     },
     "execution_count": 76,
     "metadata": {},
     "output_type": "execute_result"
    }
   ],
   "source": [
    "# 리스트에서 정수 데이터만 뽑아서 저장해주세요\n",
    "result = []\n",
    "\n",
    "for data in datas:\n",
    "    if isinstance(data, int):\n",
    "        result.append(data)\n",
    "result        "
   ]
  },
  {
   "cell_type": "code",
   "execution_count": 78,
   "id": "70467f38-c4af-40a5-9a25-baeafe7cb25a",
   "metadata": {},
   "outputs": [
    {
     "data": {
      "text/plain": [
       "[1, 2, 4]"
      ]
     },
     "execution_count": 78,
     "metadata": {},
     "output_type": "execute_result"
    }
   ],
   "source": [
    "## 강사님\n",
    "\n",
    "result = [data for data in datas if isinstance(data, int)]\n",
    "result"
   ]
  },
  {
   "cell_type": "code",
   "execution_count": 109,
   "id": "d7a0917c-acf4-497a-b97b-80534828aa53",
   "metadata": {},
   "outputs": [],
   "source": [
    "# 3 by 3 행렬 데이터\n",
    "\n",
    "matrix = [[1, 2, 3],\n",
    "          [4, 5, 6],\n",
    "          [7, 8, 9]]"
   ]
  },
  {
   "cell_type": "code",
   "execution_count": 95,
   "id": "c120428a-1049-41e2-814b-9056c5f0da98",
   "metadata": {},
   "outputs": [
    {
     "data": {
      "text/plain": [
       "array([[1, 2, 3],\n",
       "       [4, 5, 6],\n",
       "       [7, 8, 9]])"
      ]
     },
     "execution_count": 95,
     "metadata": {},
     "output_type": "execute_result"
    }
   ],
   "source": [
    "import numpy as np\n",
    "\n",
    "mat = np.array(matrix)\n",
    "mat"
   ]
  },
  {
   "cell_type": "code",
   "execution_count": 93,
   "id": "594caf04-7c15-4204-98e7-067bfc56ef5c",
   "metadata": {},
   "outputs": [
    {
     "data": {
      "text/plain": [
       "array([[1, 4, 7],\n",
       "       [2, 5, 8],\n",
       "       [3, 6, 9]])"
      ]
     },
     "execution_count": 93,
     "metadata": {},
     "output_type": "execute_result"
    }
   ],
   "source": [
    "mat.T"
   ]
  },
  {
   "cell_type": "code",
   "execution_count": 108,
   "id": "49e0647a-70ff-4604-bc91-c9a61164ae61",
   "metadata": {},
   "outputs": [
    {
     "data": {
      "text/plain": [
       "[[1, 4, 7], [2, 5, 8], [3, 6, 9]]"
      ]
     },
     "execution_count": 108,
     "metadata": {},
     "output_type": "execute_result"
    }
   ],
   "source": [
    "transposed = []\n",
    "for row in mat.T:\n",
    "    transposed.append(list(row))\n",
    "transposed"
   ]
  },
  {
   "cell_type": "code",
   "execution_count": 107,
   "id": "afdcfd6e-8a80-42cb-9864-fe4c58716c8c",
   "metadata": {},
   "outputs": [
    {
     "data": {
      "text/plain": [
       "[[1, 4, 7], [2, 5, 8], [3, 6, 9]]"
      ]
     },
     "execution_count": 107,
     "metadata": {},
     "output_type": "execute_result"
    }
   ],
   "source": [
    "transposed = [list(i) for i in mat_t]\n",
    "transposed"
   ]
  },
  {
   "cell_type": "code",
   "execution_count": 1,
   "id": "c4008bab-e3ae-4230-a077-3c2352634763",
   "metadata": {},
   "outputs": [
    {
     "data": {
      "text/plain": [
       "['three', 'five']"
      ]
     },
     "execution_count": 1,
     "metadata": {},
     "output_type": "execute_result"
    }
   ],
   "source": [
    "test_li = ['one-test', 'two home', 'three,five']\n",
    "test_li[2].split(',')"
   ]
  },
  {
   "cell_type": "code",
   "execution_count": 2,
   "id": "66e8d749-e0d4-48aa-a62b-be646dff1a75",
   "metadata": {},
   "outputs": [],
   "source": [
    "datas = [\n",
    "    'kim test', \n",
    "    'cho python', \n",
    "    'min data', \n",
    "    'Kim jupyter', \n",
    "    'jung notebook', \n",
    "    'KIM vscode'\n",
    "]"
   ]
  },
  {
   "cell_type": "code",
   "execution_count": 3,
   "id": "2d3dfb65-7bff-45ed-9322-a38c9baf6038",
   "metadata": {},
   "outputs": [
    {
     "data": {
      "text/plain": [
       "False"
      ]
     },
     "execution_count": 3,
     "metadata": {},
     "output_type": "execute_result"
    }
   ],
   "source": [
    "datas[0].split()[0] != 'kim'"
   ]
  },
  {
   "cell_type": "code",
   "execution_count": 4,
   "id": "9a28a67f-4ff6-4041-813a-513c0b769958",
   "metadata": {},
   "outputs": [],
   "source": [
    "# 1. kim 씨 성을 가진 사람을 제외한 나머지 사람의 이름만 리스트로 출력\n",
    "# [python, data, notebook]\n",
    "\n",
    "kims = []\n",
    "# [python, data, notebook]"
   ]
  },
  {
   "cell_type": "code",
   "execution_count": 5,
   "id": "c0831d3a-7137-4d51-a5d1-30cbf3d9a062",
   "metadata": {},
   "outputs": [
    {
     "data": {
      "text/plain": [
       "['python', 'data', 'notebook']"
      ]
     },
     "execution_count": 5,
     "metadata": {},
     "output_type": "execute_result"
    }
   ],
   "source": [
    "kims = [] \n",
    "\n",
    "for data in datas:\n",
    "    if data.split()[0].lower() != 'kim':\n",
    "        kims.append(data.split()[1])\n",
    "\n",
    "kims"
   ]
  },
  {
   "cell_type": "code",
   "execution_count": 6,
   "id": "6141c416-c0a5-4fec-b48f-34b337cba1c3",
   "metadata": {},
   "outputs": [
    {
     "data": {
      "text/plain": [
       "['python', 'data', 'notebook']"
      ]
     },
     "execution_count": 6,
     "metadata": {},
     "output_type": "execute_result"
    }
   ],
   "source": [
    "kims = [data.split()[1] for data in datas if data.split()[0].lower() != 'kim'] \n",
    "kims"
   ]
  },
  {
   "cell_type": "code",
   "execution_count": 7,
   "id": "b36dd99a-0b6e-4844-bb38-2369b081d046",
   "metadata": {},
   "outputs": [],
   "source": [
    "# 2. kim 씨 성을 가진 사람을 제외하고 나머지 사람 출력\n",
    "# 단, cho 씨 성을 가진 사람만 성을 제외한 이름만 출력\n",
    "# [python, min data, jung notebook]\n",
    "\n",
    "no_kims = [] \n",
    "# [python, min data, jung notebook]"
   ]
  },
  {
   "cell_type": "code",
   "execution_count": 9,
   "id": "7042ad9a-f349-4f5a-8578-b333d217454a",
   "metadata": {},
   "outputs": [
    {
     "data": {
      "text/plain": [
       "['python', 'min data', 'jung notebook']"
      ]
     },
     "execution_count": 9,
     "metadata": {},
     "output_type": "execute_result"
    }
   ],
   "source": [
    "no_kims = [] \n",
    "\n",
    "for data in datas:\n",
    "    if data.split()[0].lower() != 'kim':\n",
    "       no_kims.append(data.split()[1] if data.split()[0] == 'cho' else data)\n",
    "\n",
    "no_kims"
   ]
  },
  {
   "cell_type": "code",
   "execution_count": 10,
   "id": "0fadf660-0875-4781-8d83-8d98938dce92",
   "metadata": {},
   "outputs": [
    {
     "data": {
      "text/plain": [
       "['python', 'min data', 'jung notebook']"
      ]
     },
     "execution_count": 10,
     "metadata": {},
     "output_type": "execute_result"
    }
   ],
   "source": [
    "no_kims = [\n",
    "    data.split()[1] if data.split()[0] == 'cho' else data \n",
    "    for data in datas \n",
    "    if data.split()[0].lower() != 'kim'\n",
    "]\n",
    "\n",
    "no_kims"
   ]
  },
  {
   "cell_type": "code",
   "execution_count": null,
   "id": "2068e900-31e1-4741-8e57-15c1c2609fc1",
   "metadata": {},
   "outputs": [],
   "source": []
  }
 ],
 "metadata": {
  "kernelspec": {
   "display_name": "Python 3 (ipykernel)",
   "language": "python",
   "name": "python3"
  },
  "language_info": {
   "codemirror_mode": {
    "name": "ipython",
    "version": 3
   },
   "file_extension": ".py",
   "mimetype": "text/x-python",
   "name": "python",
   "nbconvert_exporter": "python",
   "pygments_lexer": "ipython3",
   "version": "3.10.12"
  }
 },
 "nbformat": 4,
 "nbformat_minor": 5
}
