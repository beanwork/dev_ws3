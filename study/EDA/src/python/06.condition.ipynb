{
 "cells": [
  {
   "cell_type": "markdown",
   "id": "1ab73fa3-787a-4892-8eeb-d628a3decb52",
   "metadata": {},
   "source": [
    "# 조건문 (condition)"
   ]
  },
  {
   "cell_type": "markdown",
   "id": "67cd3c0a-2e90-49e7-87fa-7d84a7689b4d",
   "metadata": {},
   "source": [
    "## 1. if else elif\n",
    "- 특정 조건에 따라서 코드를 실행하고자 할 때 사용\n",
    "- if else elif"
   ]
  },
  {
   "cell_type": "markdown",
   "id": "1e292e9a-ed96-44a0-a354-fdc3e220a12d",
   "metadata": {},
   "source": [
    "```python\n",
    "if condition: # True 이면 코드 실행\n",
    "    code\n",
    "```"
   ]
  },
  {
   "cell_type": "code",
   "execution_count": 3,
   "id": "12a45afb-4d62-4b3f-b8f5-bf6b67cea440",
   "metadata": {},
   "outputs": [
    {
     "name": "stdout",
     "output_type": "stream",
     "text": [
      "True 이면 들여쓰기 안에 있는 코드를 실행합니다\n"
     ]
    }
   ],
   "source": [
    "# 조건 부분 : bool 데이터 타입 이외의 데이터 타입이 오면 bool 형 변환\n",
    "if True:\n",
    "    print('True 이면 들여쓰기 안에 있는 코드를 실행합니다')"
   ]
  },
  {
   "cell_type": "code",
   "execution_count": 4,
   "id": "33022176-2c98-4451-aad7-7a201a13be5e",
   "metadata": {},
   "outputs": [
    {
     "name": "stdout",
     "output_type": "stream",
     "text": [
      "False 이면 if 문 밖에 있는 코드를 실행합니다\n"
     ]
    }
   ],
   "source": [
    "if False:\n",
    "    print('True 이면 들여쓰기 안에 있는 코드를 실행합니다')\n",
    "print('False 이면 if 문 밖에 있는 코드를 실행합니다')    "
   ]
  },
  {
   "cell_type": "code",
   "execution_count": 9,
   "id": "a6801a98-8891-4ed9-b262-9bb339cfb257",
   "metadata": {},
   "outputs": [
    {
     "data": {
      "text/plain": [
       "(False, True, True, True)"
      ]
     },
     "execution_count": 9,
     "metadata": {},
     "output_type": "execute_result"
    }
   ],
   "source": [
    "# int: 0을 제외한 나머지 값은 모두 True\n",
    "\n",
    "bool(0), bool(1), bool(2), bool(10)"
   ]
  },
  {
   "cell_type": "code",
   "execution_count": 12,
   "id": "f063c6c7-09d3-499d-8e4c-cbeda8516a3a",
   "metadata": {},
   "outputs": [
    {
     "data": {
      "text/plain": [
       "(False, False, False, True)"
      ]
     },
     "execution_count": 12,
     "metadata": {},
     "output_type": "execute_result"
    }
   ],
   "source": [
    "bool([]), bool({}), bool(()), bool([1])"
   ]
  },
  {
   "cell_type": "code",
   "execution_count": 16,
   "id": "003a5bca-00be-4d0a-9ea5-28f8d8f5ef1d",
   "metadata": {},
   "outputs": [
    {
     "name": "stdout",
     "output_type": "stream",
     "text": [
      "True or False?\n",
      "false\n"
     ]
    }
   ],
   "source": [
    "num = 1\n",
    "\n",
    "if num:\n",
    "    print('True or False?')\n",
    "print('false')"
   ]
  },
  {
   "cell_type": "code",
   "execution_count": 17,
   "id": "b13f8eb5-a546-4c22-b3ad-f2b058a0855d",
   "metadata": {},
   "outputs": [
    {
     "name": "stdout",
     "output_type": "stream",
     "text": [
      "True or False?\n"
     ]
    }
   ],
   "source": [
    "number = 7\n",
    "\n",
    "if number % 2:\n",
    "    print('True or False?')"
   ]
  },
  {
   "cell_type": "code",
   "execution_count": 18,
   "id": "90f4a934-4ed1-4bf7-88d6-3c171c36ea8b",
   "metadata": {},
   "outputs": [],
   "source": [
    "# int: 0을 제외한 나머지는 True\n",
    "# float: 0.0을 제외한 나머지는 True\n",
    "# str : '' , \"\"을 제외한 나머지는 True\n",
    "# list, tuple, dict: [], (), {}을 제외한 나머지는 True"
   ]
  },
  {
   "cell_type": "code",
   "execution_count": 19,
   "id": "9be34f10-c187-4019-8777-81eaf8b5d09f",
   "metadata": {},
   "outputs": [
    {
     "data": {
      "text/plain": [
       "(False, False, False, False)"
      ]
     },
     "execution_count": 19,
     "metadata": {},
     "output_type": "execute_result"
    }
   ],
   "source": [
    "bool(\"\"), bool(0.0), bool(0), bool([])"
   ]
  },
  {
   "cell_type": "code",
   "execution_count": 20,
   "id": "e23381cf-99ea-4a60-b64c-0579e5e3aac6",
   "metadata": {},
   "outputs": [],
   "source": [
    "# 지갑에 돈이 10000원 이상 있으면 택시를 타고\n",
    "# 그렇지 않으면 걸어서 집에 갑니다."
   ]
  },
  {
   "cell_type": "code",
   "execution_count": 21,
   "id": "a3fac204-9448-46cd-a5f7-34962350e403",
   "metadata": {},
   "outputs": [],
   "source": [
    "money = 12000"
   ]
  },
  {
   "cell_type": "code",
   "execution_count": 23,
   "id": "5da9089c-6a1b-4e16-b29b-cb9d22786736",
   "metadata": {},
   "outputs": [
    {
     "name": "stdout",
     "output_type": "stream",
     "text": [
      "택시를 타고 집에 갑니다.\n"
     ]
    }
   ],
   "source": [
    "if money >= 10000:\n",
    "    print('택시를 타고 집에 갑니다.')\n",
    "\n",
    "if money < 10000:\n",
    "    print('절어서 집에 갑니다')"
   ]
  },
  {
   "cell_type": "code",
   "execution_count": 24,
   "id": "57c3938b-fa06-42b8-aaca-963d751658f3",
   "metadata": {},
   "outputs": [
    {
     "name": "stdout",
     "output_type": "stream",
     "text": [
      "택시를 타고 집에 갑니다.\n"
     ]
    }
   ],
   "source": [
    "if money >= 10000:\n",
    "    print('택시를 타고 집에 갑니다.')\n",
    "else:\n",
    "    print('걸어서 집에 갑니다')"
   ]
  },
  {
   "cell_type": "code",
   "execution_count": 25,
   "id": "977c0655-083b-4809-bc64-1599ad424936",
   "metadata": {},
   "outputs": [],
   "source": [
    "# 지갑에 돈이 10000원 이상 있으면 택시를 탑니다.\n",
    "# 2000원 이상 10000원 미만이면 버스를 탑니다.\n",
    "# 그렇지 않으면 걸어서 집에 갑니다."
   ]
  },
  {
   "cell_type": "code",
   "execution_count": 26,
   "id": "be7c08f3-a0d2-4f47-8372-16d1413ece78",
   "metadata": {},
   "outputs": [],
   "source": [
    "money = 5000"
   ]
  },
  {
   "cell_type": "code",
   "execution_count": 28,
   "id": "3e3e398b-5dcf-440e-9ef0-8732d605952b",
   "metadata": {},
   "outputs": [
    {
     "name": "stdout",
     "output_type": "stream",
     "text": [
      "버스를 탑니다\n"
     ]
    }
   ],
   "source": [
    "if money >= 10000:\n",
    "    print('택시를 타고 집에 갑니다.')\n",
    "    \n",
    "elif money >= 2000:\n",
    "    print('버스를 탑니다')\n",
    "\n",
    "else:\n",
    "    print('걸어서 집에 갑니다.')"
   ]
  },
  {
   "cell_type": "code",
   "execution_count": 30,
   "id": "7b179092-ce38-438f-a74b-101376a53af7",
   "metadata": {},
   "outputs": [
    {
     "name": "stdout",
     "output_type": "stream",
     "text": [
      "걸어서 집에 갑니다\n"
     ]
    }
   ],
   "source": [
    "money = 1000\n",
    "\n",
    "if money > 10000:\n",
    "    print('모범 택시를 타고 집에 갑니다')\n",
    "elif money >= 5000:\n",
    "    print('광역 버스를 타고 집에 갑니다.')\n",
    "elif money >= 2000:\n",
    "    print('일반 버스를 타고 집에 갑니다.')\n",
    "else:\n",
    "    print('걸어서 집에 갑니다')"
   ]
  },
  {
   "cell_type": "code",
   "execution_count": 31,
   "id": "9214da92-4195-477a-a410-57f9a75f818d",
   "metadata": {},
   "outputs": [],
   "source": [
    "# 계좌에 10000원이 있습니다.\n",
    "# 인출 금액을 입력 받습니다. input()\n",
    "# 인출 금액이 계좌에 있는 금액보다 크면 '인출이 불가능합니다' 출력\n",
    "# 인출금액이 계좌에 있는 금액보다 작으면 '인출 되었습니다' 출력\n",
    "# 마지막에 현재 계좌의 잔액을 출력"
   ]
  },
  {
   "cell_type": "code",
   "execution_count": 32,
   "id": "1aaed540-f305-4d01-b5a0-ca01a73923fa",
   "metadata": {},
   "outputs": [],
   "source": [
    "# draw money : 3000\n",
    "# 3000원 인출 되었습니다.\n",
    "# 현재 잔액은 7000원 입니다."
   ]
  },
  {
   "cell_type": "code",
   "execution_count": 36,
   "id": "d69d0a66-f565-49d8-940f-088819bf6102",
   "metadata": {},
   "outputs": [
    {
     "name": "stdin",
     "output_type": "stream",
     "text": [
      " 3000\n"
     ]
    },
    {
     "name": "stdout",
     "output_type": "stream",
     "text": [
      "인출 되었습니다\n",
      "현재 계좌의 잔액 :  7000\n"
     ]
    }
   ],
   "source": [
    "account = 10000\n",
    "\n",
    "money = int(input())\n",
    "\n",
    "if money > account:\n",
    "    print('인출이 불가능합니다')\n",
    "else:\n",
    "    print('인출 되었습니다')\n",
    "    print('현재 계좌의 잔액 : ' , account - money )"
   ]
  },
  {
   "cell_type": "code",
   "execution_count": 44,
   "id": "0a77179d-7bfe-4ffd-ae7f-0a3b015d25dc",
   "metadata": {},
   "outputs": [
    {
     "name": "stdin",
     "output_type": "stream",
     "text": [
      "draw money: 3333\n"
     ]
    },
    {
     "name": "stdout",
     "output_type": "stream",
     "text": [
      "3333이 인출 되었습니다.\n",
      "현재 잔액은6667원 입니다.\n"
     ]
    }
   ],
   "source": [
    "## 강사님 \n",
    "account = 10000;\n",
    "\n",
    "draw_money = int(input('draw money:'))\n",
    "\n",
    "if account >= draw_money:\n",
    "    account -= draw_money\n",
    "    print( str(draw_money) + '이 인출 되었습니다.')\n",
    "else:\n",
    "    print('인출이 불가능합니다' + str(draw_money- account) + '원의 잔액이 부족합니다.')\n",
    "\n",
    "print('현재 잔액은' + str(account) + '원 입니다.')"
   ]
  },
  {
   "cell_type": "code",
   "execution_count": 45,
   "id": "a9121f86-476f-4a6e-ac81-49e7b65f5cd7",
   "metadata": {},
   "outputs": [],
   "source": [
    "# 문자열 포맷팅\n",
    "# format()"
   ]
  },
  {
   "cell_type": "code",
   "execution_count": 46,
   "id": "8b534797-044c-4df0-94bc-fd38a208b466",
   "metadata": {},
   "outputs": [],
   "source": [
    "account = 10000\n",
    "draw_money = 5000\n"
   ]
  },
  {
   "cell_type": "code",
   "execution_count": 53,
   "id": "b2e09e16-da64-4457-8372-1f35c5a51461",
   "metadata": {},
   "outputs": [
    {
     "name": "stdout",
     "output_type": "stream",
     "text": [
      "현재 잔액은10000원 입니다.\n",
      "현재 잔액은 10000원 입니다.\n",
      "현재 잔액은 10000원 입니다. 그리고 인출금액은 5000원 입니다.\n",
      "현재 잔액은 5000원 입니다. 그리고 인출금액은 10000원 입니다.\n",
      "현재 잔액은 5000원 입니다. 그리고 인출금액은 10000원 입니다.\n"
     ]
    }
   ],
   "source": [
    "print('현재 잔액은' + str(account) + '원 입니다.')\n",
    "print('현재 잔액은 {}원 입니다.'.format(account))\n",
    "print('현재 잔액은 {}원 입니다. 그리고 인출금액은 {}원 입니다.'.format(account, draw_money))\n",
    "print('현재 잔액은 {}원 입니다. 그리고 인출금액은 {}원 입니다.'.format(draw_money, account))\n",
    "print('현재 잔액은 {data1}원 입니다. 그리고 인출금액은 {data2}원 입니다.'.format(data2 = account, data1 = draw_money))"
   ]
  },
  {
   "cell_type": "code",
   "execution_count": 57,
   "id": "ddb270a9-d3d9-47d2-9de6-e07bfb575902",
   "metadata": {},
   "outputs": [
    {
     "name": "stdout",
     "output_type": "stream",
     "text": [
      "현재 잔액은 10000원 입니다.\n",
      "현재 잔액은 10000원 입니다.\n",
      "현재 잔액은 10000원 입니다.\n"
     ]
    }
   ],
   "source": [
    "# c언어 스타일\n",
    "print('현재 잔액은 %d원 입니다.' %account)\n",
    "\n",
    "# 파이썬 스타일\n",
    "print('현재 잔액은 {}원 입니다.'.format(account))\n",
    "\n",
    "print(f'현재 잔액은 {account}원 입니다.') ## 파이썬이 추구하는 방식 >> "
   ]
  },
  {
   "cell_type": "markdown",
   "id": "2fda4ae0-f48e-4935-bdb3-94d02722b419",
   "metadata": {},
   "source": [
    "## 2. 삼항 연산자\n",
    "- 간단한 조건일 경우, if else 구문을 한 줄 코드로 표현할 수 있는 문법\n",
    "```python\n",
    "if money >= 10000 else (False)\n",
    "```"
   ]
  },
  {
   "cell_type": "code",
   "execution_count": 58,
   "id": "97a3f51f-a52b-443e-8092-1cc78371488a",
   "metadata": {},
   "outputs": [
    {
     "name": "stdout",
     "output_type": "stream",
     "text": [
      "zero or not zero??\n"
     ]
    }
   ],
   "source": [
    "data = 0\n",
    "\n",
    "if data:\n",
    "    print('zero or not zero?')\n",
    "else:\n",
    "    print('zero or not zero??')"
   ]
  },
  {
   "cell_type": "code",
   "execution_count": 60,
   "id": "bf3d46b0-5f5e-4f8e-9c6f-40fcf0598b85",
   "metadata": {},
   "outputs": [
    {
     "data": {
      "text/plain": [
       "'right'"
      ]
     },
     "execution_count": 60,
     "metadata": {},
     "output_type": "execute_result"
    }
   ],
   "source": [
    "'left' if data else 'right' "
   ]
  },
  {
   "cell_type": "code",
   "execution_count": null,
   "id": "908e5b98-b60a-4e3b-ada0-b7c0baccbfe8",
   "metadata": {},
   "outputs": [],
   "source": []
  }
 ],
 "metadata": {
  "kernelspec": {
   "display_name": "Python 3 (ipykernel)",
   "language": "python",
   "name": "python3"
  },
  "language_info": {
   "codemirror_mode": {
    "name": "ipython",
    "version": 3
   },
   "file_extension": ".py",
   "mimetype": "text/x-python",
   "name": "python",
   "nbconvert_exporter": "python",
   "pygments_lexer": "ipython3",
   "version": "3.10.12"
  }
 },
 "nbformat": 4,
 "nbformat_minor": 5
}
