{
 "cells": [
  {
   "cell_type": "markdown",
   "id": "12022282-90ec-45d3-b4c9-eb4af440d40c",
   "metadata": {},
   "source": [
    "# Jupyter Notebook"
   ]
  },
  {
   "cell_type": "markdown",
   "id": "f3d70ea7-1c2c-4fce-a03b-570072728b1d",
   "metadata": {},
   "source": [
    "- cell 단위로 이루어져 있습니다.\n",
    "    - cell 단위로 코드를 실행 >> interpreter 방식!!\n",
    "      \n",
    "- mode\n",
    "     - 명령모드 : 셀을 수정할 때 사용\n",
    "     - 편집모드 : 셀의 내용을 수정할 때 사용\n",
    "       \n",
    "- cell_type\n",
    "     - code : cell을 python 문법으로 실행\n",
    "     - markdown : cell을 markdown 문법으로 실행\n",
    "       \n",
    "- 자주 쓰는 단축키\n",
    "     - 코드 실행: shift + enter\n",
    "     - 명령 모드:\n",
    "         - 위에 새로운 셀 생성 :a\n",
    "        - 아래는 : b\n",
    "          - 현재 셀 삭제: x\n",
    "          - type을 markdown으로 변경 : m\n",
    "          - code로 변경 : y\n",
    "  "
   ]
  },
  {
   "cell_type": "markdown",
   "id": "a65939ef-08de-47f9-b0c3-c33dc2797a72",
   "metadata": {},
   "source": [
    "# shell command\n",
    "- terminal 실행 명령어\n",
    "- linux 명령어"
   ]
  },
  {
   "cell_type": "code",
   "execution_count": 2,
   "id": "ee006abd-c009-427b-a8a4-f47cf08a9b02",
   "metadata": {},
   "outputs": [
    {
     "name": "stdout",
     "output_type": "stream",
     "text": [
      " 00_markdown.ipynb   01_jupyternotebook.ipynb  'markdown 실습.ipynb'\n"
     ]
    }
   ],
   "source": [
    "!ls"
   ]
  },
  {
   "cell_type": "markdown",
   "id": "dcd2b8a7-cd98-4450-b1ec-b6d814e2251d",
   "metadata": {},
   "source": [
    "# magic command\n",
    "- jupyter notebook에서 제공하는 명령과 기능"
   ]
  },
  {
   "cell_type": "code",
   "execution_count": 3,
   "id": "c26a0fc7-f53c-4d7d-a5f3-364c4ff66c3e",
   "metadata": {},
   "outputs": [
    {
     "name": "stdout",
     "output_type": "stream",
     "text": [
      " 00_markdown.ipynb   01_jupyternotebook.ipynb  'markdown 실습.ipynb'\n"
     ]
    }
   ],
   "source": [
    "ls"
   ]
  },
  {
   "cell_type": "code",
   "execution_count": 4,
   "id": "3ed9e78f-f0ca-4b22-824f-c60ae6cb933e",
   "metadata": {},
   "outputs": [
    {
     "data": {
      "text/plain": [
       "'/home/soomin/test_ws/education/python'"
      ]
     },
     "execution_count": 4,
     "metadata": {},
     "output_type": "execute_result"
    }
   ],
   "source": [
    "%pwd\n"
   ]
  },
  {
   "cell_type": "code",
   "execution_count": 5,
   "id": "2bc895d8-f669-4aa4-9d5a-afd1d27cb214",
   "metadata": {},
   "outputs": [
    {
     "name": "stdout",
     "output_type": "stream",
     "text": [
      "Interactive namespace is empty.\n"
     ]
    }
   ],
   "source": [
    "%whos"
   ]
  },
  {
   "cell_type": "code",
   "execution_count": 6,
   "id": "cb265653-a684-4023-8a10-6f69ae96bc93",
   "metadata": {},
   "outputs": [],
   "source": [
    "a = 1"
   ]
  },
  {
   "cell_type": "code",
   "execution_count": 7,
   "id": "ded6f05a-e901-461c-811a-45a928352a92",
   "metadata": {},
   "outputs": [
    {
     "name": "stdout",
     "output_type": "stream",
     "text": [
      "Variable   Type    Data/Info\n",
      "----------------------------\n",
      "a          int     1\n"
     ]
    }
   ],
   "source": [
    "%whos"
   ]
  },
  {
   "cell_type": "code",
   "execution_count": 8,
   "id": "714b54fa-c4dc-4e0a-b560-60a6339cc2ce",
   "metadata": {},
   "outputs": [
    {
     "name": "stdin",
     "output_type": "stream",
     "text": [
      "Once deleted, variables cannot be recovered. Proceed (y/[n])?  y\n"
     ]
    }
   ],
   "source": [
    "%reset"
   ]
  },
  {
   "cell_type": "markdown",
   "id": "c58a0a34-5056-4909-aff2-766627f44308",
   "metadata": {
    "scrolled": true
   },
   "source": [
    "##### %whos"
   ]
  },
  {
   "cell_type": "code",
   "execution_count": 13,
   "id": "031acf1f-b8dd-44ea-9000-972cc0a739d0",
   "metadata": {
    "scrolled": true
   },
   "outputs": [
    {
     "name": "stdout",
     "output_type": "stream",
     "text": [
      "CPU times: user 2 µs, sys: 0 ns, total: 2 µs\n",
      "Wall time: 5.48 µs\n",
      "0\n",
      "1\n",
      "2\n",
      "3\n",
      "4\n",
      "5\n",
      "6\n",
      "7\n",
      "8\n",
      "9\n"
     ]
    }
   ],
   "source": [
    "%time \n",
    "for i in range(10):\n",
    "    print(i)\n",
    "    "
   ]
  },
  {
   "cell_type": "code",
   "execution_count": null,
   "id": "c8e203b6-07ba-455d-9539-5daaff308fa3",
   "metadata": {},
   "outputs": [],
   "source": []
  }
 ],
 "metadata": {
  "kernelspec": {
   "display_name": "Python 3 (ipykernel)",
   "language": "python",
   "name": "python3"
  },
  "language_info": {
   "codemirror_mode": {
    "name": "ipython",
    "version": 3
   },
   "file_extension": ".py",
   "mimetype": "text/x-python",
   "name": "python",
   "nbconvert_exporter": "python",
   "pygments_lexer": "ipython3",
   "version": "3.10.12"
  }
 },
 "nbformat": 4,
 "nbformat_minor": 5
}
