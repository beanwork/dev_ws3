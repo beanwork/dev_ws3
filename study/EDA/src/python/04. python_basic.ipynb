{
 "cells": [
  {
   "cell_type": "markdown",
   "id": "4d0558a5-2fc9-4dbe-a982-0bc219bd0ab3",
   "metadata": {},
   "source": [
    "# 파이썬 문법"
   ]
  },
  {
   "cell_type": "markdown",
   "id": "fe5ae91c-782c-49e2-8d13-69e8ae8676fa",
   "metadata": {},
   "source": [
    "## 1. 주석 (commeny)"
   ]
  },
  {
   "cell_type": "code",
   "execution_count": 1,
   "id": "830c98f7-3cc1-4d00-9693-6901682091e3",
   "metadata": {},
   "outputs": [],
   "source": [
    "# 주석: 앞에 #을 붙이면 파이썬 코드로 실행하지 않습니다.\n",
    "# 코드에 대한 설명이나 실행시키고 싶지 않을 때 사용\n",
    "# ctrl + /"
   ]
  },
  {
   "cell_type": "code",
   "execution_count": 3,
   "id": "6a50a29a-fd5c-40c6-b3e4-bf828291ee62",
   "metadata": {},
   "outputs": [
    {
     "name": "stdout",
     "output_type": "stream",
     "text": [
      "1\n",
      "3\n"
     ]
    }
   ],
   "source": [
    "print(1)\n",
    "# print(2)\n",
    "print(3)"
   ]
  },
  {
   "cell_type": "markdown",
   "id": "df02f3f3-f08f-4c99-855c-a80261e2664c",
   "metadata": {},
   "source": [
    "## 2. print() 출력 함수"
   ]
  },
  {
   "cell_type": "code",
   "execution_count": 4,
   "id": "d60289ad-744b-49ea-81c3-a29ff2aee14b",
   "metadata": {},
   "outputs": [
    {
     "name": "stdout",
     "output_type": "stream",
     "text": [
      "2\n"
     ]
    }
   ],
   "source": [
    "a = 1\n",
    "b= 2\n",
    "\n",
    "print(b)"
   ]
  },
  {
   "cell_type": "code",
   "execution_count": 5,
   "id": "959f5d49-9645-48b8-8a15-28957f5e13a1",
   "metadata": {},
   "outputs": [
    {
     "name": "stdout",
     "output_type": "stream",
     "text": [
      "1\n"
     ]
    }
   ],
   "source": [
    "print(a)\n"
   ]
  },
  {
   "cell_type": "code",
   "execution_count": 11,
   "id": "524fae19-349f-42b8-bd9f-8742d4687437",
   "metadata": {},
   "outputs": [
    {
     "name": "stdout",
     "output_type": "stream",
     "text": [
      "1\t2\n",
      "2\n"
     ]
    }
   ],
   "source": [
    "# print 함수의 옵션\n",
    "# docstring \n",
    "# 함수에 대한 설명(shift + tab) >> 주피터 노트북에서만 쓸 수 있음\n",
    "\n",
    "print(1, 2, sep ='\\t')\n",
    "print(b , sep = ' ')"
   ]
  },
  {
   "cell_type": "code",
   "execution_count": 12,
   "id": "22da8dc9-e97f-436a-b212-f78fe39acd47",
   "metadata": {},
   "outputs": [
    {
     "name": "stdout",
     "output_type": "stream",
     "text": [
      "자동완성\n",
      "오타를 방지할 수 있습니다\n"
     ]
    }
   ],
   "source": [
    "print('자동완성')\n",
    "print('오타를 방지할 수 있습니다')"
   ]
  },
  {
   "cell_type": "markdown",
   "id": "69375df2-e7d3-425f-8f76-b496f6cc4cfe",
   "metadata": {},
   "source": [
    "## 3. 변수 선언\n",
    "- RAM 저장공간에 값을 할당"
   ]
  },
  {
   "cell_type": "code",
   "execution_count": 13,
   "id": "bb18eec9-7024-48a1-973f-2baee04ed5c9",
   "metadata": {},
   "outputs": [],
   "source": [
    "# 1 이라는 값을 a라는 변수에 할당한다 라는 의미로 읽어야 함\n",
    "a = 1"
   ]
  },
  {
   "cell_type": "code",
   "execution_count": 14,
   "id": "99f5a408-01a0-44b8-9f65-d8d2ec1e3c1b",
   "metadata": {},
   "outputs": [],
   "source": [
    "b = 2\n"
   ]
  },
  {
   "cell_type": "code",
   "execution_count": 15,
   "id": "9582bf86-8aa3-4a8e-83d3-58c4c548f46c",
   "metadata": {},
   "outputs": [
    {
     "name": "stdout",
     "output_type": "stream",
     "text": [
      "1 2\n"
     ]
    }
   ],
   "source": [
    "print(a , b)"
   ]
  },
  {
   "cell_type": "code",
   "execution_count": 16,
   "id": "e6065027-94ba-4de4-a9d9-ddd559794688",
   "metadata": {},
   "outputs": [
    {
     "name": "stdout",
     "output_type": "stream",
     "text": [
      "3 4\n"
     ]
    }
   ],
   "source": [
    "d , e =3 ,4\n",
    "print(d ,e)"
   ]
  },
  {
   "cell_type": "code",
   "execution_count": 17,
   "id": "df57b351-31fa-4250-ac96-3f386fa6e6c3",
   "metadata": {},
   "outputs": [
    {
     "name": "stdout",
     "output_type": "stream",
     "text": [
      "5 5\n"
     ]
    }
   ],
   "source": [
    "f = g = 5\n",
    "print ( f, g )"
   ]
  },
  {
   "cell_type": "markdown",
   "id": "d9b7ca82-d7cc-43c5-9c6b-f4176b148e64",
   "metadata": {},
   "source": [
    "print(z) \n"
   ]
  },
  {
   "cell_type": "code",
   "execution_count": 19,
   "id": "e629908a-e7d3-4f08-bc4f-5477678784bf",
   "metadata": {},
   "outputs": [
    {
     "ename": "SyntaxError",
     "evalue": "invalid syntax (3697851404.py, line 2)",
     "output_type": "error",
     "traceback": [
      "\u001b[0;36m  Cell \u001b[0;32mIn[19], line 2\u001b[0;36m\u001b[0m\n\u001b[0;31m    int a = 1\u001b[0m\n\u001b[0m        ^\u001b[0m\n\u001b[0;31mSyntaxError\u001b[0m\u001b[0;31m:\u001b[0m invalid syntax\n"
     ]
    }
   ],
   "source": [
    "# 정적 할당 \n",
    "int a = 1\n",
    "# 동적 할당\n",
    "a = 10\n",
    "type(a)"
   ]
  },
  {
   "cell_type": "markdown",
   "id": "34e827b1-bcd6-44e7-a6f0-1341c3822ecf",
   "metadata": {},
   "source": [
    "## 4. 식별자 \n",
    "- 변수, 함수, 클래스, 모듈 등의 이름을 식별자라고 합니다\n",
    "- 식별자 규칙\n",
    "    - 소문자, 대문자, _(언더 스코어), 숫자 사용\n",
    "    - 가장 앞에 숫자 사용 불가\n",
    "    - 예약어  사용 불가\n",
    "        - def, class, list, str, int float...\n",
    "    \n"
   ]
  },
  {
   "cell_type": "code",
   "execution_count": 22,
   "id": "7a0f30d5-d3b8-4670-99cd-2e7e02e92951",
   "metadata": {},
   "outputs": [],
   "source": [
    "# 가능한 형태\n",
    "name = 'john'\n",
    "age  =25\n",
    "my_vaar = 3.14\n",
    "hello_word = ' hello world'\n",
    "IsValid = True\n",
    "\n"
   ]
  },
  {
   "cell_type": "code",
   "execution_count": 25,
   "id": "dc1286bd-4837-4011-b795-bc9eeed4b612",
   "metadata": {},
   "outputs": [
    {
     "ename": "SyntaxError",
     "evalue": "invalid decimal literal (3922932968.py, line 4)",
     "output_type": "error",
     "traceback": [
      "\u001b[0;36m  Cell \u001b[0;32mIn[25], line 4\u001b[0;36m\u001b[0m\n\u001b[0;31m    2nd_number = 42\u001b[0m\n\u001b[0m    ^\u001b[0m\n\u001b[0;31mSyntaxError\u001b[0m\u001b[0;31m:\u001b[0m invalid decimal literal\n"
     ]
    }
   ],
   "source": [
    "# 불가능한 형태\n",
    "# 한글, 띄어쓰기, 특수문자 X\n",
    "2nd_number = 42\n",
    "hello world = 'hello world'\n"
   ]
  },
  {
   "cell_type": "code",
   "execution_count": 29,
   "id": "0011ff3a-06a5-4427-a905-69fcb4f25150",
   "metadata": {},
   "outputs": [
    {
     "name": "stdout",
     "output_type": "stream",
     "text": [
      "Interactive namespace is empty.\n"
     ]
    }
   ],
   "source": [
    "%whos\n",
    "## 내가 쓴 변수들의 데이터 타입을 확인할 수 있음"
   ]
  },
  {
   "cell_type": "code",
   "execution_count": 30,
   "id": "85c69ce1-d4fc-481a-81b3-ab927d7513f9",
   "metadata": {},
   "outputs": [
    {
     "name": "stdin",
     "output_type": "stream",
     "text": [
      "Once deleted, variables cannot be recovered. Proceed (y/[n])?  y\n"
     ]
    }
   ],
   "source": [
    "%reset"
   ]
  },
  {
   "cell_type": "code",
   "execution_count": 28,
   "id": "cd8da793-2dc2-432e-b803-f6b6df0027e7",
   "metadata": {},
   "outputs": [
    {
     "name": "stdout",
     "output_type": "stream",
     "text": [
      "Interactive namespace is empty.\n"
     ]
    }
   ],
   "source": [
    "%whos\n"
   ]
  },
  {
   "cell_type": "markdown",
   "id": "e5b6c19e-9bc2-46bb-8389-a07599f2e0cd",
   "metadata": {},
   "source": [
    "## 5. 데이터 타입\n",
    "- RAM 저장공간을 효율적으로 사용하기 위해서 데이터 타입을 설정\n",
    "- 동적 타이핑\n",
    "    - 변수 선언시 저장되는 값에 따라서 자동으로 데이터 타입 설정\n",
    "- 정적 타이핑\n",
    "    - 변수 선언시 데이터 타입을 직접 설정 후 할당"
   ]
  },
  {
   "cell_type": "markdown",
   "id": "fdfbc7d0-f8fe-4aec-a797-d2bbedaea667",
   "metadata": {},
   "source": [
    "- 데이터 타입\n",
    "     - int, float, bool, str\n",
    "     - list, tuple, dict"
   ]
  },
  {
   "cell_type": "code",
   "execution_count": 33,
   "id": "b5d46884-d3e1-4f11-a97a-2e84c6479a27",
   "metadata": {},
   "outputs": [],
   "source": [
    "a = 1\n",
    "b = 'python'\n",
    "c = '1'"
   ]
  },
  {
   "cell_type": "markdown",
   "id": "956bb924-8b6a-49ce-bea2-b71155b84de2",
   "metadata": {},
   "source": [
    "## 5 -1 . 기본 데이터 타입\n",
    "- int: 정수\n",
    "    - 1, 2, 3\n",
    "- float: 소수점\n",
    "    - 1.0, 3.14. -5.0\n",
    "- str: 문자열\n",
    "    - 'python', \"string\" , '''three'''\n",
    "- bool: 논리값\n",
    "    - True, False"
   ]
  },
  {
   "cell_type": "code",
   "execution_count": 35,
   "id": "22dd74f3-8110-46bb-bebf-c8a4897b988c",
   "metadata": {},
   "outputs": [],
   "source": [
    "a= 1\n",
    "b = 1.3\n",
    "c = 'True'\n",
    "d = True\n",
    "f = \"1.2\""
   ]
  },
  {
   "cell_type": "code",
   "execution_count": 37,
   "id": "744a17d7-48c5-4ea2-99c8-eb65f871bdfc",
   "metadata": {},
   "outputs": [
    {
     "data": {
      "text/plain": [
       "(int, float, str, bool, str)"
      ]
     },
     "execution_count": 37,
     "metadata": {},
     "output_type": "execute_result"
    }
   ],
   "source": [
    "type(a), type(b), type(c), type(d), type(f) "
   ]
  },
  {
   "cell_type": "code",
   "execution_count": 38,
   "id": "3c66997a-0f72-4f53-901c-f529f50ff143",
   "metadata": {},
   "outputs": [
    {
     "ename": "TypeError",
     "evalue": "can only concatenate str (not \"int\") to str",
     "output_type": "error",
     "traceback": [
      "\u001b[0;31m---------------------------------------------------------------------------\u001b[0m",
      "\u001b[0;31mTypeError\u001b[0m                                 Traceback (most recent call last)",
      "Cell \u001b[0;32mIn[38], line 1\u001b[0m\n\u001b[0;32m----> 1\u001b[0m \u001b[43mc\u001b[49m\u001b[43m \u001b[49m\u001b[38;5;241;43m+\u001b[39;49m\u001b[43m \u001b[49m\u001b[38;5;241;43m1\u001b[39;49m\n",
      "\u001b[0;31mTypeError\u001b[0m: can only concatenate str (not \"int\") to str"
     ]
    }
   ],
   "source": [
    "c + 1\n"
   ]
  },
  {
   "cell_type": "code",
   "execution_count": 39,
   "id": "fb28d3dc-aebf-4eed-bb75-a2a1d3ff4933",
   "metadata": {},
   "outputs": [
    {
     "data": {
      "text/plain": [
       "2"
      ]
     },
     "execution_count": 39,
     "metadata": {},
     "output_type": "execute_result"
    }
   ],
   "source": [
    "d + 1"
   ]
  },
  {
   "cell_type": "code",
   "execution_count": 40,
   "id": "35adb798-7b9a-425b-9243-6ef2da6b5ce5",
   "metadata": {},
   "outputs": [
    {
     "data": {
      "text/plain": [
       "1"
      ]
     },
     "execution_count": 40,
     "metadata": {},
     "output_type": "execute_result"
    }
   ],
   "source": [
    "1 + False"
   ]
  },
  {
   "cell_type": "code",
   "execution_count": 41,
   "id": "4d8c5404-b90f-4e42-a758-cffcc92f5338",
   "metadata": {},
   "outputs": [
    {
     "name": "stdout",
     "output_type": "stream",
     "text": [
      "0\n"
     ]
    }
   ],
   "source": [
    "print(int(False))"
   ]
  },
  {
   "cell_type": "markdown",
   "id": "6fdd4534-f8a3-4fa5-a165-4b518cffb508",
   "metadata": {},
   "source": [
    "## 5- 2. 컬렉션 데이터 타입\n",
    "- list: 여러 개의 값을 순서대로 담을 수 있고, 수정이 가능한 데이터 타입\n",
    "    - [1, 2, 3]\n",
    "    - [1, '문자', [1,2,3]]\n",
    "- tuple: 리스트와 동일한 내용이지만, 수정이 불가능한 데이터\n",
    "    - (1,2)\n",
    "- dict: 순서가 없고 key와 value의 쌍으로 이루어진 데이터 타입\n",
    "    - {'key': 'value'}\n",
    "- 컬렉션 데이터 타입안에 담긴 데이터를 **아이템(item) 또는 요소라고 표현(element)**\n",
    "- 수정이 가능한 것을 가변(mutable)\n",
    "- 수정이 불가능한 것을 (immutable)"
   ]
  },
  {
   "cell_type": "code",
   "execution_count": 43,
   "id": "4d8be7bb-c8de-48b9-8170-22c46830d933",
   "metadata": {},
   "outputs": [
    {
     "name": "stdout",
     "output_type": "stream",
     "text": [
      "[1, 2, 3]\n"
     ]
    }
   ],
   "source": [
    "# list\n",
    "ls = [1,2,3]\n",
    "print(ls)\n"
   ]
  },
  {
   "cell_type": "code",
   "execution_count": 44,
   "id": "302f625b-36ba-47a3-8c19-c0556bba25aa",
   "metadata": {},
   "outputs": [
    {
     "name": "stdout",
     "output_type": "stream",
     "text": [
      "(1, 2, 3)\n"
     ]
    }
   ],
   "source": [
    "#tuple\n",
    "tp = (1,2,3)\n",
    "print(tp)"
   ]
  },
  {
   "cell_type": "code",
   "execution_count": 45,
   "id": "88a48231-e1a2-43d8-b6e0-76f95dcbf55f",
   "metadata": {},
   "outputs": [
    {
     "name": "stdout",
     "output_type": "stream",
     "text": [
      "{'key': 'value'}\n"
     ]
    }
   ],
   "source": [
    "# dict\n",
    "dic = {'key' : 'value'}\n",
    "print(dic)"
   ]
  },
  {
   "cell_type": "code",
   "execution_count": 46,
   "id": "cd009dad-a8aa-491c-b359-bd53b0675831",
   "metadata": {},
   "outputs": [],
   "source": [
    "# 1. 리스트 데이터 타입 생성\n",
    "my_li = [1, 5, 4, 6, 111, 111, 10, 45, 3, 2]\n"
   ]
  },
  {
   "cell_type": "code",
   "execution_count": 47,
   "id": "ca6056c5-78fa-47bb-bdd7-3631dba4befe",
   "metadata": {},
   "outputs": [
    {
     "data": {
      "text/plain": [
       "10"
      ]
     },
     "execution_count": 47,
     "metadata": {},
     "output_type": "execute_result"
    }
   ],
   "source": [
    "#2. 리스트의 길이 확인\n",
    "len(my_li)"
   ]
  },
  {
   "cell_type": "code",
   "execution_count": 48,
   "id": "cd7cb84f-671c-4bc1-b9aa-a97b728cccef",
   "metadata": {},
   "outputs": [
    {
     "name": "stdout",
     "output_type": "stream",
     "text": [
      "[1, 5, 4, 6, 111, 111, 10, 45, 3, 2, 111]\n"
     ]
    }
   ],
   "source": [
    "# 3. 리스트의 값 추가\n",
    "# append ()\n",
    "\n",
    "my_li.append(111)\n",
    "print(my_li)"
   ]
  },
  {
   "cell_type": "code",
   "execution_count": 51,
   "id": "7919ddab-8169-4b51-8129-4ca09ae02740",
   "metadata": {},
   "outputs": [
    {
     "ename": "NameError",
     "evalue": "name 'my_li' is not defined",
     "output_type": "error",
     "traceback": [
      "\u001b[0;31m---------------------------------------------------------------------------\u001b[0m",
      "\u001b[0;31mNameError\u001b[0m                                 Traceback (most recent call last)",
      "Cell \u001b[0;32mIn[51], line 1\u001b[0m\n\u001b[0;32m----> 1\u001b[0m \u001b[43mmy_li\u001b[49m\u001b[38;5;241m.\u001b[39mappend([\u001b[38;5;241m112\u001b[39m,\u001b[38;5;241m113\u001b[39m])\n\u001b[1;32m      2\u001b[0m \u001b[38;5;28mprint\u001b[39m(my_li)\n",
      "\u001b[0;31mNameError\u001b[0m: name 'my_li' is not defined"
     ]
    }
   ],
   "source": [
    "my_li.append([112,113])\n",
    "print(my_li)"
   ]
  },
  {
   "cell_type": "code",
   "execution_count": 49,
   "id": "0fbfa375-5679-42d1-ac27-679f6f86a201",
   "metadata": {},
   "outputs": [
    {
     "name": "stdin",
     "output_type": "stream",
     "text": [
      "Once deleted, variables cannot be recovered. Proceed (y/[n])?  y\n"
     ]
    }
   ],
   "source": [
    "%reset"
   ]
  },
  {
   "cell_type": "code",
   "execution_count": 50,
   "id": "74612de7-db6e-4d40-9179-ce7eaba646a8",
   "metadata": {},
   "outputs": [
    {
     "ename": "NameError",
     "evalue": "name 'my_li' is not defined",
     "output_type": "error",
     "traceback": [
      "\u001b[0;31m---------------------------------------------------------------------------\u001b[0m",
      "\u001b[0;31mNameError\u001b[0m                                 Traceback (most recent call last)",
      "Cell \u001b[0;32mIn[50], line 1\u001b[0m\n\u001b[0;32m----> 1\u001b[0m \u001b[43mmy_li\u001b[49m\u001b[38;5;241m.\u001b[39mappend([\u001b[38;5;241m112\u001b[39m,\u001b[38;5;241m113\u001b[39m])\n\u001b[1;32m      2\u001b[0m \u001b[38;5;28mprint\u001b[39m(my_li)\n",
      "\u001b[0;31mNameError\u001b[0m: name 'my_li' is not defined"
     ]
    }
   ],
   "source": [
    "my_li.append([112,113])\n",
    "print(my_li)"
   ]
  },
  {
   "cell_type": "code",
   "execution_count": 52,
   "id": "f1d3ab6a-b87d-4636-b5e9-4eac14157851",
   "metadata": {},
   "outputs": [
    {
     "name": "stdout",
     "output_type": "stream",
     "text": [
      "[1, 5, 4, 6, 111, 111, 10, 45, 3, 2, [112, 113]]\n"
     ]
    }
   ],
   "source": [
    "my_li = [1, 5, 4, 6, 111, 111, 10, 45, 3, 2]\n",
    "my_li.append([112,113])\n",
    "print(my_li)\n"
   ]
  },
  {
   "cell_type": "code",
   "execution_count": 53,
   "id": "d00590bb-92a2-4dfe-a3bb-8482a8a5f856",
   "metadata": {},
   "outputs": [
    {
     "name": "stdout",
     "output_type": "stream",
     "text": [
      "[1, 5, 4, 6, 111, 111, 10, 45, 3, 2, [112, 113], 14, 15]\n"
     ]
    }
   ],
   "source": [
    "# extend ()\n",
    "my_li.extend([14, 15])\n",
    "print(my_li)"
   ]
  },
  {
   "cell_type": "code",
   "execution_count": 54,
   "id": "9138f494-9ad2-415f-a302-f58548e72a22",
   "metadata": {},
   "outputs": [],
   "source": [
    "# 4. 리스트 값 제거\n",
    "my_li.remove(45)"
   ]
  },
  {
   "cell_type": "code",
   "execution_count": 56,
   "id": "ef7bed80-e591-4ac8-b22c-f4585abca4c0",
   "metadata": {},
   "outputs": [],
   "source": [
    "my_li.remove([112,113])"
   ]
  },
  {
   "cell_type": "code",
   "execution_count": 57,
   "id": "43e23311-d371-4f43-af5f-e5d4236d2b75",
   "metadata": {},
   "outputs": [
    {
     "name": "stdout",
     "output_type": "stream",
     "text": [
      "[1, 5, 4, 6, 111, 111, 10, 3, 2, 14, 15]\n"
     ]
    }
   ],
   "source": [
    "print(my_li)"
   ]
  },
  {
   "cell_type": "code",
   "execution_count": 58,
   "id": "9c371e34-367d-41e4-b2ad-62aae4adc0db",
   "metadata": {},
   "outputs": [
    {
     "data": {
      "text/plain": [
       "2"
      ]
     },
     "execution_count": 58,
     "metadata": {},
     "output_type": "execute_result"
    }
   ],
   "source": [
    "# 5. 리스트에서 특정 값 개수 세기\n",
    "# count()\n",
    "\n",
    "my_li.count(111)"
   ]
  },
  {
   "cell_type": "code",
   "execution_count": 59,
   "id": "ec116c75-2d7f-4753-b72c-27aa9c9f3806",
   "metadata": {},
   "outputs": [],
   "source": [
    "# 6. 리스트 오름차순\n",
    "# sort()\n",
    "my_li.sort()"
   ]
  },
  {
   "cell_type": "code",
   "execution_count": 60,
   "id": "5fd5b3d2-38c0-46a4-9519-d4638eff7a2c",
   "metadata": {},
   "outputs": [
    {
     "data": {
      "text/plain": [
       "[1, 2, 3, 4, 5, 6, 10, 14, 15, 111, 111]"
      ]
     },
     "execution_count": 60,
     "metadata": {},
     "output_type": "execute_result"
    }
   ],
   "source": [
    "my_li"
   ]
  },
  {
   "cell_type": "code",
   "execution_count": 61,
   "id": "cc5ca79b-5031-44a9-b275-7c35c1ecba3a",
   "metadata": {},
   "outputs": [
    {
     "name": "stdout",
     "output_type": "stream",
     "text": [
      "[4, 1, 10]\n",
      "[4, 1, 10]\n"
     ]
    }
   ],
   "source": [
    "li1 = [ 4 ,1, 10]\n",
    "li2 = li1\n",
    "\n",
    "print(li1)\n",
    "print(li2)"
   ]
  },
  {
   "cell_type": "code",
   "execution_count": 62,
   "id": "4bc01cb5-1e63-4bf9-8f78-862d944917c7",
   "metadata": {},
   "outputs": [],
   "source": [
    "li2.sort()"
   ]
  },
  {
   "cell_type": "code",
   "execution_count": 63,
   "id": "8898f4eb-0583-449d-9a59-c89fa46284ef",
   "metadata": {},
   "outputs": [
    {
     "name": "stdout",
     "output_type": "stream",
     "text": [
      "[1, 4, 10]\n",
      "[1, 4, 10]\n"
     ]
    }
   ],
   "source": [
    "print(li1)\n",
    "print(li2)"
   ]
  },
  {
   "cell_type": "code",
   "execution_count": 64,
   "id": "6ee0833c-5af2-4b19-bcb4-41a82810e2d2",
   "metadata": {},
   "outputs": [],
   "source": [
    "li1  = [4, 1, 10]\n",
    "li2 = li1.copy() # 깊은 복사"
   ]
  },
  {
   "cell_type": "code",
   "execution_count": 65,
   "id": "52d2fc22-49f0-4a4d-8ef9-f771d5c1770e",
   "metadata": {},
   "outputs": [
    {
     "name": "stdout",
     "output_type": "stream",
     "text": [
      "[4, 1, 10]\n",
      "[4, 1, 10]\n"
     ]
    }
   ],
   "source": [
    "print(li1)\n",
    "print(li2)"
   ]
  },
  {
   "cell_type": "code",
   "execution_count": 66,
   "id": "243fce66-96fc-4de9-a03c-0459d855836b",
   "metadata": {},
   "outputs": [],
   "source": [
    "li2.sort()"
   ]
  },
  {
   "cell_type": "code",
   "execution_count": 67,
   "id": "7a94c621-f62a-461f-abe0-2198b575992d",
   "metadata": {},
   "outputs": [
    {
     "name": "stdout",
     "output_type": "stream",
     "text": [
      "[4, 1, 10]\n",
      "[1, 4, 10]\n"
     ]
    }
   ],
   "source": [
    "print(li1)\n",
    "print(li2)"
   ]
  },
  {
   "cell_type": "code",
   "execution_count": 68,
   "id": "55fb1297-9548-46a3-92ee-07142c104768",
   "metadata": {},
   "outputs": [],
   "source": [
    "# 7. pop()\n",
    "# 가장 마지막 데이터를 출력하고, 그 데이터를 리스트에서 삭제 >> 중요함"
   ]
  },
  {
   "cell_type": "code",
   "execution_count": 75,
   "id": "69db93a2-7624-452c-b894-5ec69eefa734",
   "metadata": {},
   "outputs": [
    {
     "name": "stdout",
     "output_type": "stream",
     "text": [
      "[1, 2, 3, 4, 5]\n"
     ]
    }
   ],
   "source": [
    "my_li.pop()\n",
    "print(my_li)"
   ]
  },
  {
   "cell_type": "code",
   "execution_count": 70,
   "id": "1f5de344-8035-466d-a320-f619a79bdd58",
   "metadata": {},
   "outputs": [
    {
     "data": {
      "text/plain": [
       "[1, 2, 3, 4, 5, 6, 10, 14, 15, 111]"
      ]
     },
     "execution_count": 70,
     "metadata": {},
     "output_type": "execute_result"
    }
   ],
   "source": [
    "my_li\n"
   ]
  },
  {
   "cell_type": "code",
   "execution_count": 76,
   "id": "794cd517-bc2c-452c-9432-68d3f05a6eab",
   "metadata": {},
   "outputs": [],
   "source": [
    "# 8. 리스트끼리 연산 \n",
    "a_li = [1,2,3]\n",
    "b_li = [7,8,9]"
   ]
  },
  {
   "cell_type": "code",
   "execution_count": 77,
   "id": "b04e1159-a917-46be-90c6-a4ddd0f59b7a",
   "metadata": {},
   "outputs": [
    {
     "data": {
      "text/plain": [
       "[1, 2, 3, 7, 8, 9]"
      ]
     },
     "execution_count": 77,
     "metadata": {},
     "output_type": "execute_result"
    }
   ],
   "source": [
    "a_li + b_li"
   ]
  },
  {
   "cell_type": "code",
   "execution_count": 78,
   "id": "286d7a16-0a35-4164-9eeb-f6f57a957767",
   "metadata": {},
   "outputs": [],
   "source": [
    "# 9. 리스트에는 여러 데이터 타입을 할당할 수 있다."
   ]
  },
  {
   "cell_type": "code",
   "execution_count": 79,
   "id": "7578d5ed-8c87-4495-b838-94d4ef79adff",
   "metadata": {},
   "outputs": [],
   "source": [
    "ls = [1,2,'3', [5,6], (7,8) ,{\"key\" : \"value\"}, True, False]"
   ]
  },
  {
   "cell_type": "code",
   "execution_count": 80,
   "id": "19c8aa89-18e3-4684-8417-77c7e248e819",
   "metadata": {},
   "outputs": [
    {
     "data": {
      "text/plain": [
       "1"
      ]
     },
     "execution_count": 80,
     "metadata": {},
     "output_type": "execute_result"
    }
   ],
   "source": [
    "ls[0]"
   ]
  },
  {
   "cell_type": "code",
   "execution_count": 81,
   "id": "52869db5-d1e4-4a18-bb8e-49f9dfc8eccd",
   "metadata": {},
   "outputs": [
    {
     "data": {
      "text/plain": [
       "(1, 2, '3')"
      ]
     },
     "execution_count": 81,
     "metadata": {},
     "output_type": "execute_result"
    }
   ],
   "source": [
    "ls[0], ls[1], ls[2]"
   ]
  },
  {
   "cell_type": "code",
   "execution_count": 84,
   "id": "fd98f581-877f-4bcf-ad96-4f1a5333bb44",
   "metadata": {},
   "outputs": [
    {
     "data": {
      "text/plain": [
       "([5, 6], list)"
      ]
     },
     "execution_count": 84,
     "metadata": {},
     "output_type": "execute_result"
    }
   ],
   "source": [
    "ls[3], type(ls[3])"
   ]
  },
  {
   "cell_type": "markdown",
   "id": "e58676d8-9362-47ad-b26a-4e3f5569c087",
   "metadata": {},
   "source": [
    "## 5-3 오프셋 인덱스\n",
    "- 마스킹\n",
    "- 인덱싱 : 데이터 구조에서 원소에 접근하기 위해 사용하는 방법\n",
    "- [start:end:stride(간격)]"
   ]
  },
  {
   "cell_type": "code",
   "execution_count": 97,
   "id": "bb3f2a55-bae3-4c1d-983d-8762e2f5f74b",
   "metadata": {},
   "outputs": [],
   "source": [
    "my_li = [10 , 20, 30 ,40, 50, 60, 70, 80, 90, 100]\n",
    "my_str = \"hello, World!\""
   ]
  },
  {
   "cell_type": "code",
   "execution_count": 86,
   "id": "09098d19-8688-49b2-8d17-d4e15ec6a81a",
   "metadata": {},
   "outputs": [
    {
     "data": {
      "text/plain": [
       "10"
      ]
     },
     "execution_count": 86,
     "metadata": {},
     "output_type": "execute_result"
    }
   ],
   "source": [
    "# 1. 리스트에서 첫 번째 원소에 접근하기\n",
    "my_li[0] # [start : end : stride]"
   ]
  },
  {
   "cell_type": "code",
   "execution_count": 89,
   "id": "3739b945-7563-4859-ad19-af046be65682",
   "metadata": {},
   "outputs": [
    {
     "data": {
      "text/plain": [
       "[10, 20, 30]"
      ]
     },
     "execution_count": 89,
     "metadata": {},
     "output_type": "execute_result"
    }
   ],
   "source": [
    "my_li[0:3] # [n:m] m-1 까지 출력됨"
   ]
  },
  {
   "cell_type": "code",
   "execution_count": 90,
   "id": "0d8b2b74-d0c0-44fb-9d27-190da0ca18b7",
   "metadata": {},
   "outputs": [
    {
     "data": {
      "text/plain": [
       "[10, 30, 50, 70, 90]"
      ]
     },
     "execution_count": 90,
     "metadata": {},
     "output_type": "execute_result"
    }
   ],
   "source": [
    "my_li[::2]\n"
   ]
  },
  {
   "cell_type": "code",
   "execution_count": 91,
   "id": "12b1532d-2282-4e3c-9d76-855a5e04a856",
   "metadata": {},
   "outputs": [
    {
     "data": {
      "text/plain": [
       "90"
      ]
     },
     "execution_count": 91,
     "metadata": {},
     "output_type": "execute_result"
    }
   ],
   "source": [
    "# 90이라는 값만 나오도록 해주세요\n",
    "my_li[-2]\n"
   ]
  },
  {
   "cell_type": "code",
   "execution_count": 92,
   "id": "ae8206ee-2fe0-4dd1-b354-0d61d14c86e1",
   "metadata": {},
   "outputs": [
    {
     "data": {
      "text/plain": [
       "'l'"
      ]
     },
     "execution_count": 92,
     "metadata": {},
     "output_type": "execute_result"
    }
   ],
   "source": [
    "# 문자열에서 세 번째 문자에 접근하기\n",
    "my_str[2]"
   ]
  },
  {
   "cell_type": "code",
   "execution_count": 93,
   "id": "affc221e-33ab-4a78-979c-ef9578eb07a0",
   "metadata": {},
   "outputs": [
    {
     "data": {
      "text/plain": [
       "'l'"
      ]
     },
     "execution_count": 93,
     "metadata": {},
     "output_type": "execute_result"
    }
   ],
   "source": [
    "# 문자열에서 네 번째 문자에 접근하기\n",
    "my_str[3]"
   ]
  },
  {
   "cell_type": "code",
   "execution_count": 94,
   "id": "d5324adc-5a8f-4e42-87df-0fd144b7492d",
   "metadata": {},
   "outputs": [
    {
     "data": {
      "text/plain": [
       "[30, 40, 50, 60, 70]"
      ]
     },
     "execution_count": 94,
     "metadata": {},
     "output_type": "execute_result"
    }
   ],
   "source": [
    "# 1. 리스트에서 [30~70]까지 출력\n",
    "my_li[2:7]"
   ]
  },
  {
   "cell_type": "code",
   "execution_count": 95,
   "id": "81ba0c04-0f60-499b-93bc-6d8ad02264a9",
   "metadata": {},
   "outputs": [],
   "source": [
    "# 2. 문자열에서 인덱스 3부터 끝까지 출력하기"
   ]
  },
  {
   "cell_type": "code",
   "execution_count": 98,
   "id": "37c0da2e-3792-42c6-a3c1-07f636f8ed2e",
   "metadata": {},
   "outputs": [
    {
     "data": {
      "text/plain": [
       "'lo, World!'"
      ]
     },
     "execution_count": 98,
     "metadata": {},
     "output_type": "execute_result"
    }
   ],
   "source": [
    "my_str[3:]"
   ]
  },
  {
   "cell_type": "code",
   "execution_count": 100,
   "id": "15d6bfd7-65c7-4659-bf6c-b21625c32263",
   "metadata": {},
   "outputs": [
    {
     "data": {
      "text/plain": [
       "[20, 40, 60, 80, 100]"
      ]
     },
     "execution_count": 100,
     "metadata": {},
     "output_type": "execute_result"
    }
   ],
   "source": [
    "#3. 리스트에서 인덱스 1부터 끝까지, 2칸씩 건너뛰며 출력\n",
    "my_li[1::2]"
   ]
  },
  {
   "cell_type": "code",
   "execution_count": 118,
   "id": "5c3e378f-3997-414c-8f02-e5e868f59932",
   "metadata": {},
   "outputs": [
    {
     "data": {
      "text/plain": [
       "'hl r!'"
      ]
     },
     "execution_count": 118,
     "metadata": {},
     "output_type": "execute_result"
    }
   ],
   "source": [
    "#4. 리스트에서 인덱스 0부터 끝까지 3칸씩 건너뛰며 출력\n",
    "my_str[::3]"
   ]
  },
  {
   "cell_type": "code",
   "execution_count": 103,
   "id": "1b7370f1-655b-40b4-92f1-bfd7f7729c4e",
   "metadata": {},
   "outputs": [
    {
     "data": {
      "text/plain": [
       "[50, 40, 30, 20]"
      ]
     },
     "execution_count": 103,
     "metadata": {},
     "output_type": "execute_result"
    }
   ],
   "source": [
    "#5. 리스트에서 인덱스 4부터 1까지 역순으로 출력\n",
    "my_li[4:0:-1]"
   ]
  },
  {
   "cell_type": "code",
   "execution_count": 105,
   "id": "8ffe1989-0f9a-4a78-9f79-ac4e83c7f6cd",
   "metadata": {},
   "outputs": [
    {
     "data": {
      "text/plain": [
       "'W ,oll'"
      ]
     },
     "execution_count": 105,
     "metadata": {},
     "output_type": "execute_result"
    }
   ],
   "source": [
    "#6.문자열에서 인덱스 7부터 2까지 역순으로 출력\n",
    "my_str[7:1:-1]"
   ]
  },
  {
   "cell_type": "code",
   "execution_count": 128,
   "id": "e775887d-c2dd-49f4-9e3c-d01d334ad717",
   "metadata": {},
   "outputs": [
    {
     "data": {
      "text/plain": [
       "[80, 70, 60, 50, 40]"
      ]
     },
     "execution_count": 128,
     "metadata": {},
     "output_type": "execute_result"
    }
   ],
   "source": [
    "#7. 리스트에서 인덱스 7부터 3까지 역순으로 출력\n",
    "my_li[7:2:-1]\n",
    "my_li[-3:-8:-1]"
   ]
  },
  {
   "cell_type": "code",
   "execution_count": 143,
   "id": "23daa15c-62fc-4af2-8a45-8d68a37eb472",
   "metadata": {},
   "outputs": [
    {
     "data": {
      "text/plain": [
       "'!lo o'"
      ]
     },
     "execution_count": 143,
     "metadata": {},
     "output_type": "execute_result"
    }
   ],
   "source": [
    "#8. 문자열에서 인덱스 -1부터 -9까지 2칸씩 역순으로 출력\n",
    "my_str[-1:3:-2]"
   ]
  },
  {
   "cell_type": "code",
   "execution_count": 111,
   "id": "698d37e9-6a92-4170-aff3-d3c0e64e3543",
   "metadata": {},
   "outputs": [
    {
     "data": {
      "text/plain": [
       "[30, 60, 90]"
      ]
     },
     "execution_count": 111,
     "metadata": {},
     "output_type": "execute_result"
    }
   ],
   "source": [
    "#9. 리스트에서 인덱스 2부터 8까지, 3칸씩 건너뛰며 출력\n",
    "my_li[2::3]"
   ]
  },
  {
   "cell_type": "code",
   "execution_count": 116,
   "id": "a414c1cb-4d41-423e-8b27-75734a7deacd",
   "metadata": {},
   "outputs": [
    {
     "data": {
      "text/plain": [
       "'!dlroW ,olleh'"
      ]
     },
     "execution_count": 116,
     "metadata": {},
     "output_type": "execute_result"
    }
   ],
   "source": [
    "#10 문자열에서 인덱스 0부터 끝까지 역순으로 출력\n",
    "my_str[-1::-1]"
   ]
  },
  {
   "cell_type": "code",
   "execution_count": 135,
   "id": "b32dbfc9-1404-4b75-8948-fcd739697b5d",
   "metadata": {},
   "outputs": [
    {
     "data": {
      "text/plain": [
       "[10, 20, 30, 40, 50, 60, 70, 80, 90, 100]"
      ]
     },
     "execution_count": 135,
     "metadata": {},
     "output_type": "execute_result"
    }
   ],
   "source": [
    "# offset index를 이용한 값 수정\n",
    "# 인덱싱 슬라이싱 마스킹 이라고 함\n",
    "\n",
    "my_li"
   ]
  },
  {
   "cell_type": "code",
   "execution_count": 137,
   "id": "c9943be3-4697-4be4-9259-63ccea68c37f",
   "metadata": {},
   "outputs": [],
   "source": [
    "my_li[3] = 9999"
   ]
  },
  {
   "cell_type": "code",
   "execution_count": 138,
   "id": "10838f7f-be9a-4c14-b340-30c801414c0d",
   "metadata": {},
   "outputs": [
    {
     "data": {
      "text/plain": [
       "[10, 20, 30, 9999, 50, 60, 70, 80, 90, 100]"
      ]
     },
     "execution_count": 138,
     "metadata": {},
     "output_type": "execute_result"
    }
   ],
   "source": [
    "my_li"
   ]
  },
  {
   "cell_type": "code",
   "execution_count": 139,
   "id": "6fd2eff7-a0fc-40c6-9a51-a0901f84dfd3",
   "metadata": {},
   "outputs": [],
   "source": [
    "my_li = [1, 5, 4, 6, 111, 111, [112, 113] ,14 ,15]"
   ]
  },
  {
   "cell_type": "code",
   "execution_count": 140,
   "id": "7732e6c5-6629-48ba-b614-31b9db51e77b",
   "metadata": {},
   "outputs": [
    {
     "data": {
      "text/plain": [
       "[1, 5, 4, 6, 111, 111, [112, 113], 14, 15]"
      ]
     },
     "execution_count": 140,
     "metadata": {},
     "output_type": "execute_result"
    }
   ],
   "source": [
    "my_li"
   ]
  },
  {
   "cell_type": "code",
   "execution_count": 144,
   "id": "9b8cdc6f-ca16-4b25-8e2d-af1ed6210d38",
   "metadata": {},
   "outputs": [
    {
     "data": {
      "text/plain": [
       "[112, 113]"
      ]
     },
     "execution_count": 144,
     "metadata": {},
     "output_type": "execute_result"
    }
   ],
   "source": [
    "my_li[6]"
   ]
  },
  {
   "cell_type": "code",
   "execution_count": 145,
   "id": "ff512d45-ca07-4fe4-8a1a-abdf2feec031",
   "metadata": {},
   "outputs": [
    {
     "ename": "ValueError",
     "evalue": "list.remove(x): x not in list",
     "output_type": "error",
     "traceback": [
      "\u001b[0;31m---------------------------------------------------------------------------\u001b[0m",
      "\u001b[0;31mValueError\u001b[0m                                Traceback (most recent call last)",
      "Cell \u001b[0;32mIn[145], line 1\u001b[0m\n\u001b[0;32m----> 1\u001b[0m \u001b[43mmy_li\u001b[49m\u001b[38;5;241;43m.\u001b[39;49m\u001b[43mremove\u001b[49m\u001b[43m(\u001b[49m\u001b[43mmy_li\u001b[49m\u001b[43m[\u001b[49m\u001b[38;5;241;43m6\u001b[39;49m\u001b[43m]\u001b[49m\u001b[43m[\u001b[49m\u001b[38;5;241;43m0\u001b[39;49m\u001b[43m]\u001b[49m\u001b[43m)\u001b[49m\n",
      "\u001b[0;31mValueError\u001b[0m: list.remove(x): x not in list"
     ]
    }
   ],
   "source": [
    "my_li.remove(my_li[6][0])"
   ]
  },
  {
   "cell_type": "code",
   "execution_count": 146,
   "id": "85bec051-a18d-4329-8538-0521a4daae09",
   "metadata": {},
   "outputs": [],
   "source": [
    "del my_li[6][0]"
   ]
  },
  {
   "cell_type": "code",
   "execution_count": 147,
   "id": "a67f1fb2-1d8c-4a05-b907-9735a15c09b7",
   "metadata": {},
   "outputs": [
    {
     "data": {
      "text/plain": [
       "[1, 5, 4, 6, 111, 111, [113], 14, 15]"
      ]
     },
     "execution_count": 147,
     "metadata": {},
     "output_type": "execute_result"
    }
   ],
   "source": [
    "my_li.remove(my_li"
   ]
  },
  {
   "cell_type": "markdown",
   "id": "ed1aef38-41cd-473e-8915-5a66304b4dd1",
   "metadata": {},
   "source": [
    "# 5-4. 튜플\n",
    "- 튜플은 리스트보다 같은 데이터를 가졌을 대 공간을 더 적게 사용\n",
    "\n",
    "li = [1,2,3]\n",
    "tu = (1,2,3)"
   ]
  },
  {
   "cell_type": "code",
   "execution_count": 150,
   "id": "5f2d0033-6583-4709-92b0-9405e16b6c9e",
   "metadata": {},
   "outputs": [
    {
     "name": "stdout",
     "output_type": "stream",
     "text": [
      "88\n",
      "64\n"
     ]
    }
   ],
   "source": [
    "import sys\n",
    "\n",
    "li = [1,2,3]\n",
    "tp = (1,2,3)\n",
    "\n",
    "print(sys.getsizeof(li))\n",
    "print(sys.getsizeof(tp)) ## 저장공간\n"
   ]
  },
  {
   "cell_type": "code",
   "execution_count": null,
   "id": "6d26d3b0-3ce1-4f6d-95fb-a6a409c31220",
   "metadata": {},
   "outputs": [],
   "source": []
  },
  {
   "cell_type": "markdown",
   "id": "a34ef77f-a94c-457c-a313-2899d1d355c9",
   "metadata": {},
   "source": [
    "## 5-5. 딕셔너리\n",
    "- {}\n",
    "- 순서가 없고 {\"key\" : \"value\"}"
   ]
  },
  {
   "cell_type": "code",
   "execution_count": 152,
   "id": "a0e48a33-60ad-4c91-b3b3-6e6375587e90",
   "metadata": {},
   "outputs": [
    {
     "name": "stdout",
     "output_type": "stream",
     "text": [
      "{1: 'one', 'two': 2, 'three': [1, 2, 3], 'four': 'python'}\n"
     ]
    }
   ],
   "source": [
    "dic= {1 : \"one\" , \"two\" : 2, \"three\" : [1,2,3], \"four\" : \"python\"}\n",
    "print(dic)"
   ]
  },
  {
   "cell_type": "code",
   "execution_count": 153,
   "id": "9214a39e-b94f-4d98-889c-b45fd8cbe45d",
   "metadata": {},
   "outputs": [
    {
     "data": {
      "text/plain": [
       "'one'"
      ]
     },
     "execution_count": 153,
     "metadata": {},
     "output_type": "execute_result"
    }
   ],
   "source": [
    "dic[1]"
   ]
  },
  {
   "cell_type": "code",
   "execution_count": 154,
   "id": "1ff79135-a4af-4e2a-a2bc-5b9a98232b04",
   "metadata": {},
   "outputs": [
    {
     "data": {
      "text/plain": [
       "[1, 2, 3]"
      ]
     },
     "execution_count": 154,
     "metadata": {},
     "output_type": "execute_result"
    }
   ],
   "source": [
    "dic[\"three\"]"
   ]
  },
  {
   "cell_type": "code",
   "execution_count": 155,
   "id": "8288ad18-bf96-416f-b438-ca306b2492ba",
   "metadata": {},
   "outputs": [],
   "source": [
    "dic[1] = \"five\""
   ]
  },
  {
   "cell_type": "code",
   "execution_count": 157,
   "id": "b18b3394-1693-460a-9561-d1c04b7b66a7",
   "metadata": {},
   "outputs": [],
   "source": [
    "# 키: 토맛젤리 ,단맛젤리, 비누맛\n",
    "# 값 : 124, 80, 200\n",
    "data = {'토맛젤리': 124, '단맛젤리':80, '비누맛': 200} "
   ]
  },
  {
   "cell_type": "code",
   "execution_count": 160,
   "id": "b53862cd-eb30-4606-9d00-5e98c94892a9",
   "metadata": {},
   "outputs": [],
   "source": [
    "# list\n",
    "food = ['토맛젤리', '단맛젤리', '비누맛']\n",
    "kal = [124, 80, 200]"
   ]
  },
  {
   "cell_type": "code",
   "execution_count": 163,
   "id": "c4d19c35-a964-460b-a650-726855b2f096",
   "metadata": {},
   "outputs": [
    {
     "data": {
      "text/plain": [
       "{'토맛젤리': 124, '단맛젤리': 80, '비누맛': 200}"
      ]
     },
     "execution_count": 163,
     "metadata": {},
     "output_type": "execute_result"
    }
   ],
   "source": [
    "data = dict(zip(food, kal))\n",
    "data"
   ]
  },
  {
   "cell_type": "markdown",
   "id": "9e4e912c-8653-4587-a04f-0119efe4afbe",
   "metadata": {},
   "source": [
    "## 형 변환\n",
    "- 데이터 타입 변환\n",
    "- int, float, str, bool, list, tuple, dict"
   ]
  },
  {
   "cell_type": "code",
   "execution_count": 164,
   "id": "d4252e30-8379-4783-9072-0dfbeeb5538c",
   "metadata": {},
   "outputs": [],
   "source": [
    "a= 1\n",
    "b = '2'"
   ]
  },
  {
   "cell_type": "code",
   "execution_count": 165,
   "id": "15ca1b99-f56f-4b4a-af08-aac91d4fb99c",
   "metadata": {},
   "outputs": [
    {
     "ename": "TypeError",
     "evalue": "unsupported operand type(s) for +: 'int' and 'str'",
     "output_type": "error",
     "traceback": [
      "\u001b[0;31m---------------------------------------------------------------------------\u001b[0m",
      "\u001b[0;31mTypeError\u001b[0m                                 Traceback (most recent call last)",
      "Cell \u001b[0;32mIn[165], line 1\u001b[0m\n\u001b[0;32m----> 1\u001b[0m \u001b[43ma\u001b[49m\u001b[43m \u001b[49m\u001b[38;5;241;43m+\u001b[39;49m\u001b[43m \u001b[49m\u001b[43mb\u001b[49m\n",
      "\u001b[0;31mTypeError\u001b[0m: unsupported operand type(s) for +: 'int' and 'str'"
     ]
    }
   ],
   "source": [
    "a + b"
   ]
  },
  {
   "cell_type": "code",
   "execution_count": null,
   "id": "43c256dc-f9d0-4c98-8054-91c742175caf",
   "metadata": {},
   "outputs": [],
   "source": []
  },
  {
   "cell_type": "code",
   "execution_count": 166,
   "id": "47ea6f5d-4718-4877-a70d-9cf0ce4fce4b",
   "metadata": {},
   "outputs": [
    {
     "name": "stdout",
     "output_type": "stream",
     "text": [
      "3\n"
     ]
    }
   ],
   "source": [
    "print(a + int(b))"
   ]
  },
  {
   "cell_type": "code",
   "execution_count": 168,
   "id": "a28e722a-0057-4918-ac0c-32ff16b3da21",
   "metadata": {},
   "outputs": [
    {
     "name": "stdout",
     "output_type": "stream",
     "text": [
      "3.0\n"
     ]
    }
   ],
   "source": [
    "print(float(a) + float(b))"
   ]
  },
  {
   "cell_type": "code",
   "execution_count": 169,
   "id": "9f9d6f5c-8250-4d92-ae7c-f6c5f60e31c0",
   "metadata": {},
   "outputs": [
    {
     "name": "stdout",
     "output_type": "stream",
     "text": [
      "3.0\n"
     ]
    }
   ],
   "source": [
    "print(int(a) + float(b))"
   ]
  },
  {
   "cell_type": "code",
   "execution_count": 170,
   "id": "a30d2210-3030-42f4-96ea-596fa2c64f29",
   "metadata": {},
   "outputs": [
    {
     "name": "stdout",
     "output_type": "stream",
     "text": [
      "12\n"
     ]
    }
   ],
   "source": [
    "print(str(a) + b)"
   ]
  },
  {
   "cell_type": "code",
   "execution_count": 172,
   "id": "d82c549f-35af-4247-813b-a0ff880e850c",
   "metadata": {},
   "outputs": [
    {
     "ename": "TypeError",
     "evalue": "int() argument must be a string, a bytes-like object or a real number, not 'type'",
     "output_type": "error",
     "traceback": [
      "\u001b[0;31m---------------------------------------------------------------------------\u001b[0m",
      "\u001b[0;31mTypeError\u001b[0m                                 Traceback (most recent call last)",
      "Cell \u001b[0;32mIn[172], line 3\u001b[0m\n\u001b[1;32m      1\u001b[0m \u001b[38;5;66;03m# 형변환이 안되는 경우\u001b[39;00m\n\u001b[1;32m      2\u001b[0m text \u001b[38;5;241m=\u001b[39m \u001b[38;5;124m'\u001b[39m\u001b[38;5;124mintasd\u001b[39m\u001b[38;5;124m'\u001b[39m\n\u001b[0;32m----> 3\u001b[0m \u001b[38;5;28;43mint\u001b[39;49m\u001b[43m(\u001b[49m\u001b[38;5;28;43mint\u001b[39;49m\u001b[43m)\u001b[49m\n",
      "\u001b[0;31mTypeError\u001b[0m: int() argument must be a string, a bytes-like object or a real number, not 'type'"
     ]
    }
   ],
   "source": [
    "# 형변환이 안되는 경우\n",
    "text = 'intasd'\n",
    "int(int)"
   ]
  },
  {
   "cell_type": "markdown",
   "id": "4adf7bc8-ae02-4320-a683-d803f6ce7805",
   "metadata": {},
   "source": [
    "## 7. 연산자의 종류와 우선순위\n",
    "- 괄호: ()(괄호 안의 표현식이 가장 먼저 계산ㄴ됨)\n",
    "- 지수 연산자 : **\n",
    "- 단항 연산자: -(음수), +, \n",
    "- 곱셈, 나눗셈, 나머지 연산자: *, /,//,%\n",
    "- 덧셈, 뺄셈 연산자: +, -\n",
    "- 비교 연산자: < ,>, <=, >=, == , !=\n",
    "- 논리 연산자: and, or, not\n",
    "- 멤버 연산자: in, not, in\n",
    "- 항등 연산자: is, is not\n",
    "- 할당 연산자: +=, -=\n",
    "- 삼항 조건 연산자: if-else 표현식>> 우선순위상 가장 마지막에 계산이 된다."
   ]
  },
  {
   "cell_type": "code",
   "execution_count": 173,
   "id": "9449fad6-1752-405d-8e70-ead759352b91",
   "metadata": {},
   "outputs": [],
   "source": [
    "# 산술 연산자\n",
    "a = 10\n",
    "b= 3"
   ]
  },
  {
   "cell_type": "code",
   "execution_count": 175,
   "id": "c552747f-9b84-4794-b07c-9a024f7a27e3",
   "metadata": {},
   "outputs": [
    {
     "name": "stdout",
     "output_type": "stream",
     "text": [
      "13\n",
      "7\n",
      "30\n",
      "3.3333333333333335\n",
      "3\n",
      "1\n",
      "1000\n"
     ]
    }
   ],
   "source": [
    "print(a+b)\n",
    "print(a-b)\n",
    "print(a*b)\n",
    "print(a/b)\n",
    "print(a//b)## 몫이 정수로 나온다는 점을 기억하자\n",
    "print(a%b)\n",
    "print(a**b)\n"
   ]
  },
  {
   "cell_type": "code",
   "execution_count": 177,
   "id": "2eab01c4-424f-4d9d-8096-daf4eab6fa7d",
   "metadata": {},
   "outputs": [],
   "source": [
    "# 할당 연산자\n",
    "a = 10"
   ]
  },
  {
   "cell_type": "code",
   "execution_count": 178,
   "id": "056e6039-2e66-4f3e-90d6-f339649be077",
   "metadata": {},
   "outputs": [
    {
     "data": {
      "text/plain": [
       "20"
      ]
     },
     "execution_count": 178,
     "metadata": {},
     "output_type": "execute_result"
    }
   ],
   "source": [
    "a = a +10\n",
    "a"
   ]
  },
  {
   "cell_type": "code",
   "execution_count": 179,
   "id": "1dea3d27-9952-4500-b40d-8911b9d569d1",
   "metadata": {},
   "outputs": [],
   "source": [
    "a+=10"
   ]
  },
  {
   "cell_type": "code",
   "execution_count": 180,
   "id": "188bef1f-762b-4e17-b7ab-6d9e3816d49f",
   "metadata": {},
   "outputs": [
    {
     "data": {
      "text/plain": [
       "30"
      ]
     },
     "execution_count": 180,
     "metadata": {},
     "output_type": "execute_result"
    }
   ],
   "source": [
    "a"
   ]
  },
  {
   "cell_type": "code",
   "execution_count": 181,
   "id": "66509f76-8f65-47b5-a203-32875c7757ee",
   "metadata": {},
   "outputs": [],
   "source": [
    "a/=3"
   ]
  },
  {
   "cell_type": "code",
   "execution_count": 182,
   "id": "b83df82f-e8c4-49b3-9ed2-3ae3185a9255",
   "metadata": {},
   "outputs": [
    {
     "data": {
      "text/plain": [
       "10.0"
      ]
     },
     "execution_count": 182,
     "metadata": {},
     "output_type": "execute_result"
    }
   ],
   "source": [
    "a\n"
   ]
  },
  {
   "cell_type": "code",
   "execution_count": 183,
   "id": "be9ff245-bc92-473d-b19e-0cfd1ac341dd",
   "metadata": {},
   "outputs": [],
   "source": [
    "a = 5\n",
    "b = 3\n"
   ]
  },
  {
   "cell_type": "code",
   "execution_count": 184,
   "id": "65d6bc1b-7838-4db9-a3de-a3e2a81573db",
   "metadata": {},
   "outputs": [
    {
     "name": "stdout",
     "output_type": "stream",
     "text": [
      "False\n"
     ]
    }
   ],
   "source": [
    "print(a == b)"
   ]
  },
  {
   "cell_type": "code",
   "execution_count": 185,
   "id": "eb723b54-6558-44d7-812b-da3505e27239",
   "metadata": {},
   "outputs": [
    {
     "name": "stdout",
     "output_type": "stream",
     "text": [
      "True\n",
      "True\n",
      "False\n"
     ]
    }
   ],
   "source": [
    "print( a!=b)\n",
    "print(a>b)\n",
    "print(a<b)"
   ]
  },
  {
   "cell_type": "code",
   "execution_count": 187,
   "id": "8b1a676e-2fe5-4c00-9754-4ecc30a61c93",
   "metadata": {},
   "outputs": [
    {
     "name": "stdout",
     "output_type": "stream",
     "text": [
      "True\n"
     ]
    }
   ],
   "source": [
    "print(a>=b)"
   ]
  },
  {
   "cell_type": "code",
   "execution_count": 188,
   "id": "4bfb5c61-1e3d-47d5-9e2b-94912aca1fec",
   "metadata": {},
   "outputs": [
    {
     "name": "stdout",
     "output_type": "stream",
     "text": [
      "False\n",
      "True\n",
      "False\n",
      "True\n"
     ]
    }
   ],
   "source": [
    "# 논리 연산자\n",
    "x = True\n",
    "y = False\n",
    "\n",
    "print (x and y)\n",
    "print( x or y )\n",
    "print(not x)\n",
    "print(not y)"
   ]
  },
  {
   "cell_type": "code",
   "execution_count": 189,
   "id": "81d980b5-8e5a-4421-9fed-4ec3d092be88",
   "metadata": {},
   "outputs": [
    {
     "name": "stdout",
     "output_type": "stream",
     "text": [
      "True\n"
     ]
    }
   ],
   "source": [
    "# 멤버 연산자\n",
    "li = ['jo', 'python' , 'robot']\n",
    "\n",
    "print('jo' in li)"
   ]
  },
  {
   "cell_type": "code",
   "execution_count": 192,
   "id": "097dee46-671e-4075-bc82-c87248e3d347",
   "metadata": {},
   "outputs": [
    {
     "data": {
      "text/plain": [
       "False"
      ]
     },
     "execution_count": 192,
     "metadata": {},
     "output_type": "execute_result"
    }
   ],
   "source": [
    "(True or False) and 'john' in li"
   ]
  },
  {
   "cell_type": "code",
   "execution_count": 193,
   "id": "9f46ef3b-48e8-4d5d-9562-75292360915f",
   "metadata": {},
   "outputs": [
    {
     "data": {
      "text/plain": [
       "True"
      ]
     },
     "execution_count": 193,
     "metadata": {},
     "output_type": "execute_result"
    }
   ],
   "source": [
    "# 항등 연산자\n",
    "x = 10\n",
    "y = 10\n",
    "x is y"
   ]
  },
  {
   "cell_type": "code",
   "execution_count": 197,
   "id": "53332eec-fdaf-4428-8ee6-15f9f7077dcd",
   "metadata": {},
   "outputs": [
    {
     "data": {
      "text/plain": [
       "True"
      ]
     },
     "execution_count": 197,
     "metadata": {},
     "output_type": "execute_result"
    }
   ],
   "source": [
    "id(x) ==  id(y)"
   ]
  },
  {
   "cell_type": "markdown",
   "id": "4194ba89-fdd5-47a6-9de6-b8b84b49d6eb",
   "metadata": {},
   "source": [
    "# 8. random() 함수"
   ]
  },
  {
   "cell_type": "code",
   "execution_count": 198,
   "id": "a896dec6-e727-44fb-8467-68418e6f7bc7",
   "metadata": {},
   "outputs": [],
   "source": [
    "import random"
   ]
  },
  {
   "cell_type": "code",
   "execution_count": 235,
   "id": "96b31297-77db-4da2-bde7-abe3b3620553",
   "metadata": {},
   "outputs": [
    {
     "data": {
      "text/plain": [
       "6"
      ]
     },
     "execution_count": 235,
     "metadata": {},
     "output_type": "execute_result"
    }
   ],
   "source": [
    "random.randint(1, 10)"
   ]
  },
  {
   "cell_type": "code",
   "execution_count": 221,
   "id": "9b91f42b-ceb3-42af-976d-604c42062c38",
   "metadata": {},
   "outputs": [],
   "source": [
    "# 입력함수\n",
    "# 입력받은 데이터를 변수에 할당\n",
    "# input()"
   ]
  },
  {
   "cell_type": "code",
   "execution_count": 225,
   "id": "9835412a-85a8-4082-b2ef-38ffaf524d35",
   "metadata": {},
   "outputs": [
    {
     "name": "stdin",
     "output_type": "stream",
     "text": [
      " 1\n"
     ]
    }
   ],
   "source": [
    "data = int(input())\n"
   ]
  },
  {
   "cell_type": "code",
   "execution_count": 227,
   "id": "6cced1d0-3f8e-4f2a-9d7f-13ff991fad1e",
   "metadata": {},
   "outputs": [
    {
     "data": {
      "text/plain": [
       "int"
      ]
     },
     "execution_count": 227,
     "metadata": {},
     "output_type": "execute_result"
    }
   ],
   "source": [
    "type(data)\n"
   ]
  },
  {
   "cell_type": "code",
   "execution_count": 229,
   "id": "914d1903-04f2-4a27-bd04-00427f46faab",
   "metadata": {},
   "outputs": [],
   "source": [
    "## 솔루션을 리스트로 작성\n",
    "# 질문 입력\n",
    "# 저.. 이거 공부하면 잘될 수 있을까요?\n",
    "# 솔루션중, 한가지 대답을 랜덤하게 선택해서 보여줌\n",
    "# 솔루션의 갯수에 맞게 랜덤한  index 정수값을 생성\n",
    "# index에 해당하는 솔루션 대답을 보여줌\n",
    "solutions = [\n",
    "    '포기하지 말고 힘내주세요', \n",
    "    '집에 가는 것은 어떨까요?',\n",
    "    '코로나 안 걸릴 수 있어요 건강하세요',\n",
    "    '많이 아파 보여요'\n",
    "]\n",
    "    "
   ]
  },
  {
   "cell_type": "code",
   "execution_count": 239,
   "id": "3371da84-f9be-494f-8e98-a105ac4e2572",
   "metadata": {},
   "outputs": [
    {
     "name": "stdin",
     "output_type": "stream",
     "text": [
      "질문을 입력하세요 :  sdsd\n"
     ]
    },
    {
     "data": {
      "text/plain": [
       "'포기하지 말고 힘내주세요'"
      ]
     },
     "execution_count": 239,
     "metadata": {},
     "output_type": "execute_result"
    }
   ],
   "source": [
    "input('질문을 입력하세요 : ')\n",
    "solutions[random.randint(0,len(solutions)-1)]"
   ]
  }
 ],
 "metadata": {
  "kernelspec": {
   "display_name": "Python 3 (ipykernel)",
   "language": "python",
   "name": "python3"
  },
  "language_info": {
   "codemirror_mode": {
    "name": "ipython",
    "version": 3
   },
   "file_extension": ".py",
   "mimetype": "text/x-python",
   "name": "python",
   "nbconvert_exporter": "python",
   "pygments_lexer": "ipython3",
   "version": "3.10.12"
  }
 },
 "nbformat": 4,
 "nbformat_minor": 5
}
