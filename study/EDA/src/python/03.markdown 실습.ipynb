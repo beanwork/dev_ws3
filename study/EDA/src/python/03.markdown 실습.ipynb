{
 "cells": [
  {
   "cell_type": "markdown",
   "id": "0294bd0f-a3a8-4356-bbe8-3bf8097fa615",
   "metadata": {},
   "source": [
    "## 소개"
   ]
  },
  {
   "cell_type": "markdown",
   "id": "7b87466a-e3ed-46b8-b328-9ff95fe14449",
   "metadata": {},
   "source": [
    "#### 안녕하세요! 마크다운 문법 실습입니다.😕 본인이 관심있는 주제를 잡아 정보를 담아 작성해주세요!"
   ]
  },
  {
   "cell_type": "markdown",
   "id": "1c545126-dfbc-4015-8ebd-7cbf82e6b0ce",
   "metadata": {},
   "source": [
    "### 최신 포스트"
   ]
  },
  {
   "cell_type": "markdown",
   "id": "9d9e6ac5-b483-473d-995e-e59f55493e2b",
   "metadata": {},
   "source": [
    "## 1.파이썬과 환경설정에 대해 알아봤습니다 🎚"
   ]
  },
  {
   "cell_type": "markdown",
   "id": "c3831f41-5155-428e-a9e3-e58d7c0fac51",
   "metadata": {},
   "source": [
    "- 파이썬 환경 이해하기"
   ]
  },
  {
   "cell_type": "markdown",
   "id": "d3445a61-83b8-417a-acc4-adb41a7e3f5b",
   "metadata": {},
   "source": [
    "``` python\n",
    "print(\"hi\")\n",
    "```"
   ]
  },
  {
   "cell_type": "markdown",
   "id": "f6a138fe-bca6-4222-8b41-cd47f19673a1",
   "metadata": {},
   "source": [
    "``` python\n",
    "print(\"우리 모두 시험 잘봐요\")\n",
    "print(\"hi\")\n",
    "```"
   ]
  },
  {
   "cell_type": "markdown",
   "id": "33512af5-535a-4f3d-a0e6-84643e0be601",
   "metadata": {},
   "source": [
    "1. 위와 같은 방식으로 코드를 작성할 수 있습니다\n",
    "2. 파이썬 파일 확장자는 python.py입니다.\n",
    "3. 그리고 우리는 *jupyterNotebook*에서 작업을 하고 있습니다\n",
    "   - 대화형 프로그래밍 환경으로, 코드와 문서를 통합하여 작성하고 실행할 수 있는 웹 기반의 인터페이스입니다.\n",
    "\n",
    "4. *jupyter notebook* 파일 확장자는 ipython.ipynb입니다."
   ]
  },
  {
   "cell_type": "markdown",
   "id": "7b4923d4-2ac9-4490-8bd4-ba4e58e4f015",
   "metadata": {},
   "source": [
    "## 2.파이썬으로 데이터를 분석하고, ROS를 사용하자!"
   ]
  },
  {
   "cell_type": "markdown",
   "id": "6bd2d22c-bf6d-42f4-b8d1-7ca1311c2b17",
   "metadata": {},
   "source": [
    "- 파이썬으로 데이터 주무르기"
   ]
  },
  {
   "cell_type": "markdown",
   "id": "c7448f75-4ea7-471f-b584-3658a537a303",
   "metadata": {},
   "source": [
    "![이미지](https://image.yes24.com/goods/57670268/XL)"
   ]
  },
  {
   "cell_type": "markdown",
   "id": "4710a25d-99ff-455e-915f-e9d10ba5ce53",
   "metadata": {},
   "source": [
    "- ROS2 혼자 공부하는 로봇 SW"
   ]
  },
  {
   "cell_type": "markdown",
   "id": "2023cb8f-9978-4c0e-9dd0-16d70fb6addc",
   "metadata": {},
   "source": [
    "![이미지](https://image.yes24.com/goods/112250822/XL)"
   ]
  },
  {
   "cell_type": "markdown",
   "id": "1db63380-37ad-4707-a42f-ca6a40981b4d",
   "metadata": {},
   "source": [
    "## 책소개 "
   ]
  },
  {
   "cell_type": "markdown",
   "id": "c721191f-961e-401d-b4bb-75189dbbc053",
   "metadata": {},
   "source": [
    "> 이 책은 ROS라는 도구의 존재를 알고 공부하려는 분중에 아직 공부를 시작하지 않았거나, 이것저것 예제를 돌려봤지만 어떤 것인지 감을 잡지 못한 분들을 대상으로 하고 있다. 오랫동안 강의를 해왔던 나의 경험을 바탕으로 이러한 독자들이 쉽게 이해할 수 있게 이야기를 들려주는 것처럼 이 책을 기술했다.이 책이 추구하는 것은 독자들이 빠르게 ROS의 원리와 사용법을 파악해서 하고 싶은 일을 할 수 있도록 하는 것이다."
   ]
  },
  {
   "cell_type": "markdown",
   "id": "c9643219-4926-4db6-b45c-050a54f1be62",
   "metadata": {},
   "source": [
    "## 3.파이썬 프로젝트 아이디어 공유"
   ]
  },
  {
   "cell_type": "markdown",
   "id": "5933bd25-6f83-4b25-ae1e-6672ec1c2917",
   "metadata": {},
   "source": [
    "- 자율주행 로봇 SW 개발- 차선인식, 장애물 회피, SLAM ,ros2"
   ]
  },
  {
   "cell_type": "markdown",
   "id": "03eb9605-94b4-4136-a8e6-dd5eb82ae69b",
   "metadata": {},
   "source": [
    "- 패스트 캠퍼스 DS스쿨 14기 X-ray 사진을 이용한 바이러스성 폐렴 구분 프로젝트 소개"
   ]
  },
  {
   "cell_type": "markdown",
   "id": "8878b947-36c2-4047-9991-1c19eab0ee93",
   "metadata": {},
   "source": [
    "### 블로그에 기여하기"
   ]
  },
  {
   "cell_type": "markdown",
   "id": "b6d1314b-a510-4340-9048-c67c1a1e3ab4",
   "metadata": {},
   "source": [
    "# **마크다운이란**"
   ]
  },
  {
   "cell_type": "markdown",
   "id": "56fe0571-7f83-41aa-98fa-30eb00f2b103",
   "metadata": {},
   "source": [
    "> 마크 다운은 일반 텍스트 기반의 경량 마크업 언어이다."
   ]
  },
  {
   "cell_type": "markdown",
   "id": "24f20440-1754-4904-aaef-2b3b844a639b",
   "metadata": {},
   "source": [
    "# **마크다운 작성법**"
   ]
  },
  {
   "cell_type": "markdown",
   "id": "cd47c926-dec3-49fc-ad23-a6438ceef6d3",
   "metadata": {},
   "source": [
    "# **1. 제목(header)**"
   ]
  },
  {
   "cell_type": "markdown",
   "id": "e4a1f70f-e5f0-429c-b891-dfa258367590",
   "metadata": {},
   "source": [
    "h1부터 h6까지 표현 가능하며 #의 갯수로 표현가능하다"
   ]
  },
  {
   "cell_type": "markdown",
   "id": "5d3dc619-79b7-4034-ae79-a90c418d8842",
   "metadata": {},
   "source": [
    "# 개발 블로그\n",
    "\n",
    "## 소개\n",
    "안녕하세요! ** 마크 다운 문법** 실습입니다. 본인이 관심있는 주제를 잡아 정보를 담아주세요\n",
    "## 최신포스트\n",
    "### 1.파이썬과 환경설정에 대해 알아봤습니다.\n",
    "- . 파이썬 연습\n",
    "```python\n",
    "\n",
    "print(\"hi\")\n",
    "print(\"파이썬\")\n",
    "```\n",
    "\n",
    "1. 위와 같은 방식으로 코드를 작성할 수 있습니다.\n",
    "2. 파이썬 파일 확장자는\n",
    "### 2. 파있너으로 데이터를 분석하고 ros를 사용하자!\n",
    "- ![파이썬으로 데이터 주무르기](https://velog.velcdn.com/images/rlaqja9199/post/7cb1fb8d-c2d3-4f52-9907-e90596f23af4/image.jpg)\n",
    "- "
   ]
  },
  {
   "cell_type": "markdown",
   "id": "8b388d6d-0204-4e85-b8fc-0fb1c700017f",
   "metadata": {},
   "source": [
    "### 3. 자율주행 프로젝트 아이디어 공유\n",
    "- [자율주행 로봇 만들기]\n",
    "#### 프로젝트에 기여하기\n",
    "프로젝트에 기여하고 싶다면 [github 저장소]에서 DM주세요"
   ]
  },
  {
   "cell_type": "markdown",
   "id": "ca050fd0-7c60-4190-a253-eff4c7de30b4",
   "metadata": {},
   "source": [
    "# 마크다운의 장점\n",
    "1. 문법이 쉽다.\n",
    "2. 관리가 쉽다\n",
    "3. 지원 가능한 플랫폼과 프로그램이다양하다."
   ]
  },
  {
   "cell_type": "markdown",
   "id": "7f750c58-f2dc-4907-b456-45688e0ce229",
   "metadata": {},
   "source": [
    "# 마크다운의 장점\n",
    "1. 표준이 없어 사용자마다 문법이 상이할 수 있다.\n",
    "2. 모든 HTML 마크업을 대신하지 못한다."
   ]
  },
  {
   "cell_type": "markdown",
   "id": "1210b6d0-67f3-4c28-b912-ee2eb85f0a0c",
   "metadata": {},
   "source": [
    "# 마크다운의 사용\n",
    "메모장 부터 전용 에디터까지 많은 곳에서 활용할 수 있습니다.\n",
    "문법이 쉽기 때문에 꼭 전용 에디터를 사용할 필요는 없습니다만, 마크다운 코드의 하이라이트 효과를 원한다면 \n",
    "전용 에디터가 좋은 선택이 될 거 같네요\n",
    "저는 평소 Atom을 사용하고 있습니다.\n",
    "혹은 마크다운 문법을 지원하는 모든 곳에서 사용할 수 있으며, 일반 블로그나 워드 프레스 외 Slack이나 Trello 같은 \n",
    "서비스에서 메세지를 작성하듯 사용할 수 도 있습니다.\n",
    "화면에 표현되는 스타일 (CSS)은 설정에 따라 달라집니다.\n",
    "HTML과 마찬가지로 눈에 보이는 스타일은 무시학 ㅗ각 문법의 의미로 사용하세요."
   ]
  },
  {
   "cell_type": "code",
   "execution_count": null,
   "id": "6cb61fac-0ba1-4a92-8aec-fab273b66b24",
   "metadata": {},
   "outputs": [],
   "source": []
  }
 ],
 "metadata": {
  "kernelspec": {
   "display_name": "Python 3 (ipykernel)",
   "language": "python",
   "name": "python3"
  },
  "language_info": {
   "codemirror_mode": {
    "name": "ipython",
    "version": 3
   },
   "file_extension": ".py",
   "mimetype": "text/x-python",
   "name": "python",
   "nbconvert_exporter": "python",
   "pygments_lexer": "ipython3",
   "version": "3.10.12"
  }
 },
 "nbformat": 4,
 "nbformat_minor": 5
}
