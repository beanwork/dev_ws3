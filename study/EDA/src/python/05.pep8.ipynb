{
 "cells": [
  {
   "cell_type": "markdown",
   "id": "22538270-eb48-47d0-9f3c-bdffaeda8c4d",
   "metadata": {},
   "source": [
    "# pep 8\n",
    "- Python Enhancement Propasal 8\n",
    "- 파이썬 코드 작성 규칙(컨벤션)"
   ]
  },
  {
   "cell_type": "code",
   "execution_count": 1,
   "id": "3f5548ca-e832-4220-b940-70ad8a781180",
   "metadata": {},
   "outputs": [
    {
     "name": "stdout",
     "output_type": "stream",
     "text": [
      "The Zen of Python, by Tim Peters\n",
      "\n",
      "Beautiful is better than ugly.\n",
      "Explicit is better than implicit.\n",
      "Simple is better than complex.\n",
      "Complex is better than complicated.\n",
      "Flat is better than nested.\n",
      "Sparse is better than dense.\n",
      "Readability counts.\n",
      "Special cases aren't special enough to break the rules.\n",
      "Although practicality beats purity.\n",
      "Errors should never pass silently.\n",
      "Unless explicitly silenced.\n",
      "In the face of ambiguity, refuse the temptation to guess.\n",
      "There should be one-- and preferably only one --obvious way to do it.\n",
      "Although that way may not be obvious at first unless you're Dutch.\n",
      "Now is better than never.\n",
      "Although never is often better than *right* now.\n",
      "If the implementation is hard to explain, it's a bad idea.\n",
      "If the implementation is easy to explain, it may be a good idea.\n",
      "Namespaces are one honking great idea -- let's do more of those!\n"
     ]
    }
   ],
   "source": [
    "import this"
   ]
  },
  {
   "cell_type": "markdown",
   "id": "6c965852-5475-4d71-844a-8126ec003f2a",
   "metadata": {},
   "source": [
    "## 가로 간격 \n",
    "- 들여쓰기(indentation)\n",
    "- 공백 4칸\n",
    "    - 2칸은 구분이 잘 안됨\n",
    "    - 8칸은 구분이 너무 큼\n",
    "    - 2,4,8,16과 같은 2의 거듭제곱 수를 선호하는 경향\n",
    "    - 3,6 같은 수는 고려 대상에 포함되지 않음"
   ]
  },
  {
   "cell_type": "code",
   "execution_count": 6,
   "id": "c1b24887-46c7-4987-b313-a24d10c7279a",
   "metadata": {},
   "outputs": [
    {
     "name": "stdout",
     "output_type": "stream",
     "text": [
      "0\n",
      "1\n",
      "2\n"
     ]
    }
   ],
   "source": [
    "for i in range(3):\n",
    "        print(i)"
   ]
  },
  {
   "cell_type": "markdown",
   "id": "7f91ac60-9d78-4f67-9dcd-c6481f4504a9",
   "metadata": {},
   "source": [
    "## 세로 간격"
   ]
  },
  {
   "cell_type": "code",
   "execution_count": 8,
   "id": "2ad6d639-1c90-4831-93dd-97282783a3c7",
   "metadata": {},
   "outputs": [],
   "source": [
    "# 나쁜 예\n",
    "class MyCalc:\n",
    "    def __init__():\n",
    "        pass\n",
    "    def plus():\n",
    "        pass\n",
    "    def minus():\n",
    "        pass"
   ]
  },
  {
   "cell_type": "code",
   "execution_count": 9,
   "id": "d85183e9-49d7-4d15-bd78-331cc84400af",
   "metadata": {},
   "outputs": [],
   "source": [
    "# 좋은 예\n",
    "class MyCalc():\n",
    "    def __init__():\n",
    "        pass\n",
    "\n",
    "    def plus():\n",
    "        pass\n",
    "        \n",
    "    def minus():\n",
    "        pass"
   ]
  },
  {
   "cell_type": "markdown",
   "id": "ec32b1aa-70e6-450e-9020-ebc8ba553ef1",
   "metadata": {},
   "source": [
    "## 연산자와 식별자 사이에 공백 한 칸"
   ]
  },
  {
   "cell_type": "markdown",
   "id": "e7396c0a-2b2b-439f-b4ae-afb4d6723f9f",
   "metadata": {},
   "source": [
    "```python\n",
    "# 나쁜 예\n",
    "\n",
    "blank=blank[1]+blank[2]+blank[3]\n",
    "\n",
    "# 좋은 예\n",
    "blank = blank[1] + blank[2] + blank[3]\n",
    "```"
   ]
  },
  {
   "cell_type": "markdown",
   "id": "8cadcf28-6c21-49e9-b2ed-06c49160fc34",
   "metadata": {},
   "source": [
    "## 구분자는 뒤쪽에 공백 한 칸"
   ]
  },
  {
   "cell_type": "code",
   "execution_count": 12,
   "id": "967cf77e-e460-4cd9-a646-9f1a3d751f23",
   "metadata": {},
   "outputs": [],
   "source": [
    "# 좋은 예\n",
    "def spam(eggs, bacon, ham):\n",
    "    weights = [42.0, 3.1415, 2.718]\n",
    "# 나쁜 예\n",
    "def spam(eggs,bacon,ham):\n",
    "    weights =[42.0,3.1414,2.4334]\n",
    "def spam(eggs , bacon , ham):\n",
    "    weights = [42.0 , 3.124 , 123123]"
   ]
  },
  {
   "cell_type": "markdown",
   "id": "9f0da0bc-cdb6-413f-9ea3-b51ca88a7057",
   "metadata": {},
   "source": [
    "## 마침표 앞뒤에는 공백을 넣지 않는다"
   ]
  },
  {
   "cell_type": "markdown",
   "id": "2c9316ad-1997-4dc3-b45b-4583425451c3",
   "metadata": {},
   "source": [
    "```python\n",
    "import random\n",
    "\n",
    "# 좋은 예\n",
    "random.choice()\n",
    "\n",
    "# 나쁜 예\n",
    "random . randint()\n",
    "```"
   ]
  },
  {
   "cell_type": "code",
   "execution_count": 14,
   "id": "b6901fee-db52-4d8b-a53d-135ad16f85af",
   "metadata": {},
   "outputs": [
    {
     "name": "stdout",
     "output_type": "stream",
     "text": [
      "Hello, World!\n",
      "Hello, World!\n"
     ]
    }
   ],
   "source": [
    "# 함수, 메서드 등 이름 뒤에는 공백을 넣지 않습니다\n",
    "\n",
    "# 좋은 예\n",
    "print('Hello, World!')\n",
    "\n",
    "# 나쁜 예\n",
    "print ('Hello, World!')"
   ]
  },
  {
   "cell_type": "code",
   "execution_count": 15,
   "id": "b815972f-2d9b-4662-bab6-a3fc02374efd",
   "metadata": {},
   "outputs": [],
   "source": [
    "data = [1, 2, 3, 4]"
   ]
  },
  {
   "cell_type": "code",
   "execution_count": 16,
   "id": "8b91d82c-aee6-4b08-bb7a-ac7f75a2feb1",
   "metadata": {},
   "outputs": [
    {
     "data": {
      "text/plain": [
       "(3, [1, 2, 3])"
      ]
     },
     "execution_count": 16,
     "metadata": {},
     "output_type": "execute_result"
    }
   ],
   "source": [
    "# 좋은 예\n",
    "data[2], data[0:3]\n",
    "\n",
    "# 나쁜 예\n",
    "data [2], data                   [0:3]"
   ]
  },
  {
   "cell_type": "markdown",
   "id": "55d1a8aa-8080-4d94-9964-a58caf2ff666",
   "metadata": {},
   "source": [
    "## 괄호 앞뒤에는 공백을 넣지 않습니다"
   ]
  },
  {
   "cell_type": "code",
   "execution_count": 17,
   "id": "878cae1c-8464-408b-acc4-e42bd9dce786",
   "metadata": {},
   "outputs": [],
   "source": [
    "# 좋은 예\n",
    "def func(value1, value2, value3):\n",
    "    feature = [1, 2, 3]\n",
    "\n",
    "# 나쁜 예\n",
    "def func( value1, value2, value3 ):\n",
    "    feature = [ 1, 2, 3 ]"
   ]
  },
  {
   "cell_type": "markdown",
   "id": "bc82c80d-4d46-4a6e-99fb-801ae7320b60",
   "metadata": {},
   "source": [
    "## 코드행 끝의 주석 앞에는 공백 2칸\n",
    " - 공백이 하나 또는 아예 없는 경우 구분하기 어렵다"
   ]
  },
  {
   "cell_type": "code",
   "execution_count": 19,
   "id": "3aebe561-acf3-475e-9daf-7c347a269c5b",
   "metadata": {},
   "outputs": [
    {
     "data": {
      "text/plain": [
       "7"
      ]
     },
     "execution_count": 19,
     "metadata": {},
     "output_type": "execute_result"
    }
   ],
   "source": [
    "# 좋은 예\n",
    "import random\n",
    "\n",
    "random.randint(1, 10) # 1부터 10중 랜덤하게 숫자 하나를 뽑습니다"
   ]
  },
  {
   "cell_type": "code",
   "execution_count": 20,
   "id": "12035016-875c-4633-b280-744a16da8a05",
   "metadata": {},
   "outputs": [
    {
     "data": {
      "text/plain": [
       "6"
      ]
     },
     "execution_count": 20,
     "metadata": {},
     "output_type": "execute_result"
    }
   ],
   "source": [
    "# 나쁜 예\n",
    "random.randint(1, 10)# 1부터 10중 랜덤하게 숫자 하나를 뽑습니다\n",
    "random.randint(1, 10) #1부터 10중 랜덤하게 숫자 하나를 뽑습니다"
   ]
  },
  {
   "cell_type": "code",
   "execution_count": 21,
   "id": "edafad99-80c7-448a-b8fa-2359a8c8804d",
   "metadata": {},
   "outputs": [],
   "source": [
    "# 좋은 예\n",
    "import random\n",
    "import sys\n",
    "import os"
   ]
  },
  {
   "cell_type": "code",
   "execution_count": 22,
   "id": "5585b554-871a-4a9d-bbb4-4a0cb8c3afdd",
   "metadata": {},
   "outputs": [],
   "source": [
    "# 나쁜 예\n",
    "import random, sys, os"
   ]
  },
  {
   "cell_type": "code",
   "execution_count": 26,
   "id": "0e644912-00df-4e17-9e41-bd7c11b81892",
   "metadata": {},
   "outputs": [],
   "source": [
    "# 나쁜 예\n",
    "from urllib.request import Request\n",
    "import pandas as pd\n",
    "import numpy as np"
   ]
  },
  {
   "cell_type": "code",
   "execution_count": null,
   "id": "58a048ae-c68f-482a-a4c0-f5695400b2f5",
   "metadata": {},
   "outputs": [],
   "source": [
    "ㅠ=ㅠ"
   ]
  },
  {
   "cell_type": "code",
   "execution_count": 25,
   "id": "51c84d4a-edba-485c-a5b0-5a98d2cb1eba",
   "metadata": {},
   "outputs": [
    {
     "name": "stdout",
     "output_type": "stream",
     "text": [
      "Collecting pandas\n",
      "  Obtaining dependency information for pandas from https://files.pythonhosted.org/packages/e3/59/35a2892bf09ded9c1bf3804461efe772836a5261ef5dfb4e264ce813ff99/pandas-2.0.3-cp310-cp310-manylinux_2_17_x86_64.manylinux2014_x86_64.whl.metadata\n",
      "  Downloading pandas-2.0.3-cp310-cp310-manylinux_2_17_x86_64.manylinux2014_x86_64.whl.metadata (18 kB)\n",
      "Requirement already satisfied: python-dateutil>=2.8.2 in /home/soomin/venv/eda_venv/lib/python3.10/site-packages (from pandas) (2.8.2)\n",
      "Collecting pytz>=2020.1 (from pandas)\n",
      "  Downloading pytz-2023.3-py2.py3-none-any.whl (502 kB)\n",
      "\u001b[2K     \u001b[38;2;114;156;31m━━━━━━━━━━━━━━━━━━━━━━━━━━━━━━━━━━━━━━\u001b[0m \u001b[32m502.3/502.3 kB\u001b[0m \u001b[31m17.0 MB/s\u001b[0m eta \u001b[36m0:00:00\u001b[0m\n",
      "\u001b[?25hCollecting tzdata>=2022.1 (from pandas)\n",
      "  Downloading tzdata-2023.3-py2.py3-none-any.whl (341 kB)\n",
      "\u001b[2K     \u001b[38;2;114;156;31m━━━━━━━━━━━━━━━━━━━━━━━━━━━━━━━━━━━━━━\u001b[0m \u001b[32m341.8/341.8 kB\u001b[0m \u001b[31m63.1 MB/s\u001b[0m eta \u001b[36m0:00:00\u001b[0m\n",
      "\u001b[?25hRequirement already satisfied: numpy>=1.21.0 in /home/soomin/venv/eda_venv/lib/python3.10/site-packages (from pandas) (1.25.1)\n",
      "Requirement already satisfied: six>=1.5 in /home/soomin/venv/eda_venv/lib/python3.10/site-packages (from python-dateutil>=2.8.2->pandas) (1.16.0)\n",
      "Downloading pandas-2.0.3-cp310-cp310-manylinux_2_17_x86_64.manylinux2014_x86_64.whl (12.3 MB)\n",
      "\u001b[2K   \u001b[38;2;114;156;31m━━━━━━━━━━━━━━━━━━━━━━━━━━━━━━━━━━━━━━━━\u001b[0m \u001b[32m12.3/12.3 MB\u001b[0m \u001b[31m42.4 MB/s\u001b[0m eta \u001b[36m0:00:00\u001b[0mm eta \u001b[36m0:00:01\u001b[0m36m0:00:01\u001b[0m\n",
      "\u001b[?25hInstalling collected packages: pytz, tzdata, pandas\n",
      "Successfully installed pandas-2.0.3 pytz-2023.3 tzdata-2023.3\n",
      "Note: you may need to restart the kernel to use updated packages.\n"
     ]
    }
   ],
   "source": [
    "pip install pandas"
   ]
  },
  {
   "cell_type": "markdown",
   "id": "58a9cdaa-c356-4938-885b-3dcfd447624e",
   "metadata": {},
   "source": [
    "## 작명 규칙\n",
    "- 스네이크 케이스\n",
    "    - 변수 함수 메서드 이름은 소문자로 스네이크 케이스\n",
    "- 카멜 케이스(파스칼 케이스 라고도 불림)\n",
    "    - 클래스 이름\n",
    "    - camelCase >> 카멜\n",
    "    - CamelCase >> 파스칼"
   ]
  },
  {
   "cell_type": "code",
   "execution_count": 28,
   "id": "acd6e9d2-879f-471f-b865-9292287b3283",
   "metadata": {},
   "outputs": [],
   "source": [
    "# 좋은 예\n",
    "my_li = [1, 2, 3]\n",
    "my_datas = [4, 5, 6] "
   ]
  },
  {
   "cell_type": "code",
   "execution_count": 29,
   "id": "da427c98-b20e-4047-8c87-6e31104c9528",
   "metadata": {},
   "outputs": [],
   "source": [
    "# 나쁜 예\n",
    "MyDatas = [7, 8,9 ] ## 낙타 혹 처럼 크고 작아서 카멜 케이스"
   ]
  },
  {
   "cell_type": "code",
   "execution_count": 30,
   "id": "af8519cf-3e18-419d-965a-b7ba429edd02",
   "metadata": {},
   "outputs": [],
   "source": [
    "# 나쁜 예\n",
    "def FuncCalc():\n",
    "    pass\n",
    "\n",
    "# 좋은 예\n",
    "def func_calc():\n",
    "    pass"
   ]
  },
  {
   "cell_type": "code",
   "execution_count": 31,
   "id": "ea599240-b51e-474c-952b-1a8ae4a9423d",
   "metadata": {},
   "outputs": [],
   "source": [
    "# 좋은 예\n",
    "class MyCalc():\n",
    "    pass\n",
    "\n",
    "# 나쁜 예\n",
    "class my_calc():\n",
    "    pass"
   ]
  },
  {
   "cell_type": "code",
   "execution_count": null,
   "id": "bca59077-c2e1-4827-a34d-0a708bfc9155",
   "metadata": {},
   "outputs": [],
   "source": []
  }
 ],
 "metadata": {
  "kernelspec": {
   "display_name": "Python 3 (ipykernel)",
   "language": "python",
   "name": "python3"
  },
  "language_info": {
   "codemirror_mode": {
    "name": "ipython",
    "version": 3
   },
   "file_extension": ".py",
   "mimetype": "text/x-python",
   "name": "python",
   "nbconvert_exporter": "python",
   "pygments_lexer": "ipython3",
   "version": "3.10.12"
  }
 },
 "nbformat": 4,
 "nbformat_minor": 5
}
