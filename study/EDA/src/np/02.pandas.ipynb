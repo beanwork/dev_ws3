{
 "cells": [
  {
   "cell_type": "markdown",
   "id": "0c854b8f-e68d-4dcf-9b68-d2162b775901",
   "metadata": {},
   "source": [
    "# pandas\n",
    "- pandas 는 데이터 분석과 조작(전처리)를 위한 파이썬 오픈소스 라이브러리\n",
    "- Series 와 DaataFrame 이라는 데이터 타입을 이용\n",
    "- 데이터 필터링, 정렬, 그룹화, 결측치처리, 시각화 등"
   ]
  },
  {
   "cell_type": "markdown",
   "id": "f79fbd5c-3b6e-49d7-aab0-8cc26972d2eb",
   "metadata": {},
   "source": [
    "- pandas 데이터 타입\n",
    "    - Series\n",
    "        - index, value 로 이루어진 데이터 타입\n",
    "    - DataFrame\n",
    "        - index, values, columns 으로 이루어진 데이터 타입\n",
    "        - Series 데이터가 모이면 DataFrame\n",
    "        - tabular, table"
   ]
  },
  {
   "cell_type": "markdown",
   "id": "b1af7b7e-81f1-47a6-b2a4-bfff4779ed47",
   "metadata": {},
   "source": [
    "- 파이썬에서 쓰는 엑셀\n",
    "- 스테로이드 맞은 엑셀"
   ]
  },
  {
   "cell_type": "markdown",
   "id": "8baa645b-daca-42f3-92fc-5b2b5f7e16d9",
   "metadata": {},
   "source": [
    "## 01. Series\n",
    "- index, values"
   ]
  },
  {
   "cell_type": "code",
   "execution_count": 2,
   "id": "bd901aaa-0951-4653-9d47-7ad6a0bf624c",
   "metadata": {},
   "outputs": [],
   "source": [
    "# !pip install pandas"
   ]
  },
  {
   "cell_type": "code",
   "execution_count": 3,
   "id": "63e1d1bf-3586-4363-aefe-a57e3e725e6e",
   "metadata": {},
   "outputs": [],
   "source": [
    "import numpy as np\n",
    "import pandas as pd"
   ]
  },
  {
   "cell_type": "code",
   "execution_count": 7,
   "id": "60fd95fa-8889-44f3-914a-cd02e8169247",
   "metadata": {},
   "outputs": [],
   "source": [
    "# 선언\n",
    "series = pd.Series([1, 2, 3, 4])"
   ]
  },
  {
   "cell_type": "code",
   "execution_count": 8,
   "id": "b8d1424b-c3ba-4b17-a69a-4f5c97030d6c",
   "metadata": {},
   "outputs": [
    {
     "data": {
      "text/plain": [
       "pandas.core.series.Series"
      ]
     },
     "execution_count": 8,
     "metadata": {},
     "output_type": "execute_result"
    }
   ],
   "source": [
    "type(series)"
   ]
  },
  {
   "cell_type": "code",
   "execution_count": 9,
   "id": "12fba554-b017-4258-984c-a16b7cf7fb72",
   "metadata": {},
   "outputs": [
    {
     "data": {
      "text/plain": [
       "(1,\n",
       " 4,\n",
       " 1    2\n",
       " 2    3\n",
       " dtype: int64,\n",
       " numpy.int64)"
      ]
     },
     "execution_count": 9,
     "metadata": {},
     "output_type": "execute_result"
    }
   ],
   "source": [
    "# 오프셋 인덱스\n",
    "series[0], series[3], series[1:3], type(series[2])"
   ]
  },
  {
   "cell_type": "code",
   "execution_count": 10,
   "id": "037a8f68-ff72-4bed-8b57-c82b4bdb6af9",
   "metadata": {},
   "outputs": [
    {
     "data": {
      "text/plain": [
       "0    1.0\n",
       "1    2.0\n",
       "2    3.0\n",
       "dtype: float64"
      ]
     },
     "execution_count": 10,
     "metadata": {},
     "output_type": "execute_result"
    }
   ],
   "source": [
    "# 시리즈 내부 데이터 타입\n",
    "pd.Series([1, 2, 3], dtype = np.float64)"
   ]
  },
  {
   "cell_type": "code",
   "execution_count": 12,
   "id": "1f8917f2-55a1-4743-aec6-171c3e97f95e",
   "metadata": {},
   "outputs": [
    {
     "data": {
      "text/plain": [
       "0    1\n",
       "1    2\n",
       "2    3\n",
       "3    4\n",
       "dtype: object"
      ]
     },
     "execution_count": 12,
     "metadata": {},
     "output_type": "execute_result"
    }
   ],
   "source": [
    "# 한 가지 데이터 타입만 인식\n",
    "# object는 문자열 데이터를 의미\n",
    "# 왼쪽은 인덱스 오른쪽은 값들로 이루어짐\n",
    "li = [1, 2, 3, '4']\n",
    "pd.Series(li)"
   ]
  },
  {
   "cell_type": "code",
   "execution_count": 15,
   "id": "e26c7a56-780c-4fe9-8183-16d13bc6848a",
   "metadata": {},
   "outputs": [
    {
     "data": {
      "text/plain": [
       "(RangeIndex(start=0, stop=4, step=1), array([1, 2, 3, 4]))"
      ]
     },
     "execution_count": 15,
     "metadata": {},
     "output_type": "execute_result"
    }
   ],
   "source": [
    "series.index, series.values\n"
   ]
  },
  {
   "cell_type": "code",
   "execution_count": 19,
   "id": "33783669-cd69-4abe-9740-7a2834493eac",
   "metadata": {},
   "outputs": [],
   "source": [
    "# 형변환\n",
    "series = series.astype(np.float64) ## 새롭게 할당해주어야 형변환이 됨"
   ]
  },
  {
   "cell_type": "raw",
   "id": "ab233262-665f-4981-921e-b1d52634ba4b",
   "metadata": {},
   "source": [
    "series"
   ]
  },
  {
   "cell_type": "markdown",
   "id": "0a6ce160",
   "metadata": {},
   "source": [
    "- index 설정"
   ]
  },
  {
   "cell_type": "code",
   "execution_count": 24,
   "id": "e0c10eb0-5970-4bf3-b46c-bf4f3606b0e3",
   "metadata": {},
   "outputs": [],
   "source": [
    "\n",
    "data = pd.Series(np.random.randint(10, size = 5), list('ABCDE'))"
   ]
  },
  {
   "cell_type": "code",
   "execution_count": 25,
   "id": "f03dc089-0b5a-40d1-90e3-3cc93f7e8eb1",
   "metadata": {},
   "outputs": [
    {
     "data": {
      "text/plain": [
       "A    3\n",
       "B    5\n",
       "C    9\n",
       "D    3\n",
       "E    2\n",
       "dtype: int64"
      ]
     },
     "execution_count": 25,
     "metadata": {},
     "output_type": "execute_result"
    }
   ],
   "source": [
    "data"
   ]
  },
  {
   "cell_type": "markdown",
   "id": "c03c1d39-5aa0-4dd7-ba1c-69b9b8cf202a",
   "metadata": {},
   "source": [
    "data['A']"
   ]
  },
  {
   "cell_type": "code",
   "execution_count": 26,
   "id": "958e10f7-fb06-4a67-be4f-a449105c67b8",
   "metadata": {},
   "outputs": [
    {
     "data": {
      "text/plain": [
       "3"
      ]
     },
     "execution_count": 26,
     "metadata": {},
     "output_type": "execute_result"
    }
   ],
   "source": [
    "data[\"A\"]"
   ]
  },
  {
   "cell_type": "code",
   "execution_count": 29,
   "id": "13579bb4-b25f-46c3-aec8-8a5057c65f21",
   "metadata": {},
   "outputs": [
    {
     "data": {
      "text/plain": [
       "(3,\n",
       " A    3\n",
       " B    5\n",
       " C    9\n",
       " dtype: int64)"
      ]
     },
     "execution_count": 29,
     "metadata": {},
     "output_type": "execute_result"
    }
   ],
   "source": [
    "data.A, data[[\"A\", \"B\", \"C\"]]"
   ]
  },
  {
   "cell_type": "code",
   "execution_count": 28,
   "id": "29bf8eab-6016-4efc-b7eb-2863ad4fbef9",
   "metadata": {},
   "outputs": [
    {
     "data": {
      "text/plain": [
       "A    3\n",
       "B    5\n",
       "C    9\n",
       "D    3\n",
       "E    2\n",
       "dtype: int64"
      ]
     },
     "execution_count": 28,
     "metadata": {},
     "output_type": "execute_result"
    }
   ],
   "source": [
    "data"
   ]
  },
  {
   "cell_type": "markdown",
   "id": "e5f6c81d",
   "metadata": {},
   "source": [
    "- 조건에 맞는 값들만 추려내고 싶을 때\n"
   ]
  },
  {
   "cell_type": "code",
   "execution_count": 34,
   "id": "afee382d-8ab4-4815-9714-f362bd660c1d",
   "metadata": {},
   "outputs": [
    {
     "data": {
      "text/plain": [
       "C    9\n",
       "dtype: int64"
      ]
     },
     "execution_count": 34,
     "metadata": {},
     "output_type": "execute_result"
    }
   ],
   "source": [
    "\n",
    "data[data > 5]"
   ]
  },
  {
   "cell_type": "code",
   "execution_count": 32,
   "id": "3104fc8f-37c6-4e3a-8160-2ca896f44107",
   "metadata": {},
   "outputs": [
    {
     "data": {
      "text/plain": [
       "A    False\n",
       "B    False\n",
       "C     True\n",
       "D    False\n",
       "E    False\n",
       "dtype: bool"
      ]
     },
     "execution_count": 32,
     "metadata": {},
     "output_type": "execute_result"
    }
   ],
   "source": [
    "data > 5"
   ]
  },
  {
   "cell_type": "markdown",
   "id": "4873f44a",
   "metadata": {},
   "source": [
    "- 조건에 맞는 값들을 새롭게 할당도 가능하다"
   ]
  },
  {
   "cell_type": "code",
   "execution_count": 38,
   "id": "72f7b07b-dc05-4ce0-b6ab-9613b6ca3fab",
   "metadata": {},
   "outputs": [],
   "source": [
    "data[data > 5 ] = 999"
   ]
  },
  {
   "cell_type": "code",
   "execution_count": 39,
   "id": "d2dbfaee-686b-4234-9781-2a192f357910",
   "metadata": {},
   "outputs": [
    {
     "data": {
      "text/plain": [
       "A      3\n",
       "B      5\n",
       "C    999\n",
       "D      3\n",
       "E      2\n",
       "dtype: int64"
      ]
     },
     "execution_count": 39,
     "metadata": {},
     "output_type": "execute_result"
    }
   ],
   "source": [
    "\n",
    "data"
   ]
  },
  {
   "cell_type": "code",
   "execution_count": 40,
   "id": "08f4caac-29c4-4431-8cda-f21c281a3b86",
   "metadata": {},
   "outputs": [
    {
     "data": {
      "text/plain": [
       "A      300\n",
       "B      500\n",
       "C    99900\n",
       "D      300\n",
       "E      200\n",
       "dtype: int64"
      ]
     },
     "execution_count": 40,
     "metadata": {},
     "output_type": "execute_result"
    }
   ],
   "source": [
    "# 브로드 캐스팅 연산\n",
    "data * 100"
   ]
  },
  {
   "cell_type": "markdown",
   "id": "479e07a5-e449-4929-8c0a-877823ef084c",
   "metadata": {},
   "source": [
    "## 02. DataFrame\n",
    "- Series()\n",
    "    - index, values\n",
    "- DataFrame()\n",
    "    - index, values, columns"
   ]
  },
  {
   "cell_type": "code",
   "execution_count": 50,
   "id": "d2432ce0-1498-41d3-9f4f-5f8a5f64f38d",
   "metadata": {},
   "outputs": [],
   "source": [
    "dates = pd.date_range('20230804', periods = 6)"
   ]
  },
  {
   "cell_type": "code",
   "execution_count": 51,
   "id": "ab42ef37-b5d7-4d44-b59a-f143dff4576f",
   "metadata": {},
   "outputs": [
    {
     "data": {
      "text/html": [
       "<div>\n",
       "<style scoped>\n",
       "    .dataframe tbody tr th:only-of-type {\n",
       "        vertical-align: middle;\n",
       "    }\n",
       "\n",
       "    .dataframe tbody tr th {\n",
       "        vertical-align: top;\n",
       "    }\n",
       "\n",
       "    .dataframe thead th {\n",
       "        text-align: right;\n",
       "    }\n",
       "</style>\n",
       "<table border=\"1\" class=\"dataframe\">\n",
       "  <thead>\n",
       "    <tr style=\"text-align: right;\">\n",
       "      <th></th>\n",
       "      <th>0</th>\n",
       "    </tr>\n",
       "  </thead>\n",
       "  <tbody>\n",
       "    <tr>\n",
       "      <th>0</th>\n",
       "      <td>1</td>\n",
       "    </tr>\n",
       "    <tr>\n",
       "      <th>1</th>\n",
       "      <td>2</td>\n",
       "    </tr>\n",
       "    <tr>\n",
       "      <th>2</th>\n",
       "      <td>3</td>\n",
       "    </tr>\n",
       "    <tr>\n",
       "      <th>3</th>\n",
       "      <td>4</td>\n",
       "    </tr>\n",
       "  </tbody>\n",
       "</table>\n",
       "</div>"
      ],
      "text/plain": [
       "   0\n",
       "0  1\n",
       "1  2\n",
       "2  3\n",
       "3  4"
      ]
     },
     "execution_count": 51,
     "metadata": {},
     "output_type": "execute_result"
    }
   ],
   "source": [
    "pd.DataFrame(data = [1, 2, 3, 4])"
   ]
  },
  {
   "cell_type": "markdown",
   "id": "2146dd7f",
   "metadata": {},
   "source": [
    "pd.DataFrame(data = 안에 들어가는 값들, columns = 열 정보, index = 인덱스 )"
   ]
  },
  {
   "cell_type": "code",
   "execution_count": 138,
   "id": "ce54fae9-73c8-4340-a850-e54288eadc37",
   "metadata": {},
   "outputs": [],
   "source": [
    "df = pd.DataFrame(data = np.random.randn(6, 4), \n",
    "             columns = ['A', 'B', 'C', 'D'],\n",
    "             index = dates) \n"
   ]
  },
  {
   "cell_type": "code",
   "execution_count": 139,
   "id": "3b2f574a-a22f-4546-811b-6a4fd62f1a88",
   "metadata": {},
   "outputs": [
    {
     "data": {
      "text/html": [
       "<div>\n",
       "<style scoped>\n",
       "    .dataframe tbody tr th:only-of-type {\n",
       "        vertical-align: middle;\n",
       "    }\n",
       "\n",
       "    .dataframe tbody tr th {\n",
       "        vertical-align: top;\n",
       "    }\n",
       "\n",
       "    .dataframe thead th {\n",
       "        text-align: right;\n",
       "    }\n",
       "</style>\n",
       "<table border=\"1\" class=\"dataframe\">\n",
       "  <thead>\n",
       "    <tr style=\"text-align: right;\">\n",
       "      <th></th>\n",
       "      <th>A</th>\n",
       "      <th>B</th>\n",
       "      <th>C</th>\n",
       "      <th>D</th>\n",
       "    </tr>\n",
       "  </thead>\n",
       "  <tbody>\n",
       "    <tr>\n",
       "      <th>2023-08-04</th>\n",
       "      <td>-1.380659</td>\n",
       "      <td>0.144631</td>\n",
       "      <td>1.898931</td>\n",
       "      <td>0.688993</td>\n",
       "    </tr>\n",
       "    <tr>\n",
       "      <th>2023-08-05</th>\n",
       "      <td>-0.734541</td>\n",
       "      <td>0.559971</td>\n",
       "      <td>-0.342490</td>\n",
       "      <td>0.082496</td>\n",
       "    </tr>\n",
       "    <tr>\n",
       "      <th>2023-08-06</th>\n",
       "      <td>0.324920</td>\n",
       "      <td>1.635320</td>\n",
       "      <td>0.157321</td>\n",
       "      <td>-1.475597</td>\n",
       "    </tr>\n",
       "    <tr>\n",
       "      <th>2023-08-07</th>\n",
       "      <td>0.635575</td>\n",
       "      <td>-0.430651</td>\n",
       "      <td>-0.454975</td>\n",
       "      <td>1.583368</td>\n",
       "    </tr>\n",
       "    <tr>\n",
       "      <th>2023-08-08</th>\n",
       "      <td>-0.388897</td>\n",
       "      <td>-1.549326</td>\n",
       "      <td>-2.274574</td>\n",
       "      <td>-1.014404</td>\n",
       "    </tr>\n",
       "    <tr>\n",
       "      <th>2023-08-09</th>\n",
       "      <td>0.280633</td>\n",
       "      <td>-0.300134</td>\n",
       "      <td>1.085409</td>\n",
       "      <td>-0.538089</td>\n",
       "    </tr>\n",
       "  </tbody>\n",
       "</table>\n",
       "</div>"
      ],
      "text/plain": [
       "                   A         B         C         D\n",
       "2023-08-04 -1.380659  0.144631  1.898931  0.688993\n",
       "2023-08-05 -0.734541  0.559971 -0.342490  0.082496\n",
       "2023-08-06  0.324920  1.635320  0.157321 -1.475597\n",
       "2023-08-07  0.635575 -0.430651 -0.454975  1.583368\n",
       "2023-08-08 -0.388897 -1.549326 -2.274574 -1.014404\n",
       "2023-08-09  0.280633 -0.300134  1.085409 -0.538089"
      ]
     },
     "execution_count": 139,
     "metadata": {},
     "output_type": "execute_result"
    }
   ],
   "source": [
    "df"
   ]
  },
  {
   "cell_type": "code",
   "execution_count": 140,
   "id": "eba621c1-28ab-4d0e-a355-6a640d51f98e",
   "metadata": {},
   "outputs": [
    {
     "data": {
      "text/html": [
       "<div>\n",
       "<style scoped>\n",
       "    .dataframe tbody tr th:only-of-type {\n",
       "        vertical-align: middle;\n",
       "    }\n",
       "\n",
       "    .dataframe tbody tr th {\n",
       "        vertical-align: top;\n",
       "    }\n",
       "\n",
       "    .dataframe thead th {\n",
       "        text-align: right;\n",
       "    }\n",
       "</style>\n",
       "<table border=\"1\" class=\"dataframe\">\n",
       "  <thead>\n",
       "    <tr style=\"text-align: right;\">\n",
       "      <th></th>\n",
       "      <th>A</th>\n",
       "      <th>B</th>\n",
       "      <th>C</th>\n",
       "      <th>D</th>\n",
       "    </tr>\n",
       "  </thead>\n",
       "  <tbody>\n",
       "    <tr>\n",
       "      <th>2023-08-04</th>\n",
       "      <td>-1.380659</td>\n",
       "      <td>0.144631</td>\n",
       "      <td>1.898931</td>\n",
       "      <td>0.688993</td>\n",
       "    </tr>\n",
       "    <tr>\n",
       "      <th>2023-08-05</th>\n",
       "      <td>-0.734541</td>\n",
       "      <td>0.559971</td>\n",
       "      <td>-0.342490</td>\n",
       "      <td>0.082496</td>\n",
       "    </tr>\n",
       "    <tr>\n",
       "      <th>2023-08-06</th>\n",
       "      <td>0.324920</td>\n",
       "      <td>1.635320</td>\n",
       "      <td>0.157321</td>\n",
       "      <td>-1.475597</td>\n",
       "    </tr>\n",
       "    <tr>\n",
       "      <th>2023-08-07</th>\n",
       "      <td>0.635575</td>\n",
       "      <td>-0.430651</td>\n",
       "      <td>-0.454975</td>\n",
       "      <td>1.583368</td>\n",
       "    </tr>\n",
       "    <tr>\n",
       "      <th>2023-08-08</th>\n",
       "      <td>-0.388897</td>\n",
       "      <td>-1.549326</td>\n",
       "      <td>-2.274574</td>\n",
       "      <td>-1.014404</td>\n",
       "    </tr>\n",
       "  </tbody>\n",
       "</table>\n",
       "</div>"
      ],
      "text/plain": [
       "                   A         B         C         D\n",
       "2023-08-04 -1.380659  0.144631  1.898931  0.688993\n",
       "2023-08-05 -0.734541  0.559971 -0.342490  0.082496\n",
       "2023-08-06  0.324920  1.635320  0.157321 -1.475597\n",
       "2023-08-07  0.635575 -0.430651 -0.454975  1.583368\n",
       "2023-08-08 -0.388897 -1.549326 -2.274574 -1.014404"
      ]
     },
     "execution_count": 140,
     "metadata": {},
     "output_type": "execute_result"
    }
   ],
   "source": [
    "# 데이터 프레임 상단 정보 확인\n",
    "df.head()"
   ]
  },
  {
   "cell_type": "code",
   "execution_count": 141,
   "id": "34cfc558-b25f-4aed-b0f2-1af56f0707aa",
   "metadata": {},
   "outputs": [
    {
     "data": {
      "text/html": [
       "<div>\n",
       "<style scoped>\n",
       "    .dataframe tbody tr th:only-of-type {\n",
       "        vertical-align: middle;\n",
       "    }\n",
       "\n",
       "    .dataframe tbody tr th {\n",
       "        vertical-align: top;\n",
       "    }\n",
       "\n",
       "    .dataframe thead th {\n",
       "        text-align: right;\n",
       "    }\n",
       "</style>\n",
       "<table border=\"1\" class=\"dataframe\">\n",
       "  <thead>\n",
       "    <tr style=\"text-align: right;\">\n",
       "      <th></th>\n",
       "      <th>A</th>\n",
       "      <th>B</th>\n",
       "      <th>C</th>\n",
       "      <th>D</th>\n",
       "    </tr>\n",
       "  </thead>\n",
       "  <tbody>\n",
       "    <tr>\n",
       "      <th>2023-08-04</th>\n",
       "      <td>-1.380659</td>\n",
       "      <td>0.144631</td>\n",
       "      <td>1.898931</td>\n",
       "      <td>0.688993</td>\n",
       "    </tr>\n",
       "    <tr>\n",
       "      <th>2023-08-05</th>\n",
       "      <td>-0.734541</td>\n",
       "      <td>0.559971</td>\n",
       "      <td>-0.342490</td>\n",
       "      <td>0.082496</td>\n",
       "    </tr>\n",
       "    <tr>\n",
       "      <th>2023-08-06</th>\n",
       "      <td>0.324920</td>\n",
       "      <td>1.635320</td>\n",
       "      <td>0.157321</td>\n",
       "      <td>-1.475597</td>\n",
       "    </tr>\n",
       "    <tr>\n",
       "      <th>2023-08-07</th>\n",
       "      <td>0.635575</td>\n",
       "      <td>-0.430651</td>\n",
       "      <td>-0.454975</td>\n",
       "      <td>1.583368</td>\n",
       "    </tr>\n",
       "    <tr>\n",
       "      <th>2023-08-08</th>\n",
       "      <td>-0.388897</td>\n",
       "      <td>-1.549326</td>\n",
       "      <td>-2.274574</td>\n",
       "      <td>-1.014404</td>\n",
       "    </tr>\n",
       "    <tr>\n",
       "      <th>2023-08-09</th>\n",
       "      <td>0.280633</td>\n",
       "      <td>-0.300134</td>\n",
       "      <td>1.085409</td>\n",
       "      <td>-0.538089</td>\n",
       "    </tr>\n",
       "  </tbody>\n",
       "</table>\n",
       "</div>"
      ],
      "text/plain": [
       "                   A         B         C         D\n",
       "2023-08-04 -1.380659  0.144631  1.898931  0.688993\n",
       "2023-08-05 -0.734541  0.559971 -0.342490  0.082496\n",
       "2023-08-06  0.324920  1.635320  0.157321 -1.475597\n",
       "2023-08-07  0.635575 -0.430651 -0.454975  1.583368\n",
       "2023-08-08 -0.388897 -1.549326 -2.274574 -1.014404\n",
       "2023-08-09  0.280633 -0.300134  1.085409 -0.538089"
      ]
     },
     "execution_count": 141,
     "metadata": {},
     "output_type": "execute_result"
    }
   ],
   "source": [
    "# 데이터 프레임 하단 정보 확인\n",
    "df.tail(10)"
   ]
  },
  {
   "cell_type": "code",
   "execution_count": 142,
   "id": "148fd273-8094-4991-970a-285e0ec4f333",
   "metadata": {},
   "outputs": [
    {
     "name": "stdout",
     "output_type": "stream",
     "text": [
      "<class 'pandas.core.frame.DataFrame'>\n",
      "DatetimeIndex: 6 entries, 2023-08-04 to 2023-08-09\n",
      "Freq: D\n",
      "Data columns (total 4 columns):\n",
      " #   Column  Non-Null Count  Dtype  \n",
      "---  ------  --------------  -----  \n",
      " 0   A       6 non-null      float64\n",
      " 1   B       6 non-null      float64\n",
      " 2   C       6 non-null      float64\n",
      " 3   D       6 non-null      float64\n",
      "dtypes: float64(4)\n",
      "memory usage: 412.0 bytes\n"
     ]
    }
   ],
   "source": [
    "# 데이터 프레임 기본 정보 요약\n",
    "# 이거부터 먼저 보고 작업한다\n",
    "df.info()"
   ]
  },
  {
   "cell_type": "code",
   "execution_count": 143,
   "id": "2297de6a-6b61-49b7-a1cd-2c0a5c994fce",
   "metadata": {},
   "outputs": [
    {
     "data": {
      "text/html": [
       "<div>\n",
       "<style scoped>\n",
       "    .dataframe tbody tr th:only-of-type {\n",
       "        vertical-align: middle;\n",
       "    }\n",
       "\n",
       "    .dataframe tbody tr th {\n",
       "        vertical-align: top;\n",
       "    }\n",
       "\n",
       "    .dataframe thead th {\n",
       "        text-align: right;\n",
       "    }\n",
       "</style>\n",
       "<table border=\"1\" class=\"dataframe\">\n",
       "  <thead>\n",
       "    <tr style=\"text-align: right;\">\n",
       "      <th></th>\n",
       "      <th>A</th>\n",
       "      <th>B</th>\n",
       "      <th>C</th>\n",
       "      <th>D</th>\n",
       "    </tr>\n",
       "  </thead>\n",
       "  <tbody>\n",
       "    <tr>\n",
       "      <th>count</th>\n",
       "      <td>6.000000</td>\n",
       "      <td>6.000000</td>\n",
       "      <td>6.000000</td>\n",
       "      <td>6.000000</td>\n",
       "    </tr>\n",
       "    <tr>\n",
       "      <th>mean</th>\n",
       "      <td>-0.210495</td>\n",
       "      <td>0.009969</td>\n",
       "      <td>0.011604</td>\n",
       "      <td>-0.112206</td>\n",
       "    </tr>\n",
       "    <tr>\n",
       "      <th>std</th>\n",
       "      <td>0.764126</td>\n",
       "      <td>1.066219</td>\n",
       "      <td>1.435687</td>\n",
       "      <td>1.132164</td>\n",
       "    </tr>\n",
       "    <tr>\n",
       "      <th>min</th>\n",
       "      <td>-1.380659</td>\n",
       "      <td>-1.549326</td>\n",
       "      <td>-2.274574</td>\n",
       "      <td>-1.475597</td>\n",
       "    </tr>\n",
       "    <tr>\n",
       "      <th>25%</th>\n",
       "      <td>-0.648130</td>\n",
       "      <td>-0.398022</td>\n",
       "      <td>-0.426854</td>\n",
       "      <td>-0.895325</td>\n",
       "    </tr>\n",
       "    <tr>\n",
       "      <th>50%</th>\n",
       "      <td>-0.054132</td>\n",
       "      <td>-0.077752</td>\n",
       "      <td>-0.092584</td>\n",
       "      <td>-0.227796</td>\n",
       "    </tr>\n",
       "    <tr>\n",
       "      <th>75%</th>\n",
       "      <td>0.313848</td>\n",
       "      <td>0.456136</td>\n",
       "      <td>0.853387</td>\n",
       "      <td>0.537369</td>\n",
       "    </tr>\n",
       "    <tr>\n",
       "      <th>max</th>\n",
       "      <td>0.635575</td>\n",
       "      <td>1.635320</td>\n",
       "      <td>1.898931</td>\n",
       "      <td>1.583368</td>\n",
       "    </tr>\n",
       "  </tbody>\n",
       "</table>\n",
       "</div>"
      ],
      "text/plain": [
       "              A         B         C         D\n",
       "count  6.000000  6.000000  6.000000  6.000000\n",
       "mean  -0.210495  0.009969  0.011604 -0.112206\n",
       "std    0.764126  1.066219  1.435687  1.132164\n",
       "min   -1.380659 -1.549326 -2.274574 -1.475597\n",
       "25%   -0.648130 -0.398022 -0.426854 -0.895325\n",
       "50%   -0.054132 -0.077752 -0.092584 -0.227796\n",
       "75%    0.313848  0.456136  0.853387  0.537369\n",
       "max    0.635575  1.635320  1.898931  1.583368"
      ]
     },
     "execution_count": 143,
     "metadata": {},
     "output_type": "execute_result"
    }
   ],
   "source": [
    "# 데이터 프레임 기술통계 정보 요약\n",
    "# 숫자 데이터에 한해서만 보여줌\n",
    "df.describe()"
   ]
  },
  {
   "cell_type": "code",
   "execution_count": 144,
   "id": "fbe68188-f83b-4637-b04a-79053c3a038c",
   "metadata": {},
   "outputs": [
    {
     "data": {
      "text/plain": [
       "DatetimeIndex(['2023-08-04', '2023-08-05', '2023-08-06', '2023-08-07',\n",
       "               '2023-08-08', '2023-08-09'],\n",
       "              dtype='datetime64[ns]', freq='D')"
      ]
     },
     "execution_count": 144,
     "metadata": {},
     "output_type": "execute_result"
    }
   ],
   "source": [
    "# 데이터 프레임 구성 3요소\n",
    "df.index"
   ]
  },
  {
   "cell_type": "code",
   "execution_count": 145,
   "id": "2f3f31b7-cdb0-4b4f-81b4-045dd1e807fe",
   "metadata": {},
   "outputs": [
    {
     "data": {
      "text/plain": [
       "Index(['A', 'B', 'C', 'D'], dtype='object')"
      ]
     },
     "execution_count": 145,
     "metadata": {},
     "output_type": "execute_result"
    }
   ],
   "source": [
    "df.columns"
   ]
  },
  {
   "cell_type": "markdown",
   "id": "b6ff529c",
   "metadata": {},
   "source": [
    "- data로 입력한 값들을 df.values로 확인할 수 있다."
   ]
  },
  {
   "cell_type": "code",
   "execution_count": 146,
   "id": "9668481d-0de3-48e7-8e34-fff14b29cadc",
   "metadata": {},
   "outputs": [
    {
     "data": {
      "text/plain": [
       "array([[-1.38065924,  0.14463077,  1.89893119,  0.68899278],\n",
       "       [-0.73454059,  0.55997057, -0.34248993,  0.0824957 ],\n",
       "       [ 0.32492034,  1.63532033,  0.15732102, -1.47559742],\n",
       "       [ 0.63557529, -0.43065076, -0.45497525,  1.58336846],\n",
       "       [-0.38889717, -1.5493258 , -2.27457381, -1.01440407],\n",
       "       [ 0.2806328 , -0.30013401,  1.08540859, -0.53808866]])"
      ]
     },
     "execution_count": 146,
     "metadata": {},
     "output_type": "execute_result"
    }
   ],
   "source": [
    "df.values"
   ]
  },
  {
   "cell_type": "code",
   "execution_count": 147,
   "id": "3d04592f-f9d6-4270-9401-04811305fae2",
   "metadata": {},
   "outputs": [
    {
     "data": {
      "text/plain": [
       "2023-08-04   -1.380659\n",
       "2023-08-05   -0.734541\n",
       "2023-08-06    0.324920\n",
       "2023-08-07    0.635575\n",
       "2023-08-08   -0.388897\n",
       "2023-08-09    0.280633\n",
       "Freq: D, Name: A, dtype: float64"
      ]
     },
     "execution_count": 147,
     "metadata": {},
     "output_type": "execute_result"
    }
   ],
   "source": [
    "df.A # 데이터 타입을 series로 보여줌 시리즈가 모인게 df\n",
    "     # frequency로 Day의 약자로 주기를 의미함"
   ]
  },
  {
   "cell_type": "code",
   "execution_count": 148,
   "id": "3c82bed6-f85c-4745-8e6b-f44b15c173df",
   "metadata": {},
   "outputs": [
    {
     "data": {
      "text/plain": [
       "2023-08-04    0.144631\n",
       "2023-08-05    0.559971\n",
       "2023-08-06    1.635320\n",
       "2023-08-07   -0.430651\n",
       "2023-08-08   -1.549326\n",
       "2023-08-09   -0.300134\n",
       "Freq: D, Name: B, dtype: float64"
      ]
     },
     "execution_count": 148,
     "metadata": {},
     "output_type": "execute_result"
    }
   ],
   "source": [
    "df['B']"
   ]
  },
  {
   "cell_type": "code",
   "execution_count": 149,
   "id": "6d55910b-240d-49b1-bd5d-a2b688eb8568",
   "metadata": {},
   "outputs": [
    {
     "data": {
      "text/html": [
       "<div>\n",
       "<style scoped>\n",
       "    .dataframe tbody tr th:only-of-type {\n",
       "        vertical-align: middle;\n",
       "    }\n",
       "\n",
       "    .dataframe tbody tr th {\n",
       "        vertical-align: top;\n",
       "    }\n",
       "\n",
       "    .dataframe thead th {\n",
       "        text-align: right;\n",
       "    }\n",
       "</style>\n",
       "<table border=\"1\" class=\"dataframe\">\n",
       "  <thead>\n",
       "    <tr style=\"text-align: right;\">\n",
       "      <th></th>\n",
       "      <th>B</th>\n",
       "      <th>D</th>\n",
       "    </tr>\n",
       "  </thead>\n",
       "  <tbody>\n",
       "    <tr>\n",
       "      <th>2023-08-04</th>\n",
       "      <td>0.144631</td>\n",
       "      <td>0.688993</td>\n",
       "    </tr>\n",
       "    <tr>\n",
       "      <th>2023-08-05</th>\n",
       "      <td>0.559971</td>\n",
       "      <td>0.082496</td>\n",
       "    </tr>\n",
       "    <tr>\n",
       "      <th>2023-08-06</th>\n",
       "      <td>1.635320</td>\n",
       "      <td>-1.475597</td>\n",
       "    </tr>\n",
       "    <tr>\n",
       "      <th>2023-08-07</th>\n",
       "      <td>-0.430651</td>\n",
       "      <td>1.583368</td>\n",
       "    </tr>\n",
       "    <tr>\n",
       "      <th>2023-08-08</th>\n",
       "      <td>-1.549326</td>\n",
       "      <td>-1.014404</td>\n",
       "    </tr>\n",
       "    <tr>\n",
       "      <th>2023-08-09</th>\n",
       "      <td>-0.300134</td>\n",
       "      <td>-0.538089</td>\n",
       "    </tr>\n",
       "  </tbody>\n",
       "</table>\n",
       "</div>"
      ],
      "text/plain": [
       "                   B         D\n",
       "2023-08-04  0.144631  0.688993\n",
       "2023-08-05  0.559971  0.082496\n",
       "2023-08-06  1.635320 -1.475597\n",
       "2023-08-07 -0.430651  1.583368\n",
       "2023-08-08 -1.549326 -1.014404\n",
       "2023-08-09 -0.300134 -0.538089"
      ]
     },
     "execution_count": 149,
     "metadata": {},
     "output_type": "execute_result"
    }
   ],
   "source": [
    "df[['B', 'D']]"
   ]
  },
  {
   "cell_type": "code",
   "execution_count": 150,
   "id": "1927ce1b-c282-4560-b933-1f0424cedc9b",
   "metadata": {},
   "outputs": [
    {
     "data": {
      "text/html": [
       "<div>\n",
       "<style scoped>\n",
       "    .dataframe tbody tr th:only-of-type {\n",
       "        vertical-align: middle;\n",
       "    }\n",
       "\n",
       "    .dataframe tbody tr th {\n",
       "        vertical-align: top;\n",
       "    }\n",
       "\n",
       "    .dataframe thead th {\n",
       "        text-align: right;\n",
       "    }\n",
       "</style>\n",
       "<table border=\"1\" class=\"dataframe\">\n",
       "  <thead>\n",
       "    <tr style=\"text-align: right;\">\n",
       "      <th></th>\n",
       "      <th>A</th>\n",
       "      <th>B</th>\n",
       "      <th>C</th>\n",
       "      <th>D</th>\n",
       "    </tr>\n",
       "  </thead>\n",
       "  <tbody>\n",
       "    <tr>\n",
       "      <th>2023-08-04</th>\n",
       "      <td>-1.380659</td>\n",
       "      <td>0.144631</td>\n",
       "      <td>1.898931</td>\n",
       "      <td>0.688993</td>\n",
       "    </tr>\n",
       "    <tr>\n",
       "      <th>2023-08-05</th>\n",
       "      <td>-0.734541</td>\n",
       "      <td>0.559971</td>\n",
       "      <td>-0.342490</td>\n",
       "      <td>0.082496</td>\n",
       "    </tr>\n",
       "  </tbody>\n",
       "</table>\n",
       "</div>"
      ],
      "text/plain": [
       "                   A         B         C         D\n",
       "2023-08-04 -1.380659  0.144631  1.898931  0.688993\n",
       "2023-08-05 -0.734541  0.559971 -0.342490  0.082496"
      ]
     },
     "execution_count": 150,
     "metadata": {},
     "output_type": "execute_result"
    }
   ],
   "source": [
    "# 오프셋 인덱스\n",
    "# [n:m]\n",
    "# n부터 m-1\n",
    "\n",
    "df[0:2]"
   ]
  },
  {
   "cell_type": "code",
   "execution_count": 151,
   "id": "f947fc0f-f9b9-4c90-aa4d-42196fbda054",
   "metadata": {},
   "outputs": [
    {
     "data": {
      "text/html": [
       "<div>\n",
       "<style scoped>\n",
       "    .dataframe tbody tr th:only-of-type {\n",
       "        vertical-align: middle;\n",
       "    }\n",
       "\n",
       "    .dataframe tbody tr th {\n",
       "        vertical-align: top;\n",
       "    }\n",
       "\n",
       "    .dataframe thead th {\n",
       "        text-align: right;\n",
       "    }\n",
       "</style>\n",
       "<table border=\"1\" class=\"dataframe\">\n",
       "  <thead>\n",
       "    <tr style=\"text-align: right;\">\n",
       "      <th></th>\n",
       "      <th>A</th>\n",
       "      <th>B</th>\n",
       "      <th>C</th>\n",
       "      <th>D</th>\n",
       "    </tr>\n",
       "  </thead>\n",
       "  <tbody>\n",
       "    <tr>\n",
       "      <th>2023-08-04</th>\n",
       "      <td>-1.380659</td>\n",
       "      <td>0.144631</td>\n",
       "      <td>1.898931</td>\n",
       "      <td>0.688993</td>\n",
       "    </tr>\n",
       "    <tr>\n",
       "      <th>2023-08-05</th>\n",
       "      <td>-0.734541</td>\n",
       "      <td>0.559971</td>\n",
       "      <td>-0.342490</td>\n",
       "      <td>0.082496</td>\n",
       "    </tr>\n",
       "    <tr>\n",
       "      <th>2023-08-06</th>\n",
       "      <td>0.324920</td>\n",
       "      <td>1.635320</td>\n",
       "      <td>0.157321</td>\n",
       "      <td>-1.475597</td>\n",
       "    </tr>\n",
       "    <tr>\n",
       "      <th>2023-08-07</th>\n",
       "      <td>0.635575</td>\n",
       "      <td>-0.430651</td>\n",
       "      <td>-0.454975</td>\n",
       "      <td>1.583368</td>\n",
       "    </tr>\n",
       "    <tr>\n",
       "      <th>2023-08-08</th>\n",
       "      <td>-0.388897</td>\n",
       "      <td>-1.549326</td>\n",
       "      <td>-2.274574</td>\n",
       "      <td>-1.014404</td>\n",
       "    </tr>\n",
       "    <tr>\n",
       "      <th>2023-08-09</th>\n",
       "      <td>0.280633</td>\n",
       "      <td>-0.300134</td>\n",
       "      <td>1.085409</td>\n",
       "      <td>-0.538089</td>\n",
       "    </tr>\n",
       "  </tbody>\n",
       "</table>\n",
       "</div>"
      ],
      "text/plain": [
       "                   A         B         C         D\n",
       "2023-08-04 -1.380659  0.144631  1.898931  0.688993\n",
       "2023-08-05 -0.734541  0.559971 -0.342490  0.082496\n",
       "2023-08-06  0.324920  1.635320  0.157321 -1.475597\n",
       "2023-08-07  0.635575 -0.430651 -0.454975  1.583368\n",
       "2023-08-08 -0.388897 -1.549326 -2.274574 -1.014404\n",
       "2023-08-09  0.280633 -0.300134  1.085409 -0.538089"
      ]
     },
     "execution_count": 151,
     "metadata": {},
     "output_type": "execute_result"
    }
   ],
   "source": [
    "df"
   ]
  },
  {
   "cell_type": "code",
   "execution_count": 152,
   "id": "f53b99aa-cce9-4e14-b97a-7066b0e7e8b0",
   "metadata": {},
   "outputs": [
    {
     "data": {
      "text/html": [
       "<div>\n",
       "<style scoped>\n",
       "    .dataframe tbody tr th:only-of-type {\n",
       "        vertical-align: middle;\n",
       "    }\n",
       "\n",
       "    .dataframe tbody tr th {\n",
       "        vertical-align: top;\n",
       "    }\n",
       "\n",
       "    .dataframe thead th {\n",
       "        text-align: right;\n",
       "    }\n",
       "</style>\n",
       "<table border=\"1\" class=\"dataframe\">\n",
       "  <thead>\n",
       "    <tr style=\"text-align: right;\">\n",
       "      <th></th>\n",
       "      <th>A</th>\n",
       "      <th>B</th>\n",
       "      <th>C</th>\n",
       "      <th>D</th>\n",
       "    </tr>\n",
       "  </thead>\n",
       "  <tbody>\n",
       "    <tr>\n",
       "      <th>2023-08-04</th>\n",
       "      <td>-1.380659</td>\n",
       "      <td>0.144631</td>\n",
       "      <td>1.898931</td>\n",
       "      <td>0.688993</td>\n",
       "    </tr>\n",
       "    <tr>\n",
       "      <th>2023-08-05</th>\n",
       "      <td>-0.734541</td>\n",
       "      <td>0.559971</td>\n",
       "      <td>-0.342490</td>\n",
       "      <td>0.082496</td>\n",
       "    </tr>\n",
       "    <tr>\n",
       "      <th>2023-08-06</th>\n",
       "      <td>0.324920</td>\n",
       "      <td>1.635320</td>\n",
       "      <td>0.157321</td>\n",
       "      <td>-1.475597</td>\n",
       "    </tr>\n",
       "  </tbody>\n",
       "</table>\n",
       "</div>"
      ],
      "text/plain": [
       "                   A         B         C         D\n",
       "2023-08-04 -1.380659  0.144631  1.898931  0.688993\n",
       "2023-08-05 -0.734541  0.559971 -0.342490  0.082496\n",
       "2023-08-06  0.324920  1.635320  0.157321 -1.475597"
      ]
     },
     "execution_count": 152,
     "metadata": {},
     "output_type": "execute_result"
    }
   ],
   "source": [
    "df['2023-08-04' : '2023-08-06']"
   ]
  },
  {
   "cell_type": "code",
   "execution_count": 153,
   "id": "b7095992-f97d-46cf-b78c-d279f50e99ab",
   "metadata": {},
   "outputs": [
    {
     "data": {
      "text/html": [
       "<div>\n",
       "<style scoped>\n",
       "    .dataframe tbody tr th:only-of-type {\n",
       "        vertical-align: middle;\n",
       "    }\n",
       "\n",
       "    .dataframe tbody tr th {\n",
       "        vertical-align: top;\n",
       "    }\n",
       "\n",
       "    .dataframe thead th {\n",
       "        text-align: right;\n",
       "    }\n",
       "</style>\n",
       "<table border=\"1\" class=\"dataframe\">\n",
       "  <thead>\n",
       "    <tr style=\"text-align: right;\">\n",
       "      <th></th>\n",
       "      <th>A</th>\n",
       "      <th>B</th>\n",
       "      <th>C</th>\n",
       "    </tr>\n",
       "  </thead>\n",
       "  <tbody>\n",
       "    <tr>\n",
       "      <th>2023-08-04</th>\n",
       "      <td>-1.380659</td>\n",
       "      <td>0.144631</td>\n",
       "      <td>1.898931</td>\n",
       "    </tr>\n",
       "    <tr>\n",
       "      <th>2023-08-05</th>\n",
       "      <td>-0.734541</td>\n",
       "      <td>0.559971</td>\n",
       "      <td>-0.342490</td>\n",
       "    </tr>\n",
       "    <tr>\n",
       "      <th>2023-08-06</th>\n",
       "      <td>0.324920</td>\n",
       "      <td>1.635320</td>\n",
       "      <td>0.157321</td>\n",
       "    </tr>\n",
       "  </tbody>\n",
       "</table>\n",
       "</div>"
      ],
      "text/plain": [
       "                   A         B         C\n",
       "2023-08-04 -1.380659  0.144631  1.898931\n",
       "2023-08-05 -0.734541  0.559971 -0.342490\n",
       "2023-08-06  0.324920  1.635320  0.157321"
      ]
     },
     "execution_count": 153,
     "metadata": {},
     "output_type": "execute_result"
    }
   ],
   "source": [
    "# location\n",
    "# loc\n",
    "\n",
    "df.loc['2023-08-04' : '2023-08-06', 'A':'C']"
   ]
  },
  {
   "cell_type": "code",
   "execution_count": 154,
   "id": "0beeae1a-93e7-4a3a-b5f0-de5b751f2f51",
   "metadata": {},
   "outputs": [
    {
     "data": {
      "text/html": [
       "<div>\n",
       "<style scoped>\n",
       "    .dataframe tbody tr th:only-of-type {\n",
       "        vertical-align: middle;\n",
       "    }\n",
       "\n",
       "    .dataframe tbody tr th {\n",
       "        vertical-align: top;\n",
       "    }\n",
       "\n",
       "    .dataframe thead th {\n",
       "        text-align: right;\n",
       "    }\n",
       "</style>\n",
       "<table border=\"1\" class=\"dataframe\">\n",
       "  <thead>\n",
       "    <tr style=\"text-align: right;\">\n",
       "      <th></th>\n",
       "      <th>A</th>\n",
       "      <th>B</th>\n",
       "    </tr>\n",
       "  </thead>\n",
       "  <tbody>\n",
       "    <tr>\n",
       "      <th>2023-08-05</th>\n",
       "      <td>-0.734541</td>\n",
       "      <td>0.559971</td>\n",
       "    </tr>\n",
       "    <tr>\n",
       "      <th>2023-08-06</th>\n",
       "      <td>0.324920</td>\n",
       "      <td>1.635320</td>\n",
       "    </tr>\n",
       "  </tbody>\n",
       "</table>\n",
       "</div>"
      ],
      "text/plain": [
       "                   A         B\n",
       "2023-08-05 -0.734541  0.559971\n",
       "2023-08-06  0.324920  1.635320"
      ]
     },
     "execution_count": 154,
     "metadata": {},
     "output_type": "execute_result"
    }
   ],
   "source": [
    "df.iloc[1:3, 0:2]"
   ]
  },
  {
   "cell_type": "code",
   "execution_count": 155,
   "id": "ca297432-5364-4b4f-9427-21b036ee2320",
   "metadata": {},
   "outputs": [
    {
     "data": {
      "text/html": [
       "<div>\n",
       "<style scoped>\n",
       "    .dataframe tbody tr th:only-of-type {\n",
       "        vertical-align: middle;\n",
       "    }\n",
       "\n",
       "    .dataframe tbody tr th {\n",
       "        vertical-align: top;\n",
       "    }\n",
       "\n",
       "    .dataframe thead th {\n",
       "        text-align: right;\n",
       "    }\n",
       "</style>\n",
       "<table border=\"1\" class=\"dataframe\">\n",
       "  <thead>\n",
       "    <tr style=\"text-align: right;\">\n",
       "      <th></th>\n",
       "      <th>A</th>\n",
       "      <th>B</th>\n",
       "      <th>C</th>\n",
       "      <th>D</th>\n",
       "    </tr>\n",
       "  </thead>\n",
       "  <tbody>\n",
       "    <tr>\n",
       "      <th>2023-08-04</th>\n",
       "      <td>-1.380659</td>\n",
       "      <td>0.144631</td>\n",
       "      <td>1.898931</td>\n",
       "      <td>0.688993</td>\n",
       "    </tr>\n",
       "    <tr>\n",
       "      <th>2023-08-05</th>\n",
       "      <td>-0.734541</td>\n",
       "      <td>0.559971</td>\n",
       "      <td>-0.342490</td>\n",
       "      <td>0.082496</td>\n",
       "    </tr>\n",
       "    <tr>\n",
       "      <th>2023-08-06</th>\n",
       "      <td>0.324920</td>\n",
       "      <td>1.635320</td>\n",
       "      <td>0.157321</td>\n",
       "      <td>-1.475597</td>\n",
       "    </tr>\n",
       "    <tr>\n",
       "      <th>2023-08-07</th>\n",
       "      <td>0.635575</td>\n",
       "      <td>-0.430651</td>\n",
       "      <td>-0.454975</td>\n",
       "      <td>1.583368</td>\n",
       "    </tr>\n",
       "    <tr>\n",
       "      <th>2023-08-08</th>\n",
       "      <td>-0.388897</td>\n",
       "      <td>-1.549326</td>\n",
       "      <td>-2.274574</td>\n",
       "      <td>-1.014404</td>\n",
       "    </tr>\n",
       "    <tr>\n",
       "      <th>2023-08-09</th>\n",
       "      <td>0.280633</td>\n",
       "      <td>-0.300134</td>\n",
       "      <td>1.085409</td>\n",
       "      <td>-0.538089</td>\n",
       "    </tr>\n",
       "  </tbody>\n",
       "</table>\n",
       "</div>"
      ],
      "text/plain": [
       "                   A         B         C         D\n",
       "2023-08-04 -1.380659  0.144631  1.898931  0.688993\n",
       "2023-08-05 -0.734541  0.559971 -0.342490  0.082496\n",
       "2023-08-06  0.324920  1.635320  0.157321 -1.475597\n",
       "2023-08-07  0.635575 -0.430651 -0.454975  1.583368\n",
       "2023-08-08 -0.388897 -1.549326 -2.274574 -1.014404\n",
       "2023-08-09  0.280633 -0.300134  1.085409 -0.538089"
      ]
     },
     "execution_count": 155,
     "metadata": {},
     "output_type": "execute_result"
    }
   ],
   "source": [
    "# 데이터 정렬\n",
    "# sort_values()\n",
    "# 오름차순\n",
    "\n",
    "df"
   ]
  },
  {
   "cell_type": "code",
   "execution_count": 156,
   "id": "2509421e-a883-44c2-be42-ac9b5a6396bc",
   "metadata": {},
   "outputs": [
    {
     "data": {
      "text/html": [
       "<div>\n",
       "<style scoped>\n",
       "    .dataframe tbody tr th:only-of-type {\n",
       "        vertical-align: middle;\n",
       "    }\n",
       "\n",
       "    .dataframe tbody tr th {\n",
       "        vertical-align: top;\n",
       "    }\n",
       "\n",
       "    .dataframe thead th {\n",
       "        text-align: right;\n",
       "    }\n",
       "</style>\n",
       "<table border=\"1\" class=\"dataframe\">\n",
       "  <thead>\n",
       "    <tr style=\"text-align: right;\">\n",
       "      <th></th>\n",
       "      <th>A</th>\n",
       "      <th>B</th>\n",
       "      <th>C</th>\n",
       "      <th>D</th>\n",
       "    </tr>\n",
       "  </thead>\n",
       "  <tbody>\n",
       "    <tr>\n",
       "      <th>2023-08-04</th>\n",
       "      <td>-1.380659</td>\n",
       "      <td>0.144631</td>\n",
       "      <td>1.898931</td>\n",
       "      <td>0.688993</td>\n",
       "    </tr>\n",
       "    <tr>\n",
       "      <th>2023-08-05</th>\n",
       "      <td>-0.734541</td>\n",
       "      <td>0.559971</td>\n",
       "      <td>-0.342490</td>\n",
       "      <td>0.082496</td>\n",
       "    </tr>\n",
       "    <tr>\n",
       "      <th>2023-08-08</th>\n",
       "      <td>-0.388897</td>\n",
       "      <td>-1.549326</td>\n",
       "      <td>-2.274574</td>\n",
       "      <td>-1.014404</td>\n",
       "    </tr>\n",
       "    <tr>\n",
       "      <th>2023-08-09</th>\n",
       "      <td>0.280633</td>\n",
       "      <td>-0.300134</td>\n",
       "      <td>1.085409</td>\n",
       "      <td>-0.538089</td>\n",
       "    </tr>\n",
       "    <tr>\n",
       "      <th>2023-08-06</th>\n",
       "      <td>0.324920</td>\n",
       "      <td>1.635320</td>\n",
       "      <td>0.157321</td>\n",
       "      <td>-1.475597</td>\n",
       "    </tr>\n",
       "    <tr>\n",
       "      <th>2023-08-07</th>\n",
       "      <td>0.635575</td>\n",
       "      <td>-0.430651</td>\n",
       "      <td>-0.454975</td>\n",
       "      <td>1.583368</td>\n",
       "    </tr>\n",
       "  </tbody>\n",
       "</table>\n",
       "</div>"
      ],
      "text/plain": [
       "                   A         B         C         D\n",
       "2023-08-04 -1.380659  0.144631  1.898931  0.688993\n",
       "2023-08-05 -0.734541  0.559971 -0.342490  0.082496\n",
       "2023-08-08 -0.388897 -1.549326 -2.274574 -1.014404\n",
       "2023-08-09  0.280633 -0.300134  1.085409 -0.538089\n",
       "2023-08-06  0.324920  1.635320  0.157321 -1.475597\n",
       "2023-08-07  0.635575 -0.430651 -0.454975  1.583368"
      ]
     },
     "execution_count": 156,
     "metadata": {},
     "output_type": "execute_result"
    }
   ],
   "source": [
    "df.sort_values(by = 'A')"
   ]
  },
  {
   "cell_type": "markdown",
   "id": "8bb0038f",
   "metadata": {},
   "source": [
    "- ascending = False 는 내림차순으로 가장 큰 값 부터 보여준다\n",
    "- ascending = True 는 오름차순으로 가장 작은 값 부터 보여준다\n",
    "- 기본값은 True"
   ]
  },
  {
   "cell_type": "code",
   "execution_count": 157,
   "id": "ce81840e-ceb5-44f1-a51a-b7b8dedbfa96",
   "metadata": {},
   "outputs": [
    {
     "data": {
      "text/html": [
       "<div>\n",
       "<style scoped>\n",
       "    .dataframe tbody tr th:only-of-type {\n",
       "        vertical-align: middle;\n",
       "    }\n",
       "\n",
       "    .dataframe tbody tr th {\n",
       "        vertical-align: top;\n",
       "    }\n",
       "\n",
       "    .dataframe thead th {\n",
       "        text-align: right;\n",
       "    }\n",
       "</style>\n",
       "<table border=\"1\" class=\"dataframe\">\n",
       "  <thead>\n",
       "    <tr style=\"text-align: right;\">\n",
       "      <th></th>\n",
       "      <th>A</th>\n",
       "      <th>B</th>\n",
       "      <th>C</th>\n",
       "      <th>D</th>\n",
       "    </tr>\n",
       "  </thead>\n",
       "  <tbody>\n",
       "    <tr>\n",
       "      <th>2023-08-07</th>\n",
       "      <td>0.635575</td>\n",
       "      <td>-0.430651</td>\n",
       "      <td>-0.454975</td>\n",
       "      <td>1.583368</td>\n",
       "    </tr>\n",
       "    <tr>\n",
       "      <th>2023-08-06</th>\n",
       "      <td>0.324920</td>\n",
       "      <td>1.635320</td>\n",
       "      <td>0.157321</td>\n",
       "      <td>-1.475597</td>\n",
       "    </tr>\n",
       "    <tr>\n",
       "      <th>2023-08-09</th>\n",
       "      <td>0.280633</td>\n",
       "      <td>-0.300134</td>\n",
       "      <td>1.085409</td>\n",
       "      <td>-0.538089</td>\n",
       "    </tr>\n",
       "    <tr>\n",
       "      <th>2023-08-08</th>\n",
       "      <td>-0.388897</td>\n",
       "      <td>-1.549326</td>\n",
       "      <td>-2.274574</td>\n",
       "      <td>-1.014404</td>\n",
       "    </tr>\n",
       "    <tr>\n",
       "      <th>2023-08-05</th>\n",
       "      <td>-0.734541</td>\n",
       "      <td>0.559971</td>\n",
       "      <td>-0.342490</td>\n",
       "      <td>0.082496</td>\n",
       "    </tr>\n",
       "    <tr>\n",
       "      <th>2023-08-04</th>\n",
       "      <td>-1.380659</td>\n",
       "      <td>0.144631</td>\n",
       "      <td>1.898931</td>\n",
       "      <td>0.688993</td>\n",
       "    </tr>\n",
       "  </tbody>\n",
       "</table>\n",
       "</div>"
      ],
      "text/plain": [
       "                   A         B         C         D\n",
       "2023-08-07  0.635575 -0.430651 -0.454975  1.583368\n",
       "2023-08-06  0.324920  1.635320  0.157321 -1.475597\n",
       "2023-08-09  0.280633 -0.300134  1.085409 -0.538089\n",
       "2023-08-08 -0.388897 -1.549326 -2.274574 -1.014404\n",
       "2023-08-05 -0.734541  0.559971 -0.342490  0.082496\n",
       "2023-08-04 -1.380659  0.144631  1.898931  0.688993"
      ]
     },
     "execution_count": 157,
     "metadata": {},
     "output_type": "execute_result"
    }
   ],
   "source": [
    "df.sort_values(by = 'A', ascending = False) "
   ]
  },
  {
   "cell_type": "markdown",
   "id": "8954105b",
   "metadata": {},
   "source": [
    "- sort value를 2개를 하게 되면 먼저 나온 기준으로 정렬한 뒤\n",
    "- 같은 값이 나왔을 때 그 뒤에 나온 기준으로 정렬한다"
   ]
  },
  {
   "cell_type": "code",
   "execution_count": 158,
   "id": "fdf495a0-fb40-43b6-8816-3780a0eb0329",
   "metadata": {},
   "outputs": [
    {
     "data": {
      "text/html": [
       "<div>\n",
       "<style scoped>\n",
       "    .dataframe tbody tr th:only-of-type {\n",
       "        vertical-align: middle;\n",
       "    }\n",
       "\n",
       "    .dataframe tbody tr th {\n",
       "        vertical-align: top;\n",
       "    }\n",
       "\n",
       "    .dataframe thead th {\n",
       "        text-align: right;\n",
       "    }\n",
       "</style>\n",
       "<table border=\"1\" class=\"dataframe\">\n",
       "  <thead>\n",
       "    <tr style=\"text-align: right;\">\n",
       "      <th></th>\n",
       "      <th>A</th>\n",
       "      <th>B</th>\n",
       "      <th>C</th>\n",
       "      <th>D</th>\n",
       "    </tr>\n",
       "  </thead>\n",
       "  <tbody>\n",
       "    <tr>\n",
       "      <th>2023-08-07</th>\n",
       "      <td>0.635575</td>\n",
       "      <td>-0.430651</td>\n",
       "      <td>-0.454975</td>\n",
       "      <td>1.583368</td>\n",
       "    </tr>\n",
       "    <tr>\n",
       "      <th>2023-08-06</th>\n",
       "      <td>0.324920</td>\n",
       "      <td>1.635320</td>\n",
       "      <td>0.157321</td>\n",
       "      <td>-1.475597</td>\n",
       "    </tr>\n",
       "    <tr>\n",
       "      <th>2023-08-09</th>\n",
       "      <td>0.280633</td>\n",
       "      <td>-0.300134</td>\n",
       "      <td>1.085409</td>\n",
       "      <td>-0.538089</td>\n",
       "    </tr>\n",
       "    <tr>\n",
       "      <th>2023-08-08</th>\n",
       "      <td>-0.388897</td>\n",
       "      <td>-1.549326</td>\n",
       "      <td>-2.274574</td>\n",
       "      <td>-1.014404</td>\n",
       "    </tr>\n",
       "    <tr>\n",
       "      <th>2023-08-05</th>\n",
       "      <td>-0.734541</td>\n",
       "      <td>0.559971</td>\n",
       "      <td>-0.342490</td>\n",
       "      <td>0.082496</td>\n",
       "    </tr>\n",
       "    <tr>\n",
       "      <th>2023-08-04</th>\n",
       "      <td>-1.380659</td>\n",
       "      <td>0.144631</td>\n",
       "      <td>1.898931</td>\n",
       "      <td>0.688993</td>\n",
       "    </tr>\n",
       "  </tbody>\n",
       "</table>\n",
       "</div>"
      ],
      "text/plain": [
       "                   A         B         C         D\n",
       "2023-08-07  0.635575 -0.430651 -0.454975  1.583368\n",
       "2023-08-06  0.324920  1.635320  0.157321 -1.475597\n",
       "2023-08-09  0.280633 -0.300134  1.085409 -0.538089\n",
       "2023-08-08 -0.388897 -1.549326 -2.274574 -1.014404\n",
       "2023-08-05 -0.734541  0.559971 -0.342490  0.082496\n",
       "2023-08-04 -1.380659  0.144631  1.898931  0.688993"
      ]
     },
     "execution_count": 158,
     "metadata": {},
     "output_type": "execute_result"
    }
   ],
   "source": [
    "df.sort_values(by = ['A', 'B'], ascending = False)"
   ]
  },
  {
   "cell_type": "markdown",
   "id": "2fa48f9d",
   "metadata": {},
   "source": [
    "- 딕셔너리로 pandas를 만들 경우에는 key값이 columns이 된다"
   ]
  },
  {
   "cell_type": "code",
   "execution_count": 159,
   "id": "f603bd8a-a22b-4fa4-870a-2759fabe42d8",
   "metadata": {},
   "outputs": [],
   "source": [
    "# 데이터를 딕셔너리의 리스트로 생성\n",
    "data = {\n",
    "    'A' : [1, 2, 3, 4, 5],\n",
    "    'B' : [3, 2, 3, 1, 2],\n",
    "    'C' : [5, 4, 3, 2, 1]\n",
    "}"
   ]
  },
  {
   "cell_type": "code",
   "execution_count": 160,
   "id": "b1c50e2a-fc25-4518-aad4-2d2c2562d704",
   "metadata": {},
   "outputs": [],
   "source": [
    "sort_study_df = pd.DataFrame(data)"
   ]
  },
  {
   "cell_type": "code",
   "execution_count": 161,
   "id": "270b7c27-81fa-4d54-a986-426ff668f688",
   "metadata": {},
   "outputs": [
    {
     "data": {
      "text/html": [
       "<div>\n",
       "<style scoped>\n",
       "    .dataframe tbody tr th:only-of-type {\n",
       "        vertical-align: middle;\n",
       "    }\n",
       "\n",
       "    .dataframe tbody tr th {\n",
       "        vertical-align: top;\n",
       "    }\n",
       "\n",
       "    .dataframe thead th {\n",
       "        text-align: right;\n",
       "    }\n",
       "</style>\n",
       "<table border=\"1\" class=\"dataframe\">\n",
       "  <thead>\n",
       "    <tr style=\"text-align: right;\">\n",
       "      <th></th>\n",
       "      <th>A</th>\n",
       "      <th>B</th>\n",
       "      <th>C</th>\n",
       "    </tr>\n",
       "  </thead>\n",
       "  <tbody>\n",
       "    <tr>\n",
       "      <th>0</th>\n",
       "      <td>1</td>\n",
       "      <td>3</td>\n",
       "      <td>5</td>\n",
       "    </tr>\n",
       "    <tr>\n",
       "      <th>1</th>\n",
       "      <td>2</td>\n",
       "      <td>2</td>\n",
       "      <td>4</td>\n",
       "    </tr>\n",
       "    <tr>\n",
       "      <th>2</th>\n",
       "      <td>3</td>\n",
       "      <td>3</td>\n",
       "      <td>3</td>\n",
       "    </tr>\n",
       "    <tr>\n",
       "      <th>3</th>\n",
       "      <td>4</td>\n",
       "      <td>1</td>\n",
       "      <td>2</td>\n",
       "    </tr>\n",
       "    <tr>\n",
       "      <th>4</th>\n",
       "      <td>5</td>\n",
       "      <td>2</td>\n",
       "      <td>1</td>\n",
       "    </tr>\n",
       "  </tbody>\n",
       "</table>\n",
       "</div>"
      ],
      "text/plain": [
       "   A  B  C\n",
       "0  1  3  5\n",
       "1  2  2  4\n",
       "2  3  3  3\n",
       "3  4  1  2\n",
       "4  5  2  1"
      ]
     },
     "execution_count": 161,
     "metadata": {},
     "output_type": "execute_result"
    }
   ],
   "source": [
    "pd.DataFrame(data)"
   ]
  },
  {
   "cell_type": "code",
   "execution_count": 162,
   "id": "f88364ca-c743-4d32-a1ae-32c9d07ddf50",
   "metadata": {},
   "outputs": [],
   "source": [
    "# 데이터를 리스트의 딕셔너리로 생성\n",
    "data = [\n",
    "    {'A': 1, 'B': 3, 'C': 5},\n",
    "    {'A': 2, 'B': 2, 'C': 4},\n",
    "    {'A': 3, 'B': 3, 'C': 3},\n",
    "    {'A': 4, 'B': 1, 'C': 2},\n",
    "    {'A': 5, 'B': 2, 'C': 1},\n",
    "]"
   ]
  },
  {
   "cell_type": "code",
   "execution_count": 163,
   "id": "f3873b29-e137-44b3-90bc-723898ca3801",
   "metadata": {},
   "outputs": [
    {
     "data": {
      "text/html": [
       "<div>\n",
       "<style scoped>\n",
       "    .dataframe tbody tr th:only-of-type {\n",
       "        vertical-align: middle;\n",
       "    }\n",
       "\n",
       "    .dataframe tbody tr th {\n",
       "        vertical-align: top;\n",
       "    }\n",
       "\n",
       "    .dataframe thead th {\n",
       "        text-align: right;\n",
       "    }\n",
       "</style>\n",
       "<table border=\"1\" class=\"dataframe\">\n",
       "  <thead>\n",
       "    <tr style=\"text-align: right;\">\n",
       "      <th></th>\n",
       "      <th>A</th>\n",
       "      <th>B</th>\n",
       "      <th>C</th>\n",
       "    </tr>\n",
       "  </thead>\n",
       "  <tbody>\n",
       "    <tr>\n",
       "      <th>0</th>\n",
       "      <td>1</td>\n",
       "      <td>3</td>\n",
       "      <td>5</td>\n",
       "    </tr>\n",
       "    <tr>\n",
       "      <th>1</th>\n",
       "      <td>2</td>\n",
       "      <td>2</td>\n",
       "      <td>4</td>\n",
       "    </tr>\n",
       "    <tr>\n",
       "      <th>2</th>\n",
       "      <td>3</td>\n",
       "      <td>3</td>\n",
       "      <td>3</td>\n",
       "    </tr>\n",
       "    <tr>\n",
       "      <th>3</th>\n",
       "      <td>4</td>\n",
       "      <td>1</td>\n",
       "      <td>2</td>\n",
       "    </tr>\n",
       "    <tr>\n",
       "      <th>4</th>\n",
       "      <td>5</td>\n",
       "      <td>2</td>\n",
       "      <td>1</td>\n",
       "    </tr>\n",
       "  </tbody>\n",
       "</table>\n",
       "</div>"
      ],
      "text/plain": [
       "   A  B  C\n",
       "0  1  3  5\n",
       "1  2  2  4\n",
       "2  3  3  3\n",
       "3  4  1  2\n",
       "4  5  2  1"
      ]
     },
     "execution_count": 163,
     "metadata": {},
     "output_type": "execute_result"
    }
   ],
   "source": [
    "pd.DataFrame(data)"
   ]
  },
  {
   "cell_type": "code",
   "execution_count": 164,
   "id": "058d1594-4628-49df-b92b-a11ccdba1214",
   "metadata": {},
   "outputs": [
    {
     "data": {
      "text/html": [
       "<div>\n",
       "<style scoped>\n",
       "    .dataframe tbody tr th:only-of-type {\n",
       "        vertical-align: middle;\n",
       "    }\n",
       "\n",
       "    .dataframe tbody tr th {\n",
       "        vertical-align: top;\n",
       "    }\n",
       "\n",
       "    .dataframe thead th {\n",
       "        text-align: right;\n",
       "    }\n",
       "</style>\n",
       "<table border=\"1\" class=\"dataframe\">\n",
       "  <thead>\n",
       "    <tr style=\"text-align: right;\">\n",
       "      <th></th>\n",
       "      <th>A</th>\n",
       "      <th>B</th>\n",
       "      <th>C</th>\n",
       "    </tr>\n",
       "  </thead>\n",
       "  <tbody>\n",
       "    <tr>\n",
       "      <th>3</th>\n",
       "      <td>4</td>\n",
       "      <td>1</td>\n",
       "      <td>2</td>\n",
       "    </tr>\n",
       "    <tr>\n",
       "      <th>4</th>\n",
       "      <td>5</td>\n",
       "      <td>2</td>\n",
       "      <td>1</td>\n",
       "    </tr>\n",
       "    <tr>\n",
       "      <th>1</th>\n",
       "      <td>2</td>\n",
       "      <td>2</td>\n",
       "      <td>4</td>\n",
       "    </tr>\n",
       "    <tr>\n",
       "      <th>2</th>\n",
       "      <td>3</td>\n",
       "      <td>3</td>\n",
       "      <td>3</td>\n",
       "    </tr>\n",
       "    <tr>\n",
       "      <th>0</th>\n",
       "      <td>1</td>\n",
       "      <td>3</td>\n",
       "      <td>5</td>\n",
       "    </tr>\n",
       "  </tbody>\n",
       "</table>\n",
       "</div>"
      ],
      "text/plain": [
       "   A  B  C\n",
       "3  4  1  2\n",
       "4  5  2  1\n",
       "1  2  2  4\n",
       "2  3  3  3\n",
       "0  1  3  5"
      ]
     },
     "execution_count": 164,
     "metadata": {},
     "output_type": "execute_result"
    }
   ],
   "source": [
    "sort_study_df.sort_values(by = ['B', 'C'])"
   ]
  },
  {
   "cell_type": "code",
   "execution_count": 165,
   "id": "2ebe9503-f08e-404c-a46f-5803ecdd2524",
   "metadata": {},
   "outputs": [
    {
     "data": {
      "text/html": [
       "<div>\n",
       "<style scoped>\n",
       "    .dataframe tbody tr th:only-of-type {\n",
       "        vertical-align: middle;\n",
       "    }\n",
       "\n",
       "    .dataframe tbody tr th {\n",
       "        vertical-align: top;\n",
       "    }\n",
       "\n",
       "    .dataframe thead th {\n",
       "        text-align: right;\n",
       "    }\n",
       "</style>\n",
       "<table border=\"1\" class=\"dataframe\">\n",
       "  <thead>\n",
       "    <tr style=\"text-align: right;\">\n",
       "      <th></th>\n",
       "      <th>A</th>\n",
       "      <th>B</th>\n",
       "      <th>C</th>\n",
       "      <th>D</th>\n",
       "    </tr>\n",
       "  </thead>\n",
       "  <tbody>\n",
       "    <tr>\n",
       "      <th>2023-08-04</th>\n",
       "      <td>-1.380659</td>\n",
       "      <td>0.144631</td>\n",
       "      <td>1.898931</td>\n",
       "      <td>0.688993</td>\n",
       "    </tr>\n",
       "    <tr>\n",
       "      <th>2023-08-05</th>\n",
       "      <td>-0.734541</td>\n",
       "      <td>0.559971</td>\n",
       "      <td>-0.342490</td>\n",
       "      <td>0.082496</td>\n",
       "    </tr>\n",
       "    <tr>\n",
       "      <th>2023-08-06</th>\n",
       "      <td>0.324920</td>\n",
       "      <td>1.635320</td>\n",
       "      <td>0.157321</td>\n",
       "      <td>-1.475597</td>\n",
       "    </tr>\n",
       "    <tr>\n",
       "      <th>2023-08-07</th>\n",
       "      <td>0.635575</td>\n",
       "      <td>-0.430651</td>\n",
       "      <td>-0.454975</td>\n",
       "      <td>1.583368</td>\n",
       "    </tr>\n",
       "    <tr>\n",
       "      <th>2023-08-08</th>\n",
       "      <td>-0.388897</td>\n",
       "      <td>-1.549326</td>\n",
       "      <td>-2.274574</td>\n",
       "      <td>-1.014404</td>\n",
       "    </tr>\n",
       "    <tr>\n",
       "      <th>2023-08-09</th>\n",
       "      <td>0.280633</td>\n",
       "      <td>-0.300134</td>\n",
       "      <td>1.085409</td>\n",
       "      <td>-0.538089</td>\n",
       "    </tr>\n",
       "  </tbody>\n",
       "</table>\n",
       "</div>"
      ],
      "text/plain": [
       "                   A         B         C         D\n",
       "2023-08-04 -1.380659  0.144631  1.898931  0.688993\n",
       "2023-08-05 -0.734541  0.559971 -0.342490  0.082496\n",
       "2023-08-06  0.324920  1.635320  0.157321 -1.475597\n",
       "2023-08-07  0.635575 -0.430651 -0.454975  1.583368\n",
       "2023-08-08 -0.388897 -1.549326 -2.274574 -1.014404\n",
       "2023-08-09  0.280633 -0.300134  1.085409 -0.538089"
      ]
     },
     "execution_count": 165,
     "metadata": {},
     "output_type": "execute_result"
    }
   ],
   "source": [
    "df"
   ]
  },
  {
   "cell_type": "markdown",
   "id": "ee3a5a42",
   "metadata": {},
   "source": [
    "- 컬럼을 추가하기 위해서는 \n",
    "- df [\"columns에 입력하고 싶은 값\"] = ['인덱스의 크기에 맞게끔 값을 입력해주는 것이 좋다']"
   ]
  },
  {
   "cell_type": "code",
   "execution_count": 166,
   "id": "eb4ea8d3-29e1-4939-89e5-a887fab8d51d",
   "metadata": {},
   "outputs": [],
   "source": [
    "# 컬럼 추가\n",
    "# 기존에 컬럼이 없으면 추가, 있으면 덮어쓰기\n",
    "df['E'] = ['one', 'one', 'two', 'three', 'four', 'seven']"
   ]
  },
  {
   "cell_type": "code",
   "execution_count": 167,
   "id": "92224cf5-6192-4627-bfb0-056e1ebd702f",
   "metadata": {},
   "outputs": [
    {
     "data": {
      "text/html": [
       "<div>\n",
       "<style scoped>\n",
       "    .dataframe tbody tr th:only-of-type {\n",
       "        vertical-align: middle;\n",
       "    }\n",
       "\n",
       "    .dataframe tbody tr th {\n",
       "        vertical-align: top;\n",
       "    }\n",
       "\n",
       "    .dataframe thead th {\n",
       "        text-align: right;\n",
       "    }\n",
       "</style>\n",
       "<table border=\"1\" class=\"dataframe\">\n",
       "  <thead>\n",
       "    <tr style=\"text-align: right;\">\n",
       "      <th></th>\n",
       "      <th>A</th>\n",
       "      <th>B</th>\n",
       "      <th>C</th>\n",
       "      <th>D</th>\n",
       "      <th>E</th>\n",
       "    </tr>\n",
       "  </thead>\n",
       "  <tbody>\n",
       "    <tr>\n",
       "      <th>2023-08-04</th>\n",
       "      <td>-1.380659</td>\n",
       "      <td>0.144631</td>\n",
       "      <td>1.898931</td>\n",
       "      <td>0.688993</td>\n",
       "      <td>one</td>\n",
       "    </tr>\n",
       "    <tr>\n",
       "      <th>2023-08-05</th>\n",
       "      <td>-0.734541</td>\n",
       "      <td>0.559971</td>\n",
       "      <td>-0.342490</td>\n",
       "      <td>0.082496</td>\n",
       "      <td>one</td>\n",
       "    </tr>\n",
       "    <tr>\n",
       "      <th>2023-08-06</th>\n",
       "      <td>0.324920</td>\n",
       "      <td>1.635320</td>\n",
       "      <td>0.157321</td>\n",
       "      <td>-1.475597</td>\n",
       "      <td>two</td>\n",
       "    </tr>\n",
       "    <tr>\n",
       "      <th>2023-08-07</th>\n",
       "      <td>0.635575</td>\n",
       "      <td>-0.430651</td>\n",
       "      <td>-0.454975</td>\n",
       "      <td>1.583368</td>\n",
       "      <td>three</td>\n",
       "    </tr>\n",
       "    <tr>\n",
       "      <th>2023-08-08</th>\n",
       "      <td>-0.388897</td>\n",
       "      <td>-1.549326</td>\n",
       "      <td>-2.274574</td>\n",
       "      <td>-1.014404</td>\n",
       "      <td>four</td>\n",
       "    </tr>\n",
       "    <tr>\n",
       "      <th>2023-08-09</th>\n",
       "      <td>0.280633</td>\n",
       "      <td>-0.300134</td>\n",
       "      <td>1.085409</td>\n",
       "      <td>-0.538089</td>\n",
       "      <td>seven</td>\n",
       "    </tr>\n",
       "  </tbody>\n",
       "</table>\n",
       "</div>"
      ],
      "text/plain": [
       "                   A         B         C         D      E\n",
       "2023-08-04 -1.380659  0.144631  1.898931  0.688993    one\n",
       "2023-08-05 -0.734541  0.559971 -0.342490  0.082496    one\n",
       "2023-08-06  0.324920  1.635320  0.157321 -1.475597    two\n",
       "2023-08-07  0.635575 -0.430651 -0.454975  1.583368  three\n",
       "2023-08-08 -0.388897 -1.549326 -2.274574 -1.014404   four\n",
       "2023-08-09  0.280633 -0.300134  1.085409 -0.538089  seven"
      ]
     },
     "execution_count": 167,
     "metadata": {},
     "output_type": "execute_result"
    }
   ],
   "source": [
    "df"
   ]
  },
  {
   "cell_type": "markdown",
   "id": "1829ba30",
   "metadata": {},
   "source": [
    "- 데이터 삭제\n",
    "- pandas에서는 axis=1 세로 0은 가로 \n",
    "- numpy는 반대이다\n",
    "- inplace = True 는 원본을 진짜 바꾸는 명령어\n",
    "- df.drop('열 중 하나의 값', 열이면 axis = 1)"
   ]
  },
  {
   "cell_type": "code",
   "execution_count": 168,
   "id": "b8f08c37-47e0-4e59-9c41-5780f9d9600f",
   "metadata": {},
   "outputs": [
    {
     "data": {
      "text/html": [
       "<div>\n",
       "<style scoped>\n",
       "    .dataframe tbody tr th:only-of-type {\n",
       "        vertical-align: middle;\n",
       "    }\n",
       "\n",
       "    .dataframe tbody tr th {\n",
       "        vertical-align: top;\n",
       "    }\n",
       "\n",
       "    .dataframe thead th {\n",
       "        text-align: right;\n",
       "    }\n",
       "</style>\n",
       "<table border=\"1\" class=\"dataframe\">\n",
       "  <thead>\n",
       "    <tr style=\"text-align: right;\">\n",
       "      <th></th>\n",
       "      <th>B</th>\n",
       "      <th>C</th>\n",
       "      <th>D</th>\n",
       "      <th>E</th>\n",
       "    </tr>\n",
       "  </thead>\n",
       "  <tbody>\n",
       "    <tr>\n",
       "      <th>2023-08-04</th>\n",
       "      <td>0.144631</td>\n",
       "      <td>1.898931</td>\n",
       "      <td>0.688993</td>\n",
       "      <td>one</td>\n",
       "    </tr>\n",
       "    <tr>\n",
       "      <th>2023-08-05</th>\n",
       "      <td>0.559971</td>\n",
       "      <td>-0.342490</td>\n",
       "      <td>0.082496</td>\n",
       "      <td>one</td>\n",
       "    </tr>\n",
       "    <tr>\n",
       "      <th>2023-08-06</th>\n",
       "      <td>1.635320</td>\n",
       "      <td>0.157321</td>\n",
       "      <td>-1.475597</td>\n",
       "      <td>two</td>\n",
       "    </tr>\n",
       "    <tr>\n",
       "      <th>2023-08-07</th>\n",
       "      <td>-0.430651</td>\n",
       "      <td>-0.454975</td>\n",
       "      <td>1.583368</td>\n",
       "      <td>three</td>\n",
       "    </tr>\n",
       "    <tr>\n",
       "      <th>2023-08-08</th>\n",
       "      <td>-1.549326</td>\n",
       "      <td>-2.274574</td>\n",
       "      <td>-1.014404</td>\n",
       "      <td>four</td>\n",
       "    </tr>\n",
       "    <tr>\n",
       "      <th>2023-08-09</th>\n",
       "      <td>-0.300134</td>\n",
       "      <td>1.085409</td>\n",
       "      <td>-0.538089</td>\n",
       "      <td>seven</td>\n",
       "    </tr>\n",
       "  </tbody>\n",
       "</table>\n",
       "</div>"
      ],
      "text/plain": [
       "                   B         C         D      E\n",
       "2023-08-04  0.144631  1.898931  0.688993    one\n",
       "2023-08-05  0.559971 -0.342490  0.082496    one\n",
       "2023-08-06  1.635320  0.157321 -1.475597    two\n",
       "2023-08-07 -0.430651 -0.454975  1.583368  three\n",
       "2023-08-08 -1.549326 -2.274574 -1.014404   four\n",
       "2023-08-09 -0.300134  1.085409 -0.538089  seven"
      ]
     },
     "execution_count": 168,
     "metadata": {},
     "output_type": "execute_result"
    }
   ],
   "source": [
    "# 데이터 삭제\n",
    "# axis = 1 세로, axis = 0 가로\n",
    "# inplace 내부 내용을 바꾼다\n",
    "df.drop('A', axis = 1)"
   ]
  },
  {
   "cell_type": "code",
   "execution_count": 169,
   "id": "11facdae-9eb3-4264-8997-4a10b9d217a7",
   "metadata": {},
   "outputs": [
    {
     "data": {
      "text/html": [
       "<div>\n",
       "<style scoped>\n",
       "    .dataframe tbody tr th:only-of-type {\n",
       "        vertical-align: middle;\n",
       "    }\n",
       "\n",
       "    .dataframe tbody tr th {\n",
       "        vertical-align: top;\n",
       "    }\n",
       "\n",
       "    .dataframe thead th {\n",
       "        text-align: right;\n",
       "    }\n",
       "</style>\n",
       "<table border=\"1\" class=\"dataframe\">\n",
       "  <thead>\n",
       "    <tr style=\"text-align: right;\">\n",
       "      <th></th>\n",
       "      <th>A</th>\n",
       "      <th>B</th>\n",
       "      <th>C</th>\n",
       "      <th>D</th>\n",
       "      <th>E</th>\n",
       "    </tr>\n",
       "  </thead>\n",
       "  <tbody>\n",
       "    <tr>\n",
       "      <th>2023-08-04</th>\n",
       "      <td>-1.380659</td>\n",
       "      <td>0.144631</td>\n",
       "      <td>1.898931</td>\n",
       "      <td>0.688993</td>\n",
       "      <td>one</td>\n",
       "    </tr>\n",
       "    <tr>\n",
       "      <th>2023-08-05</th>\n",
       "      <td>-0.734541</td>\n",
       "      <td>0.559971</td>\n",
       "      <td>-0.342490</td>\n",
       "      <td>0.082496</td>\n",
       "      <td>one</td>\n",
       "    </tr>\n",
       "    <tr>\n",
       "      <th>2023-08-06</th>\n",
       "      <td>0.324920</td>\n",
       "      <td>1.635320</td>\n",
       "      <td>0.157321</td>\n",
       "      <td>-1.475597</td>\n",
       "      <td>two</td>\n",
       "    </tr>\n",
       "    <tr>\n",
       "      <th>2023-08-07</th>\n",
       "      <td>0.635575</td>\n",
       "      <td>-0.430651</td>\n",
       "      <td>-0.454975</td>\n",
       "      <td>1.583368</td>\n",
       "      <td>three</td>\n",
       "    </tr>\n",
       "    <tr>\n",
       "      <th>2023-08-08</th>\n",
       "      <td>-0.388897</td>\n",
       "      <td>-1.549326</td>\n",
       "      <td>-2.274574</td>\n",
       "      <td>-1.014404</td>\n",
       "      <td>four</td>\n",
       "    </tr>\n",
       "    <tr>\n",
       "      <th>2023-08-09</th>\n",
       "      <td>0.280633</td>\n",
       "      <td>-0.300134</td>\n",
       "      <td>1.085409</td>\n",
       "      <td>-0.538089</td>\n",
       "      <td>seven</td>\n",
       "    </tr>\n",
       "  </tbody>\n",
       "</table>\n",
       "</div>"
      ],
      "text/plain": [
       "                   A         B         C         D      E\n",
       "2023-08-04 -1.380659  0.144631  1.898931  0.688993    one\n",
       "2023-08-05 -0.734541  0.559971 -0.342490  0.082496    one\n",
       "2023-08-06  0.324920  1.635320  0.157321 -1.475597    two\n",
       "2023-08-07  0.635575 -0.430651 -0.454975  1.583368  three\n",
       "2023-08-08 -0.388897 -1.549326 -2.274574 -1.014404   four\n",
       "2023-08-09  0.280633 -0.300134  1.085409 -0.538089  seven"
      ]
     },
     "execution_count": 169,
     "metadata": {},
     "output_type": "execute_result"
    }
   ],
   "source": [
    "df"
   ]
  },
  {
   "cell_type": "code",
   "execution_count": 170,
   "id": "73829fb1-ea00-4f1f-ab6d-b5607d12c878",
   "metadata": {},
   "outputs": [],
   "source": [
    "df.drop('A', axis = 1, inplace = True)"
   ]
  },
  {
   "cell_type": "code",
   "execution_count": 171,
   "id": "49515e84-8e3e-4fef-aab1-c2611f148840",
   "metadata": {},
   "outputs": [
    {
     "data": {
      "text/html": [
       "<div>\n",
       "<style scoped>\n",
       "    .dataframe tbody tr th:only-of-type {\n",
       "        vertical-align: middle;\n",
       "    }\n",
       "\n",
       "    .dataframe tbody tr th {\n",
       "        vertical-align: top;\n",
       "    }\n",
       "\n",
       "    .dataframe thead th {\n",
       "        text-align: right;\n",
       "    }\n",
       "</style>\n",
       "<table border=\"1\" class=\"dataframe\">\n",
       "  <thead>\n",
       "    <tr style=\"text-align: right;\">\n",
       "      <th></th>\n",
       "      <th>B</th>\n",
       "      <th>C</th>\n",
       "      <th>D</th>\n",
       "      <th>E</th>\n",
       "    </tr>\n",
       "  </thead>\n",
       "  <tbody>\n",
       "    <tr>\n",
       "      <th>2023-08-04</th>\n",
       "      <td>0.144631</td>\n",
       "      <td>1.898931</td>\n",
       "      <td>0.688993</td>\n",
       "      <td>one</td>\n",
       "    </tr>\n",
       "    <tr>\n",
       "      <th>2023-08-05</th>\n",
       "      <td>0.559971</td>\n",
       "      <td>-0.342490</td>\n",
       "      <td>0.082496</td>\n",
       "      <td>one</td>\n",
       "    </tr>\n",
       "    <tr>\n",
       "      <th>2023-08-06</th>\n",
       "      <td>1.635320</td>\n",
       "      <td>0.157321</td>\n",
       "      <td>-1.475597</td>\n",
       "      <td>two</td>\n",
       "    </tr>\n",
       "    <tr>\n",
       "      <th>2023-08-07</th>\n",
       "      <td>-0.430651</td>\n",
       "      <td>-0.454975</td>\n",
       "      <td>1.583368</td>\n",
       "      <td>three</td>\n",
       "    </tr>\n",
       "    <tr>\n",
       "      <th>2023-08-08</th>\n",
       "      <td>-1.549326</td>\n",
       "      <td>-2.274574</td>\n",
       "      <td>-1.014404</td>\n",
       "      <td>four</td>\n",
       "    </tr>\n",
       "    <tr>\n",
       "      <th>2023-08-09</th>\n",
       "      <td>-0.300134</td>\n",
       "      <td>1.085409</td>\n",
       "      <td>-0.538089</td>\n",
       "      <td>seven</td>\n",
       "    </tr>\n",
       "  </tbody>\n",
       "</table>\n",
       "</div>"
      ],
      "text/plain": [
       "                   B         C         D      E\n",
       "2023-08-04  0.144631  1.898931  0.688993    one\n",
       "2023-08-05  0.559971 -0.342490  0.082496    one\n",
       "2023-08-06  1.635320  0.157321 -1.475597    two\n",
       "2023-08-07 -0.430651 -0.454975  1.583368  three\n",
       "2023-08-08 -1.549326 -2.274574 -1.014404   four\n",
       "2023-08-09 -0.300134  1.085409 -0.538089  seven"
      ]
     },
     "execution_count": 171,
     "metadata": {},
     "output_type": "execute_result"
    }
   ],
   "source": [
    "df"
   ]
  },
  {
   "cell_type": "code",
   "execution_count": 172,
   "id": "20c1fc16-460f-4e85-8efc-e122887f1036",
   "metadata": {},
   "outputs": [
    {
     "data": {
      "text/html": [
       "<div>\n",
       "<style scoped>\n",
       "    .dataframe tbody tr th:only-of-type {\n",
       "        vertical-align: middle;\n",
       "    }\n",
       "\n",
       "    .dataframe tbody tr th {\n",
       "        vertical-align: top;\n",
       "    }\n",
       "\n",
       "    .dataframe thead th {\n",
       "        text-align: right;\n",
       "    }\n",
       "</style>\n",
       "<table border=\"1\" class=\"dataframe\">\n",
       "  <thead>\n",
       "    <tr style=\"text-align: right;\">\n",
       "      <th></th>\n",
       "      <th>B</th>\n",
       "      <th>C</th>\n",
       "      <th>D</th>\n",
       "      <th>E</th>\n",
       "    </tr>\n",
       "  </thead>\n",
       "  <tbody>\n",
       "    <tr>\n",
       "      <th>2023-08-04</th>\n",
       "      <td>0.144631</td>\n",
       "      <td>1.898931</td>\n",
       "      <td>0.688993</td>\n",
       "      <td>one</td>\n",
       "    </tr>\n",
       "    <tr>\n",
       "      <th>2023-08-05</th>\n",
       "      <td>0.559971</td>\n",
       "      <td>-0.342490</td>\n",
       "      <td>0.082496</td>\n",
       "      <td>one</td>\n",
       "    </tr>\n",
       "    <tr>\n",
       "      <th>2023-08-07</th>\n",
       "      <td>-0.430651</td>\n",
       "      <td>-0.454975</td>\n",
       "      <td>1.583368</td>\n",
       "      <td>three</td>\n",
       "    </tr>\n",
       "    <tr>\n",
       "      <th>2023-08-08</th>\n",
       "      <td>-1.549326</td>\n",
       "      <td>-2.274574</td>\n",
       "      <td>-1.014404</td>\n",
       "      <td>four</td>\n",
       "    </tr>\n",
       "  </tbody>\n",
       "</table>\n",
       "</div>"
      ],
      "text/plain": [
       "                   B         C         D      E\n",
       "2023-08-04  0.144631  1.898931  0.688993    one\n",
       "2023-08-05  0.559971 -0.342490  0.082496    one\n",
       "2023-08-07 -0.430651 -0.454975  1.583368  three\n",
       "2023-08-08 -1.549326 -2.274574 -1.014404   four"
      ]
     },
     "execution_count": 172,
     "metadata": {},
     "output_type": "execute_result"
    }
   ],
   "source": [
    "df.drop(['2023-08-06', '2023-08-09'], axis = 0)"
   ]
  },
  {
   "cell_type": "code",
   "execution_count": 173,
   "id": "762d56f0-feab-4a4b-be8c-b42124610eb7",
   "metadata": {},
   "outputs": [
    {
     "data": {
      "text/html": [
       "<div>\n",
       "<style scoped>\n",
       "    .dataframe tbody tr th:only-of-type {\n",
       "        vertical-align: middle;\n",
       "    }\n",
       "\n",
       "    .dataframe tbody tr th {\n",
       "        vertical-align: top;\n",
       "    }\n",
       "\n",
       "    .dataframe thead th {\n",
       "        text-align: right;\n",
       "    }\n",
       "</style>\n",
       "<table border=\"1\" class=\"dataframe\">\n",
       "  <thead>\n",
       "    <tr style=\"text-align: right;\">\n",
       "      <th></th>\n",
       "      <th>C</th>\n",
       "      <th>E</th>\n",
       "    </tr>\n",
       "  </thead>\n",
       "  <tbody>\n",
       "    <tr>\n",
       "      <th>2023-08-04</th>\n",
       "      <td>1.898931</td>\n",
       "      <td>one</td>\n",
       "    </tr>\n",
       "    <tr>\n",
       "      <th>2023-08-05</th>\n",
       "      <td>-0.342490</td>\n",
       "      <td>one</td>\n",
       "    </tr>\n",
       "    <tr>\n",
       "      <th>2023-08-06</th>\n",
       "      <td>0.157321</td>\n",
       "      <td>two</td>\n",
       "    </tr>\n",
       "    <tr>\n",
       "      <th>2023-08-07</th>\n",
       "      <td>-0.454975</td>\n",
       "      <td>three</td>\n",
       "    </tr>\n",
       "    <tr>\n",
       "      <th>2023-08-08</th>\n",
       "      <td>-2.274574</td>\n",
       "      <td>four</td>\n",
       "    </tr>\n",
       "    <tr>\n",
       "      <th>2023-08-09</th>\n",
       "      <td>1.085409</td>\n",
       "      <td>seven</td>\n",
       "    </tr>\n",
       "  </tbody>\n",
       "</table>\n",
       "</div>"
      ],
      "text/plain": [
       "                   C      E\n",
       "2023-08-04  1.898931    one\n",
       "2023-08-05 -0.342490    one\n",
       "2023-08-06  0.157321    two\n",
       "2023-08-07 -0.454975  three\n",
       "2023-08-08 -2.274574   four\n",
       "2023-08-09  1.085409  seven"
      ]
     },
     "execution_count": 173,
     "metadata": {},
     "output_type": "execute_result"
    }
   ],
   "source": [
    "df.drop(columns=['B','D'])"
   ]
  },
  {
   "cell_type": "code",
   "execution_count": 174,
   "id": "51e62af8-ca1b-4458-a856-f465b1d138ae",
   "metadata": {},
   "outputs": [
    {
     "data": {
      "text/html": [
       "<div>\n",
       "<style scoped>\n",
       "    .dataframe tbody tr th:only-of-type {\n",
       "        vertical-align: middle;\n",
       "    }\n",
       "\n",
       "    .dataframe tbody tr th {\n",
       "        vertical-align: top;\n",
       "    }\n",
       "\n",
       "    .dataframe thead th {\n",
       "        text-align: right;\n",
       "    }\n",
       "</style>\n",
       "<table border=\"1\" class=\"dataframe\">\n",
       "  <thead>\n",
       "    <tr style=\"text-align: right;\">\n",
       "      <th></th>\n",
       "      <th>B</th>\n",
       "      <th>C</th>\n",
       "      <th>D</th>\n",
       "      <th>E</th>\n",
       "    </tr>\n",
       "  </thead>\n",
       "  <tbody>\n",
       "    <tr>\n",
       "      <th>2023-08-05</th>\n",
       "      <td>0.559971</td>\n",
       "      <td>-0.342490</td>\n",
       "      <td>0.082496</td>\n",
       "      <td>one</td>\n",
       "    </tr>\n",
       "    <tr>\n",
       "      <th>2023-08-06</th>\n",
       "      <td>1.635320</td>\n",
       "      <td>0.157321</td>\n",
       "      <td>-1.475597</td>\n",
       "      <td>two</td>\n",
       "    </tr>\n",
       "    <tr>\n",
       "      <th>2023-08-07</th>\n",
       "      <td>-0.430651</td>\n",
       "      <td>-0.454975</td>\n",
       "      <td>1.583368</td>\n",
       "      <td>three</td>\n",
       "    </tr>\n",
       "    <tr>\n",
       "      <th>2023-08-08</th>\n",
       "      <td>-1.549326</td>\n",
       "      <td>-2.274574</td>\n",
       "      <td>-1.014404</td>\n",
       "      <td>four</td>\n",
       "    </tr>\n",
       "    <tr>\n",
       "      <th>2023-08-09</th>\n",
       "      <td>-0.300134</td>\n",
       "      <td>1.085409</td>\n",
       "      <td>-0.538089</td>\n",
       "      <td>seven</td>\n",
       "    </tr>\n",
       "  </tbody>\n",
       "</table>\n",
       "</div>"
      ],
      "text/plain": [
       "                   B         C         D      E\n",
       "2023-08-05  0.559971 -0.342490  0.082496    one\n",
       "2023-08-06  1.635320  0.157321 -1.475597    two\n",
       "2023-08-07 -0.430651 -0.454975  1.583368  three\n",
       "2023-08-08 -1.549326 -2.274574 -1.014404   four\n",
       "2023-08-09 -0.300134  1.085409 -0.538089  seven"
      ]
     },
     "execution_count": 174,
     "metadata": {},
     "output_type": "execute_result"
    }
   ],
   "source": [
    "df.drop(index=['2023-08-04'])"
   ]
  },
  {
   "cell_type": "code",
   "execution_count": 175,
   "id": "40b82c20-6c24-40af-9e11-2767667957ac",
   "metadata": {},
   "outputs": [
    {
     "data": {
      "text/html": [
       "<div>\n",
       "<style scoped>\n",
       "    .dataframe tbody tr th:only-of-type {\n",
       "        vertical-align: middle;\n",
       "    }\n",
       "\n",
       "    .dataframe tbody tr th {\n",
       "        vertical-align: top;\n",
       "    }\n",
       "\n",
       "    .dataframe thead th {\n",
       "        text-align: right;\n",
       "    }\n",
       "</style>\n",
       "<table border=\"1\" class=\"dataframe\">\n",
       "  <thead>\n",
       "    <tr style=\"text-align: right;\">\n",
       "      <th></th>\n",
       "      <th>B</th>\n",
       "      <th>C</th>\n",
       "      <th>D</th>\n",
       "      <th>E</th>\n",
       "    </tr>\n",
       "  </thead>\n",
       "  <tbody>\n",
       "    <tr>\n",
       "      <th>2023-08-04</th>\n",
       "      <td>0.144631</td>\n",
       "      <td>1.898931</td>\n",
       "      <td>0.688993</td>\n",
       "      <td>one</td>\n",
       "    </tr>\n",
       "    <tr>\n",
       "      <th>2023-08-05</th>\n",
       "      <td>0.559971</td>\n",
       "      <td>-0.342490</td>\n",
       "      <td>0.082496</td>\n",
       "      <td>one</td>\n",
       "    </tr>\n",
       "    <tr>\n",
       "      <th>2023-08-06</th>\n",
       "      <td>1.635320</td>\n",
       "      <td>0.157321</td>\n",
       "      <td>-1.475597</td>\n",
       "      <td>two</td>\n",
       "    </tr>\n",
       "    <tr>\n",
       "      <th>2023-08-07</th>\n",
       "      <td>-0.430651</td>\n",
       "      <td>-0.454975</td>\n",
       "      <td>1.583368</td>\n",
       "      <td>three</td>\n",
       "    </tr>\n",
       "    <tr>\n",
       "      <th>2023-08-08</th>\n",
       "      <td>-1.549326</td>\n",
       "      <td>-2.274574</td>\n",
       "      <td>-1.014404</td>\n",
       "      <td>four</td>\n",
       "    </tr>\n",
       "    <tr>\n",
       "      <th>2023-08-09</th>\n",
       "      <td>-0.300134</td>\n",
       "      <td>1.085409</td>\n",
       "      <td>-0.538089</td>\n",
       "      <td>seven</td>\n",
       "    </tr>\n",
       "  </tbody>\n",
       "</table>\n",
       "</div>"
      ],
      "text/plain": [
       "                   B         C         D      E\n",
       "2023-08-04  0.144631  1.898931  0.688993    one\n",
       "2023-08-05  0.559971 -0.342490  0.082496    one\n",
       "2023-08-06  1.635320  0.157321 -1.475597    two\n",
       "2023-08-07 -0.430651 -0.454975  1.583368  three\n",
       "2023-08-08 -1.549326 -2.274574 -1.014404   four\n",
       "2023-08-09 -0.300134  1.085409 -0.538089  seven"
      ]
     },
     "execution_count": 175,
     "metadata": {},
     "output_type": "execute_result"
    }
   ],
   "source": [
    "df"
   ]
  },
  {
   "cell_type": "code",
   "execution_count": 176,
   "id": "a6e68145-2b4e-4735-b3af-3483e980da8a",
   "metadata": {},
   "outputs": [],
   "source": [
    "df.drop(columns='E' , inplace= True)"
   ]
  },
  {
   "cell_type": "code",
   "execution_count": 177,
   "id": "1bd895d5-f53a-49a9-ae7f-53940f4a5122",
   "metadata": {},
   "outputs": [
    {
     "data": {
      "text/html": [
       "<div>\n",
       "<style scoped>\n",
       "    .dataframe tbody tr th:only-of-type {\n",
       "        vertical-align: middle;\n",
       "    }\n",
       "\n",
       "    .dataframe tbody tr th {\n",
       "        vertical-align: top;\n",
       "    }\n",
       "\n",
       "    .dataframe thead th {\n",
       "        text-align: right;\n",
       "    }\n",
       "</style>\n",
       "<table border=\"1\" class=\"dataframe\">\n",
       "  <thead>\n",
       "    <tr style=\"text-align: right;\">\n",
       "      <th></th>\n",
       "      <th>B</th>\n",
       "      <th>C</th>\n",
       "      <th>D</th>\n",
       "    </tr>\n",
       "  </thead>\n",
       "  <tbody>\n",
       "    <tr>\n",
       "      <th>2023-08-04</th>\n",
       "      <td>0.144631</td>\n",
       "      <td>1.898931</td>\n",
       "      <td>0.688993</td>\n",
       "    </tr>\n",
       "    <tr>\n",
       "      <th>2023-08-05</th>\n",
       "      <td>0.559971</td>\n",
       "      <td>-0.342490</td>\n",
       "      <td>0.082496</td>\n",
       "    </tr>\n",
       "    <tr>\n",
       "      <th>2023-08-06</th>\n",
       "      <td>1.635320</td>\n",
       "      <td>0.157321</td>\n",
       "      <td>-1.475597</td>\n",
       "    </tr>\n",
       "    <tr>\n",
       "      <th>2023-08-07</th>\n",
       "      <td>-0.430651</td>\n",
       "      <td>-0.454975</td>\n",
       "      <td>1.583368</td>\n",
       "    </tr>\n",
       "    <tr>\n",
       "      <th>2023-08-08</th>\n",
       "      <td>-1.549326</td>\n",
       "      <td>-2.274574</td>\n",
       "      <td>-1.014404</td>\n",
       "    </tr>\n",
       "    <tr>\n",
       "      <th>2023-08-09</th>\n",
       "      <td>-0.300134</td>\n",
       "      <td>1.085409</td>\n",
       "      <td>-0.538089</td>\n",
       "    </tr>\n",
       "  </tbody>\n",
       "</table>\n",
       "</div>"
      ],
      "text/plain": [
       "                   B         C         D\n",
       "2023-08-04  0.144631  1.898931  0.688993\n",
       "2023-08-05  0.559971 -0.342490  0.082496\n",
       "2023-08-06  1.635320  0.157321 -1.475597\n",
       "2023-08-07 -0.430651 -0.454975  1.583368\n",
       "2023-08-08 -1.549326 -2.274574 -1.014404\n",
       "2023-08-09 -0.300134  1.085409 -0.538089"
      ]
     },
     "execution_count": 177,
     "metadata": {},
     "output_type": "execute_result"
    }
   ],
   "source": [
    "df"
   ]
  },
  {
   "cell_type": "code",
   "execution_count": 178,
   "id": "94918933-5194-4e7f-8514-faa52607d0bd",
   "metadata": {},
   "outputs": [],
   "source": [
    "def plus_minus(values):\n",
    "    return 'plus' if values > 0 else 'mius'"
   ]
  },
  {
   "cell_type": "markdown",
   "id": "fdd3a2b2",
   "metadata": {},
   "source": [
    "- 함수를 만들고 .apply()에 대입하여 정보를 처리할 수 있다"
   ]
  },
  {
   "cell_type": "code",
   "execution_count": 179,
   "id": "dbd8e69c-78ca-4875-a9d8-e5acd031a144",
   "metadata": {},
   "outputs": [
    {
     "data": {
      "text/plain": [
       "2023-08-04    plus\n",
       "2023-08-05    plus\n",
       "2023-08-06    plus\n",
       "2023-08-07    mius\n",
       "2023-08-08    mius\n",
       "2023-08-09    mius\n",
       "Freq: D, Name: B, dtype: object"
      ]
     },
     "execution_count": 179,
     "metadata": {},
     "output_type": "execute_result"
    }
   ],
   "source": [
    "df['B'].apply(plus_minus)"
   ]
  },
  {
   "cell_type": "code",
   "execution_count": 180,
   "id": "e19140a7-d1b3-490f-9ed4-0acb700ca6ed",
   "metadata": {},
   "outputs": [],
   "source": [
    "df['B'] = df['B'].apply(plus_minus)"
   ]
  },
  {
   "cell_type": "code",
   "execution_count": 181,
   "id": "bb51dd61-e556-4cef-86d2-1db0cf300af2",
   "metadata": {},
   "outputs": [
    {
     "data": {
      "text/html": [
       "<div>\n",
       "<style scoped>\n",
       "    .dataframe tbody tr th:only-of-type {\n",
       "        vertical-align: middle;\n",
       "    }\n",
       "\n",
       "    .dataframe tbody tr th {\n",
       "        vertical-align: top;\n",
       "    }\n",
       "\n",
       "    .dataframe thead th {\n",
       "        text-align: right;\n",
       "    }\n",
       "</style>\n",
       "<table border=\"1\" class=\"dataframe\">\n",
       "  <thead>\n",
       "    <tr style=\"text-align: right;\">\n",
       "      <th></th>\n",
       "      <th>B</th>\n",
       "      <th>C</th>\n",
       "      <th>D</th>\n",
       "    </tr>\n",
       "  </thead>\n",
       "  <tbody>\n",
       "    <tr>\n",
       "      <th>2023-08-04</th>\n",
       "      <td>plus</td>\n",
       "      <td>1.898931</td>\n",
       "      <td>0.688993</td>\n",
       "    </tr>\n",
       "    <tr>\n",
       "      <th>2023-08-05</th>\n",
       "      <td>plus</td>\n",
       "      <td>-0.342490</td>\n",
       "      <td>0.082496</td>\n",
       "    </tr>\n",
       "    <tr>\n",
       "      <th>2023-08-06</th>\n",
       "      <td>plus</td>\n",
       "      <td>0.157321</td>\n",
       "      <td>-1.475597</td>\n",
       "    </tr>\n",
       "    <tr>\n",
       "      <th>2023-08-07</th>\n",
       "      <td>mius</td>\n",
       "      <td>-0.454975</td>\n",
       "      <td>1.583368</td>\n",
       "    </tr>\n",
       "    <tr>\n",
       "      <th>2023-08-08</th>\n",
       "      <td>mius</td>\n",
       "      <td>-2.274574</td>\n",
       "      <td>-1.014404</td>\n",
       "    </tr>\n",
       "    <tr>\n",
       "      <th>2023-08-09</th>\n",
       "      <td>mius</td>\n",
       "      <td>1.085409</td>\n",
       "      <td>-0.538089</td>\n",
       "    </tr>\n",
       "  </tbody>\n",
       "</table>\n",
       "</div>"
      ],
      "text/plain": [
       "               B         C         D\n",
       "2023-08-04  plus  1.898931  0.688993\n",
       "2023-08-05  plus -0.342490  0.082496\n",
       "2023-08-06  plus  0.157321 -1.475597\n",
       "2023-08-07  mius -0.454975  1.583368\n",
       "2023-08-08  mius -2.274574 -1.014404\n",
       "2023-08-09  mius  1.085409 -0.538089"
      ]
     },
     "execution_count": 181,
     "metadata": {},
     "output_type": "execute_result"
    }
   ],
   "source": [
    "df"
   ]
  },
  {
   "cell_type": "code",
   "execution_count": 182,
   "id": "0f8748e1-8fdd-42d7-84ea-2624c0738267",
   "metadata": {
    "scrolled": true
   },
   "outputs": [
    {
     "data": {
      "text/html": [
       "<div>\n",
       "<style scoped>\n",
       "    .dataframe tbody tr th:only-of-type {\n",
       "        vertical-align: middle;\n",
       "    }\n",
       "\n",
       "    .dataframe tbody tr th {\n",
       "        vertical-align: top;\n",
       "    }\n",
       "\n",
       "    .dataframe thead th {\n",
       "        text-align: right;\n",
       "    }\n",
       "</style>\n",
       "<table border=\"1\" class=\"dataframe\">\n",
       "  <thead>\n",
       "    <tr style=\"text-align: right;\">\n",
       "      <th></th>\n",
       "      <th>B</th>\n",
       "      <th>C</th>\n",
       "      <th>D</th>\n",
       "    </tr>\n",
       "  </thead>\n",
       "  <tbody>\n",
       "    <tr>\n",
       "      <th>2023-08-04</th>\n",
       "      <td>plus</td>\n",
       "      <td>1.898931</td>\n",
       "      <td>0.688993</td>\n",
       "    </tr>\n",
       "    <tr>\n",
       "      <th>2023-08-05</th>\n",
       "      <td>plus</td>\n",
       "      <td>-0.342490</td>\n",
       "      <td>0.082496</td>\n",
       "    </tr>\n",
       "    <tr>\n",
       "      <th>2023-08-06</th>\n",
       "      <td>plus</td>\n",
       "      <td>0.157321</td>\n",
       "      <td>-1.475597</td>\n",
       "    </tr>\n",
       "    <tr>\n",
       "      <th>2023-08-07</th>\n",
       "      <td>mius</td>\n",
       "      <td>-0.454975</td>\n",
       "      <td>1.583368</td>\n",
       "    </tr>\n",
       "    <tr>\n",
       "      <th>2023-08-08</th>\n",
       "      <td>mius</td>\n",
       "      <td>-2.274574</td>\n",
       "      <td>-1.014404</td>\n",
       "    </tr>\n",
       "    <tr>\n",
       "      <th>2023-08-09</th>\n",
       "      <td>mius</td>\n",
       "      <td>1.085409</td>\n",
       "      <td>-0.538089</td>\n",
       "    </tr>\n",
       "  </tbody>\n",
       "</table>\n",
       "</div>"
      ],
      "text/plain": [
       "               B         C         D\n",
       "2023-08-04  plus  1.898931  0.688993\n",
       "2023-08-05  plus -0.342490  0.082496\n",
       "2023-08-06  plus  0.157321 -1.475597\n",
       "2023-08-07  mius -0.454975  1.583368\n",
       "2023-08-08  mius -2.274574 -1.014404\n",
       "2023-08-09  mius  1.085409 -0.538089"
      ]
     },
     "execution_count": 182,
     "metadata": {},
     "output_type": "execute_result"
    }
   ],
   "source": [
    "df"
   ]
  },
  {
   "cell_type": "code",
   "execution_count": 183,
   "id": "57b731da-504b-4c41-b33b-5f4c96595942",
   "metadata": {},
   "outputs": [],
   "source": [
    "# 특정 값 수정\n",
    "# loc\n",
    "# iloc\n"
   ]
  },
  {
   "cell_type": "code",
   "execution_count": 186,
   "id": "0fefc854-fbe2-4d12-8051-c7b82357a9dd",
   "metadata": {},
   "outputs": [],
   "source": [
    "df.loc['2023-08-06', 'C'] = 999"
   ]
  },
  {
   "cell_type": "code",
   "execution_count": 187,
   "id": "4cc919c9-de6a-478a-94b0-65516e04d9dc",
   "metadata": {},
   "outputs": [
    {
     "data": {
      "text/html": [
       "<div>\n",
       "<style scoped>\n",
       "    .dataframe tbody tr th:only-of-type {\n",
       "        vertical-align: middle;\n",
       "    }\n",
       "\n",
       "    .dataframe tbody tr th {\n",
       "        vertical-align: top;\n",
       "    }\n",
       "\n",
       "    .dataframe thead th {\n",
       "        text-align: right;\n",
       "    }\n",
       "</style>\n",
       "<table border=\"1\" class=\"dataframe\">\n",
       "  <thead>\n",
       "    <tr style=\"text-align: right;\">\n",
       "      <th></th>\n",
       "      <th>B</th>\n",
       "      <th>C</th>\n",
       "      <th>D</th>\n",
       "    </tr>\n",
       "  </thead>\n",
       "  <tbody>\n",
       "    <tr>\n",
       "      <th>2023-08-04</th>\n",
       "      <td>plus</td>\n",
       "      <td>1.898931</td>\n",
       "      <td>0.688993</td>\n",
       "    </tr>\n",
       "    <tr>\n",
       "      <th>2023-08-05</th>\n",
       "      <td>plus</td>\n",
       "      <td>-0.342490</td>\n",
       "      <td>0.082496</td>\n",
       "    </tr>\n",
       "    <tr>\n",
       "      <th>2023-08-06</th>\n",
       "      <td>plus</td>\n",
       "      <td>999.000000</td>\n",
       "      <td>-1.475597</td>\n",
       "    </tr>\n",
       "    <tr>\n",
       "      <th>2023-08-07</th>\n",
       "      <td>mius</td>\n",
       "      <td>-0.454975</td>\n",
       "      <td>1.583368</td>\n",
       "    </tr>\n",
       "    <tr>\n",
       "      <th>2023-08-08</th>\n",
       "      <td>mius</td>\n",
       "      <td>-2.274574</td>\n",
       "      <td>-1.014404</td>\n",
       "    </tr>\n",
       "    <tr>\n",
       "      <th>2023-08-09</th>\n",
       "      <td>mius</td>\n",
       "      <td>1.085409</td>\n",
       "      <td>-0.538089</td>\n",
       "    </tr>\n",
       "  </tbody>\n",
       "</table>\n",
       "</div>"
      ],
      "text/plain": [
       "               B           C         D\n",
       "2023-08-04  plus    1.898931  0.688993\n",
       "2023-08-05  plus   -0.342490  0.082496\n",
       "2023-08-06  plus  999.000000 -1.475597\n",
       "2023-08-07  mius   -0.454975  1.583368\n",
       "2023-08-08  mius   -2.274574 -1.014404\n",
       "2023-08-09  mius    1.085409 -0.538089"
      ]
     },
     "execution_count": 187,
     "metadata": {},
     "output_type": "execute_result"
    }
   ],
   "source": [
    "df"
   ]
  },
  {
   "cell_type": "code",
   "execution_count": 188,
   "id": "bd064412-5390-4bdb-b45d-db5ecf74d5ad",
   "metadata": {},
   "outputs": [],
   "source": [
    "df.iloc[4,2] = 111"
   ]
  },
  {
   "cell_type": "code",
   "execution_count": 189,
   "id": "a3329fb0-fa2b-409d-b20d-0dbef94080ce",
   "metadata": {},
   "outputs": [
    {
     "data": {
      "text/html": [
       "<div>\n",
       "<style scoped>\n",
       "    .dataframe tbody tr th:only-of-type {\n",
       "        vertical-align: middle;\n",
       "    }\n",
       "\n",
       "    .dataframe tbody tr th {\n",
       "        vertical-align: top;\n",
       "    }\n",
       "\n",
       "    .dataframe thead th {\n",
       "        text-align: right;\n",
       "    }\n",
       "</style>\n",
       "<table border=\"1\" class=\"dataframe\">\n",
       "  <thead>\n",
       "    <tr style=\"text-align: right;\">\n",
       "      <th></th>\n",
       "      <th>B</th>\n",
       "      <th>C</th>\n",
       "      <th>D</th>\n",
       "    </tr>\n",
       "  </thead>\n",
       "  <tbody>\n",
       "    <tr>\n",
       "      <th>2023-08-04</th>\n",
       "      <td>plus</td>\n",
       "      <td>1.898931</td>\n",
       "      <td>0.688993</td>\n",
       "    </tr>\n",
       "    <tr>\n",
       "      <th>2023-08-05</th>\n",
       "      <td>plus</td>\n",
       "      <td>-0.342490</td>\n",
       "      <td>0.082496</td>\n",
       "    </tr>\n",
       "    <tr>\n",
       "      <th>2023-08-06</th>\n",
       "      <td>plus</td>\n",
       "      <td>999.000000</td>\n",
       "      <td>-1.475597</td>\n",
       "    </tr>\n",
       "    <tr>\n",
       "      <th>2023-08-07</th>\n",
       "      <td>mius</td>\n",
       "      <td>-0.454975</td>\n",
       "      <td>1.583368</td>\n",
       "    </tr>\n",
       "    <tr>\n",
       "      <th>2023-08-08</th>\n",
       "      <td>mius</td>\n",
       "      <td>-2.274574</td>\n",
       "      <td>111.000000</td>\n",
       "    </tr>\n",
       "    <tr>\n",
       "      <th>2023-08-09</th>\n",
       "      <td>mius</td>\n",
       "      <td>1.085409</td>\n",
       "      <td>-0.538089</td>\n",
       "    </tr>\n",
       "  </tbody>\n",
       "</table>\n",
       "</div>"
      ],
      "text/plain": [
       "               B           C           D\n",
       "2023-08-04  plus    1.898931    0.688993\n",
       "2023-08-05  plus   -0.342490    0.082496\n",
       "2023-08-06  plus  999.000000   -1.475597\n",
       "2023-08-07  mius   -0.454975    1.583368\n",
       "2023-08-08  mius   -2.274574  111.000000\n",
       "2023-08-09  mius    1.085409   -0.538089"
      ]
     },
     "execution_count": 189,
     "metadata": {},
     "output_type": "execute_result"
    }
   ],
   "source": [
    "df"
   ]
  },
  {
   "cell_type": "code",
   "execution_count": 193,
   "id": "43f13726-18eb-42c5-8a4d-55c151df00b8",
   "metadata": {},
   "outputs": [
    {
     "data": {
      "text/plain": [
       "B        plus\n",
       "C       999.0\n",
       "D   -1.475597\n",
       "Name: 2023-08-06 00:00:00, dtype: object"
      ]
     },
     "execution_count": 193,
     "metadata": {},
     "output_type": "execute_result"
    }
   ],
   "source": [
    "df.loc['2023-08-06']"
   ]
  },
  {
   "cell_type": "code",
   "execution_count": 194,
   "id": "227ca60b-20d8-4f87-a02e-6571d2a8fe8f",
   "metadata": {},
   "outputs": [],
   "source": [
    "# left_df\n",
    "\n",
    "# key 라는 이름의 컬럼\n",
    "# key 컬럼의 값으로는 K0, K4, K2, K3\n",
    "\n",
    "# A라는 이름의 컬럼\n",
    "# A 컬럼의 값으로는 A0, A1, A2, A3\n",
    "\n",
    "# B 라는 이름의 컬럼\n",
    "# B 컬럼의 값으로는 B0, B1, B2, B3"
   ]
  },
  {
   "cell_type": "code",
   "execution_count": 3,
   "id": "d0e4315e-28fa-49dd-af6c-df24088b8352",
   "metadata": {},
   "outputs": [],
   "source": [
    "left_data = {\n",
    "    'key' : ['K0', 'K4', 'K2', 'K3'],\n",
    "    'A' : ['A0', 'A1', 'A2', 'A3'],\n",
    "    'B' : ['B0', 'B1', 'B2', 'B3']\n",
    "}"
   ]
  },
  {
   "cell_type": "code",
   "execution_count": 6,
   "id": "3af03340-f92d-4030-bd9c-6b5c0d34afb1",
   "metadata": {},
   "outputs": [],
   "source": [
    "import pandas as pd\n",
    "left_df = pd.DataFrame(left_data)\n"
   ]
  },
  {
   "cell_type": "code",
   "execution_count": 7,
   "id": "77ee934a-2387-4804-a4b5-c0314d1d2c75",
   "metadata": {},
   "outputs": [],
   "source": [
    "# right_df\n",
    "\n",
    "#key 라는 이름의 컬럼\n",
    "# k0, K1, K2, K3\n",
    "# C라는 이름의 컬럼\n",
    "# C0, C1, C2,C3\n",
    "# D라는 이름의 컬럼\n",
    "# D0, D1, D2, D3"
   ]
  },
  {
   "cell_type": "code",
   "execution_count": 8,
   "id": "b949b9fe-bbf1-48d8-9a61-ce4fc4c64ab7",
   "metadata": {},
   "outputs": [],
   "source": [
    "right_data = [\n",
    "    {'key': 'K0', 'C': 'C0', 'D': 'D0'},\n",
    "    {'key': 'K1', 'C': 'C1', 'D': 'D1'},\n",
    "    {'key': 'K2', 'C': 'C2', 'D': 'D2'},\n",
    "    {'key': 'K3', 'C': 'C3', 'D': 'D3'}\n",
    "]"
   ]
  },
  {
   "cell_type": "code",
   "execution_count": 9,
   "id": "ee2c1f6d-6183-46e0-af64-a4331087d1f0",
   "metadata": {},
   "outputs": [
    {
     "data": {
      "text/html": [
       "<div>\n",
       "<style scoped>\n",
       "    .dataframe tbody tr th:only-of-type {\n",
       "        vertical-align: middle;\n",
       "    }\n",
       "\n",
       "    .dataframe tbody tr th {\n",
       "        vertical-align: top;\n",
       "    }\n",
       "\n",
       "    .dataframe thead th {\n",
       "        text-align: right;\n",
       "    }\n",
       "</style>\n",
       "<table border=\"1\" class=\"dataframe\">\n",
       "  <thead>\n",
       "    <tr style=\"text-align: right;\">\n",
       "      <th></th>\n",
       "      <th>key</th>\n",
       "      <th>C</th>\n",
       "      <th>D</th>\n",
       "    </tr>\n",
       "  </thead>\n",
       "  <tbody>\n",
       "    <tr>\n",
       "      <th>0</th>\n",
       "      <td>K0</td>\n",
       "      <td>C0</td>\n",
       "      <td>D0</td>\n",
       "    </tr>\n",
       "    <tr>\n",
       "      <th>1</th>\n",
       "      <td>K1</td>\n",
       "      <td>C1</td>\n",
       "      <td>D1</td>\n",
       "    </tr>\n",
       "    <tr>\n",
       "      <th>2</th>\n",
       "      <td>K2</td>\n",
       "      <td>C2</td>\n",
       "      <td>D2</td>\n",
       "    </tr>\n",
       "    <tr>\n",
       "      <th>3</th>\n",
       "      <td>K3</td>\n",
       "      <td>C3</td>\n",
       "      <td>D3</td>\n",
       "    </tr>\n",
       "  </tbody>\n",
       "</table>\n",
       "</div>"
      ],
      "text/plain": [
       "  key   C   D\n",
       "0  K0  C0  D0\n",
       "1  K1  C1  D1\n",
       "2  K2  C2  D2\n",
       "3  K3  C3  D3"
      ]
     },
     "execution_count": 9,
     "metadata": {},
     "output_type": "execute_result"
    }
   ],
   "source": [
    "right_df = pd.DataFrame(right_data)\n",
    "right_df"
   ]
  },
  {
   "cell_type": "code",
   "execution_count": 10,
   "id": "130dd4c5-3964-4f78-8748-109762388203",
   "metadata": {},
   "outputs": [
    {
     "data": {
      "text/html": [
       "<div>\n",
       "<style scoped>\n",
       "    .dataframe tbody tr th:only-of-type {\n",
       "        vertical-align: middle;\n",
       "    }\n",
       "\n",
       "    .dataframe tbody tr th {\n",
       "        vertical-align: top;\n",
       "    }\n",
       "\n",
       "    .dataframe thead th {\n",
       "        text-align: right;\n",
       "    }\n",
       "</style>\n",
       "<table border=\"1\" class=\"dataframe\">\n",
       "  <thead>\n",
       "    <tr style=\"text-align: right;\">\n",
       "      <th></th>\n",
       "      <th>key</th>\n",
       "      <th>A</th>\n",
       "      <th>B</th>\n",
       "      <th>C</th>\n",
       "      <th>D</th>\n",
       "    </tr>\n",
       "  </thead>\n",
       "  <tbody>\n",
       "    <tr>\n",
       "      <th>0</th>\n",
       "      <td>K0</td>\n",
       "      <td>A0</td>\n",
       "      <td>B0</td>\n",
       "      <td>C0</td>\n",
       "      <td>D0</td>\n",
       "    </tr>\n",
       "    <tr>\n",
       "      <th>1</th>\n",
       "      <td>K2</td>\n",
       "      <td>A2</td>\n",
       "      <td>B2</td>\n",
       "      <td>C2</td>\n",
       "      <td>D2</td>\n",
       "    </tr>\n",
       "    <tr>\n",
       "      <th>2</th>\n",
       "      <td>K3</td>\n",
       "      <td>A3</td>\n",
       "      <td>B3</td>\n",
       "      <td>C3</td>\n",
       "      <td>D3</td>\n",
       "    </tr>\n",
       "  </tbody>\n",
       "</table>\n",
       "</div>"
      ],
      "text/plain": [
       "  key   A   B   C   D\n",
       "0  K0  A0  B0  C0  D0\n",
       "1  K2  A2  B2  C2  D2\n",
       "2  K3  A3  B3  C3  D3"
      ]
     },
     "execution_count": 10,
     "metadata": {},
     "output_type": "execute_result"
    }
   ],
   "source": [
    "# merge\n",
    "# 데이터 프레임을 가로로 병합\n",
    "\n",
    "pd.merge(left_df, right_df, on  = 'key')"
   ]
  },
  {
   "cell_type": "code",
   "execution_count": 11,
   "id": "4df9be9b-2354-4196-b6a5-980a2caf6900",
   "metadata": {},
   "outputs": [],
   "source": [
    "## concat\n",
    "## 세로로 병합\n",
    "# NaN\n",
    "# Not a Number\n",
    "# 누락데이터, 누락값\n",
    "nan_df = pd.concat([left_df, right_df])"
   ]
  },
  {
   "cell_type": "code",
   "execution_count": 12,
   "id": "606a8c6b-2960-454a-a438-4f6c36a0730d",
   "metadata": {},
   "outputs": [
    {
     "data": {
      "text/html": [
       "<div>\n",
       "<style scoped>\n",
       "    .dataframe tbody tr th:only-of-type {\n",
       "        vertical-align: middle;\n",
       "    }\n",
       "\n",
       "    .dataframe tbody tr th {\n",
       "        vertical-align: top;\n",
       "    }\n",
       "\n",
       "    .dataframe thead th {\n",
       "        text-align: right;\n",
       "    }\n",
       "</style>\n",
       "<table border=\"1\" class=\"dataframe\">\n",
       "  <thead>\n",
       "    <tr style=\"text-align: right;\">\n",
       "      <th></th>\n",
       "      <th>key</th>\n",
       "      <th>A</th>\n",
       "      <th>B</th>\n",
       "      <th>C</th>\n",
       "      <th>D</th>\n",
       "    </tr>\n",
       "  </thead>\n",
       "  <tbody>\n",
       "    <tr>\n",
       "      <th>0</th>\n",
       "      <td>K0</td>\n",
       "      <td>A0</td>\n",
       "      <td>B0</td>\n",
       "      <td>NaN</td>\n",
       "      <td>NaN</td>\n",
       "    </tr>\n",
       "    <tr>\n",
       "      <th>1</th>\n",
       "      <td>K4</td>\n",
       "      <td>A1</td>\n",
       "      <td>B1</td>\n",
       "      <td>NaN</td>\n",
       "      <td>NaN</td>\n",
       "    </tr>\n",
       "    <tr>\n",
       "      <th>2</th>\n",
       "      <td>K2</td>\n",
       "      <td>A2</td>\n",
       "      <td>B2</td>\n",
       "      <td>NaN</td>\n",
       "      <td>NaN</td>\n",
       "    </tr>\n",
       "    <tr>\n",
       "      <th>3</th>\n",
       "      <td>K3</td>\n",
       "      <td>A3</td>\n",
       "      <td>B3</td>\n",
       "      <td>NaN</td>\n",
       "      <td>NaN</td>\n",
       "    </tr>\n",
       "    <tr>\n",
       "      <th>0</th>\n",
       "      <td>K0</td>\n",
       "      <td>NaN</td>\n",
       "      <td>NaN</td>\n",
       "      <td>C0</td>\n",
       "      <td>D0</td>\n",
       "    </tr>\n",
       "    <tr>\n",
       "      <th>1</th>\n",
       "      <td>K1</td>\n",
       "      <td>NaN</td>\n",
       "      <td>NaN</td>\n",
       "      <td>C1</td>\n",
       "      <td>D1</td>\n",
       "    </tr>\n",
       "    <tr>\n",
       "      <th>2</th>\n",
       "      <td>K2</td>\n",
       "      <td>NaN</td>\n",
       "      <td>NaN</td>\n",
       "      <td>C2</td>\n",
       "      <td>D2</td>\n",
       "    </tr>\n",
       "    <tr>\n",
       "      <th>3</th>\n",
       "      <td>K3</td>\n",
       "      <td>NaN</td>\n",
       "      <td>NaN</td>\n",
       "      <td>C3</td>\n",
       "      <td>D3</td>\n",
       "    </tr>\n",
       "  </tbody>\n",
       "</table>\n",
       "</div>"
      ],
      "text/plain": [
       "  key    A    B    C    D\n",
       "0  K0   A0   B0  NaN  NaN\n",
       "1  K4   A1   B1  NaN  NaN\n",
       "2  K2   A2   B2  NaN  NaN\n",
       "3  K3   A3   B3  NaN  NaN\n",
       "0  K0  NaN  NaN   C0   D0\n",
       "1  K1  NaN  NaN   C1   D1\n",
       "2  K2  NaN  NaN   C2   D2\n",
       "3  K3  NaN  NaN   C3   D3"
      ]
     },
     "execution_count": 12,
     "metadata": {},
     "output_type": "execute_result"
    }
   ],
   "source": [
    "nan_df"
   ]
  },
  {
   "cell_type": "code",
   "execution_count": 13,
   "id": "0aa15a5c-ec2c-4e51-9e24-4a2286c00f3b",
   "metadata": {},
   "outputs": [
    {
     "data": {
      "text/html": [
       "<div>\n",
       "<style scoped>\n",
       "    .dataframe tbody tr th:only-of-type {\n",
       "        vertical-align: middle;\n",
       "    }\n",
       "\n",
       "    .dataframe tbody tr th {\n",
       "        vertical-align: top;\n",
       "    }\n",
       "\n",
       "    .dataframe thead th {\n",
       "        text-align: right;\n",
       "    }\n",
       "</style>\n",
       "<table border=\"1\" class=\"dataframe\">\n",
       "  <thead>\n",
       "    <tr style=\"text-align: right;\">\n",
       "      <th></th>\n",
       "      <th>key</th>\n",
       "      <th>A</th>\n",
       "      <th>B</th>\n",
       "      <th>C</th>\n",
       "      <th>D</th>\n",
       "    </tr>\n",
       "  </thead>\n",
       "  <tbody>\n",
       "    <tr>\n",
       "      <th>0</th>\n",
       "      <td>K0</td>\n",
       "      <td>A0</td>\n",
       "      <td>B0</td>\n",
       "      <td>누락값</td>\n",
       "      <td>누락값</td>\n",
       "    </tr>\n",
       "    <tr>\n",
       "      <th>1</th>\n",
       "      <td>K4</td>\n",
       "      <td>A1</td>\n",
       "      <td>B1</td>\n",
       "      <td>누락값</td>\n",
       "      <td>누락값</td>\n",
       "    </tr>\n",
       "    <tr>\n",
       "      <th>2</th>\n",
       "      <td>K2</td>\n",
       "      <td>A2</td>\n",
       "      <td>B2</td>\n",
       "      <td>누락값</td>\n",
       "      <td>누락값</td>\n",
       "    </tr>\n",
       "    <tr>\n",
       "      <th>3</th>\n",
       "      <td>K3</td>\n",
       "      <td>A3</td>\n",
       "      <td>B3</td>\n",
       "      <td>누락값</td>\n",
       "      <td>누락값</td>\n",
       "    </tr>\n",
       "    <tr>\n",
       "      <th>0</th>\n",
       "      <td>K0</td>\n",
       "      <td>누락값</td>\n",
       "      <td>누락값</td>\n",
       "      <td>C0</td>\n",
       "      <td>D0</td>\n",
       "    </tr>\n",
       "    <tr>\n",
       "      <th>1</th>\n",
       "      <td>K1</td>\n",
       "      <td>누락값</td>\n",
       "      <td>누락값</td>\n",
       "      <td>C1</td>\n",
       "      <td>D1</td>\n",
       "    </tr>\n",
       "    <tr>\n",
       "      <th>2</th>\n",
       "      <td>K2</td>\n",
       "      <td>누락값</td>\n",
       "      <td>누락값</td>\n",
       "      <td>C2</td>\n",
       "      <td>D2</td>\n",
       "    </tr>\n",
       "    <tr>\n",
       "      <th>3</th>\n",
       "      <td>K3</td>\n",
       "      <td>누락값</td>\n",
       "      <td>누락값</td>\n",
       "      <td>C3</td>\n",
       "      <td>D3</td>\n",
       "    </tr>\n",
       "  </tbody>\n",
       "</table>\n",
       "</div>"
      ],
      "text/plain": [
       "  key    A    B    C    D\n",
       "0  K0   A0   B0  누락값  누락값\n",
       "1  K4   A1   B1  누락값  누락값\n",
       "2  K2   A2   B2  누락값  누락값\n",
       "3  K3   A3   B3  누락값  누락값\n",
       "0  K0  누락값  누락값   C0   D0\n",
       "1  K1  누락값  누락값   C1   D1\n",
       "2  K2  누락값  누락값   C2   D2\n",
       "3  K3  누락값  누락값   C3   D3"
      ]
     },
     "execution_count": 13,
     "metadata": {},
     "output_type": "execute_result"
    }
   ],
   "source": [
    "nan_df.fillna('누락값')"
   ]
  },
  {
   "cell_type": "markdown",
   "id": "da4730c5",
   "metadata": {},
   "source": [
    "- 인덱스 정렬"
   ]
  },
  {
   "cell_type": "code",
   "execution_count": 14,
   "id": "ab7de4c4-8c13-4d7a-9d74-2513c499c291",
   "metadata": {},
   "outputs": [
    {
     "data": {
      "text/html": [
       "<div>\n",
       "<style scoped>\n",
       "    .dataframe tbody tr th:only-of-type {\n",
       "        vertical-align: middle;\n",
       "    }\n",
       "\n",
       "    .dataframe tbody tr th {\n",
       "        vertical-align: top;\n",
       "    }\n",
       "\n",
       "    .dataframe thead th {\n",
       "        text-align: right;\n",
       "    }\n",
       "</style>\n",
       "<table border=\"1\" class=\"dataframe\">\n",
       "  <thead>\n",
       "    <tr style=\"text-align: right;\">\n",
       "      <th></th>\n",
       "      <th>key</th>\n",
       "      <th>A</th>\n",
       "      <th>B</th>\n",
       "      <th>C</th>\n",
       "      <th>D</th>\n",
       "    </tr>\n",
       "  </thead>\n",
       "  <tbody>\n",
       "    <tr>\n",
       "      <th>0</th>\n",
       "      <td>K0</td>\n",
       "      <td>A0</td>\n",
       "      <td>B0</td>\n",
       "      <td>NaN</td>\n",
       "      <td>NaN</td>\n",
       "    </tr>\n",
       "    <tr>\n",
       "      <th>1</th>\n",
       "      <td>K4</td>\n",
       "      <td>A1</td>\n",
       "      <td>B1</td>\n",
       "      <td>NaN</td>\n",
       "      <td>NaN</td>\n",
       "    </tr>\n",
       "    <tr>\n",
       "      <th>2</th>\n",
       "      <td>K2</td>\n",
       "      <td>A2</td>\n",
       "      <td>B2</td>\n",
       "      <td>NaN</td>\n",
       "      <td>NaN</td>\n",
       "    </tr>\n",
       "    <tr>\n",
       "      <th>3</th>\n",
       "      <td>K3</td>\n",
       "      <td>A3</td>\n",
       "      <td>B3</td>\n",
       "      <td>NaN</td>\n",
       "      <td>NaN</td>\n",
       "    </tr>\n",
       "    <tr>\n",
       "      <th>4</th>\n",
       "      <td>K0</td>\n",
       "      <td>NaN</td>\n",
       "      <td>NaN</td>\n",
       "      <td>C0</td>\n",
       "      <td>D0</td>\n",
       "    </tr>\n",
       "    <tr>\n",
       "      <th>5</th>\n",
       "      <td>K1</td>\n",
       "      <td>NaN</td>\n",
       "      <td>NaN</td>\n",
       "      <td>C1</td>\n",
       "      <td>D1</td>\n",
       "    </tr>\n",
       "    <tr>\n",
       "      <th>6</th>\n",
       "      <td>K2</td>\n",
       "      <td>NaN</td>\n",
       "      <td>NaN</td>\n",
       "      <td>C2</td>\n",
       "      <td>D2</td>\n",
       "    </tr>\n",
       "    <tr>\n",
       "      <th>7</th>\n",
       "      <td>K3</td>\n",
       "      <td>NaN</td>\n",
       "      <td>NaN</td>\n",
       "      <td>C3</td>\n",
       "      <td>D3</td>\n",
       "    </tr>\n",
       "  </tbody>\n",
       "</table>\n",
       "</div>"
      ],
      "text/plain": [
       "  key    A    B    C    D\n",
       "0  K0   A0   B0  NaN  NaN\n",
       "1  K4   A1   B1  NaN  NaN\n",
       "2  K2   A2   B2  NaN  NaN\n",
       "3  K3   A3   B3  NaN  NaN\n",
       "4  K0  NaN  NaN   C0   D0\n",
       "5  K1  NaN  NaN   C1   D1\n",
       "6  K2  NaN  NaN   C2   D2\n",
       "7  K3  NaN  NaN   C3   D3"
      ]
     },
     "execution_count": 14,
     "metadata": {},
     "output_type": "execute_result"
    }
   ],
   "source": [
    "nan_df.reset_index(drop=True, inplace=True)\n",
    "nan_df"
   ]
  }
 ],
 "metadata": {
  "kernelspec": {
   "display_name": "Python 3 (ipykernel)",
   "language": "python",
   "name": "python3"
  },
  "language_info": {
   "codemirror_mode": {
    "name": "ipython",
    "version": 3
   },
   "file_extension": ".py",
   "mimetype": "text/x-python",
   "name": "python",
   "nbconvert_exporter": "python",
   "pygments_lexer": "ipython3",
   "version": "3.10.6"
  }
 },
 "nbformat": 4,
 "nbformat_minor": 5
}
