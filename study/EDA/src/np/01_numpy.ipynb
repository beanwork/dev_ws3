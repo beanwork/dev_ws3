{
 "cells": [
  {
   "cell_type": "markdown",
   "id": "189e0e96-2803-42b7-a8c4-acc83221f95b",
   "metadata": {},
   "source": [
    "# Numpy\n",
    "- python에서 사용하는 과학계산용 오픈소스 라이브러리\n",
    "- python의 느린 연산속도를 보안\n",
    "- ndarray라는 데이터 타입을 사용합니다.\n",
    "- C, C++, 포트란으로 만들어짐"
   ]
  },
  {
   "cell_type": "markdown",
   "id": "9e5f32cb-808e-4a06-b935-d5682c9acec7",
   "metadata": {},
   "source": [
    "# 선형대수\n",
    "- 스칼라(scalar)\n",
    "  - 하나의 숫자로만 이루어진 데이터\n",
    "  - ex)1\n",
    "- 벡터(vector)\n",
    "  - 여러 개의 숫자가 특정한 순서대로 모여 있는 것\n",
    "  - ex)[1, 2, 3]\n",
    "  - V = [1, 2, 3]\n",
    "- 행렬(matrix)\n",
    "  - 2차원 배열로 구성\n",
    "  - 행(rows)와 열(columns)로 구성\n",
    "  - 행렬[[1, 2, 3], [4, 5, 6]]"
   ]
  },
  {
   "cell_type": "code",
   "execution_count": 1,
   "id": "f061af71-e31e-4a42-888e-4c47647efd20",
   "metadata": {},
   "outputs": [],
   "source": [
    "import numpy as np"
   ]
  },
  {
   "cell_type": "markdown",
   "id": "afc79aad-a131-414e-9a67-a8de34b37f02",
   "metadata": {},
   "source": [
    "## 01. ndarray 객체 생성"
   ]
  },
  {
   "cell_type": "code",
   "execution_count": 2,
   "id": "0ef6fbf8-ea3d-432f-8b77-0899fe639089",
   "metadata": {},
   "outputs": [
    {
     "data": {
      "text/plain": [
       "numpy.ndarray"
      ]
     },
     "execution_count": 2,
     "metadata": {},
     "output_type": "execute_result"
    }
   ],
   "source": [
    "scalar = np.array(5)\n",
    "type(scalar)"
   ]
  },
  {
   "cell_type": "code",
   "execution_count": 3,
   "id": "dd28351c-383c-4422-9776-10869a8616db",
   "metadata": {},
   "outputs": [
    {
     "data": {
      "text/plain": [
       "array([1, 2, 3])"
      ]
     },
     "execution_count": 3,
     "metadata": {},
     "output_type": "execute_result"
    }
   ],
   "source": [
    "vector = np.array([1, 2, 3])\n",
    "vector"
   ]
  },
  {
   "cell_type": "code",
   "execution_count": 7,
   "id": "da20e73e-30fc-4bcf-b9dd-9aea77ea7123",
   "metadata": {},
   "outputs": [
    {
     "data": {
      "text/plain": [
       "array([[ 1,  2,  3],\n",
       "       [ 4,  5,  6],\n",
       "       [ 7,  8,  9],\n",
       "       [10, 11, 12]])"
      ]
     },
     "execution_count": 7,
     "metadata": {},
     "output_type": "execute_result"
    }
   ],
   "source": [
    "matrix = np.array([[1, 2, 3], [4, 5, 6], [7, 8, 9], [10, 11, 12]])\n",
    "matrix"
   ]
  },
  {
   "cell_type": "code",
   "execution_count": 8,
   "id": "96490c45-5a9c-4f83-b180-81f0ad339190",
   "metadata": {},
   "outputs": [
    {
     "data": {
      "text/plain": [
       "(0, 1, 2)"
      ]
     },
     "execution_count": 8,
     "metadata": {},
     "output_type": "execute_result"
    }
   ],
   "source": [
    "# 배열의 차원 확인 \n",
    "scalar.ndim, vector.ndim, matrix.ndim"
   ]
  },
  {
   "cell_type": "code",
   "execution_count": 9,
   "id": "c06dbb5f-b5e6-41e7-993c-cf7e6bd1cde1",
   "metadata": {},
   "outputs": [
    {
     "data": {
      "text/plain": [
       "((), (3,), (4, 3))"
      ]
     },
     "execution_count": 9,
     "metadata": {},
     "output_type": "execute_result"
    }
   ],
   "source": [
    "# 배열의 모양 확인\n",
    "scalar.shape, vector.shape, matrix.shape"
   ]
  },
  {
   "cell_type": "code",
   "execution_count": 11,
   "id": "e7d4ea93-5e76-4a87-8655-b3c4e15687bf",
   "metadata": {},
   "outputs": [
    {
     "data": {
      "text/plain": [
       "array(['A', 'B', 'C', 'D'], dtype='<U1')"
      ]
     },
     "execution_count": 11,
     "metadata": {},
     "output_type": "execute_result"
    }
   ],
   "source": [
    "# 문자열도 배열 데이터 생성 가능\n",
    "str_vector = np.array(list('ABCD'))\n",
    "str_vector"
   ]
  },
  {
   "cell_type": "code",
   "execution_count": 12,
   "id": "601e3b1b-704c-40b8-92d1-4579d82d6cad",
   "metadata": {},
   "outputs": [
    {
     "data": {
      "text/plain": [
       "(4,)"
      ]
     },
     "execution_count": 12,
     "metadata": {},
     "output_type": "execute_result"
    }
   ],
   "source": [
    "str_vector.shape"
   ]
  },
  {
   "cell_type": "code",
   "execution_count": 13,
   "id": "0eed4dd7-133f-483b-8d7f-e3d7cfd51dc5",
   "metadata": {},
   "outputs": [
    {
     "data": {
      "text/plain": [
       "[1, 2, 3, 'D']"
      ]
     },
     "execution_count": 13,
     "metadata": {},
     "output_type": "execute_result"
    }
   ],
   "source": [
    "ls = [1, 2, 3, 'D']\n",
    "ls\n"
   ]
  },
  {
   "cell_type": "code",
   "execution_count": 14,
   "id": "b69a0830-38d3-48b2-8c15-3dc6dab94894",
   "metadata": {},
   "outputs": [
    {
     "data": {
      "text/plain": [
       "(str, int)"
      ]
     },
     "execution_count": 14,
     "metadata": {},
     "output_type": "execute_result"
    }
   ],
   "source": [
    "type(ls[-1]), type(ls[0])"
   ]
  },
  {
   "cell_type": "code",
   "execution_count": 15,
   "id": "90c0e486-96cc-42c0-81fa-2fb63af88830",
   "metadata": {},
   "outputs": [
    {
     "data": {
      "text/plain": [
       "array(['1', '2', '3', 'D'], dtype='<U21')"
      ]
     },
     "execution_count": 15,
     "metadata": {},
     "output_type": "execute_result"
    }
   ],
   "source": [
    "# numpy는 한 가지 데이터 타입으로만 인식 질문!!\n",
    "np.array(ls)"
   ]
  },
  {
   "cell_type": "code",
   "execution_count": 16,
   "id": "d3faba8b-3dac-4e7a-ae83-c36b47d383a5",
   "metadata": {},
   "outputs": [
    {
     "data": {
      "text/plain": [
       "array([1., 2., 3., 4.])"
      ]
     },
     "execution_count": 16,
     "metadata": {},
     "output_type": "execute_result"
    }
   ],
   "source": [
    "# 데이터 타입 변경\n",
    "# astype()\n",
    "np.array([1, 2, 3, '4']).astype(np.float64)"
   ]
  },
  {
   "cell_type": "markdown",
   "id": "05e314dd-03fd-4a89-9f8b-76cd24110624",
   "metadata": {},
   "source": [
    "## 02. np.arrange()"
   ]
  },
  {
   "cell_type": "code",
   "execution_count": 18,
   "id": "391d321d-d78a-4608-bb59-4ba3f51cd07f",
   "metadata": {},
   "outputs": [
    {
     "data": {
      "text/plain": [
       "array([0, 1, 2, 3, 4])"
      ]
     },
     "execution_count": 18,
     "metadata": {},
     "output_type": "execute_result"
    }
   ],
   "source": [
    "np.arange(5)"
   ]
  },
  {
   "cell_type": "code",
   "execution_count": 19,
   "id": "a3c96578-bee9-47ea-bfe7-2667e74d40f6",
   "metadata": {},
   "outputs": [
    {
     "data": {
      "text/plain": [
       "array([1, 3])"
      ]
     },
     "execution_count": 19,
     "metadata": {},
     "output_type": "execute_result"
    }
   ],
   "source": [
    "np.arange(1, 5, 2)"
   ]
  },
  {
   "cell_type": "markdown",
   "id": "c5e7ab09-f87c-4b1f-8b2c-f157cce623e7",
   "metadata": {},
   "source": [
    "## 03. np.zeros(), np.ones()\n",
    "- zeros : 0으로 채워진 행렬 데이터\n",
    "- ones : 1로 채워진 행렬 데이터\n",
    "- 초기화 값을 지정할 경우 활용"
   ]
  },
  {
   "cell_type": "code",
   "execution_count": 20,
   "id": "877ae5ca-dd5c-46a1-8ee4-a5f940c5b1f2",
   "metadata": {},
   "outputs": [
    {
     "data": {
      "text/plain": [
       "array([[[0., 0., 0.],\n",
       "        [0., 0., 0.]],\n",
       "\n",
       "       [[0., 0., 0.],\n",
       "        [0., 0., 0.]]])"
      ]
     },
     "execution_count": 20,
     "metadata": {},
     "output_type": "execute_result"
    }
   ],
   "source": [
    "mat_zero = np.zeros((2, 2, 3))\n",
    "mat_zero"
   ]
  },
  {
   "cell_type": "code",
   "execution_count": 21,
   "id": "76168e35-8bc9-4d49-8529-503acf03eef9",
   "metadata": {},
   "outputs": [],
   "source": [
    "mat_ones = np.ones((2, 2, 3))"
   ]
  },
  {
   "cell_type": "code",
   "execution_count": 22,
   "id": "083a26b4-9781-437e-afc1-b080dcc156d7",
   "metadata": {},
   "outputs": [
    {
     "data": {
      "text/plain": [
       "array([[[1., 1., 1.],\n",
       "        [1., 1., 1.]],\n",
       "\n",
       "       [[1., 1., 1.],\n",
       "        [1., 1., 1.]]])"
      ]
     },
     "execution_count": 22,
     "metadata": {},
     "output_type": "execute_result"
    }
   ],
   "source": [
    "mat_ones"
   ]
  },
  {
   "cell_type": "code",
   "execution_count": 24,
   "id": "c1a4c605-06cd-484c-8acf-f001a6c05006",
   "metadata": {},
   "outputs": [
    {
     "data": {
      "text/plain": [
       "(3, (2, 2, 3))"
      ]
     },
     "execution_count": 24,
     "metadata": {},
     "output_type": "execute_result"
    }
   ],
   "source": [
    "mat_ones.ndim, mat_ones.shape"
   ]
  },
  {
   "cell_type": "markdown",
   "id": "99d30488-cc4c-41a3-9384-8faca1831283",
   "metadata": {},
   "source": [
    "## 04.np.random()"
   ]
  },
  {
   "cell_type": "code",
   "execution_count": 25,
   "id": "f7733e59-aac5-4be7-9ad2-a4ff8663e3cd",
   "metadata": {},
   "outputs": [
    {
     "data": {
      "text/plain": [
       "array([[4, 6, 6],\n",
       "       [2, 9, 7]])"
      ]
     },
     "execution_count": 25,
     "metadata": {},
     "output_type": "execute_result"
    }
   ],
   "source": [
    "# 정수 데이터 타입을 균일 분포로 생성\n",
    "np.random.randint(10, size = (2, 3))"
   ]
  },
  {
   "cell_type": "code",
   "execution_count": 26,
   "id": "aea33511-8aab-4278-b10c-1fcc4a17104e",
   "metadata": {},
   "outputs": [
    {
     "data": {
      "text/plain": [
       "array([2, 0, 0, 6, 2, 4, 9, 3, 4, 2])"
      ]
     },
     "execution_count": 26,
     "metadata": {},
     "output_type": "execute_result"
    }
   ],
   "source": [
    "# seed()\n",
    "# seed 값을 고정하면 동일한 랜덤값 출력\n",
    "\n",
    "np.random.seed(13)\n",
    "np.random.randint(0, 10, 10)"
   ]
  },
  {
   "cell_type": "code",
   "execution_count": 27,
   "id": "2a49f1a0-133f-4886-9244-9d7b24847285",
   "metadata": {},
   "outputs": [
    {
     "data": {
      "text/plain": [
       "array([3, 2, 2, 3, 3, 3, 3, 3, 3, 3])"
      ]
     },
     "execution_count": 27,
     "metadata": {},
     "output_type": "execute_result"
    }
   ],
   "source": [
    "# 1. 0~ 4까지의 숫자중 한 개 선택\n",
    "# 2. 반환할 샘플의 갯수, 10개\n",
    "# 3. 선택 확률 지정\n",
    "# 4. 선택할 수 있는 값(p를 말함)의 배열과 길이가 동일해야 함\n",
    "\n",
    "np.random.choice(5, 10, p = [0.1, 0, 0.3, 0.6, 0])"
   ]
  },
  {
   "cell_type": "markdown",
   "id": "cddae815-2755-444a-ba5d-d5cee4656918",
   "metadata": {},
   "source": [
    "## 05. np.linspace()\n",
    "```python\n",
    "np.linspace(start, stop, num = 50, endpoint = True)\n",
    "```\n",
    "- 시작값과 종료값 사이에서 지정된 갯수만큼 균등간격으로 선형적으로 분포하는 값을 생성\n",
    "- endpoint : True로 설정하면, stop 값을 배열에 포함"
   ]
  },
  {
   "cell_type": "code",
   "execution_count": 28,
   "id": "656b945c-473f-49fb-a7c2-7f1674e1dd01",
   "metadata": {},
   "outputs": [
    {
     "data": {
      "text/plain": [
       "50"
      ]
     },
     "execution_count": 28,
     "metadata": {},
     "output_type": "execute_result"
    }
   ],
   "source": [
    "len(np.linspace(10, 20))"
   ]
  },
  {
   "cell_type": "code",
   "execution_count": 29,
   "id": "5db491a8-db37-45e6-a113-aab5ed1c18c1",
   "metadata": {},
   "outputs": [
    {
     "data": {
      "text/plain": [
       "array([10.        , 10.20408163, 10.40816327, 10.6122449 , 10.81632653,\n",
       "       11.02040816, 11.2244898 , 11.42857143, 11.63265306, 11.83673469,\n",
       "       12.04081633, 12.24489796, 12.44897959, 12.65306122, 12.85714286,\n",
       "       13.06122449, 13.26530612, 13.46938776, 13.67346939, 13.87755102,\n",
       "       14.08163265, 14.28571429, 14.48979592, 14.69387755, 14.89795918,\n",
       "       15.10204082, 15.30612245, 15.51020408, 15.71428571, 15.91836735,\n",
       "       16.12244898, 16.32653061, 16.53061224, 16.73469388, 16.93877551,\n",
       "       17.14285714, 17.34693878, 17.55102041, 17.75510204, 17.95918367,\n",
       "       18.16326531, 18.36734694, 18.57142857, 18.7755102 , 18.97959184,\n",
       "       19.18367347, 19.3877551 , 19.59183673, 19.79591837, 20.        ])"
      ]
     },
     "execution_count": 29,
     "metadata": {},
     "output_type": "execute_result"
    }
   ],
   "source": [
    "np.linspace(10, 20)"
   ]
  },
  {
   "cell_type": "code",
   "execution_count": 34,
   "id": "a1e15664-14d9-4c0b-8f7b-375460d877b0",
   "metadata": {},
   "outputs": [
    {
     "data": {
      "text/plain": [
       "array([10.        , 10.90909091, 11.81818182, 12.72727273, 13.63636364,\n",
       "       14.54545455, 15.45454545, 16.36363636, 17.27272727, 18.18181818,\n",
       "       19.09090909])"
      ]
     },
     "execution_count": 34,
     "metadata": {},
     "output_type": "execute_result"
    }
   ],
   "source": [
    "np.linspace(10, 20, 11, False)"
   ]
  },
  {
   "cell_type": "markdown",
   "id": "c62a759e-d503-4e47-b3be-cc0b9a49f98a",
   "metadata": {},
   "source": [
    "## 06. adarray 객체에서 데이터 선택\n",
    "- 오프셋 인덱스, 인덱싱, 슬라이싱"
   ]
  },
  {
   "cell_type": "code",
   "execution_count": 47,
   "id": "5951949e-4386-4601-8c16-8d04ba68262c",
   "metadata": {},
   "outputs": [
    {
     "data": {
      "text/plain": [
       "array([8, 5, 1, 8, 1, 7, 7, 5, 6, 3])"
      ]
     },
     "execution_count": 47,
     "metadata": {},
     "output_type": "execute_result"
    }
   ],
   "source": [
    "# 0부터 9까지 랜덤한 정수값을 가진 열 벡터 생성\n",
    "vec = np.random.randint(10, size = 10)\n",
    "vec"
   ]
  },
  {
   "cell_type": "code",
   "execution_count": 48,
   "id": "436f3f51-2193-4352-b02e-ae057036db4e",
   "metadata": {},
   "outputs": [
    {
     "data": {
      "text/plain": [
       "array([8, 5, 1])"
      ]
     },
     "execution_count": 48,
     "metadata": {},
     "output_type": "execute_result"
    }
   ],
   "source": [
    "# 처음부터 시작하고, 3번째 인덱스 값까지 선택해주세요\n",
    "# 3번째 인덱스면 3, 즉 프로그램 실행시 2번 인덱스까지 나오도록 약속\n",
    "vec[:3]"
   ]
  },
  {
   "cell_type": "code",
   "execution_count": 49,
   "id": "e34fa80a-9da0-4ca8-8cfd-42e7fce00237",
   "metadata": {},
   "outputs": [
    {
     "data": {
      "text/plain": [
       "[8, 5, 1, 8, 1, 7, 7, 5, 6, 3]"
      ]
     },
     "execution_count": 49,
     "metadata": {},
     "output_type": "execute_result"
    }
   ],
   "source": [
    "list(vec)"
   ]
  },
  {
   "cell_type": "code",
   "execution_count": 50,
   "id": "b929dc76-66f6-4dfd-8391-c530b0d79faf",
   "metadata": {},
   "outputs": [
    {
     "data": {
      "text/plain": [
       "array([8, 5, 1, 8, 1, 7, 7, 5, 6, 3])"
      ]
     },
     "execution_count": 50,
     "metadata": {},
     "output_type": "execute_result"
    }
   ],
   "source": [
    "vec"
   ]
  },
  {
   "cell_type": "code",
   "execution_count": 43,
   "id": "90649e4c-47ad-4397-b5fa-7e72b18224fb",
   "metadata": {},
   "outputs": [
    {
     "data": {
      "text/plain": [
       "[5, 8, 3]"
      ]
     },
     "execution_count": 43,
     "metadata": {},
     "output_type": "execute_result"
    }
   ],
   "source": [
    "# 역순에서 3번째 값부터 시작하고, 끝까지 선택\n",
    "vec[-3:]"
   ]
  },
  {
   "cell_type": "code",
   "execution_count": 51,
   "id": "9b570a7c-a9fa-433f-990f-bdb07b22d4b7",
   "metadata": {},
   "outputs": [
    {
     "data": {
      "text/plain": [
       "7"
      ]
     },
     "execution_count": 51,
     "metadata": {},
     "output_type": "execute_result"
    }
   ],
   "source": [
    "vec[-4]"
   ]
  },
  {
   "cell_type": "code",
   "execution_count": 52,
   "id": "259d7f02-0466-45c4-940c-3231c034ba10",
   "metadata": {},
   "outputs": [
    {
     "data": {
      "text/plain": [
       "array([3, 5, 7, 8, 5])"
      ]
     },
     "execution_count": 52,
     "metadata": {},
     "output_type": "execute_result"
    }
   ],
   "source": [
    "# 처음부터 끝까지 데이터를 선택하는데, 역순으로 2단계씩 건너띄어주세요\n",
    "vec[::-2]"
   ]
  },
  {
   "cell_type": "markdown",
   "id": "5d5532b2-3dd4-46f2-9d6b-792b4a11c290",
   "metadata": {},
   "source": [
    "### 행렬에서 슬라이싱 1"
   ]
  },
  {
   "cell_type": "code",
   "execution_count": 53,
   "id": "455dd7af-07b5-4e50-b2a9-01a805566f2a",
   "metadata": {},
   "outputs": [
    {
     "data": {
      "text/plain": [
       "array([[3, 3, 0],\n",
       "       [2, 0, 2],\n",
       "       [4, 3, 0]])"
      ]
     },
     "execution_count": 53,
     "metadata": {},
     "output_type": "execute_result"
    }
   ],
   "source": [
    "mat = np.random.randint(5, size = (3, 3))\n",
    "mat"
   ]
  },
  {
   "cell_type": "code",
   "execution_count": 54,
   "id": "17215076-587b-4740-8231-42cb6572958b",
   "metadata": {},
   "outputs": [
    {
     "data": {
      "text/plain": [
       "array([3, 3, 0])"
      ]
     },
     "execution_count": 54,
     "metadata": {},
     "output_type": "execute_result"
    }
   ],
   "source": [
    "mat[0]"
   ]
  },
  {
   "cell_type": "code",
   "execution_count": 55,
   "id": "41aa704e-d07b-4c91-ae45-74968e2fcf91",
   "metadata": {},
   "outputs": [
    {
     "data": {
      "text/plain": [
       "3"
      ]
     },
     "execution_count": 55,
     "metadata": {},
     "output_type": "execute_result"
    }
   ],
   "source": [
    "mat[0][1]"
   ]
  },
  {
   "cell_type": "code",
   "execution_count": 56,
   "id": "46b6d045-3d95-48fd-b404-aaad15ecc0a0",
   "metadata": {},
   "outputs": [
    {
     "data": {
      "text/plain": [
       "3"
      ]
     },
     "execution_count": 56,
     "metadata": {},
     "output_type": "execute_result"
    }
   ],
   "source": [
    "# numpy에서 이런식으로 작성이 가능\n",
    "mat[0, 1]"
   ]
  },
  {
   "cell_type": "markdown",
   "id": "e4f1bf63-d386-4e6e-900a-9b86b7729d88",
   "metadata": {},
   "source": [
    "### 행렬에서 슬라이싱 2 "
   ]
  },
  {
   "cell_type": "code",
   "execution_count": 58,
   "id": "1f8a2712-847b-4dda-86a0-641511449f53",
   "metadata": {},
   "outputs": [
    {
     "data": {
      "text/plain": [
       "25"
      ]
     },
     "execution_count": 58,
     "metadata": {},
     "output_type": "execute_result"
    }
   ],
   "source": [
    "# 1 부터 25까지의 정수가 담긴 열 벡터 생성\n",
    "vec = np.arange(1, 26)\n",
    "vec\n",
    "len(vec)"
   ]
  },
  {
   "cell_type": "code",
   "execution_count": 59,
   "id": "91625428-aae8-4684-a1b7-96a5cd9abc41",
   "metadata": {},
   "outputs": [
    {
     "data": {
      "text/plain": [
       "array([ 1,  2,  3,  4,  5,  6,  7,  8,  9, 10, 11, 12, 13, 14, 15, 16, 17,\n",
       "       18, 19, 20, 21, 22, 23, 24, 25])"
      ]
     },
     "execution_count": 59,
     "metadata": {},
     "output_type": "execute_result"
    }
   ],
   "source": [
    "vec"
   ]
  },
  {
   "cell_type": "code",
   "execution_count": 60,
   "id": "3095b853-170e-42d3-89d0-136176ae0280",
   "metadata": {},
   "outputs": [
    {
     "data": {
      "text/plain": [
       "array([[ 1,  2,  3,  4,  5],\n",
       "       [ 6,  7,  8,  9, 10],\n",
       "       [11, 12, 13, 14, 15],\n",
       "       [16, 17, 18, 19, 20],\n",
       "       [21, 22, 23, 24, 25]])"
      ]
     },
     "execution_count": 60,
     "metadata": {},
     "output_type": "execute_result"
    }
   ],
   "source": [
    "# 5 X 5, 형태로 변환\n",
    "mat = vec.reshape(5, 5)\n",
    "mat"
   ]
  },
  {
   "cell_type": "code",
   "execution_count": 61,
   "id": "54d36b09-c252-46e0-ba24-4929f53dd036",
   "metadata": {},
   "outputs": [
    {
     "data": {
      "text/plain": [
       "array([1, 2, 3, 4, 5])"
      ]
     },
     "execution_count": 61,
     "metadata": {},
     "output_type": "execute_result"
    }
   ],
   "source": [
    "# 첫 번째 행 전체 선택\n",
    "mat[0, :]"
   ]
  },
  {
   "cell_type": "code",
   "execution_count": 62,
   "id": "d8cf5767-7815-4c6d-af73-35b989cb19e1",
   "metadata": {},
   "outputs": [
    {
     "data": {
      "text/plain": [
       "array([1, 2, 3, 4, 5])"
      ]
     },
     "execution_count": 62,
     "metadata": {},
     "output_type": "execute_result"
    }
   ],
   "source": [
    "mat[0]"
   ]
  },
  {
   "cell_type": "code",
   "execution_count": 63,
   "id": "ef665d9d-6c6e-45ac-9a98-402bbeb4e366",
   "metadata": {},
   "outputs": [
    {
     "data": {
      "text/plain": [
       "array([ 3,  8, 13, 18, 23])"
      ]
     },
     "execution_count": 63,
     "metadata": {},
     "output_type": "execute_result"
    }
   ],
   "source": [
    "# 세 번째 열 전체 선택\n",
    "\n",
    "mat[:, 2]"
   ]
  },
  {
   "cell_type": "code",
   "execution_count": 65,
   "id": "85165f1a-94d7-4be6-a391-e090a92575a9",
   "metadata": {},
   "outputs": [
    {
     "data": {
      "text/plain": [
       "array([13, 18])"
      ]
     },
     "execution_count": 65,
     "metadata": {},
     "output_type": "execute_result"
    }
   ],
   "source": [
    "# 3행 3열 4행 3열 \n",
    "mat[2:4, 2]"
   ]
  },
  {
   "cell_type": "code",
   "execution_count": 66,
   "id": "9ca7aec8-f709-4d80-ad24-3e89e8af461f",
   "metadata": {},
   "outputs": [
    {
     "data": {
      "text/plain": [
       "array([[ 6,  7,  8,  9, 10],\n",
       "       [11, 12, 13, 14, 15]])"
      ]
     },
     "execution_count": 66,
     "metadata": {},
     "output_type": "execute_result"
    }
   ],
   "source": [
    "mat[1:3, :] # 2행 3행 전체"
   ]
  },
  {
   "cell_type": "code",
   "execution_count": 67,
   "id": "c81d68e5-fa27-46f8-bba3-6b258bb0c3f8",
   "metadata": {},
   "outputs": [
    {
     "data": {
      "text/plain": [
       "array([[ 2,  3,  4],\n",
       "       [ 7,  8,  9],\n",
       "       [12, 13, 14],\n",
       "       [17, 18, 19],\n",
       "       [22, 23, 24]])"
      ]
     },
     "execution_count": 67,
     "metadata": {},
     "output_type": "execute_result"
    }
   ],
   "source": [
    "mat[:, 1:4] # 2열 3열 4열 전체"
   ]
  },
  {
   "cell_type": "code",
   "execution_count": 68,
   "id": "697f3807-b2d8-4db7-bb21-76686d7d27dd",
   "metadata": {},
   "outputs": [
    {
     "data": {
      "text/plain": [
       "array([[ 7,  8,  9],\n",
       "       [12, 13, 14]])"
      ]
     },
     "execution_count": 68,
     "metadata": {},
     "output_type": "execute_result"
    }
   ],
   "source": [
    "# 두 번째 행부터 세 번째 행\n",
    "# 두 번째 열부터 네 번째 열\n",
    "\n",
    "mat[1:3, 1:4]"
   ]
  },
  {
   "cell_type": "code",
   "execution_count": 73,
   "id": "7a536bbf-b41a-430b-b695-59edf4c63458",
   "metadata": {},
   "outputs": [
    {
     "data": {
      "text/plain": [
       "array([[21, 22, 23, 24, 25],\n",
       "       [16, 17, 18, 19, 20],\n",
       "       [11, 12, 13, 14, 15],\n",
       "       [ 6,  7,  8,  9, 10],\n",
       "       [ 1,  2,  3,  4,  5]])"
      ]
     },
     "execution_count": 73,
     "metadata": {},
     "output_type": "execute_result"
    }
   ],
   "source": [
    "# 행을 역순으로 변환\n",
    "mat[ :: -1, :]"
   ]
  },
  {
   "cell_type": "markdown",
   "id": "598bb4dc-915f-41bc-b527-d66f665302e1",
   "metadata": {},
   "source": [
    "## 07.np.reshape()\n",
    "```python\n",
    "np.reshape(array, newshape)\n",
    "```\n",
    "- a(array): 형태를 변경할 배열\n",
    "- newshape\n",
    "    - 새로운 형태로 재구성할 배열의 차원을 지정 > tuple\n",
    "    - (3, 4)는 3행 4열\n",
    "    - (6, 2)는 6행 2열"
   ]
  },
  {
   "cell_type": "code",
   "execution_count": 74,
   "id": "a9558fb5-2f17-4f77-a412-9e7f1e71c5a7",
   "metadata": {},
   "outputs": [
    {
     "data": {
      "text/plain": [
       "array([0, 1, 2, 3, 4, 5, 6, 7, 8])"
      ]
     },
     "execution_count": 74,
     "metadata": {},
     "output_type": "execute_result"
    }
   ],
   "source": [
    "a = np.arange(9)\n",
    "a"
   ]
  },
  {
   "cell_type": "code",
   "execution_count": 75,
   "id": "278c716a-7051-44ce-88eb-ac9b7c4d8097",
   "metadata": {},
   "outputs": [
    {
     "data": {
      "text/plain": [
       "array([[0, 1, 2],\n",
       "       [3, 4, 5],\n",
       "       [6, 7, 8]])"
      ]
     },
     "execution_count": 75,
     "metadata": {},
     "output_type": "execute_result"
    }
   ],
   "source": [
    "a.reshape(3, 3)"
   ]
  },
  {
   "cell_type": "code",
   "execution_count": 76,
   "id": "5868fd51-699a-4be3-84f6-b7b17b628bd1",
   "metadata": {},
   "outputs": [
    {
     "data": {
      "text/plain": [
       "array([[0, 1, 2],\n",
       "       [3, 4, 5],\n",
       "       [6, 7, 8]])"
      ]
     },
     "execution_count": 76,
     "metadata": {},
     "output_type": "execute_result"
    }
   ],
   "source": [
    "np.reshape(a, (3,3))"
   ]
  },
  {
   "cell_type": "code",
   "execution_count": 77,
   "id": "e6dbe3ac-12c4-437c-9d30-d4b2d71949c9",
   "metadata": {},
   "outputs": [
    {
     "ename": "ValueError",
     "evalue": "cannot reshape array of size 10 into shape (3,3)",
     "output_type": "error",
     "traceback": [
      "\u001b[0;31m---------------------------------------------------------------------------\u001b[0m",
      "\u001b[0;31mValueError\u001b[0m                                Traceback (most recent call last)",
      "Cell \u001b[0;32mIn[77], line 2\u001b[0m\n\u001b[1;32m      1\u001b[0m b \u001b[38;5;241m=\u001b[39m np\u001b[38;5;241m.\u001b[39marange(\u001b[38;5;241m10\u001b[39m)\n\u001b[0;32m----> 2\u001b[0m \u001b[43mb\u001b[49m\u001b[38;5;241;43m.\u001b[39;49m\u001b[43mreshape\u001b[49m\u001b[43m(\u001b[49m\u001b[38;5;241;43m3\u001b[39;49m\u001b[43m,\u001b[49m\u001b[43m \u001b[49m\u001b[38;5;241;43m3\u001b[39;49m\u001b[43m)\u001b[49m\n",
      "\u001b[0;31mValueError\u001b[0m: cannot reshape array of size 10 into shape (3,3)"
     ]
    }
   ],
   "source": [
    "b = np.arange(10)\n",
    "b.reshape(3, 3)"
   ]
  },
  {
   "cell_type": "code",
   "execution_count": 78,
   "id": "076cd5a8-c5fa-4ec7-b54b-eaa24f1427d0",
   "metadata": {},
   "outputs": [
    {
     "data": {
      "text/plain": [
       "array([[0, 1, 2],\n",
       "       [3, 4, 5],\n",
       "       [6, 7, 8]])"
      ]
     },
     "execution_count": 78,
     "metadata": {},
     "output_type": "execute_result"
    }
   ],
   "source": [
    "# 1\n",
    "# 행은 3개로 설정하는데, 열은 자동으로 설정\n",
    "a.reshape(3, -1)\n"
   ]
  },
  {
   "cell_type": "code",
   "execution_count": 79,
   "id": "23f98dac-7b0e-4211-878f-1ccb7a747647",
   "metadata": {},
   "outputs": [],
   "source": [
    "# 이미지 데이터\n",
    "# 이미지는 3차원 데이터 배열"
   ]
  },
  {
   "cell_type": "code",
   "execution_count": 80,
   "id": "a820ac38-7ee9-4266-891a-eccffcd146c0",
   "metadata": {},
   "outputs": [
    {
     "data": {
      "text/plain": [
       "array([[[ 85, 138, 195],\n",
       "        [175, 175, 245],\n",
       "        [149,  62, 217],\n",
       "        ...,\n",
       "        [ 25, 199, 245],\n",
       "        [224, 182,  59],\n",
       "        [246, 220,  62]],\n",
       "\n",
       "       [[244, 215, 213],\n",
       "        [ 52, 154, 125],\n",
       "        [219,  38,  53],\n",
       "        ...,\n",
       "        [ 48,  91, 196],\n",
       "        [252, 128, 134],\n",
       "        [151, 154, 125]],\n",
       "\n",
       "       [[237,   9, 102],\n",
       "        [118, 189,  58],\n",
       "        [ 71, 182, 248],\n",
       "        ...,\n",
       "        [ 60, 246, 161],\n",
       "        [ 60,  10, 191],\n",
       "        [ 21, 108, 152]],\n",
       "\n",
       "       ...,\n",
       "\n",
       "       [[117, 173, 161],\n",
       "        [147, 177, 132],\n",
       "        [ 84, 168, 217],\n",
       "        ...,\n",
       "        [243,  26,  78],\n",
       "        [190,   5, 208],\n",
       "        [ 30,  55, 206]],\n",
       "\n",
       "       [[209, 208,  36],\n",
       "        [230, 241,  69],\n",
       "        [  3, 224, 193],\n",
       "        ...,\n",
       "        [ 41, 146,  20],\n",
       "        [203, 126,  77],\n",
       "        [146, 119, 131]],\n",
       "\n",
       "       [[164, 118, 200],\n",
       "        [ 20,  83,   2],\n",
       "        [172,  95, 253],\n",
       "        ...,\n",
       "        [193, 169, 201],\n",
       "        [227,   4,  97],\n",
       "        [ 91, 218,  72]]], dtype=uint8)"
      ]
     },
     "execution_count": 80,
     "metadata": {},
     "output_type": "execute_result"
    }
   ],
   "source": [
    "image = np.random.randint(0, 255, size = (32, 32, 3), dtype=np.uint8)  # 32 by 3 행렬이 32개 \n",
    "image"
   ]
  },
  {
   "cell_type": "code",
   "execution_count": 81,
   "id": "2006d9b2-2615-4801-8d19-f51c216d32e3",
   "metadata": {},
   "outputs": [
    {
     "data": {
      "text/plain": [
       "(32, 32, 3)"
      ]
     },
     "execution_count": 81,
     "metadata": {},
     "output_type": "execute_result"
    }
   ],
   "source": [
    "image.shape"
   ]
  },
  {
   "cell_type": "code",
   "execution_count": 82,
   "id": "d8254ea6-d56f-48e7-8ec0-7fb2538850a6",
   "metadata": {},
   "outputs": [
    {
     "data": {
      "text/plain": [
       "array([[ 85, 138, 195],\n",
       "       [175, 175, 245],\n",
       "       [149,  62, 217],\n",
       "       ...,\n",
       "       [193, 169, 201],\n",
       "       [227,   4,  97],\n",
       "       [ 91, 218,  72]], dtype=uint8)"
      ]
     },
     "execution_count": 82,
     "metadata": {},
     "output_type": "execute_result"
    }
   ],
   "source": [
    "# 2차원 배열로 변환\n",
    "image.reshape(32*32, 3)"
   ]
  },
  {
   "cell_type": "markdown",
   "id": "8b98763c-a242-478e-935a-0c0be073db5a",
   "metadata": {},
   "source": [
    "## 08.np.where()\n",
    "```python\n",
    "np.where(condition, x, y)\n",
    "```\n",
    "- 조건에 따라 값을 선택\n",
    "- condition\n",
    "    - 조건을 나타내는 배열 또는 조건문\n",
    "    - True or False\n",
    "- x, y는 서로 동일한 크기(shape)배열 형태\n",
    "- condition이 True인 경우 x값 반환\n",
    "- condition이 False인 경우 y값 반환"
   ]
  },
  {
   "cell_type": "code",
   "execution_count": 84,
   "id": "b7b29ed8-0281-4600-b2f6-396d226da659",
   "metadata": {},
   "outputs": [],
   "source": [
    "import numpy as np\n",
    "condition = [True, False, True]\n",
    "x = [1, 2, 3]\n",
    "y = [10, 20, 30]"
   ]
  },
  {
   "cell_type": "code",
   "execution_count": 85,
   "id": "3c2de8e8-5ab8-4c68-a967-8a27d67232cf",
   "metadata": {},
   "outputs": [
    {
     "data": {
      "text/plain": [
       "array([ 1, 20,  3])"
      ]
     },
     "execution_count": 85,
     "metadata": {},
     "output_type": "execute_result"
    }
   ],
   "source": [
    "np.where(condition, x, y)"
   ]
  },
  {
   "cell_type": "code",
   "execution_count": null,
   "id": "d7344b4e-8831-4c66-8221-dde5196223bb",
   "metadata": {},
   "outputs": [],
   "source": []
  }
 ],
 "metadata": {
  "kernelspec": {
   "display_name": "Python 3 (ipykernel)",
   "language": "python",
   "name": "python3"
  },
  "language_info": {
   "codemirror_mode": {
    "name": "ipython",
    "version": 3
   },
   "file_extension": ".py",
   "mimetype": "text/x-python",
   "name": "python",
   "nbconvert_exporter": "python",
   "pygments_lexer": "ipython3",
   "version": "3.10.12"
  }
 },
 "nbformat": 4,
 "nbformat_minor": 5
}
