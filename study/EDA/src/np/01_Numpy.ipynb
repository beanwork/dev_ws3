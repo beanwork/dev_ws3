{
 "cells": [
  {
   "cell_type": "markdown",
   "id": "175f77b5-cd74-4ecc-977b-e63908c68369",
   "metadata": {},
   "source": [
    "# Numpy\n",
    "- python에서 사용하는 과학계산용 오픈소스 라이브러리\n",
    "- python의 느린 연산속도를 보안\n",
    "- ndarray라는 데이터 타입을 사용합니다.\n",
    "- C, C++, 포트란으로 만들어짐"
   ]
  },
  {
   "cell_type": "markdown",
   "id": "e0f54a80-4543-426d-8392-3f36c08497b5",
   "metadata": {},
   "source": [
    "## 선형대수\n",
    "- 스칼라(scalar)\n",
    "    - 하나의 숫자로만 이루어진 데이터\n",
    "    - ex) 1\n",
    "- 벡터(vector)\n",
    "    - 여러 개의 숫자가 특정한 순서대로 모여 있는 것\n",
    "    - ex) [1, 2, 3]\n",
    "    -  $\\mathbf{V} = \\begin{bmatrix} 1 \\\\ 2 \\\\ 3 \\end{bmatrix}$\n",
    "- 행렬(matrix)\n",
    "    - 2차원 배열로 구성\n",
    "    - 행(rows)와 열(columns)\n",
    "    - 행렬 [[1, 2, 3], [4, 5, 6]]"
   ]
  },
  {
   "cell_type": "code",
   "execution_count": 100,
   "id": "6dc6e12b-00b5-400c-8d41-eaee033100d4",
   "metadata": {},
   "outputs": [],
   "source": [
    "import numpy as np"
   ]
  },
  {
   "cell_type": "markdown",
   "id": "5640ed83-35d0-40e0-8b27-52d9d23fda3d",
   "metadata": {},
   "source": [
    "### 01. ndarray 객체 생성"
   ]
  },
  {
   "cell_type": "code",
   "execution_count": 4,
   "id": "2ea6a392-6331-4d0a-903f-373b26649a0c",
   "metadata": {},
   "outputs": [
    {
     "data": {
      "text/plain": [
       "numpy.ndarray"
      ]
     },
     "execution_count": 4,
     "metadata": {},
     "output_type": "execute_result"
    }
   ],
   "source": [
    "scalar = np.array(5)\n",
    "type(scalar)"
   ]
  },
  {
   "cell_type": "code",
   "execution_count": 5,
   "id": "aced9e59-647e-4fa3-9fd1-ede8d1b94642",
   "metadata": {},
   "outputs": [
    {
     "data": {
      "text/plain": [
       "array([1, 2, 3])"
      ]
     },
     "execution_count": 5,
     "metadata": {},
     "output_type": "execute_result"
    }
   ],
   "source": [
    "vector = np.array([1, 2, 3])\n",
    "vector"
   ]
  },
  {
   "cell_type": "code",
   "execution_count": 6,
   "id": "4568db11-6ac5-4326-a7e6-80be3adfa3c0",
   "metadata": {},
   "outputs": [
    {
     "data": {
      "text/plain": [
       "array([[1, 2, 3],\n",
       "       [4, 5, 6],\n",
       "       [7, 8, 9]])"
      ]
     },
     "execution_count": 6,
     "metadata": {},
     "output_type": "execute_result"
    }
   ],
   "source": [
    "matrix = np.array([[1, 2, 3], [4, 5, 6], [7, 8, 9]])\n",
    "matrix"
   ]
  },
  {
   "cell_type": "code",
   "execution_count": 10,
   "id": "95f4c889-2b9f-4e95-9f89-1d02ac9a77a8",
   "metadata": {},
   "outputs": [
    {
     "data": {
      "text/plain": [
       "(0, 1, 2)"
      ]
     },
     "execution_count": 10,
     "metadata": {},
     "output_type": "execute_result"
    }
   ],
   "source": [
    "# 배열의 차원 확인\n",
    "scalar.ndim, vector.ndim, matrix.ndim"
   ]
  },
  {
   "cell_type": "code",
   "execution_count": 12,
   "id": "eb045cb9-222f-4eb5-9ffe-674c2214ad0c",
   "metadata": {},
   "outputs": [
    {
     "data": {
      "text/plain": [
       "((), (3,), (3, 3))"
      ]
     },
     "execution_count": 12,
     "metadata": {},
     "output_type": "execute_result"
    }
   ],
   "source": [
    "# 배열의 모양 확인\n",
    "scalar.shape, vector.shape, matrix.shape"
   ]
  },
  {
   "cell_type": "code",
   "execution_count": 17,
   "id": "34bd280c-76d7-4280-931a-a44bf7251253",
   "metadata": {},
   "outputs": [
    {
     "data": {
      "text/plain": [
       "array(['A', 'B', 'C', 'D'], dtype='<U1')"
      ]
     },
     "execution_count": 17,
     "metadata": {},
     "output_type": "execute_result"
    }
   ],
   "source": [
    "# 문자열도 배열 데이터 생성 가능\n",
    "str_vector = np.array(list('ABCD'))\n",
    "str_vector"
   ]
  },
  {
   "cell_type": "code",
   "execution_count": 18,
   "id": "84b9ce87-955b-4cb7-96e0-aa5dee2de023",
   "metadata": {},
   "outputs": [
    {
     "data": {
      "text/plain": [
       "[1, 2, 3, 'D']"
      ]
     },
     "execution_count": 18,
     "metadata": {},
     "output_type": "execute_result"
    }
   ],
   "source": [
    "ls = [1, 2, 3, 'D']\n",
    "ls"
   ]
  },
  {
   "cell_type": "code",
   "execution_count": 20,
   "id": "66f54f85-8218-4c2e-9eae-6ab9abf593e4",
   "metadata": {},
   "outputs": [
    {
     "data": {
      "text/plain": [
       "(str, int)"
      ]
     },
     "execution_count": 20,
     "metadata": {},
     "output_type": "execute_result"
    }
   ],
   "source": [
    "type(ls[-1]), type(ls[0])"
   ]
  },
  {
   "cell_type": "code",
   "execution_count": 22,
   "id": "bdd5df5f-8ca2-4959-a314-5d8edb8aa292",
   "metadata": {},
   "outputs": [
    {
     "data": {
      "text/plain": [
       "array(['1', '2', '3', 'D'], dtype='<U21')"
      ]
     },
     "execution_count": 22,
     "metadata": {},
     "output_type": "execute_result"
    }
   ],
   "source": [
    "# numpy는 한가지 데이터 타입으로만 인식\n",
    "np.array(ls)"
   ]
  },
  {
   "cell_type": "code",
   "execution_count": 25,
   "id": "c3f5e62b-85a3-4fde-b789-d8c3a73d4feb",
   "metadata": {},
   "outputs": [
    {
     "data": {
      "text/plain": [
       "array([1., 2., 3., 4.])"
      ]
     },
     "execution_count": 25,
     "metadata": {},
     "output_type": "execute_result"
    }
   ],
   "source": [
    "# 데이터 타입 변경\n",
    "# astype()\n",
    "np.array([1, 2, 3, '4']).astype(np.float64)"
   ]
  },
  {
   "cell_type": "markdown",
   "id": "cf493f95-75d0-454d-a632-4d3f982418f3",
   "metadata": {},
   "source": [
    "### 02. np.arange()"
   ]
  },
  {
   "cell_type": "code",
   "execution_count": 30,
   "id": "d4c3c0ba-d194-4ff2-8842-d5210275c5a4",
   "metadata": {},
   "outputs": [
    {
     "data": {
      "text/plain": [
       "array([0, 1, 2, 3, 4])"
      ]
     },
     "execution_count": 30,
     "metadata": {},
     "output_type": "execute_result"
    }
   ],
   "source": [
    "np.arange(5)"
   ]
  },
  {
   "cell_type": "code",
   "execution_count": 32,
   "id": "bb4a3ea5-561e-408b-871b-d5a3457084fc",
   "metadata": {},
   "outputs": [
    {
     "data": {
      "text/plain": [
       "array([1, 3])"
      ]
     },
     "execution_count": 32,
     "metadata": {},
     "output_type": "execute_result"
    }
   ],
   "source": [
    "np.arange(1, 5, 2)"
   ]
  },
  {
   "cell_type": "markdown",
   "id": "de7364e0-df9c-4592-98b6-f28212eee6ba",
   "metadata": {},
   "source": [
    "### 03. np.zeros(), np.ones()\n",
    "- zeros : 0으로 채워진 행렬 데이터\n",
    "- ones : 1로 채워진 행렬 데이터\n",
    "- 초기화 값을 지정할 경우 활용"
   ]
  },
  {
   "cell_type": "code",
   "execution_count": 35,
   "id": "1dd47bd3-fdd6-4bea-be3f-ff78781f910d",
   "metadata": {},
   "outputs": [
    {
     "data": {
      "text/plain": [
       "array([[[0., 0., 0.],\n",
       "        [0., 0., 0.]],\n",
       "\n",
       "       [[0., 0., 0.],\n",
       "        [0., 0., 0.]]])"
      ]
     },
     "execution_count": 35,
     "metadata": {},
     "output_type": "execute_result"
    }
   ],
   "source": [
    "mat_zero = np.zeros((2,2,3))  # \n",
    "mat_zero"
   ]
  },
  {
   "cell_type": "code",
   "execution_count": 36,
   "id": "942d44ed-4aeb-4ebe-84d9-75134dce5891",
   "metadata": {},
   "outputs": [
    {
     "data": {
      "text/plain": [
       "array([[[1., 1., 1.],\n",
       "        [1., 1., 1.]],\n",
       "\n",
       "       [[1., 1., 1.],\n",
       "        [1., 1., 1.]]])"
      ]
     },
     "execution_count": 36,
     "metadata": {},
     "output_type": "execute_result"
    }
   ],
   "source": [
    "mat_ones = np.ones((2,2,3))\n",
    "mat_ones"
   ]
  },
  {
   "cell_type": "markdown",
   "id": "24da4202-c87e-4eb3-8eef-96062ea40726",
   "metadata": {},
   "source": [
    "### 04. np.random()"
   ]
  },
  {
   "cell_type": "code",
   "execution_count": 76,
   "id": "ac8229b1-e558-4cbb-9da0-71d79932b7db",
   "metadata": {},
   "outputs": [
    {
     "data": {
      "text/plain": [
       "array([[7, 9, 2],\n",
       "       [5, 2, 6]])"
      ]
     },
     "execution_count": 76,
     "metadata": {},
     "output_type": "execute_result"
    }
   ],
   "source": [
    "# 정수 데이터 타입을 균일분포로 생성\n",
    "np.random.randint(10, size = (2, 3))"
   ]
  },
  {
   "cell_type": "code",
   "execution_count": 92,
   "id": "a4c44a15-0275-4ed8-941e-48f59948c2bf",
   "metadata": {},
   "outputs": [
    {
     "data": {
      "text/plain": [
       "array([2, 0, 0, 6, 2, 4, 9, 3, 4, 2])"
      ]
     },
     "execution_count": 92,
     "metadata": {},
     "output_type": "execute_result"
    }
   ],
   "source": [
    "# seed()\n",
    "# seed 값을 고정하면 동일한 랜덤값 출력\n",
    "\n",
    "np.random.seed(13)\n",
    "np.random.randint(0, 10, 10)"
   ]
  },
  {
   "cell_type": "code",
   "execution_count": 111,
   "id": "57038eb8-8cc6-4897-8fd6-baa74d66c20b",
   "metadata": {},
   "outputs": [
    {
     "data": {
      "text/plain": [
       "array([3, 3, 3, 3, 2, 2, 3, 2, 3, 2])"
      ]
     },
     "execution_count": 111,
     "metadata": {},
     "output_type": "execute_result"
    }
   ],
   "source": [
    "# (1) 0 ~ 4까지의 숫자중 한개 선택\n",
    "# (2) 반환할 샘플의 갯수, 10개\n",
    "# (3) 선택 확률 지정\n",
    "# (4) 선택할 수 있는 값('p='을 말함)의 배열과 길이가 동일해야 합니다.\n",
    "\n",
    "np.random.choice(5, 10, p = [0.1, 0, 0.3, 0.6, 0])"
   ]
  },
  {
   "cell_type": "markdown",
   "id": "4cadb061-8a97-4729-8431-c069c5e504de",
   "metadata": {},
   "source": [
    "### 05. np.linspace()\n",
    "```python\n",
    "np.linspace(start, stop, num=50, endpoint=True)\n",
    "```\n",
    "- 시작값과 종료값 사이에서 지정된 갯수만큼 균등간격으로 선형적으로 분포하는 값을 생성\n",
    "- endpoint : True로 설정하면, stop 값을 배열에 포함 "
   ]
  },
  {
   "cell_type": "code",
   "execution_count": 115,
   "id": "d36b45a6-508b-467d-a251-a5b38fa7c8c0",
   "metadata": {},
   "outputs": [
    {
     "data": {
      "text/plain": [
       "50"
      ]
     },
     "execution_count": 115,
     "metadata": {},
     "output_type": "execute_result"
    }
   ],
   "source": [
    "len(np.linspace(10, 20))"
   ]
  },
  {
   "cell_type": "code",
   "execution_count": 120,
   "id": "f0c13c53-e598-4d44-8aa5-c315c1440d62",
   "metadata": {},
   "outputs": [
    {
     "data": {
      "text/plain": [
       "array([10.        , 10.90909091, 11.81818182, 12.72727273, 13.63636364,\n",
       "       14.54545455, 15.45454545, 16.36363636, 17.27272727, 18.18181818,\n",
       "       19.09090909])"
      ]
     },
     "execution_count": 120,
     "metadata": {},
     "output_type": "execute_result"
    }
   ],
   "source": [
    "np.linspace(10, 20, 11, False)"
   ]
  },
  {
   "cell_type": "markdown",
   "id": "8ec80ddc-cd38-453e-bf10-9446eb77f2f3",
   "metadata": {},
   "source": [
    "### 06. adarray 객체에서 데이터 선택\n",
    "- 오프셋 인덱스, 인덱싱, 슬라이싱"
   ]
  },
  {
   "cell_type": "code",
   "execution_count": 124,
   "id": "1a88ecc1-b0e2-46e6-9282-32a27cabdb4f",
   "metadata": {},
   "outputs": [
    {
     "data": {
      "text/plain": [
       "array([1, 6, 8, 6, 6, 8, 6, 8, 0, 2])"
      ]
     },
     "execution_count": 124,
     "metadata": {},
     "output_type": "execute_result"
    }
   ],
   "source": [
    "# 0부터 9까지 랜덤한 정수값을 가진 열 벡터 생성\n",
    "vec = np.random.randint(10, size=10)\n",
    "vec"
   ]
  },
  {
   "cell_type": "code",
   "execution_count": 130,
   "id": "0cded8b0-50f2-4402-a888-1b1a8700a3ac",
   "metadata": {},
   "outputs": [
    {
     "data": {
      "text/plain": [
       "array([1, 6, 8])"
      ]
     },
     "execution_count": 130,
     "metadata": {},
     "output_type": "execute_result"
    }
   ],
   "source": [
    "# 처음부터 시작하고, 3번째 인덱스 값까지 선택해주세요 (\n",
    "# 3번째 인덱스면 3, 즉 프로그램 실행시 2번 인덱스까지 나오도록 약속)\n",
    "vec[:3]"
   ]
  },
  {
   "cell_type": "code",
   "execution_count": 139,
   "id": "7985b226-729a-4210-ab88-35e7402dfa02",
   "metadata": {},
   "outputs": [
    {
     "data": {
      "text/plain": [
       "array([8, 0, 2])"
      ]
     },
     "execution_count": 139,
     "metadata": {},
     "output_type": "execute_result"
    }
   ],
   "source": [
    "# 역순에서 3번째 값부터 시작하고, 끝까지 선택\n",
    "vec[-3:]"
   ]
  },
  {
   "cell_type": "code",
   "execution_count": 136,
   "id": "29430edb-0fb6-4119-87a3-0c2a741bc7d1",
   "metadata": {},
   "outputs": [
    {
     "data": {
      "text/plain": [
       "6"
      ]
     },
     "execution_count": 136,
     "metadata": {},
     "output_type": "execute_result"
    }
   ],
   "source": [
    "# 역순에서 4번째 값\n",
    "vec[-4]"
   ]
  },
  {
   "cell_type": "code",
   "execution_count": 142,
   "id": "26460166-babf-4451-a71f-854829b8f300",
   "metadata": {},
   "outputs": [
    {
     "data": {
      "text/plain": [
       "array([2, 8, 8, 6, 6])"
      ]
     },
     "execution_count": 142,
     "metadata": {},
     "output_type": "execute_result"
    }
   ],
   "source": [
    "# 처음부터 끝까지 데이터를 선택하는데. 역순으로 2단계씩 건너띄어주세요\n",
    "vec[::-2]"
   ]
  },
  {
   "cell_type": "markdown",
   "id": "1640ecfd-4e3e-4e6d-b4c5-9647f072da73",
   "metadata": {},
   "source": [
    "#### 행렬에서 슬라이싱(1)"
   ]
  },
  {
   "cell_type": "code",
   "execution_count": 144,
   "id": "c8afea95-8143-49ca-aa2e-80f6d9235e82",
   "metadata": {},
   "outputs": [
    {
     "data": {
      "text/plain": [
       "array([[4, 2, 4],\n",
       "       [2, 4, 2],\n",
       "       [0, 0, 4]])"
      ]
     },
     "execution_count": 144,
     "metadata": {},
     "output_type": "execute_result"
    }
   ],
   "source": [
    "mat = np.random.randint(5, size = (3, 3))\n",
    "mat"
   ]
  },
  {
   "cell_type": "code",
   "execution_count": 147,
   "id": "792cf82e-bb9c-4890-ad45-3d61a7c7939a",
   "metadata": {},
   "outputs": [
    {
     "data": {
      "text/plain": [
       "array([4, 2, 4])"
      ]
     },
     "execution_count": 147,
     "metadata": {},
     "output_type": "execute_result"
    }
   ],
   "source": [
    "mat[0]"
   ]
  },
  {
   "cell_type": "code",
   "execution_count": 148,
   "id": "89d433b8-ba4d-4e39-a193-b3d4851ea4ff",
   "metadata": {},
   "outputs": [
    {
     "data": {
      "text/plain": [
       "2"
      ]
     },
     "execution_count": 148,
     "metadata": {},
     "output_type": "execute_result"
    }
   ],
   "source": [
    "mat[0][1]"
   ]
  },
  {
   "cell_type": "code",
   "execution_count": 150,
   "id": "46bd391a-4785-4f4b-a54a-17936b0f9416",
   "metadata": {},
   "outputs": [
    {
     "data": {
      "text/plain": [
       "2"
      ]
     },
     "execution_count": 150,
     "metadata": {},
     "output_type": "execute_result"
    }
   ],
   "source": [
    "# numpy에서 이런식으로 작성이 가능\n",
    "mat[0, 1]"
   ]
  },
  {
   "cell_type": "markdown",
   "id": "2554e2e8-c041-4f11-88ec-70bc90dca259",
   "metadata": {},
   "source": [
    "#### 행렬에서 슬라이싱(2)"
   ]
  },
  {
   "cell_type": "code",
   "execution_count": 155,
   "id": "678e3d6c-49fa-4309-bae0-9c21ba3cdc4f",
   "metadata": {},
   "outputs": [
    {
     "data": {
      "text/plain": [
       "25"
      ]
     },
     "execution_count": 155,
     "metadata": {},
     "output_type": "execute_result"
    }
   ],
   "source": [
    "# 1부터 25까지의 정수가 담긴 열 백터 생성\n",
    "vec = np.arange(1, 26)\n",
    "vec\n",
    "len(vec)"
   ]
  },
  {
   "cell_type": "code",
   "execution_count": 163,
   "id": "995b06e0-252e-4fea-9de8-2fad01b6fe1d",
   "metadata": {},
   "outputs": [
    {
     "data": {
      "text/plain": [
       "array([[ 1,  2,  3,  4,  5],\n",
       "       [ 6,  7,  8,  9, 10],\n",
       "       [11, 12, 13, 14, 15],\n",
       "       [16, 17, 18, 19, 20],\n",
       "       [21, 22, 23, 24, 25]])"
      ]
     },
     "execution_count": 163,
     "metadata": {},
     "output_type": "execute_result"
    }
   ],
   "source": [
    "# 5 x 5,  5 by 5 형태로 변환\n",
    "mat = vec.reshape(5, 5)\n",
    "mat"
   ]
  },
  {
   "cell_type": "code",
   "execution_count": 166,
   "id": "8006445f-50ba-4c88-9375-399df84218ed",
   "metadata": {},
   "outputs": [
    {
     "data": {
      "text/plain": [
       "array([1, 2, 3, 4, 5])"
      ]
     },
     "execution_count": 166,
     "metadata": {},
     "output_type": "execute_result"
    }
   ],
   "source": [
    "# 첫 번째 행 전체 선택\n",
    "mat[0, :]"
   ]
  },
  {
   "cell_type": "code",
   "execution_count": 167,
   "id": "a1c9cdbc-9832-4021-98cd-cad2845cc4a6",
   "metadata": {},
   "outputs": [
    {
     "data": {
      "text/plain": [
       "array([1, 2, 3, 4, 5])"
      ]
     },
     "execution_count": 167,
     "metadata": {},
     "output_type": "execute_result"
    }
   ],
   "source": [
    "mat[0]"
   ]
  },
  {
   "cell_type": "code",
   "execution_count": 175,
   "id": "b3037f85-8290-4ac3-a867-d0e94a94fa65",
   "metadata": {},
   "outputs": [
    {
     "data": {
      "text/plain": [
       "array([ 3,  8, 13, 18, 23])"
      ]
     },
     "execution_count": 175,
     "metadata": {},
     "output_type": "execute_result"
    }
   ],
   "source": [
    "# 세 번째 열 전체 선택\n",
    "\n",
    "mat[:, 2]"
   ]
  },
  {
   "cell_type": "code",
   "execution_count": 176,
   "id": "ea1546be-948d-4704-ab68-9606b913e105",
   "metadata": {},
   "outputs": [
    {
     "data": {
      "text/plain": [
       "array([[ 6,  7,  8,  9, 10],\n",
       "       [11, 12, 13, 14, 15]])"
      ]
     },
     "execution_count": 176,
     "metadata": {},
     "output_type": "execute_result"
    }
   ],
   "source": [
    "mat[1:3, :]"
   ]
  },
  {
   "cell_type": "code",
   "execution_count": 178,
   "id": "b908b1f0-48c2-41db-a5bd-1038f0dd04ea",
   "metadata": {},
   "outputs": [
    {
     "data": {
      "text/plain": [
       "array([[ 2,  3,  4],\n",
       "       [ 7,  8,  9],\n",
       "       [12, 13, 14],\n",
       "       [17, 18, 19],\n",
       "       [22, 23, 24]])"
      ]
     },
     "execution_count": 178,
     "metadata": {},
     "output_type": "execute_result"
    }
   ],
   "source": [
    "mat[: , 1:4]"
   ]
  },
  {
   "cell_type": "code",
   "execution_count": 186,
   "id": "0e37d34f-4f8f-4163-a488-eecb174f18a3",
   "metadata": {},
   "outputs": [
    {
     "data": {
      "text/plain": [
       "(array([[ 7,  8,  9],\n",
       "        [12, 13, 14]]),\n",
       " array([16, 17]))"
      ]
     },
     "execution_count": 186,
     "metadata": {},
     "output_type": "execute_result"
    }
   ],
   "source": [
    "# 두 번째 행부터 세 번째 행\n",
    "# 두 번째 열부터 세 번째 열\n",
    "\n",
    "mat[1:3, 1:4]"
   ]
  },
  {
   "cell_type": "code",
   "execution_count": 192,
   "id": "e8b5661e-466d-489d-afa6-6da795b8ac6a",
   "metadata": {},
   "outputs": [
    {
     "data": {
      "text/plain": [
       "array([[21, 22, 23, 24, 25],\n",
       "       [16, 17, 18, 19, 20],\n",
       "       [11, 12, 13, 14, 15],\n",
       "       [ 6,  7,  8,  9, 10],\n",
       "       [ 1,  2,  3,  4,  5]])"
      ]
     },
     "execution_count": 192,
     "metadata": {},
     "output_type": "execute_result"
    }
   ],
   "source": [
    "# 행을 역순으로 변환\n",
    "mat [ :: -1, :]\n",
    "               "
   ]
  },
  {
   "cell_type": "markdown",
   "id": "6f8fc590-2274-4195-af54-95d2286a42d2",
   "metadata": {},
   "source": [
    "### 07. np.reshape()"
   ]
  },
  {
   "cell_type": "markdown",
   "id": "f59a4686-8c97-4251-9a46-60c33cfd2d2e",
   "metadata": {},
   "source": [
    "```python\n",
    "np.reshape(array, newshape)\n",
    "```\n",
    "- a(array) : 형태를 변경할 배열\n",
    "- newshape\n",
    "    - 새로운 형태로 재구성할 배열의 차원을 지정 -> tuple\n",
    "    - (3, 4)는 3행 4열\n",
    "    - (6, 2)는 6행 2열"
   ]
  },
  {
   "cell_type": "code",
   "execution_count": 194,
   "id": "833aec73-c8e0-43f5-8b03-47b2546ab24e",
   "metadata": {},
   "outputs": [
    {
     "data": {
      "text/plain": [
       "array([0, 1, 2, 3, 4, 5, 6, 7, 8])"
      ]
     },
     "execution_count": 194,
     "metadata": {},
     "output_type": "execute_result"
    }
   ],
   "source": [
    "a = np.arange(9)\n",
    "a"
   ]
  },
  {
   "cell_type": "code",
   "execution_count": 196,
   "id": "a9b3a37c-9b95-4115-9bef-d17bdf78a0b6",
   "metadata": {},
   "outputs": [
    {
     "data": {
      "text/plain": [
       "array([[0, 1, 2],\n",
       "       [3, 4, 5],\n",
       "       [6, 7, 8]])"
      ]
     },
     "execution_count": 196,
     "metadata": {},
     "output_type": "execute_result"
    }
   ],
   "source": [
    "a.reshape(3,3)"
   ]
  },
  {
   "cell_type": "code",
   "execution_count": 197,
   "id": "72b4ca09-391f-43a0-badd-9c6279d4b1c9",
   "metadata": {},
   "outputs": [
    {
     "data": {
      "text/plain": [
       "array([[0, 1, 2],\n",
       "       [3, 4, 5],\n",
       "       [6, 7, 8]])"
      ]
     },
     "execution_count": 197,
     "metadata": {},
     "output_type": "execute_result"
    }
   ],
   "source": [
    "np.reshape(a, (3,3))"
   ]
  },
  {
   "cell_type": "code",
   "execution_count": 13,
   "id": "ad89b408-dca3-4be8-bc55-8d5a0338eba3",
   "metadata": {},
   "outputs": [
    {
     "ename": "ValueError",
     "evalue": "cannot reshape array of size 10 into shape (3,3)",
     "output_type": "error",
     "traceback": [
      "\u001b[0;31m---------------------------------------------------------------------------\u001b[0m",
      "\u001b[0;31mValueError\u001b[0m                                Traceback (most recent call last)",
      "Cell \u001b[0;32mIn[13], line 2\u001b[0m\n\u001b[1;32m      1\u001b[0m b \u001b[38;5;241m=\u001b[39m np\u001b[38;5;241m.\u001b[39marange(\u001b[38;5;241m10\u001b[39m)\n\u001b[0;32m----> 2\u001b[0m \u001b[43mb\u001b[49m\u001b[38;5;241;43m.\u001b[39;49m\u001b[43mreshape\u001b[49m\u001b[43m(\u001b[49m\u001b[38;5;241;43m3\u001b[39;49m\u001b[43m,\u001b[49m\u001b[43m \u001b[49m\u001b[38;5;241;43m3\u001b[39;49m\u001b[43m)\u001b[49m\n",
      "\u001b[0;31mValueError\u001b[0m: cannot reshape array of size 10 into shape (3,3)"
     ]
    }
   ],
   "source": [
    "b = np.arange(10)\n",
    "b.reshape(3, 3)"
   ]
  },
  {
   "cell_type": "code",
   "execution_count": 211,
   "id": "35b06c62-7e41-4e93-abb8-b07392970716",
   "metadata": {},
   "outputs": [
    {
     "data": {
      "text/plain": [
       "array([[0, 1, 2],\n",
       "       [3, 4, 5],\n",
       "       [6, 7, 8]])"
      ]
     },
     "execution_count": 211,
     "metadata": {},
     "output_type": "execute_result"
    }
   ],
   "source": [
    "# -1\n",
    "# 행은 3개로 설정하는데, 열은 자동으로 설정\n",
    "a.reshape(3, -1)"
   ]
  },
  {
   "cell_type": "code",
   "execution_count": 217,
   "id": "8bcaafdf-bd9c-42bf-9338-8fada4cec5a9",
   "metadata": {},
   "outputs": [
    {
     "data": {
      "text/plain": [
       "array([[[136,  72, 171],\n",
       "        [ 47, 168,  86],\n",
       "        [ 73, 188, 101],\n",
       "        ...,\n",
       "        [225,  82, 131],\n",
       "        [219, 249, 113],\n",
       "        [143,  61, 154]],\n",
       "\n",
       "       [[ 80, 225,  91],\n",
       "        [148, 143, 247],\n",
       "        [ 75, 193, 125],\n",
       "        ...,\n",
       "        [ 27,  14, 102],\n",
       "        [114, 152,  10],\n",
       "        [103,   2,  49]],\n",
       "\n",
       "       [[126,  41, 204],\n",
       "        [ 24, 155,  91],\n",
       "        [ 67, 186, 200],\n",
       "        ...,\n",
       "        [238, 164, 186],\n",
       "        [ 19,  12, 180],\n",
       "        [ 53,  99,  43]],\n",
       "\n",
       "       ...,\n",
       "\n",
       "       [[135,   6,  13],\n",
       "        [209, 156, 224],\n",
       "        [124, 142, 213],\n",
       "        ...,\n",
       "        [175, 179,  19],\n",
       "        [106, 167,  61],\n",
       "        [250, 253,  80]],\n",
       "\n",
       "       [[ 83,  23,  91],\n",
       "        [201,  51,  15],\n",
       "        [ 99, 197,  10],\n",
       "        ...,\n",
       "        [218, 230, 153],\n",
       "        [180, 188,  77],\n",
       "        [ 39,  72, 197]],\n",
       "\n",
       "       [[ 53,  69, 226],\n",
       "        [177,  93, 142],\n",
       "        [112, 170, 110],\n",
       "        ...,\n",
       "        [233, 252,   3],\n",
       "        [ 61, 177, 230],\n",
       "        [220, 244, 204]]], dtype=uint8)"
      ]
     },
     "execution_count": 217,
     "metadata": {},
     "output_type": "execute_result"
    }
   ],
   "source": [
    "# 이미지 데이터\n",
    "# 이미지는 3차원 데이터 배열\n",
    "image = np.random.randint(0, 255, size=(32, 32, 3), dtype=np.uint8)\n",
    "image"
   ]
  },
  {
   "cell_type": "code",
   "execution_count": 218,
   "id": "23624d3a-b074-4a37-b24a-04bd434ca8a4",
   "metadata": {},
   "outputs": [
    {
     "data": {
      "text/plain": [
       "(32, 32, 3)"
      ]
     },
     "execution_count": 218,
     "metadata": {},
     "output_type": "execute_result"
    }
   ],
   "source": [
    "image.shape"
   ]
  },
  {
   "cell_type": "code",
   "execution_count": 219,
   "id": "34db0abe-9651-4c04-8d97-7c3928d608a0",
   "metadata": {},
   "outputs": [
    {
     "data": {
      "text/plain": [
       "array([[136,  72, 171],\n",
       "       [ 47, 168,  86],\n",
       "       [ 73, 188, 101],\n",
       "       ...,\n",
       "       [233, 252,   3],\n",
       "       [ 61, 177, 230],\n",
       "       [220, 244, 204]], dtype=uint8)"
      ]
     },
     "execution_count": 219,
     "metadata": {},
     "output_type": "execute_result"
    }
   ],
   "source": [
    "# 2차원 배열로 변환\n",
    "image.reshape(32*32, 3)"
   ]
  },
  {
   "cell_type": "markdown",
   "id": "80cc8186-47c7-428f-ac93-93feb44c80ae",
   "metadata": {},
   "source": [
    "### 08. np.where()\n",
    "\n",
    "```python\n",
    "np.where(condition, x, y)\n",
    "```\n",
    "- 조건에 따라 값을 선택\n",
    "- condition\n",
    "    - 조건을 나타내는 배열 또는 조건문\n",
    "    - True or False\n",
    "- x, y는 서로 동일한 크기(shape) 배열 형태\n",
    "- condition이 True인 경우 x값 반환\n",
    "- condition이 False인 경우 y값 반환"
   ]
  },
  {
   "cell_type": "code",
   "execution_count": 8,
   "id": "f9d2d10f-f9c0-4f5f-b27c-5f876d45a3f4",
   "metadata": {},
   "outputs": [],
   "source": [
    "import numpy as np\n",
    "condition = [True, False, True]\n",
    "x = [1, 2, 3]\n",
    "y = [10, 20, 30]\n"
   ]
  },
  {
   "cell_type": "code",
   "execution_count": 9,
   "id": "2fbfe418-9e2a-4dc9-8178-58b796a49474",
   "metadata": {},
   "outputs": [
    {
     "data": {
      "text/plain": [
       "array([ 1, 20,  3])"
      ]
     },
     "execution_count": 9,
     "metadata": {},
     "output_type": "execute_result"
    }
   ],
   "source": [
    "np.where(condition, x, y)"
   ]
  },
  {
   "cell_type": "code",
   "execution_count": 10,
   "id": "4ca18b41-1600-4c30-8c3c-78b1e20aa086",
   "metadata": {},
   "outputs": [
    {
     "name": "stdout",
     "output_type": "stream",
     "text": [
      "[1, 20, 3]\n"
     ]
    }
   ],
   "source": [
    "a = [x[i] if condition[i] else y[i] for i in range(len(condition))]\n",
    "# a = []\n",
    "# for i in range(len(condition)):\n",
    "#     a.append(x[i] if condition[i] else y[i])\n",
    "print(a)"
   ]
  },
  {
   "cell_type": "code",
   "execution_count": 11,
   "id": "ee013aa8-9a09-4b17-bfcd-5d1a4bd95f60",
   "metadata": {},
   "outputs": [
    {
     "name": "stdout",
     "output_type": "stream",
     "text": [
      "True 1 10\n",
      "False 2 20\n",
      "True 3 30\n"
     ]
    }
   ],
   "source": [
    "for con, xv, yv in list(zip(condition, x, y)):\n",
    "    print(con, xv, yv)"
   ]
  },
  {
   "cell_type": "code",
   "execution_count": 12,
   "id": "09aeca9d-0a63-470f-87b1-fe258db5dea0",
   "metadata": {},
   "outputs": [
    {
     "data": {
      "text/plain": [
       "[1, 20, 3]"
      ]
     },
     "execution_count": 12,
     "metadata": {},
     "output_type": "execute_result"
    }
   ],
   "source": [
    "result = [xv if con else yv for con, xv, yv in zip( condition, x, y)]\n",
    "result"
   ]
  },
  {
   "cell_type": "code",
   "execution_count": null,
   "id": "7a22b0f4-6b23-4d7e-bb18-4242e5add314",
   "metadata": {},
   "outputs": [],
   "source": []
  }
 ],
 "metadata": {
  "kernelspec": {
   "display_name": "Python 3 (ipykernel)",
   "language": "python",
   "name": "python3"
  },
  "language_info": {
   "codemirror_mode": {
    "name": "ipython",
    "version": 3
   },
   "file_extension": ".py",
   "mimetype": "text/x-python",
   "name": "python",
   "nbconvert_exporter": "python",
   "pygments_lexer": "ipython3",
   "version": "3.10.12"
  }
 },
 "nbformat": 4,
 "nbformat_minor": 5
}
